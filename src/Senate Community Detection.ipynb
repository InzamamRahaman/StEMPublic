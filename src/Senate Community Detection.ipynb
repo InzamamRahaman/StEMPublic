{
 "cells": [
  {
   "cell_type": "code",
   "execution_count": 1,
   "metadata": {},
   "outputs": [
    {
     "name": "stdout",
     "output_type": "stream",
     "text": [
      "Populating the interactive namespace from numpy and matplotlib\n"
     ]
    }
   ],
   "source": [
    "%load_ext autoreload\n",
    "%autoreload 2\n",
    "\n",
    "%pylab inline\n",
    "\n",
    "import dataloaders\n",
    "import models\n",
    "import sklearn.linear_model as linear_model\n",
    "import sklearn.metrics as metrics \n",
    "import sklearn.cluster as cluster\n",
    "import numpy as np \n",
    "import random\n",
    "import classifiers\n",
    "from torch.autograd import Variable\n",
    "import torch\n",
    "import torch.nn as nn \n",
    "import torch.optim as optim\n",
    "import util\n",
    "\n",
    "from imblearn.under_sampling import RandomUnderSampler"
   ]
  },
  {
   "cell_type": "code",
   "execution_count": 2,
   "metadata": {
    "collapsed": true
   },
   "outputs": [],
   "source": [
    "output_file_vot = '../data/senate-104-cleaned.csv'\n",
    "output_file_nam = '../data/senate-104-classes.csv'\n",
    "data = dataloaders.SenateDataset(output_file_vot, output_file_nam, ratio=0.8, delimiter=',')"
   ]
  },
  {
   "cell_type": "code",
   "execution_count": 3,
   "metadata": {
    "collapsed": true
   },
   "outputs": [],
   "source": [
    "num_nodes = data.get_num_nodes()\n",
    "dims = 32\n",
    "epochs = 100\n",
    "lr = 0.1\n",
    "lr_decay=0.0\n",
    "weight_decay=0.0\n",
    "lam = 0.00055\n",
    "X_train, y_train = data.get_training_set()\n",
    "X_test, y_test = data.get_testing_set()\n",
    "p = 2\n",
    "X = data.X\n",
    "y = data.y\n",
    "\n",
    "model_fitter = models.fit_pseudo_kernel_model"
   ]
  },
  {
   "cell_type": "code",
   "execution_count": 4,
   "metadata": {},
   "outputs": [
    {
     "name": "stdout",
     "output_type": "stream",
     "text": [
      "The loss at epoch  1  was  0.6930120587348938\n",
      "The loss at epoch  2  was  0.6877405047416687\n",
      "The loss at epoch  3  was  0.6123453378677368\n",
      "The loss at epoch  4  was  0.43166783452033997\n",
      "The loss at epoch  5  was  0.3679920434951782\n",
      "The loss at epoch  6  was  0.36432045698165894\n",
      "The loss at epoch  7  was  0.363749235868454\n",
      "The loss at epoch  8  was  0.36333537101745605\n",
      "The loss at epoch  9  was  0.3631150424480438\n",
      "The loss at epoch  10  was  0.36296647787094116\n",
      "The loss at epoch  11  was  0.3628441393375397\n",
      "The loss at epoch  12  was  0.362734854221344\n",
      "The loss at epoch  13  was  0.36263400316238403\n",
      "The loss at epoch  14  was  0.36253827810287476\n",
      "The loss at epoch  15  was  0.36244720220565796\n",
      "The loss at epoch  16  was  0.3623591363430023\n",
      "The loss at epoch  17  was  0.36227431893348694\n",
      "The loss at epoch  18  was  0.36219143867492676\n",
      "The loss at epoch  19  was  0.36211055517196655\n",
      "The loss at epoch  20  was  0.36203181743621826\n",
      "The loss at epoch  21  was  0.3619535565376282\n",
      "The loss at epoch  22  was  0.3618769943714142\n",
      "The loss at epoch  23  was  0.3617993891239166\n",
      "The loss at epoch  24  was  0.36171969771385193\n",
      "The loss at epoch  25  was  0.3616293966770172\n",
      "The loss at epoch  26  was  0.3614773750305176\n",
      "The loss at epoch  27  was  0.35859835147857666\n",
      "The loss at epoch  28  was  0.36466190218925476\n",
      "The loss at epoch  29  was  0.3645419478416443\n",
      "The loss at epoch  30  was  0.36428073048591614\n",
      "The loss at epoch  31  was  0.36383676528930664\n",
      "The loss at epoch  32  was  0.36280813813209534\n",
      "The loss at epoch  33  was  0.3675799071788788\n",
      "The loss at epoch  34  was  0.3598867654800415\n",
      "The loss at epoch  35  was  0.358642041683197\n",
      "The loss at epoch  36  was  0.35421597957611084\n",
      "The loss at epoch  37  was  0.3474448621273041\n",
      "The loss at epoch  38  was  0.34439244866371155\n",
      "The loss at epoch  39  was  0.34245187044143677\n",
      "The loss at epoch  40  was  0.34324315190315247\n",
      "The loss at epoch  41  was  0.34201863408088684\n",
      "The loss at epoch  42  was  0.34068018198013306\n",
      "The loss at epoch  43  was  0.34044766426086426\n",
      "The loss at epoch  44  was  0.3381330966949463\n",
      "The loss at epoch  45  was  0.36210665106773376\n",
      "The loss at epoch  46  was  0.3468828499317169\n",
      "The loss at epoch  47  was  0.37222567200660706\n",
      "The loss at epoch  48  was  0.36129483580589294\n",
      "The loss at epoch  49  was  0.3523806631565094\n",
      "The loss at epoch  50  was  0.351249635219574\n",
      "The loss at epoch  51  was  0.34481412172317505\n",
      "The loss at epoch  52  was  0.3426656424999237\n",
      "The loss at epoch  53  was  0.34103116393089294\n",
      "The loss at epoch  54  was  0.3412872850894928\n",
      "The loss at epoch  55  was  0.34079447388648987\n",
      "The loss at epoch  56  was  0.3453886806964874\n",
      "The loss at epoch  57  was  0.33968207240104675\n",
      "The loss at epoch  58  was  0.34237435460090637\n",
      "The loss at epoch  59  was  0.3386945128440857\n",
      "The loss at epoch  60  was  0.33940592408180237\n",
      "The loss at epoch  61  was  0.34178003668785095\n",
      "The loss at epoch  62  was  0.3411291837692261\n",
      "The loss at epoch  63  was  0.3363340198993683\n",
      "The loss at epoch  64  was  0.33874794840812683\n",
      "The loss at epoch  65  was  0.3470098674297333\n",
      "The loss at epoch  66  was  0.3362542390823364\n",
      "The loss at epoch  67  was  0.33403491973876953\n",
      "The loss at epoch  68  was  0.33372336626052856\n",
      "The loss at epoch  69  was  0.33279240131378174\n",
      "The loss at epoch  70  was  0.3327479660511017\n",
      "The loss at epoch  71  was  0.3320358991622925\n",
      "The loss at epoch  72  was  0.3316517472267151\n",
      "The loss at epoch  73  was  0.33185896277427673\n",
      "The loss at epoch  74  was  0.33189862966537476\n",
      "The loss at epoch  75  was  0.3318503499031067\n",
      "The loss at epoch  76  was  0.33186864852905273\n",
      "The loss at epoch  77  was  0.33203643560409546\n",
      "The loss at epoch  78  was  0.33164849877357483\n",
      "The loss at epoch  79  was  0.3315252363681793\n",
      "The loss at epoch  80  was  0.3322771191596985\n",
      "The loss at epoch  81  was  0.33235570788383484\n",
      "The loss at epoch  82  was  0.3317987024784088\n",
      "The loss at epoch  83  was  0.3318657875061035\n",
      "The loss at epoch  84  was  0.33124321699142456\n",
      "The loss at epoch  85  was  0.3307711184024811\n",
      "The loss at epoch  86  was  0.33017465472221375\n",
      "The loss at epoch  87  was  0.3304314613342285\n",
      "The loss at epoch  88  was  0.33071810007095337\n",
      "The loss at epoch  89  was  0.3323325216770172\n",
      "The loss at epoch  90  was  0.33073437213897705\n",
      "The loss at epoch  91  was  0.330230712890625\n",
      "The loss at epoch  92  was  0.33028674125671387\n",
      "The loss at epoch  93  was  0.33066681027412415\n",
      "The loss at epoch  94  was  0.33068907260894775\n",
      "The loss at epoch  95  was  0.3309761583805084\n",
      "The loss at epoch  96  was  0.33038097620010376\n",
      "The loss at epoch  97  was  0.33076098561286926\n",
      "The loss at epoch  98  was  0.33023887872695923\n",
      "The loss at epoch  99  was  0.33037808537483215\n",
      "The loss at epoch  100  was  0.3298928737640381\n"
     ]
    }
   ],
   "source": [
    "kernel_model = model_fitter(num_nodes, dims, X, y, epochs=epochs, p=p, \n",
    "                                              lr=lr,lr_decay=lr_decay, lam=lam, \n",
    "                            weight_decay=weight_decay, undersample=True)"
   ]
  },
  {
   "cell_type": "code",
   "execution_count": 5,
   "metadata": {
    "collapsed": true
   },
   "outputs": [],
   "source": [
    "import sklearn.cluster as cluster"
   ]
  },
  {
   "cell_type": "code",
   "execution_count": 6,
   "metadata": {
    "collapsed": true
   },
   "outputs": [],
   "source": [
    "clf = cluster.KMeans(n_clusters=2)"
   ]
  },
  {
   "cell_type": "code",
   "execution_count": 7,
   "metadata": {
    "collapsed": true
   },
   "outputs": [],
   "source": [
    "all_embeddings = kernel_model.get_all_weights()"
   ]
  },
  {
   "cell_type": "code",
   "execution_count": 8,
   "metadata": {
    "collapsed": true
   },
   "outputs": [],
   "source": [
    "viable_embeddings = all_embeddings[1:,:]"
   ]
  },
  {
   "cell_type": "code",
   "execution_count": 9,
   "metadata": {
    "collapsed": true
   },
   "outputs": [],
   "source": [
    "labels = clf.fit_predict(viable_embeddings)"
   ]
  },
  {
   "cell_type": "code",
   "execution_count": 10,
   "metadata": {},
   "outputs": [
    {
     "data": {
      "text/plain": [
       "array([1, 0, 0, 0, 0, 0, 1, 1, 1, 1, 0, 1, 0, 1, 1, 1, 0, 1, 0, 0, 1, 1, 1,\n",
       "       0, 0, 1, 1, 0, 0, 0, 1, 0, 0, 0, 1, 0, 1, 1, 0, 0, 1, 1, 1, 1, 0, 1,\n",
       "       0, 1, 0, 0, 0, 0, 1, 0, 1, 1, 1, 1, 0, 0, 1, 1, 1, 0, 0, 1, 0, 0, 1,\n",
       "       1, 0, 1, 0, 0, 0, 0, 1, 0, 0, 0, 1, 1, 0, 1, 0, 0, 0, 0, 0, 0, 0, 1,\n",
       "       1, 1, 0, 0, 1, 1, 1, 1, 1, 0, 0], dtype=int32)"
      ]
     },
     "execution_count": 10,
     "metadata": {},
     "output_type": "execute_result"
    }
   ],
   "source": [
    "labels"
   ]
  },
  {
   "cell_type": "code",
   "execution_count": 11,
   "metadata": {
    "collapsed": true
   },
   "outputs": [],
   "source": [
    "correct_labels = data.get_node_classes()"
   ]
  },
  {
   "cell_type": "code",
   "execution_count": 12,
   "metadata": {},
   "outputs": [
    {
     "data": {
      "text/plain": [
       "array([0, 1, 1, 1, 1, 1, 0, 0, 0, 0, 1, 0, 1, 0, 0, 0, 1, 0, 1, 1, 0, 0, 0,\n",
       "       1, 1, 0, 0, 1, 1, 1, 0, 1, 1, 1, 0, 1, 0, 0, 1, 1, 0, 0, 0, 0, 1, 0,\n",
       "       1, 0, 1, 1, 1, 1, 0, 1, 0, 0, 0, 0, 1, 1, 0, 0, 0, 1, 1, 0, 1, 1, 0,\n",
       "       0, 1, 0, 1, 1, 1, 1, 0, 1, 1, 1, 0, 0, 1, 0, 1, 1, 1, 1, 1, 1, 1, 1,\n",
       "       0, 0, 1, 1, 0, 0, 0, 0, 0, 1, 1])"
      ]
     },
     "execution_count": 12,
     "metadata": {},
     "output_type": "execute_result"
    }
   ],
   "source": [
    "correct_labels"
   ]
  },
  {
   "cell_type": "code",
   "execution_count": 13,
   "metadata": {
    "collapsed": true
   },
   "outputs": [],
   "source": [
    "from sklearn.metrics.cluster import normalized_mutual_info_score"
   ]
  },
  {
   "cell_type": "code",
   "execution_count": 14,
   "metadata": {},
   "outputs": [
    {
     "data": {
      "text/plain": [
       "0.93063422693688724"
      ]
     },
     "execution_count": 14,
     "metadata": {},
     "output_type": "execute_result"
    }
   ],
   "source": [
    "normalized_mutual_info_score(correct_labels, labels)"
   ]
  },
  {
   "cell_type": "code",
   "execution_count": 15,
   "metadata": {
    "collapsed": true
   },
   "outputs": [],
   "source": [
    "num_nodes = data.get_num_nodes()\n",
    "dims = 32\n",
    "epochs = 100\n",
    "lr = 0.1\n",
    "lr_decay=0.0\n",
    "weight_decay=0.0\n",
    "lam = 0.00055\n",
    "p = 2\n",
    "delta = 1\n",
    "delta0 = 0.5\n",
    "dims_array = [dims, 20, 20]"
   ]
  },
  {
   "cell_type": "code",
   "execution_count": 16,
   "metadata": {
    "collapsed": true
   },
   "outputs": [],
   "source": [
    "model_fitter = models.fit_sine_model\n",
    "triples, triples0 = util.triples_from_array(X, y)\n",
    "batch_size = int(1.0 * len(triples))\n",
    "batch_size0 = 0"
   ]
  },
  {
   "cell_type": "code",
   "execution_count": 17,
   "metadata": {},
   "outputs": [
    {
     "name": "stdout",
     "output_type": "stream",
     "text": [
      "Loss at epoch  1  is  1.0086220502853394\n",
      "Loss at epoch  2  is  0.988036036491394\n",
      "Loss at epoch  3  is  0.9874165058135986\n",
      "Loss at epoch  4  is  1.009547472000122\n",
      "Loss at epoch  5  is  1.0020246505737305\n",
      "Loss at epoch  6  is  0.9946931600570679\n",
      "Loss at epoch  7  is  0.975266695022583\n",
      "Loss at epoch  8  is  0.9575676918029785\n",
      "Loss at epoch  9  is  0.9934384226799011\n",
      "Loss at epoch  10  is  0.9668756723403931\n",
      "Loss at epoch  11  is  0.9483423233032227\n",
      "Loss at epoch  12  is  0.9453060030937195\n",
      "Loss at epoch  13  is  0.9497600793838501\n",
      "Loss at epoch  14  is  0.9555336833000183\n",
      "Loss at epoch  15  is  0.9508529305458069\n",
      "Loss at epoch  16  is  0.9510471820831299\n",
      "Loss at epoch  17  is  0.9438707828521729\n",
      "Loss at epoch  18  is  0.9416723847389221\n",
      "Loss at epoch  19  is  0.9408428072929382\n",
      "Loss at epoch  20  is  0.9404851794242859\n",
      "Loss at epoch  21  is  0.9404639601707458\n",
      "Loss at epoch  22  is  0.94013512134552\n",
      "Loss at epoch  23  is  0.9413493275642395\n",
      "Loss at epoch  24  is  0.9439882040023804\n",
      "Loss at epoch  25  is  0.9439592361450195\n",
      "Loss at epoch  26  is  0.9435356855392456\n",
      "Loss at epoch  27  is  0.9423843026161194\n",
      "Loss at epoch  28  is  0.941054105758667\n",
      "Loss at epoch  29  is  0.9404658079147339\n",
      "Loss at epoch  30  is  0.9402685165405273\n",
      "Loss at epoch  31  is  0.9400152564048767\n",
      "Loss at epoch  32  is  0.9395967125892639\n",
      "Loss at epoch  33  is  0.9398056864738464\n",
      "Loss at epoch  34  is  0.9417338967323303\n",
      "Loss at epoch  35  is  0.9422034621238708\n",
      "Loss at epoch  36  is  0.9424156546592712\n",
      "Loss at epoch  37  is  0.9419627785682678\n",
      "Loss at epoch  38  is  0.9435757398605347\n",
      "Loss at epoch  39  is  0.9407984614372253\n",
      "Loss at epoch  40  is  0.9399680495262146\n",
      "Loss at epoch  41  is  0.9394103288650513\n",
      "Loss at epoch  42  is  0.9384616017341614\n",
      "Loss at epoch  43  is  0.9396425485610962\n",
      "Loss at epoch  44  is  0.9414750933647156\n",
      "Loss at epoch  45  is  0.9445768594741821\n",
      "Loss at epoch  46  is  0.9413290619850159\n",
      "Loss at epoch  47  is  0.9424828290939331\n",
      "Loss at epoch  48  is  0.939775288105011\n",
      "Loss at epoch  49  is  0.9409483671188354\n",
      "Loss at epoch  50  is  0.939808189868927\n",
      "Loss at epoch  51  is  0.9414615631103516\n",
      "Loss at epoch  52  is  0.940566897392273\n",
      "Loss at epoch  53  is  0.9444686770439148\n",
      "Loss at epoch  54  is  0.9456008672714233\n",
      "Loss at epoch  55  is  0.9400150775909424\n",
      "Loss at epoch  56  is  0.9383368492126465\n",
      "Loss at epoch  57  is  0.9377137422561646\n",
      "Loss at epoch  58  is  0.9391768574714661\n",
      "Loss at epoch  59  is  0.9468785524368286\n",
      "Loss at epoch  60  is  0.9496026039123535\n",
      "Loss at epoch  61  is  0.9398174285888672\n",
      "Loss at epoch  62  is  0.9379441738128662\n",
      "Loss at epoch  63  is  0.939228355884552\n",
      "Loss at epoch  64  is  0.9401329159736633\n",
      "Loss at epoch  65  is  0.9430051445960999\n",
      "Loss at epoch  66  is  0.9470431804656982\n",
      "Loss at epoch  67  is  0.9399805665016174\n",
      "Loss at epoch  68  is  0.9401572346687317\n",
      "Loss at epoch  69  is  0.9381929039955139\n",
      "Loss at epoch  70  is  0.937506914138794\n",
      "Loss at epoch  71  is  0.9387580156326294\n",
      "Loss at epoch  72  is  0.9384880661964417\n",
      "Loss at epoch  73  is  0.9459680318832397\n",
      "Loss at epoch  74  is  0.9469326138496399\n",
      "Loss at epoch  75  is  0.9396260380744934\n",
      "Loss at epoch  76  is  0.938671886920929\n",
      "Loss at epoch  77  is  0.9377374649047852\n",
      "Loss at epoch  78  is  0.9394509196281433\n",
      "Loss at epoch  79  is  0.9392074942588806\n",
      "Loss at epoch  80  is  0.9373673796653748\n",
      "Loss at epoch  81  is  0.9448670744895935\n",
      "Loss at epoch  82  is  0.9482296705245972\n",
      "Loss at epoch  83  is  0.9425762891769409\n",
      "Loss at epoch  84  is  0.938880443572998\n",
      "Loss at epoch  85  is  0.9366035461425781\n",
      "Loss at epoch  86  is  0.9367534518241882\n",
      "Loss at epoch  87  is  0.9370284676551819\n",
      "Loss at epoch  88  is  0.9367777705192566\n",
      "Loss at epoch  89  is  0.9365007877349854\n",
      "Loss at epoch  90  is  0.9380364418029785\n",
      "Loss at epoch  91  is  0.9419177174568176\n",
      "Loss at epoch  92  is  0.9507685899734497\n",
      "Loss at epoch  93  is  0.9457207918167114\n",
      "Loss at epoch  94  is  0.9413785338401794\n",
      "Loss at epoch  95  is  0.9400731921195984\n",
      "Loss at epoch  96  is  0.938480794429779\n",
      "Loss at epoch  97  is  0.9389216899871826\n",
      "Loss at epoch  98  is  0.9381060004234314\n",
      "Loss at epoch  99  is  0.9369941353797913\n",
      "Loss at epoch  100  is  0.9361560344696045\n"
     ]
    }
   ],
   "source": [
    "sine_model = model_fitter(num_nodes, dims_array, triples, triples0, delta, delta0,\n",
    "                                   batch_size, batch_size0, epochs, lr=lr, lr_decay=lr_decay,\n",
    "                                  lam=lam, p=p, p0=False)"
   ]
  },
  {
   "cell_type": "code",
   "execution_count": 18,
   "metadata": {
    "collapsed": true
   },
   "outputs": [],
   "source": [
    "clf2 = cluster.KMeans(n_clusters=2)\n",
    "all_embeddings2 = sine_model.get_all_weights()\n",
    "viable_embeddings2 = all_embeddings2[1:,:]\n",
    "labels2 = clf2.fit_predict(viable_embeddings2)"
   ]
  },
  {
   "cell_type": "code",
   "execution_count": 19,
   "metadata": {},
   "outputs": [
    {
     "data": {
      "text/plain": [
       "0.10456488343919852"
      ]
     },
     "execution_count": 19,
     "metadata": {},
     "output_type": "execute_result"
    }
   ],
   "source": [
    "normalized_mutual_info_score(correct_labels, labels2)"
   ]
  },
  {
   "cell_type": "code",
   "execution_count": null,
   "metadata": {
    "collapsed": true
   },
   "outputs": [],
   "source": []
  }
 ],
 "metadata": {
  "kernelspec": {
   "display_name": "Python 3",
   "language": "python",
   "name": "python3"
  },
  "language_info": {
   "codemirror_mode": {
    "name": "ipython",
    "version": 3
   },
   "file_extension": ".py",
   "mimetype": "text/x-python",
   "name": "python",
   "nbconvert_exporter": "python",
   "pygments_lexer": "ipython3",
   "version": "3.6.3"
  }
 },
 "nbformat": 4,
 "nbformat_minor": 2
}
