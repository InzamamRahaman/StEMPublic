{
 "cells": [
  {
   "cell_type": "code",
   "execution_count": 5,
   "metadata": {},
   "outputs": [
    {
     "name": "stdout",
     "output_type": "stream",
     "text": [
      "The autoreload extension is already loaded. To reload it, use:\n",
      "  %reload_ext autoreload\n",
      "Populating the interactive namespace from numpy and matplotlib\n"
     ]
    },
    {
     "name": "stderr",
     "output_type": "stream",
     "text": [
      "/Users/inzamamrahaman/anaconda3/lib/python3.6/site-packages/IPython/core/magics/pylab.py:160: UserWarning: pylab import has clobbered these variables: ['random']\n",
      "`%matplotlib` prevents importing * from pylab and numpy\n",
      "  \"\\n`%matplotlib` prevents importing * from pylab and numpy\"\n"
     ]
    }
   ],
   "source": [
    "%load_ext autoreload\n",
    "%autoreload 2\n",
    "\n",
    "%pylab inline\n",
    "\n",
    "import dataloaders\n",
    "import models\n",
    "import sklearn.linear_model as linear_model\n",
    "import sklearn.metrics as metrics \n",
    "import sklearn.cluster as cluster\n",
    "import numpy as np \n",
    "import random\n",
    "import classifiers\n",
    "from torch.autograd import Variable\n",
    "import torch\n",
    "import torch.nn as nn \n",
    "import torch.optim as optim\n",
    "import util\n",
    "\n",
    "from imblearn.under_sampling import RandomUnderSampler"
   ]
  },
  {
   "cell_type": "code",
   "execution_count": 6,
   "metadata": {},
   "outputs": [],
   "source": [
    "dataset = 'tribes'\n",
    "edges_file = f'../data/comm/{dataset}-cleaned.csv'\n",
    "class_file = f'../data/comm/{dataset}-classes.csv'\n",
    "data = dataloaders.SenateDataset(edges_file, class_file, ratio=0.8, delimiter=',')"
   ]
  },
  {
   "cell_type": "code",
   "execution_count": 113,
   "metadata": {
    "collapsed": true
   },
   "outputs": [],
   "source": [
    "num_nodes = data.get_num_nodes()\n",
    "dims = 32\n",
    "epochs = 600\n",
    "lr = 0.025\n",
    "lr_decay=0.0\n",
    "weight_decay=0.0\n",
    "lam = 0.000055\n",
    "X_train, y_train = data.get_training_set()\n",
    "X_test, y_test = data.get_testing_set()\n",
    "p = 2\n",
    "X = data.X\n",
    "y = data.y\n",
    "#X, y = data.get_shuffled_data()\n",
    "\n",
    "model_fitter = models.fit_pseudo_kernel_model"
   ]
  },
  {
   "cell_type": "code",
   "execution_count": 114,
   "metadata": {},
   "outputs": [
    {
     "data": {
      "text/plain": [
       "array([1, 1, 1, 0, 0, 0, 0, 0, 0, 0, 1, 1, 1, 1, 1, 1, 1, 0, 0, 0, 0, 0, 1,\n",
       "       1, 1, 0, 0, 0, 0, 0, 0, 1, 1, 1, 0, 0, 0, 0, 0, 0, 0, 0, 1, 1, 1, 1,\n",
       "       0, 1, 1, 0, 0, 0, 1, 1, 1, 1, 1, 0, 0, 1, 1, 1, 1, 1, 1, 1, 1, 1, 1,\n",
       "       1, 1, 1, 0, 0, 0, 1, 1, 1, 0, 0, 0, 0, 0, 0, 1, 1, 1, 1, 0, 0, 0, 0,\n",
       "       0, 1, 1, 1, 0, 0, 0, 0, 0, 1, 1, 1, 0, 0, 0, 1, 1, 0, 0, 0, 1, 0, 1,\n",
       "       1, 1, 0, 0, 0, 1, 1])"
      ]
     },
     "execution_count": 114,
     "metadata": {},
     "output_type": "execute_result"
    }
   ],
   "source": [
    "y"
   ]
  },
  {
   "cell_type": "code",
   "execution_count": 115,
   "metadata": {},
   "outputs": [
    {
     "data": {
      "text/plain": [
       "0.50879007238883145"
      ]
     },
     "execution_count": 115,
     "metadata": {},
     "output_type": "execute_result"
    }
   ],
   "source": [
    "def get_signs(X, y, u, v, w):\n",
    "    signs = []\n",
    "    \n",
    "\n",
    "def get_num_unbalanced(X, y):\n",
    "    indicies = np.arange(0, len(X))\n",
    "    count = 0.0\n",
    "    negatives = 0.0\n",
    "    for u, v in X:\n",
    "        connecting_idx = indicies[X[:,0] == v]\n",
    "        count += len(connecting_idx)\n",
    "        negs = 1 - y[connecting_idx]\n",
    "        negatives += sum(negs)\n",
    "        \n",
    "#         connecting_idx = indicies[X[:,1] == v]\n",
    "#         count += len(connecting_idx)\n",
    "#         negs = 1 - y[connecting_idx]\n",
    "#         negatives += sum(negs)\n",
    "        \n",
    "    return negatives / count\n",
    "\n",
    "get_num_unbalanced(X, y)"
   ]
  },
  {
   "cell_type": "code",
   "execution_count": 116,
   "metadata": {},
   "outputs": [
    {
     "data": {
      "text/plain": [
       "array([0, 0, 0, 0, 1, 1, 1, 1, 2, 1, 1, 2, 2, 1, 2, 2])"
      ]
     },
     "execution_count": 116,
     "metadata": {},
     "output_type": "execute_result"
    }
   ],
   "source": [
    "data.get_node_classes()"
   ]
  },
  {
   "cell_type": "code",
   "execution_count": 117,
   "metadata": {},
   "outputs": [
    {
     "data": {
      "text/plain": [
       "122"
      ]
     },
     "execution_count": 117,
     "metadata": {},
     "output_type": "execute_result"
    }
   ],
   "source": [
    "len(X)"
   ]
  },
  {
   "cell_type": "code",
   "execution_count": 118,
   "metadata": {},
   "outputs": [
    {
     "data": {
      "text/plain": [
       "97"
      ]
     },
     "execution_count": 118,
     "metadata": {},
     "output_type": "execute_result"
    }
   ],
   "source": [
    "len(X_train)"
   ]
  },
  {
   "cell_type": "code",
   "execution_count": 119,
   "metadata": {},
   "outputs": [
    {
     "data": {
      "text/plain": [
       "61"
      ]
     },
     "execution_count": 119,
     "metadata": {},
     "output_type": "execute_result"
    }
   ],
   "source": [
    "len(y[y == 0])"
   ]
  },
  {
   "cell_type": "code",
   "execution_count": 130,
   "metadata": {},
   "outputs": [
    {
     "name": "stdout",
     "output_type": "stream",
     "text": [
      "The loss at epoch  1  was  0.6953210830688477\n",
      "The loss at epoch  2  was  0.6929756999015808\n",
      "The loss at epoch  3  was  0.6907165050506592\n",
      "The loss at epoch  4  was  0.685420572757721\n",
      "The loss at epoch  5  was  0.6744649410247803\n",
      "The loss at epoch  6  was  0.6527961492538452\n",
      "The loss at epoch  7  was  0.6221075057983398\n",
      "The loss at epoch  8  was  0.59123295545578\n",
      "The loss at epoch  9  was  0.5662244558334351\n",
      "The loss at epoch  10  was  0.5390087366104126\n",
      "The loss at epoch  11  was  0.5234124660491943\n",
      "The loss at epoch  12  was  0.49419087171554565\n",
      "The loss at epoch  13  was  0.5024937391281128\n",
      "The loss at epoch  14  was  0.4848048985004425\n",
      "The loss at epoch  15  was  0.45755910873413086\n",
      "The loss at epoch  16  was  0.46153050661087036\n",
      "The loss at epoch  17  was  0.45790353417396545\n",
      "The loss at epoch  18  was  0.4528975188732147\n",
      "The loss at epoch  19  was  0.4544079005718231\n",
      "The loss at epoch  20  was  0.4539906680583954\n",
      "The loss at epoch  21  was  0.4457950294017792\n",
      "The loss at epoch  22  was  0.4334927201271057\n",
      "The loss at epoch  23  was  0.44862625002861023\n",
      "The loss at epoch  24  was  0.42695873975753784\n",
      "The loss at epoch  25  was  0.4418211281299591\n",
      "The loss at epoch  26  was  0.4166119694709778\n",
      "The loss at epoch  27  was  0.4334184229373932\n",
      "The loss at epoch  28  was  0.4244360327720642\n",
      "The loss at epoch  29  was  0.439196914434433\n",
      "The loss at epoch  30  was  0.4193108379840851\n",
      "The loss at epoch  31  was  0.42257994413375854\n",
      "The loss at epoch  32  was  0.41078832745552063\n",
      "The loss at epoch  33  was  0.4074036478996277\n",
      "The loss at epoch  34  was  0.4068022668361664\n",
      "The loss at epoch  35  was  0.4061054289340973\n",
      "The loss at epoch  36  was  0.4039309620857239\n",
      "The loss at epoch  37  was  0.3955982029438019\n",
      "The loss at epoch  38  was  0.3816443085670471\n",
      "The loss at epoch  39  was  0.3953244984149933\n",
      "The loss at epoch  40  was  0.3780565857887268\n",
      "The loss at epoch  41  was  0.3884744346141815\n",
      "The loss at epoch  42  was  0.37979456782341003\n",
      "The loss at epoch  43  was  0.37881070375442505\n",
      "The loss at epoch  44  was  0.3813079297542572\n",
      "The loss at epoch  45  was  0.380624383687973\n",
      "The loss at epoch  46  was  0.377987265586853\n",
      "The loss at epoch  47  was  0.37580275535583496\n",
      "The loss at epoch  48  was  0.37188059091567993\n",
      "The loss at epoch  49  was  0.37059617042541504\n",
      "The loss at epoch  50  was  0.3708079159259796\n",
      "The loss at epoch  51  was  0.35826313495635986\n",
      "The loss at epoch  52  was  0.3560324013233185\n",
      "The loss at epoch  53  was  0.3535340130329132\n",
      "The loss at epoch  54  was  0.348010778427124\n",
      "The loss at epoch  55  was  0.3572830855846405\n",
      "The loss at epoch  56  was  0.3458077013492584\n",
      "The loss at epoch  57  was  0.3427237868309021\n",
      "The loss at epoch  58  was  0.34629201889038086\n",
      "The loss at epoch  59  was  0.3414357304573059\n",
      "The loss at epoch  60  was  0.3446020781993866\n",
      "The loss at epoch  61  was  0.33872124552726746\n",
      "The loss at epoch  62  was  0.34095460176467896\n",
      "The loss at epoch  63  was  0.335372656583786\n",
      "The loss at epoch  64  was  0.33785170316696167\n",
      "The loss at epoch  65  was  0.3354930281639099\n",
      "The loss at epoch  66  was  0.33268845081329346\n",
      "The loss at epoch  67  was  0.3324107229709625\n",
      "The loss at epoch  68  was  0.33264607191085815\n",
      "The loss at epoch  69  was  0.3312259316444397\n",
      "The loss at epoch  70  was  0.3264257311820984\n",
      "The loss at epoch  71  was  0.32534193992614746\n",
      "The loss at epoch  72  was  0.3279199004173279\n",
      "The loss at epoch  73  was  0.3263683617115021\n",
      "The loss at epoch  74  was  0.3263336718082428\n",
      "The loss at epoch  75  was  0.32527056336402893\n",
      "The loss at epoch  76  was  0.32192620635032654\n",
      "The loss at epoch  77  was  0.3219008147716522\n",
      "The loss at epoch  78  was  0.32125768065452576\n",
      "The loss at epoch  79  was  0.322832316160202\n",
      "The loss at epoch  80  was  0.3199121654033661\n",
      "The loss at epoch  81  was  0.3200411796569824\n",
      "The loss at epoch  82  was  0.3213832676410675\n",
      "The loss at epoch  83  was  0.32072973251342773\n",
      "The loss at epoch  84  was  0.32020145654678345\n",
      "The loss at epoch  85  was  0.3185628652572632\n",
      "The loss at epoch  86  was  0.319597452878952\n",
      "The loss at epoch  87  was  0.3192899823188782\n",
      "The loss at epoch  88  was  0.31720998883247375\n",
      "The loss at epoch  89  was  0.317682147026062\n",
      "The loss at epoch  90  was  0.3174711763858795\n",
      "The loss at epoch  91  was  0.3173229396343231\n",
      "The loss at epoch  92  was  0.31756216287612915\n",
      "The loss at epoch  93  was  0.31751537322998047\n",
      "The loss at epoch  94  was  0.31651803851127625\n",
      "The loss at epoch  95  was  0.31748443841934204\n",
      "The loss at epoch  96  was  0.31734970211982727\n",
      "The loss at epoch  97  was  0.31700122356414795\n",
      "The loss at epoch  98  was  0.31686511635780334\n",
      "The loss at epoch  99  was  0.3169405162334442\n",
      "The loss at epoch  100  was  0.31678974628448486\n",
      "The loss at epoch  101  was  0.3166210949420929\n",
      "The loss at epoch  102  was  0.3163386583328247\n",
      "The loss at epoch  103  was  0.31647536158561707\n",
      "The loss at epoch  104  was  0.3159891963005066\n",
      "The loss at epoch  105  was  0.31604692339897156\n",
      "The loss at epoch  106  was  0.3161890506744385\n",
      "The loss at epoch  107  was  0.31584998965263367\n",
      "The loss at epoch  108  was  0.31602638959884644\n",
      "The loss at epoch  109  was  0.31559234857559204\n",
      "The loss at epoch  110  was  0.31525322794914246\n",
      "The loss at epoch  111  was  0.31594792008399963\n",
      "The loss at epoch  112  was  0.3158556818962097\n",
      "The loss at epoch  113  was  0.3157629072666168\n",
      "The loss at epoch  114  was  0.31553560495376587\n",
      "The loss at epoch  115  was  0.31560418009757996\n",
      "The loss at epoch  116  was  0.3155089318752289\n",
      "The loss at epoch  117  was  0.31561532616615295\n",
      "The loss at epoch  118  was  0.31557321548461914\n",
      "The loss at epoch  119  was  0.31547316908836365\n",
      "The loss at epoch  120  was  0.3153548240661621\n",
      "The loss at epoch  121  was  0.31535086035728455\n",
      "The loss at epoch  122  was  0.3153742551803589\n",
      "The loss at epoch  123  was  0.31537073850631714\n",
      "The loss at epoch  124  was  0.3153127133846283\n",
      "The loss at epoch  125  was  0.31526413559913635\n",
      "The loss at epoch  126  was  0.31523260474205017\n",
      "The loss at epoch  127  was  0.31524428725242615\n",
      "The loss at epoch  128  was  0.3151843547821045\n",
      "The loss at epoch  129  was  0.3150010108947754\n",
      "The loss at epoch  130  was  0.31505653262138367\n",
      "The loss at epoch  131  was  0.31509536504745483\n",
      "The loss at epoch  132  was  0.31492841243743896\n",
      "The loss at epoch  133  was  0.31515344977378845\n",
      "The loss at epoch  134  was  0.3149064779281616\n",
      "The loss at epoch  135  was  0.31511935591697693\n",
      "The loss at epoch  136  was  0.3150625228881836\n",
      "The loss at epoch  137  was  0.3148730397224426\n",
      "The loss at epoch  138  was  0.3150397837162018\n",
      "The loss at epoch  139  was  0.3150057792663574\n",
      "The loss at epoch  140  was  0.3149235248565674\n",
      "The loss at epoch  141  was  0.31498852372169495\n",
      "The loss at epoch  142  was  0.314996600151062\n",
      "The loss at epoch  143  was  0.31490659713745117\n",
      "The loss at epoch  144  was  0.31496524810791016\n",
      "The loss at epoch  145  was  0.3149068057537079\n",
      "The loss at epoch  146  was  0.3149527907371521\n",
      "The loss at epoch  147  was  0.3148241639137268\n",
      "The loss at epoch  148  was  0.31492552161216736\n",
      "The loss at epoch  149  was  0.31483587622642517\n",
      "The loss at epoch  150  was  0.31483903527259827\n",
      "The loss at epoch  151  was  0.31473642587661743\n",
      "The loss at epoch  152  was  0.31486159563064575\n",
      "The loss at epoch  153  was  0.3147643506526947\n",
      "The loss at epoch  154  was  0.31483855843544006\n",
      "The loss at epoch  155  was  0.3147428333759308\n",
      "The loss at epoch  156  was  0.31483349204063416\n",
      "The loss at epoch  157  was  0.3147844970226288\n",
      "The loss at epoch  158  was  0.3147920072078705\n",
      "The loss at epoch  159  was  0.31477242708206177\n",
      "The loss at epoch  160  was  0.31480470299720764\n",
      "The loss at epoch  161  was  0.31475746631622314\n",
      "The loss at epoch  162  was  0.3147961497306824\n",
      "The loss at epoch  163  was  0.314745157957077\n",
      "The loss at epoch  164  was  0.31471574306488037\n",
      "The loss at epoch  165  was  0.3147830069065094\n",
      "The loss at epoch  166  was  0.31469157338142395\n",
      "The loss at epoch  167  was  0.3147529363632202\n",
      "The loss at epoch  168  was  0.3147042989730835\n",
      "The loss at epoch  169  was  0.3146894872188568\n",
      "The loss at epoch  170  was  0.3146650195121765\n",
      "The loss at epoch  171  was  0.3146853744983673\n",
      "The loss at epoch  172  was  0.3146764636039734\n",
      "The loss at epoch  173  was  0.3146960437297821\n",
      "The loss at epoch  174  was  0.3146936595439911\n",
      "The loss at epoch  175  was  0.3146466612815857\n",
      "The loss at epoch  176  was  0.3146810233592987\n",
      "The loss at epoch  177  was  0.314644992351532\n",
      "The loss at epoch  178  was  0.3146009147167206\n",
      "The loss at epoch  179  was  0.3147129714488983\n",
      "The loss at epoch  180  was  0.3147018551826477\n",
      "The loss at epoch  181  was  0.3146471381187439\n",
      "The loss at epoch  182  was  0.3146326541900635\n",
      "The loss at epoch  183  was  0.3146068751811981\n",
      "The loss at epoch  184  was  0.31469640135765076\n",
      "The loss at epoch  185  was  0.31465789675712585\n",
      "The loss at epoch  186  was  0.3146722614765167\n",
      "The loss at epoch  187  was  0.3146088421344757\n",
      "The loss at epoch  188  was  0.3146458864212036\n",
      "The loss at epoch  189  was  0.3146613538265228\n",
      "The loss at epoch  190  was  0.3146418631076813\n",
      "The loss at epoch  191  was  0.31464600563049316\n",
      "The loss at epoch  192  was  0.3146374225616455\n",
      "The loss at epoch  193  was  0.31462788581848145\n",
      "The loss at epoch  194  was  0.3146437108516693\n",
      "The loss at epoch  195  was  0.3145977556705475\n",
      "The loss at epoch  196  was  0.31459352374076843\n",
      "The loss at epoch  197  was  0.3145963251590729\n",
      "The loss at epoch  198  was  0.31462720036506653\n"
     ]
    },
    {
     "name": "stdout",
     "output_type": "stream",
     "text": [
      "The loss at epoch  199  was  0.31455758213996887\n",
      "The loss at epoch  200  was  0.3145786225795746\n",
      "The loss at epoch  201  was  0.31462156772613525\n",
      "The loss at epoch  202  was  0.3145613670349121\n",
      "The loss at epoch  203  was  0.3146207332611084\n",
      "The loss at epoch  204  was  0.3145912289619446\n",
      "The loss at epoch  205  was  0.3145838975906372\n",
      "The loss at epoch  206  was  0.31456440687179565\n",
      "The loss at epoch  207  was  0.31458422541618347\n",
      "The loss at epoch  208  was  0.3145841062068939\n",
      "The loss at epoch  209  was  0.3145746886730194\n",
      "The loss at epoch  210  was  0.3145299553871155\n",
      "The loss at epoch  211  was  0.3145688474178314\n",
      "The loss at epoch  212  was  0.31456080079078674\n",
      "The loss at epoch  213  was  0.31456679105758667\n",
      "The loss at epoch  214  was  0.31454282999038696\n",
      "The loss at epoch  215  was  0.31454044580459595\n",
      "The loss at epoch  216  was  0.3145647943019867\n",
      "The loss at epoch  217  was  0.3145596385002136\n",
      "The loss at epoch  218  was  0.3145686388015747\n",
      "The loss at epoch  219  was  0.3145328164100647\n",
      "The loss at epoch  220  was  0.31455063819885254\n",
      "The loss at epoch  221  was  0.31456759572029114\n",
      "The loss at epoch  222  was  0.31455203890800476\n",
      "The loss at epoch  223  was  0.31455424427986145\n",
      "The loss at epoch  224  was  0.31454965472221375\n",
      "The loss at epoch  225  was  0.3145720958709717\n",
      "The loss at epoch  226  was  0.31452926993370056\n",
      "The loss at epoch  227  was  0.3145723342895508\n",
      "The loss at epoch  228  was  0.3145486116409302\n",
      "The loss at epoch  229  was  0.3145451843738556\n",
      "The loss at epoch  230  was  0.3145579397678375\n",
      "The loss at epoch  231  was  0.3145575225353241\n",
      "The loss at epoch  232  was  0.3145540654659271\n",
      "The loss at epoch  233  was  0.31453120708465576\n",
      "The loss at epoch  234  was  0.314507395029068\n",
      "The loss at epoch  235  was  0.3145470917224884\n",
      "The loss at epoch  236  was  0.31452441215515137\n",
      "The loss at epoch  237  was  0.3145354986190796\n",
      "The loss at epoch  238  was  0.3145260512828827\n",
      "The loss at epoch  239  was  0.3145241439342499\n",
      "The loss at epoch  240  was  0.31452876329421997\n",
      "The loss at epoch  241  was  0.3145294189453125\n",
      "The loss at epoch  242  was  0.3145278990268707\n",
      "The loss at epoch  243  was  0.3145008981227875\n",
      "The loss at epoch  244  was  0.31451478600502014\n",
      "The loss at epoch  245  was  0.3144853115081787\n",
      "The loss at epoch  246  was  0.3145091235637665\n",
      "The loss at epoch  247  was  0.3145310580730438\n",
      "The loss at epoch  248  was  0.3145297169685364\n",
      "The loss at epoch  249  was  0.3145187497138977\n",
      "The loss at epoch  250  was  0.31450819969177246\n",
      "The loss at epoch  251  was  0.3145122826099396\n",
      "The loss at epoch  252  was  0.31452903151512146\n",
      "The loss at epoch  253  was  0.31450918316841125\n",
      "The loss at epoch  254  was  0.3145126402378082\n",
      "The loss at epoch  255  was  0.31449347734451294\n",
      "The loss at epoch  256  was  0.31448888778686523\n",
      "The loss at epoch  257  was  0.3144792318344116\n",
      "The loss at epoch  258  was  0.31447461247444153\n",
      "The loss at epoch  259  was  0.3145093321800232\n",
      "The loss at epoch  260  was  0.31451302766799927\n",
      "The loss at epoch  261  was  0.314492791891098\n",
      "The loss at epoch  262  was  0.3144899010658264\n",
      "The loss at epoch  263  was  0.31451717019081116\n",
      "The loss at epoch  264  was  0.3145156502723694\n",
      "The loss at epoch  265  was  0.31448739767074585\n",
      "The loss at epoch  266  was  0.3144959509372711\n",
      "The loss at epoch  267  was  0.3144854009151459\n",
      "The loss at epoch  268  was  0.3144913911819458\n",
      "The loss at epoch  269  was  0.3144778609275818\n",
      "The loss at epoch  270  was  0.3144644796848297\n",
      "The loss at epoch  271  was  0.3144880533218384\n",
      "The loss at epoch  272  was  0.31448131799697876\n",
      "The loss at epoch  273  was  0.31448620557785034\n",
      "The loss at epoch  274  was  0.3144848942756653\n",
      "The loss at epoch  275  was  0.31448501348495483\n",
      "The loss at epoch  276  was  0.3144795298576355\n",
      "The loss at epoch  277  was  0.314494252204895\n",
      "The loss at epoch  278  was  0.3144877851009369\n",
      "The loss at epoch  279  was  0.31447362899780273\n",
      "The loss at epoch  280  was  0.31447428464889526\n",
      "The loss at epoch  281  was  0.31448888778686523\n",
      "The loss at epoch  282  was  0.31448373198509216\n",
      "The loss at epoch  283  was  0.31448858976364136\n",
      "The loss at epoch  284  was  0.3144982159137726\n",
      "The loss at epoch  285  was  0.3144797384738922\n",
      "The loss at epoch  286  was  0.31448885798454285\n",
      "The loss at epoch  287  was  0.314488023519516\n",
      "The loss at epoch  288  was  0.3144760727882385\n",
      "The loss at epoch  289  was  0.3144794702529907\n",
      "The loss at epoch  290  was  0.3144845962524414\n",
      "The loss at epoch  291  was  0.3144931197166443\n",
      "The loss at epoch  292  was  0.3144764006137848\n",
      "The loss at epoch  293  was  0.31447744369506836\n",
      "The loss at epoch  294  was  0.3144712746143341\n",
      "The loss at epoch  295  was  0.3144797086715698\n",
      "The loss at epoch  296  was  0.3144654929637909\n",
      "The loss at epoch  297  was  0.3144737184047699\n",
      "The loss at epoch  298  was  0.31447649002075195\n",
      "The loss at epoch  299  was  0.3144618272781372\n",
      "The loss at epoch  300  was  0.31447291374206543\n",
      "The loss at epoch  301  was  0.3144625425338745\n",
      "The loss at epoch  302  was  0.3144736886024475\n",
      "The loss at epoch  303  was  0.3144710063934326\n",
      "The loss at epoch  304  was  0.3144826889038086\n",
      "The loss at epoch  305  was  0.31445401906967163\n",
      "The loss at epoch  306  was  0.3144749104976654\n",
      "The loss at epoch  307  was  0.31445232033729553\n",
      "The loss at epoch  308  was  0.31447672843933105\n",
      "The loss at epoch  309  was  0.31447404623031616\n",
      "The loss at epoch  310  was  0.31446704268455505\n",
      "The loss at epoch  311  was  0.3144528865814209\n",
      "The loss at epoch  312  was  0.31445828080177307\n",
      "The loss at epoch  313  was  0.31447622179985046\n",
      "The loss at epoch  314  was  0.31446972489356995\n",
      "The loss at epoch  315  was  0.3144710063934326\n",
      "The loss at epoch  316  was  0.31447404623031616\n",
      "The loss at epoch  317  was  0.3144668638706207\n",
      "The loss at epoch  318  was  0.31445324420928955\n",
      "The loss at epoch  319  was  0.31445205211639404\n",
      "The loss at epoch  320  was  0.3144567906856537\n",
      "The loss at epoch  321  was  0.31446510553359985\n",
      "The loss at epoch  322  was  0.3144512474536896\n",
      "The loss at epoch  323  was  0.3144690990447998\n",
      "The loss at epoch  324  was  0.31445127725601196\n",
      "The loss at epoch  325  was  0.3144531548023224\n",
      "The loss at epoch  326  was  0.31446102261543274\n",
      "The loss at epoch  327  was  0.3144518733024597\n",
      "The loss at epoch  328  was  0.31444841623306274\n",
      "The loss at epoch  329  was  0.3144591748714447\n",
      "The loss at epoch  330  was  0.31445667147636414\n",
      "The loss at epoch  331  was  0.314454585313797\n",
      "The loss at epoch  332  was  0.314452201128006\n",
      "The loss at epoch  333  was  0.31445741653442383\n",
      "The loss at epoch  334  was  0.31445395946502686\n",
      "The loss at epoch  335  was  0.3144439458847046\n",
      "The loss at epoch  336  was  0.3144480586051941\n",
      "The loss at epoch  337  was  0.31445562839508057\n",
      "The loss at epoch  338  was  0.31444451212882996\n",
      "The loss at epoch  339  was  0.3144472539424896\n",
      "The loss at epoch  340  was  0.31444817781448364\n",
      "The loss at epoch  341  was  0.3144581615924835\n",
      "The loss at epoch  342  was  0.31444796919822693\n",
      "The loss at epoch  343  was  0.3144383728504181\n",
      "The loss at epoch  344  was  0.3144564628601074\n",
      "The loss at epoch  345  was  0.3144431710243225\n",
      "The loss at epoch  346  was  0.3144434094429016\n",
      "The loss at epoch  347  was  0.3144476115703583\n",
      "The loss at epoch  348  was  0.3144477605819702\n",
      "The loss at epoch  349  was  0.3144344687461853\n",
      "The loss at epoch  350  was  0.31443271040916443\n",
      "The loss at epoch  351  was  0.3144454061985016\n",
      "The loss at epoch  352  was  0.3144443929195404\n",
      "The loss at epoch  353  was  0.3144451379776001\n",
      "The loss at epoch  354  was  0.3144339919090271\n",
      "The loss at epoch  355  was  0.31444016098976135\n",
      "The loss at epoch  356  was  0.3144541382789612\n",
      "The loss at epoch  357  was  0.3144405484199524\n",
      "The loss at epoch  358  was  0.3144466280937195\n",
      "The loss at epoch  359  was  0.31444719433784485\n",
      "The loss at epoch  360  was  0.31443920731544495\n",
      "The loss at epoch  361  was  0.3144318163394928\n",
      "The loss at epoch  362  was  0.3144494593143463\n",
      "The loss at epoch  363  was  0.3144516944885254\n",
      "The loss at epoch  364  was  0.31443825364112854\n",
      "The loss at epoch  365  was  0.3144407868385315\n",
      "The loss at epoch  366  was  0.3144381046295166\n",
      "The loss at epoch  367  was  0.3144262135028839\n",
      "The loss at epoch  368  was  0.31443527340888977\n",
      "The loss at epoch  369  was  0.31443318724632263\n",
      "The loss at epoch  370  was  0.3144299387931824\n",
      "The loss at epoch  371  was  0.3144465386867523\n",
      "The loss at epoch  372  was  0.3144327998161316\n",
      "The loss at epoch  373  was  0.31443291902542114\n",
      "The loss at epoch  374  was  0.31443914771080017\n",
      "The loss at epoch  375  was  0.3144398331642151\n",
      "The loss at epoch  376  was  0.31442591547966003\n",
      "The loss at epoch  377  was  0.3144393563270569\n",
      "The loss at epoch  378  was  0.31444233655929565\n",
      "The loss at epoch  379  was  0.31443777680397034\n",
      "The loss at epoch  380  was  0.3144398033618927\n",
      "The loss at epoch  381  was  0.31442156434059143\n",
      "The loss at epoch  382  was  0.3144284188747406\n",
      "The loss at epoch  383  was  0.3144336938858032\n",
      "The loss at epoch  384  was  0.31444045901298523\n",
      "The loss at epoch  385  was  0.3144429326057434\n",
      "The loss at epoch  386  was  0.31443214416503906\n",
      "The loss at epoch  387  was  0.31443163752555847\n",
      "The loss at epoch  388  was  0.3144420087337494\n",
      "The loss at epoch  389  was  0.31442636251449585\n",
      "The loss at epoch  390  was  0.3144404888153076\n",
      "The loss at epoch  391  was  0.31443098187446594\n",
      "The loss at epoch  392  was  0.31442078948020935\n",
      "The loss at epoch  393  was  0.3144298195838928\n",
      "The loss at epoch  394  was  0.3144415318965912\n",
      "The loss at epoch  395  was  0.31443315744400024\n",
      "The loss at epoch  396  was  0.3144267499446869\n",
      "The loss at epoch  397  was  0.3144209086894989\n",
      "The loss at epoch  398  was  0.31443217396736145\n"
     ]
    },
    {
     "name": "stdout",
     "output_type": "stream",
     "text": [
      "The loss at epoch  399  was  0.3144342601299286\n",
      "The loss at epoch  400  was  0.3144284188747406\n",
      "The loss at epoch  401  was  0.31443125009536743\n",
      "The loss at epoch  402  was  0.3144223392009735\n",
      "The loss at epoch  403  was  0.3144381046295166\n",
      "The loss at epoch  404  was  0.31442755460739136\n",
      "The loss at epoch  405  was  0.3144325911998749\n",
      "The loss at epoch  406  was  0.3144272267818451\n",
      "The loss at epoch  407  was  0.31443291902542114\n",
      "The loss at epoch  408  was  0.31443434953689575\n",
      "The loss at epoch  409  was  0.3144197463989258\n",
      "The loss at epoch  410  was  0.3144335150718689\n",
      "The loss at epoch  411  was  0.314432293176651\n",
      "The loss at epoch  412  was  0.31442809104919434\n",
      "The loss at epoch  413  was  0.3144210875034332\n",
      "The loss at epoch  414  was  0.3144221603870392\n",
      "The loss at epoch  415  was  0.3144216537475586\n",
      "The loss at epoch  416  was  0.3144257068634033\n",
      "The loss at epoch  417  was  0.3144221603870392\n",
      "The loss at epoch  418  was  0.31442564725875854\n",
      "The loss at epoch  419  was  0.3144264221191406\n",
      "The loss at epoch  420  was  0.3144283592700958\n",
      "The loss at epoch  421  was  0.3144230842590332\n",
      "The loss at epoch  422  was  0.31442856788635254\n",
      "The loss at epoch  423  was  0.3144077658653259\n",
      "The loss at epoch  424  was  0.314423531293869\n",
      "The loss at epoch  425  was  0.3144204914569855\n",
      "The loss at epoch  426  was  0.3144283890724182\n",
      "The loss at epoch  427  was  0.3144127130508423\n",
      "The loss at epoch  428  was  0.3144141435623169\n",
      "The loss at epoch  429  was  0.3144172132015228\n",
      "The loss at epoch  430  was  0.31441858410835266\n",
      "The loss at epoch  431  was  0.3144225776195526\n",
      "The loss at epoch  432  was  0.31442296504974365\n",
      "The loss at epoch  433  was  0.31441888213157654\n",
      "The loss at epoch  434  was  0.31442537903785706\n",
      "The loss at epoch  435  was  0.31442537903785706\n",
      "The loss at epoch  436  was  0.31442785263061523\n",
      "The loss at epoch  437  was  0.31440988183021545\n",
      "The loss at epoch  438  was  0.31441012024879456\n",
      "The loss at epoch  439  was  0.3144152760505676\n",
      "The loss at epoch  440  was  0.31442761421203613\n",
      "The loss at epoch  441  was  0.31442004442214966\n",
      "The loss at epoch  442  was  0.31440773606300354\n",
      "The loss at epoch  443  was  0.31441622972488403\n",
      "The loss at epoch  444  was  0.3144177198410034\n",
      "The loss at epoch  445  was  0.3144174814224243\n",
      "The loss at epoch  446  was  0.31442609429359436\n",
      "The loss at epoch  447  was  0.3144140839576721\n",
      "The loss at epoch  448  was  0.3144269585609436\n",
      "The loss at epoch  449  was  0.31442123651504517\n",
      "The loss at epoch  450  was  0.3144102990627289\n",
      "The loss at epoch  451  was  0.3144215941429138\n",
      "The loss at epoch  452  was  0.31441187858581543\n",
      "The loss at epoch  453  was  0.3144078254699707\n",
      "The loss at epoch  454  was  0.31441861391067505\n",
      "The loss at epoch  455  was  0.31442102789878845\n",
      "The loss at epoch  456  was  0.31440845131874084\n",
      "The loss at epoch  457  was  0.3144141733646393\n",
      "The loss at epoch  458  was  0.3144077658653259\n",
      "The loss at epoch  459  was  0.31441164016723633\n",
      "The loss at epoch  460  was  0.314407080411911\n",
      "The loss at epoch  461  was  0.31441715359687805\n",
      "The loss at epoch  462  was  0.3144218325614929\n",
      "The loss at epoch  463  was  0.3144177496433258\n",
      "The loss at epoch  464  was  0.3144165277481079\n",
      "The loss at epoch  465  was  0.3144227862358093\n",
      "The loss at epoch  466  was  0.3144214451313019\n",
      "The loss at epoch  467  was  0.31441134214401245\n",
      "The loss at epoch  468  was  0.3144107758998871\n",
      "The loss at epoch  469  was  0.314410537481308\n",
      "The loss at epoch  470  was  0.3144150674343109\n",
      "The loss at epoch  471  was  0.3144015669822693\n",
      "The loss at epoch  472  was  0.31441760063171387\n",
      "The loss at epoch  473  was  0.3144124448299408\n",
      "The loss at epoch  474  was  0.3143991529941559\n",
      "The loss at epoch  475  was  0.3144167363643646\n",
      "The loss at epoch  476  was  0.31442102789878845\n",
      "The loss at epoch  477  was  0.3144146800041199\n",
      "The loss at epoch  478  was  0.3144111633300781\n",
      "The loss at epoch  479  was  0.31441038846969604\n",
      "The loss at epoch  480  was  0.3144069314002991\n",
      "The loss at epoch  481  was  0.3144104480743408\n",
      "The loss at epoch  482  was  0.3144152760505676\n",
      "The loss at epoch  483  was  0.3144100606441498\n",
      "The loss at epoch  484  was  0.3144164979457855\n",
      "The loss at epoch  485  was  0.3144170045852661\n",
      "The loss at epoch  486  was  0.31440597772598267\n",
      "The loss at epoch  487  was  0.31440603733062744\n",
      "The loss at epoch  488  was  0.31441086530685425\n",
      "The loss at epoch  489  was  0.3144078552722931\n",
      "The loss at epoch  490  was  0.31441542506217957\n",
      "The loss at epoch  491  was  0.3144184648990631\n",
      "The loss at epoch  492  was  0.31441012024879456\n",
      "The loss at epoch  493  was  0.31441372632980347\n",
      "The loss at epoch  494  was  0.3144133388996124\n",
      "The loss at epoch  495  was  0.3144148588180542\n",
      "The loss at epoch  496  was  0.3144095838069916\n",
      "The loss at epoch  497  was  0.31440648436546326\n",
      "The loss at epoch  498  was  0.3144059479236603\n",
      "The loss at epoch  499  was  0.31441450119018555\n",
      "The loss at epoch  500  was  0.3144117593765259\n",
      "The loss at epoch  501  was  0.31441178917884827\n",
      "The loss at epoch  502  was  0.3144173324108124\n",
      "The loss at epoch  503  was  0.31441619992256165\n",
      "The loss at epoch  504  was  0.31440219283103943\n",
      "The loss at epoch  505  was  0.31440532207489014\n",
      "The loss at epoch  506  was  0.3144102990627289\n",
      "The loss at epoch  507  was  0.3144141137599945\n",
      "The loss at epoch  508  was  0.31439855694770813\n",
      "The loss at epoch  509  was  0.31440573930740356\n",
      "The loss at epoch  510  was  0.3144090473651886\n",
      "The loss at epoch  511  was  0.3144109845161438\n",
      "The loss at epoch  512  was  0.31440913677215576\n",
      "The loss at epoch  513  was  0.3144108057022095\n",
      "The loss at epoch  514  was  0.3144088387489319\n",
      "The loss at epoch  515  was  0.31441429257392883\n",
      "The loss at epoch  516  was  0.31440749764442444\n",
      "The loss at epoch  517  was  0.31440699100494385\n",
      "The loss at epoch  518  was  0.31440261006355286\n",
      "The loss at epoch  519  was  0.3144094944000244\n",
      "The loss at epoch  520  was  0.31440481543540955\n",
      "The loss at epoch  521  was  0.3144082725048065\n",
      "The loss at epoch  522  was  0.3144094944000244\n",
      "The loss at epoch  523  was  0.31441357731819153\n",
      "The loss at epoch  524  was  0.3144092559814453\n",
      "The loss at epoch  525  was  0.31440606713294983\n",
      "The loss at epoch  526  was  0.3144054412841797\n",
      "The loss at epoch  527  was  0.3144066333770752\n",
      "The loss at epoch  528  was  0.3144032955169678\n",
      "The loss at epoch  529  was  0.3144107758998871\n",
      "The loss at epoch  530  was  0.3144063949584961\n",
      "The loss at epoch  531  was  0.3144055902957916\n",
      "The loss at epoch  532  was  0.3144040107727051\n",
      "The loss at epoch  533  was  0.3144095838069916\n",
      "The loss at epoch  534  was  0.3144058585166931\n",
      "The loss at epoch  535  was  0.31440702080726624\n",
      "The loss at epoch  536  was  0.31441009044647217\n",
      "The loss at epoch  537  was  0.314401775598526\n",
      "The loss at epoch  538  was  0.31439724564552307\n",
      "The loss at epoch  539  was  0.3144104778766632\n",
      "The loss at epoch  540  was  0.3144066631793976\n",
      "The loss at epoch  541  was  0.3144024908542633\n",
      "The loss at epoch  542  was  0.31440648436546326\n",
      "The loss at epoch  543  was  0.31441015005111694\n",
      "The loss at epoch  544  was  0.314410001039505\n",
      "The loss at epoch  545  was  0.31440502405166626\n",
      "The loss at epoch  546  was  0.31440702080726624\n",
      "The loss at epoch  547  was  0.31440386176109314\n",
      "The loss at epoch  548  was  0.314407080411911\n",
      "The loss at epoch  549  was  0.31440308690071106\n",
      "The loss at epoch  550  was  0.314397931098938\n",
      "The loss at epoch  551  was  0.3144027590751648\n",
      "The loss at epoch  552  was  0.3144003450870514\n",
      "The loss at epoch  553  was  0.31440258026123047\n",
      "The loss at epoch  554  was  0.31439435482025146\n",
      "The loss at epoch  555  was  0.3144035041332245\n",
      "The loss at epoch  556  was  0.3144056499004364\n",
      "The loss at epoch  557  was  0.31440433859825134\n",
      "The loss at epoch  558  was  0.31440645456314087\n",
      "The loss at epoch  559  was  0.31440430879592896\n",
      "The loss at epoch  560  was  0.3143993020057678\n",
      "The loss at epoch  561  was  0.31440961360931396\n",
      "The loss at epoch  562  was  0.3144030272960663\n",
      "The loss at epoch  563  was  0.31440049409866333\n",
      "The loss at epoch  564  was  0.3144047260284424\n",
      "The loss at epoch  565  was  0.314394474029541\n",
      "The loss at epoch  566  was  0.31440097093582153\n",
      "The loss at epoch  567  was  0.314394474029541\n",
      "The loss at epoch  568  was  0.3144055902957916\n"
     ]
    },
    {
     "name": "stdout",
     "output_type": "stream",
     "text": [
      "The loss at epoch  569  was  0.31440332531929016\n",
      "The loss at epoch  570  was  0.3143979609012604\n",
      "The loss at epoch  571  was  0.31440117955207825\n",
      "The loss at epoch  572  was  0.31440746784210205\n",
      "The loss at epoch  573  was  0.3144070506095886\n",
      "The loss at epoch  574  was  0.31440213322639465\n",
      "The loss at epoch  575  was  0.3144039511680603\n",
      "The loss at epoch  576  was  0.31440016627311707\n",
      "The loss at epoch  577  was  0.3144053816795349\n",
      "The loss at epoch  578  was  0.314404159784317\n",
      "The loss at epoch  579  was  0.31439414620399475\n",
      "The loss at epoch  580  was  0.3144019842147827\n",
      "The loss at epoch  581  was  0.3144013583660126\n",
      "The loss at epoch  582  was  0.31439799070358276\n",
      "The loss at epoch  583  was  0.31439998745918274\n",
      "The loss at epoch  584  was  0.3144013583660126\n",
      "The loss at epoch  585  was  0.3143981993198395\n",
      "The loss at epoch  586  was  0.31440022587776184\n",
      "The loss at epoch  587  was  0.31439825892448425\n",
      "The loss at epoch  588  was  0.31440243124961853\n",
      "The loss at epoch  589  was  0.3143916726112366\n",
      "The loss at epoch  590  was  0.31439757347106934\n",
      "The loss at epoch  591  was  0.31440219283103943\n",
      "The loss at epoch  592  was  0.31440475583076477\n",
      "The loss at epoch  593  was  0.3144047260284424\n",
      "The loss at epoch  594  was  0.3143920600414276\n",
      "The loss at epoch  595  was  0.31439852714538574\n",
      "The loss at epoch  596  was  0.31439632177352905\n",
      "The loss at epoch  597  was  0.31439974904060364\n",
      "The loss at epoch  598  was  0.31440141797065735\n",
      "The loss at epoch  599  was  0.3144039809703827\n",
      "The loss at epoch  600  was  0.314401775598526\n"
     ]
    }
   ],
   "source": [
    "kernel_model = model_fitter(num_nodes, dims, X, y, epochs=epochs, p=p, \n",
    "                                              lr=lr,lr_decay=lr_decay, lam=lam, \n",
    "                            weight_decay=weight_decay, undersample=True)"
   ]
  },
  {
   "cell_type": "code",
   "execution_count": 131,
   "metadata": {
    "collapsed": true
   },
   "outputs": [],
   "source": [
    "import sklearn.cluster as cluster"
   ]
  },
  {
   "cell_type": "code",
   "execution_count": 132,
   "metadata": {
    "collapsed": true
   },
   "outputs": [],
   "source": [
    "clf = cluster.KMeans(n_clusters=3)\n",
    "clf1 = cluster.AgglomerativeClustering(n_clusters=3)"
   ]
  },
  {
   "cell_type": "code",
   "execution_count": 133,
   "metadata": {
    "collapsed": true
   },
   "outputs": [],
   "source": [
    "all_embeddings = kernel_model.get_all_weights()"
   ]
  },
  {
   "cell_type": "code",
   "execution_count": 134,
   "metadata": {
    "collapsed": true
   },
   "outputs": [],
   "source": [
    "viable_embeddings = all_embeddings[1:,:].astype(np.float64)"
   ]
  },
  {
   "cell_type": "code",
   "execution_count": 135,
   "metadata": {
    "collapsed": true
   },
   "outputs": [],
   "source": [
    "from sklearn.manifold import TSNE, MDS\n",
    "tsne = TSNE(n_components=2)\n",
    "mds = MDS(n_components=2, metric=True)"
   ]
  },
  {
   "cell_type": "code",
   "execution_count": 136,
   "metadata": {},
   "outputs": [
    {
     "name": "stderr",
     "output_type": "stream",
     "text": [
      "/Users/inzamamrahaman/anaconda3/lib/python3.6/site-packages/sklearn/manifold/mds.py:411: UserWarning: The MDS API has changed. ``fit`` now constructs an dissimilarity matrix from data. To use a custom dissimilarity matrix, set ``dissimilarity='precomputed'``.\n",
      "  warnings.warn(\"The MDS API has changed. ``fit`` now constructs an\"\n"
     ]
    }
   ],
   "source": [
    "#projections = tsne.fit_transform(viable_embeddings)\n",
    "projections = mds.fit_transform(viable_embeddings)"
   ]
  },
  {
   "cell_type": "code",
   "execution_count": 137,
   "metadata": {
    "collapsed": true
   },
   "outputs": [],
   "source": [
    "color_dict = ['green', 'purple', 'orange']\n",
    "    \n",
    "\n",
    "colors = [color_dict[c] for c in data.get_node_classes()]"
   ]
  },
  {
   "cell_type": "code",
   "execution_count": 138,
   "metadata": {
    "collapsed": true
   },
   "outputs": [],
   "source": [
    "from pylab import rcParams\n",
    "rcParams['figure.figsize'] = 20, 20\n",
    "rcParams['axes.titlesize'] = 14\n",
    "\n",
    "import seaborn as sns\n",
    "sns.set_style(\"darkgrid\")"
   ]
  },
  {
   "cell_type": "code",
   "execution_count": 139,
   "metadata": {},
   "outputs": [
    {
     "data": {
      "image/png": "[encoded data removed]",
      "text/plain": [
       "<matplotlib.figure.Figure at 0x1c1c3e39e8>"
      ]
     },
     "metadata": {},
     "output_type": "display_data"
    }
   ],
   "source": [
    "fig, ax = plt.subplots()\n",
    "ax.scatter(projections[:,0], projections[:,1], c=colors, s=20*2*3)\n",
    "ax.set_xlabel('component1')\n",
    "ax.set_ylabel('component2')\n",
    "font_dict = fontdict={'fontsize': 20,\n",
    " 'fontweight' : rcParams['axes.titleweight'],\n",
    " 'verticalalignment': 'baseline'}\n",
    "\n",
    "ax.set_xlabel('component1', fontdict=font_dict)\n",
    "ax.set_ylabel('component2', fontdict=font_dict)\n",
    "#ax.legend(prop={'size': font_dict['fontsize']})\n",
    "ax.grid(True)\n",
    "if False:\n",
    "    for i,_ in enumerate(colors):\n",
    "        s = int(data.id_assigner.id2object(i + 1))\n",
    "        ax.annotate(s, (float(projections[i, 0]), float(projections[i, 1])))\n",
    "fig.savefig('Sampson-StEM2.png')"
   ]
  },
  {
   "cell_type": "code",
   "execution_count": 106,
   "metadata": {
    "collapsed": true
   },
   "outputs": [],
   "source": [
    "labels = clf1.fit_predict(viable_embeddings)"
   ]
  },
  {
   "cell_type": "code",
   "execution_count": 107,
   "metadata": {},
   "outputs": [
    {
     "data": {
      "text/plain": [
       "array([0, 0, 0, 0, 2, 2, 1, 2, 2, 2, 2, 1, 1, 1, 1, 2])"
      ]
     },
     "execution_count": 107,
     "metadata": {},
     "output_type": "execute_result"
    }
   ],
   "source": [
    "labels"
   ]
  },
  {
   "cell_type": "code",
   "execution_count": 108,
   "metadata": {
    "collapsed": true
   },
   "outputs": [],
   "source": [
    "correct_labels = data.get_node_classes()\n",
    "#correct_labels[-1] = 2"
   ]
  },
  {
   "cell_type": "code",
   "execution_count": 109,
   "metadata": {},
   "outputs": [
    {
     "data": {
      "text/plain": [
       "array([0, 0, 0, 0, 1, 1, 1, 1, 2, 1, 1, 2, 2, 1, 2, 2])"
      ]
     },
     "execution_count": 109,
     "metadata": {},
     "output_type": "execute_result"
    }
   ],
   "source": [
    "correct_labels"
   ]
  },
  {
   "cell_type": "code",
   "execution_count": 110,
   "metadata": {
    "collapsed": true
   },
   "outputs": [],
   "source": [
    "from sklearn.metrics.cluster import normalized_mutual_info_score, completeness_score"
   ]
  },
  {
   "cell_type": "code",
   "execution_count": 111,
   "metadata": {},
   "outputs": [
    {
     "data": {
      "text/plain": [
       "array([0, 0, 0, 0, 2, 2, 1, 2, 2, 2, 2, 1, 1, 1, 1, 2])"
      ]
     },
     "execution_count": 111,
     "metadata": {},
     "output_type": "execute_result"
    }
   ],
   "source": [
    "labels"
   ]
  },
  {
   "cell_type": "code",
   "execution_count": 112,
   "metadata": {},
   "outputs": [
    {
     "name": "stdout",
     "output_type": "stream",
     "text": [
      "0.55953547116\n",
      "0.55953547116\n"
     ]
    }
   ],
   "source": [
    "print(normalized_mutual_info_score(correct_labels, labels))\n",
    "print(completeness_score(correct_labels, labels))"
   ]
  },
  {
   "cell_type": "code",
   "execution_count": 78,
   "metadata": {
    "collapsed": true
   },
   "outputs": [],
   "source": [
    "num_nodes = data.get_num_nodes()\n",
    "dims = dims\n",
    "epochs = epochs\n",
    "lr = lr\n",
    "lr_decay=0.0\n",
    "weight_decay=0.0\n",
    "lam = 0.00055\n",
    "p = 2\n",
    "delta = 1\n",
    "delta0 = 0.5\n",
    "dims_array = [dims, 20, 20]"
   ]
  },
  {
   "cell_type": "code",
   "execution_count": 79,
   "metadata": {
    "collapsed": true
   },
   "outputs": [],
   "source": [
    "model_fitter = models.fit_sine_model\n",
    "triples, triples0 = util.triples_from_array(X, y)\n",
    "batch_size = int(1.0 * len(triples))\n",
    "batch_size0 = len(triples0)"
   ]
  },
  {
   "cell_type": "code",
   "execution_count": 80,
   "metadata": {},
   "outputs": [
    {
     "name": "stdout",
     "output_type": "stream",
     "text": [
      "Loss at epoch  1  is  0.9900801181793213\n",
      "Loss at epoch  2  is  0.9672496914863586\n",
      "Loss at epoch  3  is  0.9012645483016968\n",
      "Loss at epoch  4  is  0.8669331073760986\n",
      "Loss at epoch  5  is  0.8230847716331482\n",
      "Loss at epoch  6  is  0.6971307396888733\n",
      "Loss at epoch  7  is  0.6366087198257446\n",
      "Loss at epoch  8  is  0.5979477167129517\n",
      "Loss at epoch  9  is  0.5427374839782715\n",
      "Loss at epoch  10  is  0.5000529885292053\n",
      "Loss at epoch  11  is  0.48586365580558777\n",
      "Loss at epoch  12  is  0.4802035093307495\n",
      "Loss at epoch  13  is  0.4870007634162903\n",
      "Loss at epoch  14  is  0.4784497320652008\n",
      "Loss at epoch  15  is  0.46762552857398987\n",
      "Loss at epoch  16  is  0.4625914394855499\n",
      "Loss at epoch  17  is  0.4632117450237274\n",
      "Loss at epoch  18  is  0.4593982994556427\n",
      "Loss at epoch  19  is  0.4600185453891754\n",
      "Loss at epoch  20  is  0.45819705724716187\n",
      "Loss at epoch  21  is  0.45781809091567993\n",
      "Loss at epoch  22  is  0.457608163356781\n",
      "Loss at epoch  23  is  0.458426833152771\n",
      "Loss at epoch  24  is  0.45791760087013245\n",
      "Loss at epoch  25  is  0.45689383149147034\n",
      "Loss at epoch  26  is  0.4573000371456146\n",
      "Loss at epoch  27  is  0.45678794384002686\n",
      "Loss at epoch  28  is  0.4564237594604492\n",
      "Loss at epoch  29  is  0.45614469051361084\n",
      "Loss at epoch  30  is  0.4559212327003479\n",
      "Loss at epoch  31  is  0.45573684573173523\n",
      "Loss at epoch  32  is  0.4555813670158386\n",
      "Loss at epoch  33  is  0.455677330493927\n",
      "Loss at epoch  34  is  0.4556441307067871\n",
      "Loss at epoch  35  is  0.4554857015609741\n",
      "Loss at epoch  36  is  0.45535388588905334\n",
      "Loss at epoch  37  is  0.45524173974990845\n",
      "Loss at epoch  38  is  0.455500066280365\n",
      "Loss at epoch  39  is  0.45797649025917053\n",
      "Loss at epoch  40  is  0.45578086376190186\n",
      "Loss at epoch  41  is  0.45560842752456665\n",
      "Loss at epoch  42  is  0.45546647906303406\n",
      "Loss at epoch  43  is  0.45534658432006836\n",
      "Loss at epoch  44  is  0.45524346828460693\n",
      "Loss at epoch  45  is  0.4551534652709961\n",
      "Loss at epoch  46  is  0.4550740122795105\n",
      "Loss at epoch  47  is  0.4550030827522278\n",
      "Loss at epoch  48  is  0.4549393653869629\n",
      "Loss at epoch  49  is  0.45497003197669983\n",
      "Loss at epoch  50  is  0.45527443289756775\n",
      "Loss at epoch  51  is  0.4551566243171692\n",
      "Loss at epoch  52  is  0.4550600051879883\n",
      "Loss at epoch  53  is  0.4549783766269684\n",
      "Loss at epoch  54  is  0.4549078941345215\n",
      "Loss at epoch  55  is  0.45484602451324463\n",
      "Loss at epoch  56  is  0.45479100942611694\n",
      "Loss at epoch  57  is  0.45474156737327576\n",
      "Loss at epoch  58  is  0.45469677448272705\n",
      "Loss at epoch  59  is  0.4546559154987335\n",
      "Loss at epoch  60  is  0.45461833477020264\n",
      "Loss at epoch  61  is  0.45458364486694336\n",
      "Loss at epoch  62  is  0.45455145835876465\n",
      "Loss at epoch  63  is  0.4545214772224426\n",
      "Loss at epoch  64  is  0.4544934630393982\n",
      "Loss at epoch  65  is  0.45446717739105225\n",
      "Loss at epoch  66  is  0.4544423818588257\n",
      "Loss at epoch  67  is  0.45441898703575134\n",
      "Loss at epoch  68  is  0.4543968439102173\n",
      "Loss at epoch  69  is  0.45437589287757874\n",
      "Loss at epoch  70  is  0.4543643891811371\n",
      "Loss at epoch  71  is  0.45573338866233826\n",
      "Loss at epoch  72  is  0.45960238575935364\n",
      "Loss at epoch  73  is  0.4591464698314667\n",
      "Loss at epoch  74  is  0.45662373304367065\n",
      "Loss at epoch  75  is  0.45806893706321716\n",
      "Loss at epoch  76  is  0.454734742641449\n",
      "Loss at epoch  77  is  0.45467042922973633\n",
      "Loss at epoch  78  is  0.45461538434028625\n",
      "Loss at epoch  79  is  0.4545673727989197\n",
      "Loss at epoch  80  is  0.4545249938964844\n",
      "Loss at epoch  81  is  0.45448726415634155\n",
      "Loss at epoch  82  is  0.45445331931114197\n",
      "Loss at epoch  83  is  0.4544224441051483\n",
      "Loss at epoch  84  is  0.45439428091049194\n",
      "Loss at epoch  85  is  0.45436838269233704\n",
      "Loss at epoch  86  is  0.45434439182281494\n",
      "Loss at epoch  87  is  0.45432209968566895\n",
      "Loss at epoch  88  is  0.4543013274669647\n",
      "Loss at epoch  89  is  0.4542818069458008\n",
      "Loss at epoch  90  is  0.45426347851753235\n",
      "Loss at epoch  91  is  0.4542461335659027\n",
      "Loss at epoch  92  is  0.4542297124862671\n",
      "Loss at epoch  93  is  0.4542141258716583\n",
      "Loss at epoch  94  is  0.45419925451278687\n",
      "Loss at epoch  95  is  0.4542195200920105\n",
      "Loss at epoch  96  is  0.45439615845680237\n",
      "Loss at epoch  97  is  0.4543624222278595\n",
      "Loss at epoch  98  is  0.4543323814868927\n",
      "Loss at epoch  99  is  0.45430535078048706\n",
      "Loss at epoch  100  is  0.4542807638645172\n",
      "Loss at epoch  101  is  0.4542582631111145\n",
      "Loss at epoch  102  is  0.45423755049705505\n",
      "Loss at epoch  103  is  0.4542183578014374\n",
      "Loss at epoch  104  is  0.45420047640800476\n",
      "Loss at epoch  105  is  0.4541837275028229\n",
      "Loss at epoch  106  is  0.4541679620742798\n",
      "Loss at epoch  107  is  0.4541530907154083\n",
      "Loss at epoch  108  is  0.45413899421691895\n",
      "Loss at epoch  109  is  0.4541255831718445\n",
      "Loss at epoch  110  is  0.45411282777786255\n",
      "Loss at epoch  111  is  0.454100638628006\n",
      "Loss at epoch  112  is  0.45408895611763\n",
      "Loss at epoch  113  is  0.45407772064208984\n",
      "Loss at epoch  114  is  0.4540669322013855\n",
      "Loss at epoch  115  is  0.4540565013885498\n",
      "Loss at epoch  116  is  0.45407694578170776\n",
      "Loss at epoch  117  is  0.4541187286376953\n",
      "Loss at epoch  118  is  0.4541044235229492\n",
      "Loss at epoch  119  is  0.4540908932685852\n",
      "Loss at epoch  120  is  0.4540780484676361\n",
      "Loss at epoch  121  is  0.45406585931777954\n",
      "Loss at epoch  122  is  0.45405417680740356\n",
      "Loss at epoch  123  is  0.45404303073883057\n",
      "Loss at epoch  124  is  0.45403236150741577\n",
      "Loss at epoch  125  is  0.4540221095085144\n",
      "Loss at epoch  126  is  0.4540121853351593\n",
      "Loss at epoch  127  is  0.4540279805660248\n",
      "Loss at epoch  128  is  0.45404431223869324\n",
      "Loss at epoch  129  is  0.45403340458869934\n",
      "Loss at epoch  130  is  0.45402294397354126\n",
      "Loss at epoch  131  is  0.45401281118392944\n",
      "Loss at epoch  132  is  0.45400306582450867\n",
      "Loss at epoch  133  is  0.45399361848831177\n",
      "Loss at epoch  134  is  0.45398449897766113\n",
      "Loss at epoch  135  is  0.4539756178855896\n",
      "Loss at epoch  136  is  0.45396700501441956\n",
      "Loss at epoch  137  is  0.4539586901664734\n",
      "Loss at epoch  138  is  0.4539504647254944\n",
      "Loss at epoch  139  is  0.45394250750541687\n",
      "Loss at epoch  140  is  0.4539347290992737\n",
      "Loss at epoch  141  is  0.4539271891117096\n",
      "Loss at epoch  142  is  0.45391973853111267\n",
      "Loss at epoch  143  is  0.4539124369621277\n",
      "Loss at epoch  144  is  0.4539053738117218\n",
      "Loss at epoch  145  is  0.4538983702659607\n",
      "Loss at epoch  146  is  0.4538915157318115\n",
      "Loss at epoch  147  is  0.45394378900527954\n",
      "Loss at epoch  148  is  0.45396173000335693\n",
      "Loss at epoch  149  is  0.4539514482021332\n",
      "Loss at epoch  150  is  0.45394158363342285\n",
      "Loss at epoch  151  is  0.4539320766925812\n",
      "Loss at epoch  152  is  0.4539228677749634\n",
      "Loss at epoch  153  is  0.4539140462875366\n",
      "Loss at epoch  154  is  0.45390549302101135\n",
      "Loss at epoch  155  is  0.4538971781730652\n",
      "Loss at epoch  156  is  0.4538891315460205\n",
      "Loss at epoch  157  is  0.45388126373291016\n",
      "Loss at epoch  158  is  0.4538736343383789\n",
      "Loss at epoch  159  is  0.45386621356010437\n",
      "Loss at epoch  160  is  0.4538589119911194\n",
      "Loss at epoch  161  is  0.4538517892360687\n",
      "Loss at epoch  162  is  0.4538448452949524\n",
      "Loss at epoch  163  is  0.453838050365448\n",
      "Loss at epoch  164  is  0.45383137464523315\n",
      "Loss at epoch  165  is  0.45382481813430786\n",
      "Loss at epoch  166  is  0.4538183808326721\n",
      "Loss at epoch  167  is  0.4538120627403259\n",
      "Loss at epoch  168  is  0.4538058638572693\n",
      "Loss at epoch  169  is  0.45386505126953125\n",
      "Loss at epoch  170  is  0.45390406250953674\n",
      "Loss at epoch  171  is  0.45389431715011597\n",
      "Loss at epoch  172  is  0.45388489961624146\n",
      "Loss at epoch  173  is  0.45387589931488037\n",
      "Loss at epoch  174  is  0.453867107629776\n",
      "Loss at epoch  175  is  0.4538586437702179\n",
      "Loss at epoch  176  is  0.4538503885269165\n",
      "Loss at epoch  177  is  0.4538423717021942\n",
      "Loss at epoch  178  is  0.453834593296051\n",
      "Loss at epoch  179  is  0.45382702350616455\n",
      "Loss at epoch  180  is  0.4538196623325348\n",
      "Loss at epoch  181  is  0.4538124203681946\n",
      "Loss at epoch  182  is  0.4538053870201111\n",
      "Loss at epoch  183  is  0.4537985026836395\n",
      "Loss at epoch  184  is  0.4537917375564575\n",
      "Loss at epoch  185  is  0.45378512144088745\n",
      "Loss at epoch  186  is  0.45377862453460693\n",
      "Loss at epoch  187  is  0.4537722170352936\n",
      "Loss at epoch  188  is  0.45376598834991455\n",
      "Loss at epoch  189  is  0.4537598490715027\n",
      "Loss at epoch  190  is  0.453753799200058\n",
      "Loss at epoch  191  is  0.45374783873558044\n",
      "Loss at epoch  192  is  0.45374199748039246\n",
      "Loss at epoch  193  is  0.45373618602752686\n",
      "Loss at epoch  194  is  0.4537305235862732\n",
      "Loss at epoch  195  is  0.4537249207496643\n",
      "Loss at epoch  196  is  0.4537193477153778\n",
      "Loss at epoch  197  is  0.45371389389038086\n",
      "Loss at epoch  198  is  0.4537084996700287\n",
      "Loss at epoch  199  is  0.4537031650543213\n",
      "Loss at epoch  200  is  0.45369789004325867\n",
      "Loss at epoch  201  is  0.4536926746368408\n",
      "Loss at epoch  202  is  0.45368751883506775\n",
      "Loss at epoch  203  is  0.45368650555610657\n",
      "Loss at epoch  204  is  0.45372435450553894\n",
      "Loss at epoch  205  is  0.45371806621551514\n",
      "Loss at epoch  206  is  0.45371195673942566\n",
      "Loss at epoch  207  is  0.45370593667030334\n",
      "Loss at epoch  208  is  0.4537000060081482\n",
      "Loss at epoch  209  is  0.4536941647529602\n",
      "Loss at epoch  210  is  0.45368844270706177\n",
      "Loss at epoch  211  is  0.4536828100681305\n",
      "Loss at epoch  212  is  0.453677237033844\n",
      "Loss at epoch  213  is  0.45367172360420227\n",
      "Loss at epoch  214  is  0.4536663293838501\n",
      "Loss at epoch  215  is  0.4536609947681427\n",
      "Loss at epoch  216  is  0.45365574955940247\n"
     ]
    },
    {
     "name": "stdout",
     "output_type": "stream",
     "text": [
      "Loss at epoch  217  is  0.4536505341529846\n",
      "Loss at epoch  218  is  0.45364534854888916\n",
      "Loss at epoch  219  is  0.45364028215408325\n",
      "Loss at epoch  220  is  0.45363524556159973\n",
      "Loss at epoch  221  is  0.453630268573761\n",
      "Loss at epoch  222  is  0.45362532138824463\n",
      "Loss at epoch  223  is  0.45362046360969543\n",
      "Loss at epoch  224  is  0.45361560583114624\n",
      "Loss at epoch  225  is  0.4536108076572418\n",
      "Loss at epoch  226  is  0.4536060690879822\n",
      "Loss at epoch  227  is  0.4536013603210449\n",
      "Loss at epoch  228  is  0.45359671115875244\n",
      "Loss at epoch  229  is  0.45359206199645996\n",
      "Loss at epoch  230  is  0.45358750224113464\n",
      "Loss at epoch  231  is  0.45358291268348694\n",
      "Loss at epoch  232  is  0.4535784125328064\n",
      "Loss at epoch  233  is  0.45357391238212585\n",
      "Loss at epoch  234  is  0.4535694420337677\n",
      "Loss at epoch  235  is  0.4535650312900543\n",
      "Loss at epoch  236  is  0.45356065034866333\n",
      "Loss at epoch  237  is  0.4535609185695648\n",
      "Loss at epoch  238  is  0.45356911420822144\n",
      "Loss at epoch  239  is  0.45356446504592896\n",
      "Loss at epoch  240  is  0.4535598158836365\n",
      "Loss at epoch  241  is  0.4535551965236664\n",
      "Loss at epoch  242  is  0.4535592794418335\n",
      "Loss at epoch  243  is  0.4536098837852478\n",
      "Loss at epoch  244  is  0.45360344648361206\n",
      "Loss at epoch  245  is  0.4535970985889435\n",
      "Loss at epoch  246  is  0.45359092950820923\n",
      "Loss at epoch  247  is  0.4535849094390869\n",
      "Loss at epoch  248  is  0.45357903838157654\n",
      "Loss at epoch  249  is  0.4535732567310333\n",
      "Loss at epoch  250  is  0.4535675644874573\n",
      "Loss at epoch  251  is  0.4535619616508484\n",
      "Loss at epoch  252  is  0.45355653762817383\n",
      "Loss at epoch  253  is  0.45355114340782166\n",
      "Loss at epoch  254  is  0.45354583859443665\n",
      "Loss at epoch  255  is  0.4535406231880188\n",
      "Loss at epoch  256  is  0.4535354971885681\n",
      "Loss at epoch  257  is  0.4535304307937622\n",
      "Loss at epoch  258  is  0.4535254240036011\n",
      "Loss at epoch  259  is  0.4535205066204071\n",
      "Loss at epoch  260  is  0.4535156488418579\n",
      "Loss at epoch  261  is  0.4535108208656311\n",
      "Loss at epoch  262  is  0.4535060524940491\n",
      "Loss at epoch  263  is  0.4535013735294342\n",
      "Loss at epoch  264  is  0.45349666476249695\n",
      "Loss at epoch  265  is  0.45349210500717163\n",
      "Loss at epoch  266  is  0.4534875154495239\n",
      "Loss at epoch  267  is  0.4534830152988434\n",
      "Loss at epoch  268  is  0.45347851514816284\n",
      "Loss at epoch  269  is  0.45347410440444946\n",
      "Loss at epoch  270  is  0.4534696936607361\n",
      "Loss at epoch  271  is  0.4534653127193451\n",
      "Loss at epoch  272  is  0.4534609913825989\n",
      "Loss at epoch  273  is  0.45345669984817505\n",
      "Loss at epoch  274  is  0.4534524381160736\n",
      "Loss at epoch  275  is  0.45344826579093933\n",
      "Loss at epoch  276  is  0.4534440040588379\n",
      "Loss at epoch  277  is  0.453439861536026\n",
      "Loss at epoch  278  is  0.4534357190132141\n",
      "Loss at epoch  279  is  0.4534316062927246\n",
      "Loss at epoch  280  is  0.4534275233745575\n",
      "Loss at epoch  281  is  0.4534234404563904\n",
      "Loss at epoch  282  is  0.45343372225761414\n",
      "Loss at epoch  283  is  0.4534512162208557\n",
      "Loss at epoch  284  is  0.4534465968608856\n",
      "Loss at epoch  285  is  0.4534420073032379\n",
      "Loss at epoch  286  is  0.4534374475479126\n",
      "Loss at epoch  287  is  0.45343297719955444\n",
      "Loss at epoch  288  is  0.4534285366535187\n",
      "Loss at epoch  289  is  0.4534240961074829\n",
      "Loss at epoch  290  is  0.4534197151660919\n",
      "Loss at epoch  291  is  0.4534153938293457\n",
      "Loss at epoch  292  is  0.4534110724925995\n",
      "Loss at epoch  293  is  0.45340684056282043\n",
      "Loss at epoch  294  is  0.453402578830719\n",
      "Loss at epoch  295  is  0.4533984065055847\n",
      "Loss at epoch  296  is  0.45339420437812805\n",
      "Loss at epoch  297  is  0.45339009165763855\n",
      "Loss at epoch  298  is  0.45338597893714905\n",
      "Loss at epoch  299  is  0.45338189601898193\n",
      "Loss at epoch  300  is  0.4533778727054596\n",
      "Loss at epoch  301  is  0.45337381958961487\n",
      "Loss at epoch  302  is  0.4533698260784149\n",
      "Loss at epoch  303  is  0.45336586236953735\n",
      "Loss at epoch  304  is  0.4533618986606598\n",
      "Loss at epoch  305  is  0.4533579647541046\n",
      "Loss at epoch  306  is  0.4533540606498718\n",
      "Loss at epoch  307  is  0.45335015654563904\n",
      "Loss at epoch  308  is  0.45334628224372864\n",
      "Loss at epoch  309  is  0.4533424377441406\n",
      "Loss at epoch  310  is  0.453338623046875\n",
      "Loss at epoch  311  is  0.4533386826515198\n",
      "Loss at epoch  312  is  0.45393943786621094\n",
      "Loss at epoch  313  is  0.45338064432144165\n",
      "Loss at epoch  314  is  0.45337626338005066\n",
      "Loss at epoch  315  is  0.45337194204330444\n",
      "Loss at epoch  316  is  0.453367680311203\n",
      "Loss at epoch  317  is  0.45336341857910156\n",
      "Loss at epoch  318  is  0.4533591866493225\n",
      "Loss at epoch  319  is  0.45335501432418823\n",
      "Loss at epoch  320  is  0.45335087180137634\n",
      "Loss at epoch  321  is  0.45334672927856445\n",
      "Loss at epoch  322  is  0.45334261655807495\n",
      "Loss at epoch  323  is  0.4533385932445526\n",
      "Loss at epoch  324  is  0.4533345401287079\n",
      "Loss at epoch  325  is  0.45333054661750793\n",
      "Loss at epoch  326  is  0.453326553106308\n",
      "Loss at epoch  327  is  0.4533225893974304\n",
      "Loss at epoch  328  is  0.45331868529319763\n",
      "Loss at epoch  329  is  0.45331478118896484\n",
      "Loss at epoch  330  is  0.45331084728240967\n",
      "Loss at epoch  331  is  0.45330697298049927\n",
      "Loss at epoch  332  is  0.45330315828323364\n",
      "Loss at epoch  333  is  0.453299343585968\n",
      "Loss at epoch  334  is  0.4532955288887024\n",
      "Loss at epoch  335  is  0.45331114530563354\n",
      "Loss at epoch  336  is  0.45332568883895874\n",
      "Loss at epoch  337  is  0.453321248292923\n",
      "Loss at epoch  338  is  0.4533168375492096\n",
      "Loss at epoch  339  is  0.4533125162124634\n",
      "Loss at epoch  340  is  0.45330819487571716\n",
      "Loss at epoch  341  is  0.45330390334129333\n",
      "Loss at epoch  342  is  0.45329973101615906\n",
      "Loss at epoch  343  is  0.45329549908638\n",
      "Loss at epoch  344  is  0.4532913565635681\n",
      "Loss at epoch  345  is  0.4532872438430786\n",
      "Loss at epoch  346  is  0.4532831907272339\n",
      "Loss at epoch  347  is  0.4532791078090668\n",
      "Loss at epoch  348  is  0.4532751142978668\n",
      "Loss at epoch  349  is  0.4532710909843445\n",
      "Loss at epoch  350  is  0.4532671570777893\n",
      "Loss at epoch  351  is  0.45326319336891174\n",
      "Loss at epoch  352  is  0.45325931906700134\n",
      "Loss at epoch  353  is  0.45325541496276855\n",
      "Loss at epoch  354  is  0.45325157046318054\n",
      "Loss at epoch  355  is  0.4532477557659149\n",
      "Loss at epoch  356  is  0.4532439410686493\n",
      "Loss at epoch  357  is  0.45324012637138367\n",
      "Loss at epoch  358  is  0.4532363712787628\n",
      "Loss at epoch  359  is  0.45323261618614197\n",
      "Loss at epoch  360  is  0.4532288908958435\n",
      "Loss at epoch  361  is  0.45322519540786743\n",
      "Loss at epoch  362  is  0.45322149991989136\n",
      "Loss at epoch  363  is  0.45321783423423767\n",
      "Loss at epoch  364  is  0.453214168548584\n",
      "Loss at epoch  365  is  0.4532105624675751\n",
      "Loss at epoch  366  is  0.4532068967819214\n",
      "Loss at epoch  367  is  0.4532032907009125\n",
      "Loss at epoch  368  is  0.45319974422454834\n",
      "Loss at epoch  369  is  0.4531961679458618\n",
      "Loss at epoch  370  is  0.4531926214694977\n",
      "Loss at epoch  371  is  0.45318904519081116\n",
      "Loss at epoch  372  is  0.4531855583190918\n",
      "Loss at epoch  373  is  0.45318204164505005\n",
      "Loss at epoch  374  is  0.4532013535499573\n",
      "Loss at epoch  375  is  0.4532248377799988\n",
      "Loss at epoch  376  is  0.453220397233963\n",
      "Loss at epoch  377  is  0.453216016292572\n",
      "Loss at epoch  378  is  0.4532116651535034\n",
      "Loss at epoch  379  is  0.453207403421402\n",
      "Loss at epoch  380  is  0.45320314168930054\n",
      "Loss at epoch  381  is  0.45319893956184387\n",
      "Loss at epoch  382  is  0.453194797039032\n",
      "Loss at epoch  383  is  0.4531906843185425\n",
      "Loss at epoch  384  is  0.45318663120269775\n",
      "Loss at epoch  385  is  0.453182578086853\n",
      "Loss at epoch  386  is  0.4531785547733307\n",
      "Loss at epoch  387  is  0.4531745910644531\n",
      "Loss at epoch  388  is  0.4531707167625427\n",
      "Loss at epoch  389  is  0.45316678285598755\n",
      "Loss at epoch  390  is  0.45316287875175476\n",
      "Loss at epoch  391  is  0.45315906405448914\n",
      "Loss at epoch  392  is  0.4531552195549011\n",
      "Loss at epoch  393  is  0.4531514644622803\n",
      "Loss at epoch  394  is  0.45314767956733704\n",
      "Loss at epoch  395  is  0.4531439244747162\n",
      "Loss at epoch  396  is  0.4531402289867401\n",
      "Loss at epoch  397  is  0.45313653349876404\n",
      "Loss at epoch  398  is  0.45313286781311035\n",
      "Loss at epoch  399  is  0.45312920212745667\n",
      "Loss at epoch  400  is  0.45312556624412537\n",
      "Loss at epoch  401  is  0.45312198996543884\n",
      "Loss at epoch  402  is  0.4531184136867523\n",
      "Loss at epoch  403  is  0.4531148672103882\n",
      "Loss at epoch  404  is  0.4531112611293793\n",
      "Loss at epoch  405  is  0.45310771465301514\n",
      "Loss at epoch  406  is  0.4531042277812958\n",
      "Loss at epoch  407  is  0.45312386751174927\n",
      "Loss at epoch  408  is  0.45317530632019043\n",
      "Loss at epoch  409  is  0.45317038893699646\n",
      "Loss at epoch  410  is  0.45316553115844727\n",
      "Loss at epoch  411  is  0.45316076278686523\n",
      "Loss at epoch  412  is  0.453156054019928\n",
      "Loss at epoch  413  is  0.4531514346599579\n",
      "Loss at epoch  414  is  0.4531468451023102\n",
      "Loss at epoch  415  is  0.453142374753952\n",
      "Loss at epoch  416  is  0.45313790440559387\n",
      "Loss at epoch  417  is  0.45313355326652527\n",
      "Loss at epoch  418  is  0.45312923192977905\n",
      "Loss at epoch  419  is  0.4531249403953552\n",
      "Loss at epoch  420  is  0.4531206786632538\n",
      "Loss at epoch  421  is  0.4531164765357971\n",
      "Loss at epoch  422  is  0.45311233401298523\n",
      "Loss at epoch  423  is  0.4531082510948181\n",
      "Loss at epoch  424  is  0.4531041979789734\n",
      "Loss at epoch  425  is  0.45310017466545105\n",
      "Loss at epoch  426  is  0.4530961513519287\n",
      "Loss at epoch  427  is  0.4530922472476959\n",
      "Loss at epoch  428  is  0.45308831334114075\n"
     ]
    },
    {
     "name": "stdout",
     "output_type": "stream",
     "text": [
      "Loss at epoch  429  is  0.45308443903923035\n",
      "Loss at epoch  430  is  0.4530806243419647\n",
      "Loss at epoch  431  is  0.4530767798423767\n",
      "Loss at epoch  432  is  0.45307299494743347\n",
      "Loss at epoch  433  is  0.453069269657135\n",
      "Loss at epoch  434  is  0.45306554436683655\n",
      "Loss at epoch  435  is  0.4530618190765381\n",
      "Loss at epoch  436  is  0.4530581533908844\n",
      "Loss at epoch  437  is  0.4530544877052307\n",
      "Loss at epoch  438  is  0.4530508816242218\n",
      "Loss at epoch  439  is  0.4530472755432129\n",
      "Loss at epoch  440  is  0.453043669462204\n",
      "Loss at epoch  441  is  0.45304012298583984\n",
      "Loss at epoch  442  is  0.4530365467071533\n",
      "Loss at epoch  443  is  0.45303305983543396\n",
      "Loss at epoch  444  is  0.4530295431613922\n",
      "Loss at epoch  445  is  0.45302605628967285\n",
      "Loss at epoch  446  is  0.4530225992202759\n",
      "Loss at epoch  447  is  0.4530191719532013\n",
      "Loss at epoch  448  is  0.4530157744884491\n",
      "Loss at epoch  449  is  0.4530123174190521\n",
      "Loss at epoch  450  is  0.4530089199542999\n",
      "Loss at epoch  451  is  0.4530055522918701\n",
      "Loss at epoch  452  is  0.4530021846294403\n",
      "Loss at epoch  453  is  0.4529988467693329\n",
      "Loss at epoch  454  is  0.45299553871154785\n",
      "Loss at epoch  455  is  0.45299217104911804\n",
      "Loss at epoch  456  is  0.452988862991333\n",
      "Loss at epoch  457  is  0.45298561453819275\n",
      "Loss at epoch  458  is  0.4529823362827301\n",
      "Loss at epoch  459  is  0.45297905802726746\n",
      "Loss at epoch  460  is  0.4529758095741272\n",
      "Loss at epoch  461  is  0.45299428701400757\n",
      "Loss at epoch  462  is  0.45301175117492676\n",
      "Loss at epoch  463  is  0.45300787687301636\n",
      "Loss at epoch  464  is  0.4530039429664612\n",
      "Loss at epoch  465  is  0.45300012826919556\n",
      "Loss at epoch  466  is  0.4529963433742523\n",
      "Loss at epoch  467  is  0.45299258828163147\n",
      "Loss at epoch  468  is  0.452988862991333\n",
      "Loss at epoch  469  is  0.45298513770103455\n",
      "Loss at epoch  470  is  0.45298147201538086\n",
      "Loss at epoch  471  is  0.4529778063297272\n",
      "Loss at epoch  472  is  0.45297423005104065\n",
      "Loss at epoch  473  is  0.45297059416770935\n",
      "Loss at epoch  474  is  0.4529670178890228\n",
      "Loss at epoch  475  is  0.4529634714126587\n",
      "Loss at epoch  476  is  0.45295995473861694\n",
      "Loss at epoch  477  is  0.4529564678668976\n",
      "Loss at epoch  478  is  0.4529530107975006\n",
      "Loss at epoch  479  is  0.45294955372810364\n",
      "Loss at epoch  480  is  0.45294612646102905\n",
      "Loss at epoch  481  is  0.45294269919395447\n",
      "Loss at epoch  482  is  0.45293930172920227\n",
      "Loss at epoch  483  is  0.45293915271759033\n",
      "Loss at epoch  484  is  0.45294636487960815\n",
      "Loss at epoch  485  is  0.45294296741485596\n",
      "Loss at epoch  486  is  0.45293959975242615\n",
      "Loss at epoch  487  is  0.4529362916946411\n",
      "Loss at epoch  488  is  0.4529329240322113\n",
      "Loss at epoch  489  is  0.45292964577674866\n",
      "Loss at epoch  490  is  0.452926367521286\n",
      "Loss at epoch  491  is  0.452923059463501\n",
      "Loss at epoch  492  is  0.4529198110103607\n",
      "Loss at epoch  493  is  0.4529165029525757\n",
      "Loss at epoch  494  is  0.4529132843017578\n",
      "Loss at epoch  495  is  0.45291006565093994\n",
      "Loss at epoch  496  is  0.4529068171977997\n",
      "Loss at epoch  497  is  0.4529036283493042\n",
      "Loss at epoch  498  is  0.4529004395008087\n",
      "Loss at epoch  499  is  0.4528972804546356\n",
      "Loss at epoch  500  is  0.45289409160614014\n",
      "Loss at epoch  501  is  0.45289093255996704\n",
      "Loss at epoch  502  is  0.45288780331611633\n",
      "Loss at epoch  503  is  0.4528846740722656\n",
      "Loss at epoch  504  is  0.4528815448284149\n",
      "Loss at epoch  505  is  0.4528784155845642\n",
      "Loss at epoch  506  is  0.4528753459453583\n",
      "Loss at epoch  507  is  0.45287221670150757\n",
      "Loss at epoch  508  is  0.45286914706230164\n",
      "Loss at epoch  509  is  0.4528660774230957\n",
      "Loss at epoch  510  is  0.45286300778388977\n",
      "Loss at epoch  511  is  0.4528599679470062\n",
      "Loss at epoch  512  is  0.4528568983078003\n",
      "Loss at epoch  513  is  0.45285385847091675\n",
      "Loss at epoch  514  is  0.4528508484363556\n",
      "Loss at epoch  515  is  0.45284777879714966\n",
      "Loss at epoch  516  is  0.4528447985649109\n",
      "Loss at epoch  517  is  0.45284175872802734\n",
      "Loss at epoch  518  is  0.45283880829811096\n",
      "Loss at epoch  519  is  0.4528357982635498\n",
      "Loss at epoch  520  is  0.45283278822898865\n",
      "Loss at epoch  521  is  0.45282983779907227\n",
      "Loss at epoch  522  is  0.4528268873691559\n",
      "Loss at epoch  523  is  0.4528239071369171\n",
      "Loss at epoch  524  is  0.45282095670700073\n",
      "Loss at epoch  525  is  0.45281803607940674\n",
      "Loss at epoch  526  is  0.4528251886367798\n",
      "Loss at epoch  527  is  0.4530923366546631\n",
      "Loss at epoch  528  is  0.4549764394760132\n",
      "Loss at epoch  529  is  0.46085304021835327\n",
      "Loss at epoch  530  is  0.45303940773010254\n",
      "Loss at epoch  531  is  0.452950656414032\n",
      "Loss at epoch  532  is  0.45294514298439026\n",
      "Loss at epoch  533  is  0.4529397487640381\n",
      "Loss at epoch  534  is  0.45293447375297546\n",
      "Loss at epoch  535  is  0.4529293477535248\n",
      "Loss at epoch  536  is  0.45292434096336365\n",
      "Loss at epoch  537  is  0.4529193937778473\n",
      "Loss at epoch  538  is  0.4529145359992981\n",
      "Loss at epoch  539  is  0.4529098570346832\n",
      "Loss at epoch  540  is  0.45290517807006836\n",
      "Loss at epoch  541  is  0.45290058851242065\n",
      "Loss at epoch  542  is  0.4528961181640625\n",
      "Loss at epoch  543  is  0.4528917372226715\n",
      "Loss at epoch  544  is  0.4528873860836029\n",
      "Loss at epoch  545  is  0.45288315415382385\n",
      "Loss at epoch  546  is  0.4528789222240448\n",
      "Loss at epoch  547  is  0.4528747797012329\n",
      "Loss at epoch  548  is  0.4528706669807434\n",
      "Loss at epoch  549  is  0.45286664366722107\n",
      "Loss at epoch  550  is  0.4528626799583435\n",
      "Loss at epoch  551  is  0.45285874605178833\n",
      "Loss at epoch  552  is  0.45285487174987793\n",
      "Loss at epoch  553  is  0.4528510570526123\n",
      "Loss at epoch  554  is  0.4528472423553467\n",
      "Loss at epoch  555  is  0.45284348726272583\n",
      "Loss at epoch  556  is  0.45283979177474976\n",
      "Loss at epoch  557  is  0.4528360962867737\n",
      "Loss at epoch  558  is  0.4528324604034424\n",
      "Loss at epoch  559  is  0.45282888412475586\n",
      "Loss at epoch  560  is  0.45282527804374695\n",
      "Loss at epoch  561  is  0.4528217911720276\n",
      "Loss at epoch  562  is  0.45281827449798584\n",
      "Loss at epoch  563  is  0.45281481742858887\n",
      "Loss at epoch  564  is  0.4528113603591919\n",
      "Loss at epoch  565  is  0.4528079330921173\n",
      "Loss at epoch  566  is  0.4528045356273651\n",
      "Loss at epoch  567  is  0.4528011977672577\n",
      "Loss at epoch  568  is  0.45279785990715027\n",
      "Loss at epoch  569  is  0.45280951261520386\n",
      "Loss at epoch  570  is  0.45284131169319153\n",
      "Loss at epoch  571  is  0.45283693075180054\n",
      "Loss at epoch  572  is  0.4528326392173767\n",
      "Loss at epoch  573  is  0.45282846689224243\n",
      "Loss at epoch  574  is  0.45282429456710815\n",
      "Loss at epoch  575  is  0.4528202414512634\n",
      "Loss at epoch  576  is  0.4528162181377411\n",
      "Loss at epoch  577  is  0.45281222462654114\n",
      "Loss at epoch  578  is  0.45280832052230835\n",
      "Loss at epoch  579  is  0.45280441641807556\n",
      "Loss at epoch  580  is  0.4528006315231323\n",
      "Loss at epoch  581  is  0.4527968466281891\n",
      "Loss at epoch  582  is  0.4527931213378906\n",
      "Loss at epoch  583  is  0.45278945565223694\n",
      "Loss at epoch  584  is  0.45278578996658325\n",
      "Loss at epoch  585  is  0.45278218388557434\n",
      "Loss at epoch  586  is  0.45277857780456543\n",
      "Loss at epoch  587  is  0.4527750611305237\n",
      "Loss at epoch  588  is  0.45277154445648193\n",
      "Loss at epoch  589  is  0.45276811718940735\n",
      "Loss at epoch  590  is  0.452764630317688\n",
      "Loss at epoch  591  is  0.4527612328529358\n",
      "Loss at epoch  592  is  0.452757865190506\n",
      "Loss at epoch  593  is  0.4527544677257538\n",
      "Loss at epoch  594  is  0.45275115966796875\n",
      "Loss at epoch  595  is  0.4527478516101837\n",
      "Loss at epoch  596  is  0.45274457335472107\n",
      "Loss at epoch  597  is  0.4527413249015808\n",
      "Loss at epoch  598  is  0.45273804664611816\n",
      "Loss at epoch  599  is  0.4527348577976227\n",
      "Loss at epoch  600  is  0.4527316689491272\n",
      "Loss at epoch  601  is  0.4527284801006317\n",
      "Loss at epoch  602  is  0.452725350856781\n",
      "Loss at epoch  603  is  0.4527222216129303\n",
      "Loss at epoch  604  is  0.452719122171402\n",
      "Loss at epoch  605  is  0.45271602272987366\n",
      "Loss at epoch  606  is  0.4527129530906677\n",
      "Loss at epoch  607  is  0.4527098834514618\n",
      "Loss at epoch  608  is  0.45270681381225586\n",
      "Loss at epoch  609  is  0.4527037739753723\n",
      "Loss at epoch  610  is  0.45270079374313354\n",
      "Loss at epoch  611  is  0.4527101516723633\n",
      "Loss at epoch  612  is  0.4527195394039154\n",
      "Loss at epoch  613  is  0.4527163505554199\n",
      "Loss at epoch  614  is  0.4527131915092468\n",
      "Loss at epoch  615  is  0.45271003246307373\n",
      "Loss at epoch  616  is  0.45270687341690063\n",
      "Loss at epoch  617  is  0.4527037441730499\n",
      "Loss at epoch  618  is  0.4527006447315216\n",
      "Loss at epoch  619  is  0.45269760489463806\n",
      "Loss at epoch  620  is  0.45269453525543213\n"
     ]
    }
   ],
   "source": [
    "sine_model = model_fitter(num_nodes, dims_array, triples, triples0, delta, delta0,\n",
    "                                   batch_size, batch_size0, epochs + 20, lr=lr, lr_decay=lr_decay,\n",
    "                                  lam=lam, p=p, p0=True)"
   ]
  },
  {
   "cell_type": "code",
   "execution_count": 81,
   "metadata": {
    "collapsed": true
   },
   "outputs": [],
   "source": [
    "clf2 = cluster.KMeans(n_clusters=3)\n",
    "all_embeddings2 = sine_model.get_all_weights()\n",
    "viable_embeddings2 = all_embeddings2[1:,:].astype(np.float64)\n",
    "labels2 = clf2.fit_predict(viable_embeddings2)"
   ]
  },
  {
   "cell_type": "code",
   "execution_count": 82,
   "metadata": {},
   "outputs": [
    {
     "data": {
      "text/plain": [
       "1.0"
      ]
     },
     "execution_count": 82,
     "metadata": {},
     "output_type": "execute_result"
    }
   ],
   "source": [
    "normalized_mutual_info_score(correct_labels, labels2)"
   ]
  },
  {
   "cell_type": "code",
   "execution_count": 83,
   "metadata": {},
   "outputs": [
    {
     "data": {
      "text/plain": [
       "array([0, 0, 0, 0, 1, 1, 1, 1, 2, 1, 1, 2, 2, 1, 2, 2], dtype=int32)"
      ]
     },
     "execution_count": 83,
     "metadata": {},
     "output_type": "execute_result"
    }
   ],
   "source": [
    "labels2"
   ]
  },
  {
   "cell_type": "code",
   "execution_count": 84,
   "metadata": {},
   "outputs": [
    {
     "data": {
      "text/plain": [
       "array([0, 0, 0, 0, 1, 1, 1, 1, 2, 1, 1, 2, 2, 1, 2, 2])"
      ]
     },
     "execution_count": 84,
     "metadata": {},
     "output_type": "execute_result"
    }
   ],
   "source": [
    "correct_labels"
   ]
  },
  {
   "cell_type": "code",
   "execution_count": 85,
   "metadata": {},
   "outputs": [
    {
     "name": "stderr",
     "output_type": "stream",
     "text": [
      "/Users/inzamamrahaman/anaconda3/lib/python3.6/site-packages/sklearn/manifold/mds.py:411: UserWarning: The MDS API has changed. ``fit`` now constructs an dissimilarity matrix from data. To use a custom dissimilarity matrix, set ``dissimilarity='precomputed'``.\n",
      "  warnings.warn(\"The MDS API has changed. ``fit`` now constructs an\"\n"
     ]
    }
   ],
   "source": [
    "mds2 = MDS(n_components=2)\n",
    "projections2 = mds2.fit_transform(viable_embeddings2)"
   ]
  },
  {
   "cell_type": "code",
   "execution_count": 86,
   "metadata": {},
   "outputs": [
    {
     "data": {
      "text/plain": [
       "array([[-0.39228019, -0.32264848],\n",
       "       [-0.4087061 , -0.34238395],\n",
       "       [-0.41682206, -0.32060146],\n",
       "       [-0.37227374, -0.38004027],\n",
       "       [ 0.22731926,  0.24207512],\n",
       "       [ 0.0514199 ,  0.32551883],\n",
       "       [ 0.26079585,  0.19330893],\n",
       "       [ 0.23070361,  0.28130595],\n",
       "       [ 0.17062233, -0.19236194],\n",
       "       [ 0.16734214,  0.21810244],\n",
       "       [ 0.21079689,  0.22736243],\n",
       "       [-0.01200108, -0.01659126],\n",
       "       [-0.02762999, -0.02402832],\n",
       "       [ 0.2636853 ,  0.22069616],\n",
       "       [ 0.0891099 , -0.11960638],\n",
       "       [-0.04208204,  0.00989218]])"
      ]
     },
     "execution_count": 86,
     "metadata": {},
     "output_type": "execute_result"
    }
   ],
   "source": [
    "projections2"
   ]
  },
  {
   "cell_type": "code",
   "execution_count": 87,
   "metadata": {},
   "outputs": [
    {
     "data": {
      "image/png": "[encoded data removed]",
      "text/plain": [
       "<matplotlib.figure.Figure at 0x1c1c1c8be0>"
      ]
     },
     "metadata": {},
     "output_type": "display_data"
    }
   ],
   "source": [
    "font_dict = fontdict={'fontsize': 20,\n",
    " 'fontweight' : rcParams['axes.titleweight'],\n",
    " 'verticalalignment': 'baseline'}\n",
    "\n",
    "ax.set_xlabel('component1', fontdict=font_dict)\n",
    "ax.set_ylabel('component2', fontdict=font_dict)\n",
    "#ax.legend(prop={'size': font_dict['fontsize']})\n",
    "ax.grid(True)\n",
    "fig, ax = plt.subplots()\n",
    "ax.scatter(projections2[:,0], projections2[:,1], c=colors)\n",
    "# for i,_ in enumerate(colors):\n",
    "#     s = int(data.id_assigner.id2object(i + 1))\n",
    "#     ax.annotate(s, (float(projections2[i, 0]), float(projections2[i, 1])))\n",
    "fig.savefig('Tribes-SiNE.png')"
   ]
  },
  {
   "cell_type": "code",
   "execution_count": 34,
   "metadata": {},
   "outputs": [
    {
     "name": "stdout",
     "output_type": "stream",
     "text": [
      "SVD error (low rank): 0.027559\n"
     ]
    }
   ],
   "source": [
    "hope_model = models.fit_hope(dims, data.X, directed=False)"
   ]
  },
  {
   "cell_type": "code",
   "execution_count": 35,
   "metadata": {
    "collapsed": true
   },
   "outputs": [],
   "source": [
    "all_embeddings3 = hope_model.get_all_weights()"
   ]
  },
  {
   "cell_type": "code",
   "execution_count": 40,
   "metadata": {
    "collapsed": true
   },
   "outputs": [],
   "source": [
    "clf3 = cluster.KMeans(n_clusters=3)\n",
    "viable_embeddings3 = all_embeddings3\n",
    "labels3 = clf3.fit_predict(viable_embeddings3)"
   ]
  },
  {
   "cell_type": "code",
   "execution_count": 41,
   "metadata": {},
   "outputs": [
    {
     "data": {
      "text/plain": [
       "0.14656852561320027"
      ]
     },
     "execution_count": 41,
     "metadata": {},
     "output_type": "execute_result"
    }
   ],
   "source": [
    "normalized_mutual_info_score(correct_labels, labels3)"
   ]
  },
  {
   "cell_type": "code",
   "execution_count": 43,
   "metadata": {},
   "outputs": [
    {
     "name": "stderr",
     "output_type": "stream",
     "text": [
      "/Users/inzamamrahaman/anaconda3/lib/python3.6/site-packages/sklearn/manifold/mds.py:411: UserWarning: The MDS API has changed. ``fit`` now constructs an dissimilarity matrix from data. To use a custom dissimilarity matrix, set ``dissimilarity='precomputed'``.\n",
      "  warnings.warn(\"The MDS API has changed. ``fit`` now constructs an\"\n"
     ]
    }
   ],
   "source": [
    "mds3 = MDS(n_components=2)\n",
    "projections3 = mds3.fit_transform(viable_embeddings3)"
   ]
  },
  {
   "cell_type": "code",
   "execution_count": 44,
   "metadata": {},
   "outputs": [
    {
     "data": {
      "text/plain": [
       "array([[-0.17978805,  0.04811187],\n",
       "       [-0.0872143 ,  0.16555319],\n",
       "       [ 0.07553115,  0.09264095],\n",
       "       [ 0.04156812, -0.02088484],\n",
       "       [-0.14911723, -0.07295552],\n",
       "       [-0.08788567,  0.08097569],\n",
       "       [-0.00910938,  0.10167321],\n",
       "       [-0.04184588, -0.09852043],\n",
       "       [-0.09868159, -0.02951219],\n",
       "       [ 0.07591886,  0.14945148],\n",
       "       [-0.0697521 , -0.18109432],\n",
       "       [ 0.1387922 , -0.03084327],\n",
       "       [ 0.08647515,  0.00497352],\n",
       "       [ 0.128694  , -0.12164165],\n",
       "       [ 0.03996331, -0.1527649 ],\n",
       "       [ 0.13645141,  0.06483722]])"
      ]
     },
     "execution_count": 44,
     "metadata": {},
     "output_type": "execute_result"
    }
   ],
   "source": [
    "projections3"
   ]
  },
  {
   "cell_type": "code",
   "execution_count": 45,
   "metadata": {},
   "outputs": [
    {
     "data": {
      "image/png": "[encoded data removed]",
      "text/plain": [
       "<matplotlib.figure.Figure at 0x1a20817588>"
      ]
     },
     "metadata": {},
     "output_type": "display_data"
    }
   ],
   "source": [
    "font_dict = fontdict={'fontsize': 20,\n",
    " 'fontweight' : rcParams['axes.titleweight'],\n",
    " 'verticalalignment': 'baseline'}\n",
    "\n",
    "ax.set_xlabel('component1', fontdict=font_dict)\n",
    "ax.set_ylabel('component2', fontdict=font_dict)\n",
    "#ax.legend(prop={'size': font_dict['fontsize']})\n",
    "ax.grid(True)\n",
    "fig, ax = plt.subplots()\n",
    "ax.scatter(projections3[:,0], projections3[:,1], c=colors)\n",
    "for i,_ in enumerate(colors):\n",
    "    s = int(data.id_assigner.id2object(i + 1))\n",
    "    ax.annotate(s, (float(projections3[i, 0]), float(projections3[i, 1])))\n",
    "fig.savefig('Tribes-HOPE.png')"
   ]
  },
  {
   "cell_type": "code",
   "execution_count": null,
   "metadata": {
    "collapsed": true
   },
   "outputs": [],
   "source": []
  }
 ],
 "metadata": {
  "kernelspec": {
   "display_name": "Python 3",
   "language": "python",
   "name": "python3"
  },
  "language_info": {
   "codemirror_mode": {
    "name": "ipython",
    "version": 3
   },
   "file_extension": ".py",
   "mimetype": "text/x-python",
   "name": "python",
   "nbconvert_exporter": "python",
   "pygments_lexer": "ipython3",
   "version": "3.6.3"
  }
 },
 "nbformat": 4,
 "nbformat_minor": 2
}
