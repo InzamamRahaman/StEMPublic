{
 "cells": [
  {
   "cell_type": "code",
   "execution_count": 2,
   "metadata": {},
   "outputs": [
    {
     "name": "stdout",
     "output_type": "stream",
     "text": [
      "Populating the interactive namespace from numpy and matplotlib\n"
     ]
    },
    {
     "name": "stderr",
     "output_type": "stream",
     "text": [
      "Using Theano backend.\n"
     ]
    }
   ],
   "source": [
    "%load_ext autoreload\n",
    "%autoreload 2\n",
    "\n",
    "%pylab inline\n",
    "\n",
    "import dataloaders\n",
    "import models\n",
    "import sklearn.linear_model as linear_model\n",
    "import sklearn.metrics as metrics \n",
    "import sklearn.cluster as cluster\n",
    "import numpy as np \n",
    "import random\n",
    "import classifiers\n",
    "from torch.autograd import Variable\n",
    "import torch\n",
    "import torch.nn as nn \n",
    "import torch.optim as optim\n",
    "import util\n",
    "\n",
    "from imblearn.under_sampling import RandomUnderSampler"
   ]
  },
  {
   "cell_type": "code",
   "execution_count": 4,
   "metadata": {},
   "outputs": [
    {
     "ename": "FileNotFoundError",
     "evalue": "[Errno 2] No such file or directory: '../data/comm/soc-sign-epinions.csv-cleaned.csv'",
     "output_type": "error",
     "traceback": [
      "\u001b[0;31m---------------------------------------------------------------------------\u001b[0m",
      "\u001b[0;31mFileNotFoundError\u001b[0m                         Traceback (most recent call last)",
      "\u001b[0;32m<ipython-input-4-4d81dd6596d9>\u001b[0m in \u001b[0;36m<module>\u001b[0;34m()\u001b[0m\n\u001b[1;32m      2\u001b[0m \u001b[0medges_file\u001b[0m \u001b[0;34m=\u001b[0m \u001b[0;34mf'../data/comm/{dataset}-cleaned.csv'\u001b[0m\u001b[0;34m\u001b[0m\u001b[0m\n\u001b[1;32m      3\u001b[0m \u001b[0mclass_file\u001b[0m \u001b[0;34m=\u001b[0m \u001b[0;34mf'../data/comm/{dataset}-classes.csv'\u001b[0m\u001b[0;34m\u001b[0m\u001b[0m\n\u001b[0;32m----> 4\u001b[0;31m \u001b[0mdata\u001b[0m \u001b[0;34m=\u001b[0m \u001b[0mdataloaders\u001b[0m\u001b[0;34m.\u001b[0m\u001b[0mSenateDataset\u001b[0m\u001b[0;34m(\u001b[0m\u001b[0medges_file\u001b[0m\u001b[0;34m,\u001b[0m \u001b[0mclass_file\u001b[0m\u001b[0;34m,\u001b[0m \u001b[0mratio\u001b[0m\u001b[0;34m=\u001b[0m\u001b[0;36m0.8\u001b[0m\u001b[0;34m,\u001b[0m \u001b[0mdelimiter\u001b[0m\u001b[0;34m=\u001b[0m\u001b[0;34m','\u001b[0m\u001b[0;34m)\u001b[0m\u001b[0;34m\u001b[0m\u001b[0m\n\u001b[0m",
      "\u001b[0;32m~/Desktop/SignEmb-3985b33de9ca5751ec59cf7b3596bf12bb298a21 copy/src/dataloaders.py\u001b[0m in \u001b[0;36m__init__\u001b[0;34m(self, filepath, class_filepath, delimiter, ratio)\u001b[0m\n\u001b[1;32m    234\u001b[0m \u001b[0;32mclass\u001b[0m \u001b[0mSenateDataset\u001b[0m\u001b[0;34m(\u001b[0m\u001b[0mUnsplitDataset\u001b[0m\u001b[0;34m)\u001b[0m\u001b[0;34m:\u001b[0m\u001b[0;34m\u001b[0m\u001b[0m\n\u001b[1;32m    235\u001b[0m     \u001b[0;32mdef\u001b[0m \u001b[0m__init__\u001b[0m\u001b[0;34m(\u001b[0m\u001b[0mself\u001b[0m\u001b[0;34m,\u001b[0m \u001b[0mfilepath\u001b[0m\u001b[0;34m,\u001b[0m \u001b[0mclass_filepath\u001b[0m\u001b[0;34m,\u001b[0m \u001b[0mdelimiter\u001b[0m\u001b[0;34m=\u001b[0m\u001b[0;34m','\u001b[0m\u001b[0;34m,\u001b[0m \u001b[0mratio\u001b[0m\u001b[0;34m=\u001b[0m\u001b[0;36m0.8\u001b[0m\u001b[0;34m)\u001b[0m\u001b[0;34m:\u001b[0m\u001b[0;34m\u001b[0m\u001b[0m\n\u001b[0;32m--> 236\u001b[0;31m         \u001b[0msuper\u001b[0m\u001b[0;34m(\u001b[0m\u001b[0;34m)\u001b[0m\u001b[0;34m.\u001b[0m\u001b[0m__init__\u001b[0m\u001b[0;34m(\u001b[0m\u001b[0mfilepath\u001b[0m\u001b[0;34m=\u001b[0m\u001b[0mfilepath\u001b[0m\u001b[0;34m,\u001b[0m \u001b[0mdelimiter\u001b[0m\u001b[0;34m=\u001b[0m\u001b[0mdelimiter\u001b[0m\u001b[0;34m,\u001b[0m \u001b[0mratio\u001b[0m\u001b[0;34m=\u001b[0m\u001b[0mratio\u001b[0m\u001b[0;34m)\u001b[0m\u001b[0;34m\u001b[0m\u001b[0m\n\u001b[0m\u001b[1;32m    237\u001b[0m         \u001b[0mself\u001b[0m\u001b[0;34m.\u001b[0m\u001b[0mclasses\u001b[0m \u001b[0;34m=\u001b[0m \u001b[0mdict\u001b[0m\u001b[0;34m(\u001b[0m\u001b[0;34m)\u001b[0m\u001b[0;34m\u001b[0m\u001b[0m\n\u001b[1;32m    238\u001b[0m         \u001b[0mself\u001b[0m\u001b[0;34m.\u001b[0m\u001b[0mnodes\u001b[0m \u001b[0;34m=\u001b[0m \u001b[0;34m[\u001b[0m\u001b[0;34m]\u001b[0m\u001b[0;34m\u001b[0m\u001b[0m\n",
      "\u001b[0;32m~/Desktop/SignEmb-3985b33de9ca5751ec59cf7b3596bf12bb298a21 copy/src/dataloaders.py\u001b[0m in \u001b[0;36m__init__\u001b[0;34m(self, filepath, delimiter, ratio)\u001b[0m\n\u001b[1;32m    170\u001b[0m         \u001b[0msuper\u001b[0m\u001b[0;34m(\u001b[0m\u001b[0mDataset\u001b[0m\u001b[0;34m,\u001b[0m \u001b[0mself\u001b[0m\u001b[0;34m)\u001b[0m\u001b[0;34m.\u001b[0m\u001b[0m__init__\u001b[0m\u001b[0;34m(\u001b[0m\u001b[0;34m)\u001b[0m\u001b[0;34m\u001b[0m\u001b[0m\n\u001b[1;32m    171\u001b[0m         \u001b[0mself\u001b[0m\u001b[0;34m.\u001b[0m\u001b[0mfilepath\u001b[0m \u001b[0;34m=\u001b[0m \u001b[0mfilepath\u001b[0m\u001b[0;34m\u001b[0m\u001b[0m\n\u001b[0;32m--> 172\u001b[0;31m         \u001b[0;32mwith\u001b[0m \u001b[0mopen\u001b[0m\u001b[0;34m(\u001b[0m\u001b[0mfilepath\u001b[0m\u001b[0;34m,\u001b[0m \u001b[0;34m'r'\u001b[0m\u001b[0;34m)\u001b[0m \u001b[0;32mas\u001b[0m \u001b[0mfp\u001b[0m\u001b[0;34m:\u001b[0m\u001b[0;34m\u001b[0m\u001b[0m\n\u001b[0m\u001b[1;32m    173\u001b[0m             \u001b[0mself\u001b[0m\u001b[0;34m.\u001b[0m\u001b[0mX\u001b[0m\u001b[0;34m,\u001b[0m \u001b[0mself\u001b[0m\u001b[0;34m.\u001b[0m\u001b[0my\u001b[0m\u001b[0;34m,\u001b[0m \u001b[0mself\u001b[0m\u001b[0;34m.\u001b[0m\u001b[0mid_assigner\u001b[0m \u001b[0;34m=\u001b[0m \u001b[0mload_graph_data_as_numpy\u001b[0m\u001b[0;34m(\u001b[0m\u001b[0mfilepath\u001b[0m\u001b[0;34m,\u001b[0m \u001b[0mdelimiter\u001b[0m\u001b[0;34m)\u001b[0m\u001b[0;34m\u001b[0m\u001b[0m\n\u001b[1;32m    174\u001b[0m             self.train_X, self.test_X, self.train_y, self.test_y = train_test_split(self.X, self.y,\n",
      "\u001b[0;31mFileNotFoundError\u001b[0m: [Errno 2] No such file or directory: '../data/comm/soc-sign-epinions.csv-cleaned.csv'"
     ]
    }
   ],
   "source": [
    "dataset = 'soc-sign-epinions.csv'\n",
    "edges_file = f'../data/comm/{dataset}-cleaned.csv'\n",
    "class_file = f'../data/comm/{dataset}-classes.csv'\n",
    "data = dataloaders.SenateDataset(edges_file, class_file, ratio=0.8, delimiter=',')"
   ]
  },
  {
   "cell_type": "code",
   "execution_count": 3,
   "metadata": {
    "collapsed": true
   },
   "outputs": [],
   "source": [
    "num_nodes = data.get_num_nodes()\n",
    "dims = 16\n",
    "epochs = 400\n",
    "lr = 0.05\n",
    "lr_decay=0.0\n",
    "weight_decay=0.0\n",
    "lam = 0.000055\n",
    "X_train, y_train = data.get_training_set()\n",
    "X_test, y_test = data.get_testing_set()\n",
    "p = 2\n",
    "X = data.X\n",
    "y = data.y\n",
    "#X, y = data.get_shuffled_data()\n",
    "\n",
    "model_fitter = models.fit_pseudo_kernel_model"
   ]
  },
  {
   "cell_type": "code",
   "execution_count": 4,
   "metadata": {},
   "outputs": [
    {
     "data": {
      "text/plain": [
       "array([1, 1, 1, 0, 0, 0, 0, 0, 0, 0, 1, 1, 1, 1, 1, 1, 1, 0, 0, 0, 0, 0, 1,\n",
       "       1, 1, 0, 0, 0, 0, 0, 0, 1, 1, 1, 0, 0, 0, 0, 0, 0, 0, 0, 1, 1, 1, 1,\n",
       "       0, 1, 1, 0, 0, 0, 1, 1, 1, 1, 1, 0, 0, 1, 1, 1, 1, 1, 1, 1, 1, 1, 1,\n",
       "       1, 1, 1, 0, 0, 0, 1, 1, 1, 0, 0, 0, 0, 0, 0, 1, 1, 1, 1, 0, 0, 0, 0,\n",
       "       0, 1, 1, 1, 0, 0, 0, 0, 0, 1, 1, 1, 0, 0, 0, 1, 1, 0, 0, 0, 1, 0, 1,\n",
       "       1, 1, 0, 0, 0, 1, 1])"
      ]
     },
     "execution_count": 4,
     "metadata": {},
     "output_type": "execute_result"
    }
   ],
   "source": [
    "y"
   ]
  },
  {
   "cell_type": "code",
   "execution_count": 5,
   "metadata": {},
   "outputs": [
    {
     "data": {
      "text/plain": [
       "0.50879007238883145"
      ]
     },
     "execution_count": 5,
     "metadata": {},
     "output_type": "execute_result"
    }
   ],
   "source": [
    "def get_signs(X, y, u, v, w):\n",
    "    signs = []\n",
    "    \n",
    "\n",
    "def get_num_unbalanced(X, y):\n",
    "    indicies = np.arange(0, len(X))\n",
    "    count = 0.0\n",
    "    negatives = 0.0\n",
    "    for u, v in X:\n",
    "        connecting_idx = indicies[X[:,0] == v]\n",
    "        count += len(connecting_idx)\n",
    "        negs = 1 - y[connecting_idx]\n",
    "        negatives += sum(negs)\n",
    "        \n",
    "#         connecting_idx = indicies[X[:,1] == v]\n",
    "#         count += len(connecting_idx)\n",
    "#         negs = 1 - y[connecting_idx]\n",
    "#         negatives += sum(negs)\n",
    "        \n",
    "    return negatives / count\n",
    "\n",
    "get_num_unbalanced(X, y)"
   ]
  },
  {
   "cell_type": "code",
   "execution_count": 6,
   "metadata": {},
   "outputs": [
    {
     "data": {
      "text/plain": [
       "array([0, 0, 0, 0, 1, 1, 1, 1, 2, 1, 1, 2, 2, 1, 2, 2])"
      ]
     },
     "execution_count": 6,
     "metadata": {},
     "output_type": "execute_result"
    }
   ],
   "source": [
    "data.get_node_classes()"
   ]
  },
  {
   "cell_type": "code",
   "execution_count": 7,
   "metadata": {},
   "outputs": [
    {
     "data": {
      "text/plain": [
       "122"
      ]
     },
     "execution_count": 7,
     "metadata": {},
     "output_type": "execute_result"
    }
   ],
   "source": [
    "len(X)"
   ]
  },
  {
   "cell_type": "code",
   "execution_count": 8,
   "metadata": {},
   "outputs": [
    {
     "data": {
      "text/plain": [
       "97"
      ]
     },
     "execution_count": 8,
     "metadata": {},
     "output_type": "execute_result"
    }
   ],
   "source": [
    "len(X_train)"
   ]
  },
  {
   "cell_type": "code",
   "execution_count": 9,
   "metadata": {},
   "outputs": [
    {
     "data": {
      "text/plain": [
       "61"
      ]
     },
     "execution_count": 9,
     "metadata": {},
     "output_type": "execute_result"
    }
   ],
   "source": [
    "len(y[y == 0])"
   ]
  },
  {
   "cell_type": "code",
   "execution_count": 10,
   "metadata": {},
   "outputs": [
    {
     "name": "stdout",
     "output_type": "stream",
     "text": [
      "The loss at epoch  1  was  0.6876080632209778\n",
      "The loss at epoch  2  was  0.6843942999839783\n",
      "The loss at epoch  3  was  0.6756168603897095\n",
      "The loss at epoch  4  was  0.6575868129730225\n",
      "The loss at epoch  5  was  0.6353515982627869\n",
      "The loss at epoch  6  was  0.5906559824943542\n",
      "The loss at epoch  7  was  0.558602511882782\n",
      "The loss at epoch  8  was  0.52460777759552\n",
      "The loss at epoch  9  was  0.48511597514152527\n",
      "The loss at epoch  10  was  0.4679316282272339\n",
      "The loss at epoch  11  was  0.46679744124412537\n",
      "The loss at epoch  12  was  0.43812295794487\n",
      "The loss at epoch  13  was  0.44932281970977783\n",
      "The loss at epoch  14  was  0.42260703444480896\n",
      "The loss at epoch  15  was  0.4199362099170685\n",
      "The loss at epoch  16  was  0.4084692895412445\n",
      "The loss at epoch  17  was  0.4087931513786316\n",
      "The loss at epoch  18  was  0.4121319353580475\n",
      "The loss at epoch  19  was  0.4002939760684967\n",
      "The loss at epoch  20  was  0.4035992920398712\n",
      "The loss at epoch  21  was  0.3986368775367737\n",
      "The loss at epoch  22  was  0.39340394735336304\n",
      "The loss at epoch  23  was  0.3978610336780548\n",
      "The loss at epoch  24  was  0.3896240293979645\n",
      "The loss at epoch  25  was  0.40858685970306396\n",
      "The loss at epoch  26  was  0.38039642572402954\n",
      "The loss at epoch  27  was  0.3823027014732361\n",
      "The loss at epoch  28  was  0.372893750667572\n",
      "The loss at epoch  29  was  0.38357630372047424\n",
      "The loss at epoch  30  was  0.3644578158855438\n",
      "The loss at epoch  31  was  0.37302255630493164\n",
      "The loss at epoch  32  was  0.3675996959209442\n",
      "The loss at epoch  33  was  0.37603506445884705\n",
      "The loss at epoch  34  was  0.36807751655578613\n",
      "The loss at epoch  35  was  0.36080172657966614\n",
      "The loss at epoch  36  was  0.36656278371810913\n",
      "The loss at epoch  37  was  0.3634090721607208\n",
      "The loss at epoch  38  was  0.35921308398246765\n",
      "The loss at epoch  39  was  0.36190709471702576\n",
      "The loss at epoch  40  was  0.35921427607536316\n",
      "The loss at epoch  41  was  0.35640788078308105\n",
      "The loss at epoch  42  was  0.3539245128631592\n",
      "The loss at epoch  43  was  0.35280781984329224\n",
      "The loss at epoch  44  was  0.3443012535572052\n",
      "The loss at epoch  45  was  0.3379846513271332\n",
      "The loss at epoch  46  was  0.3417891561985016\n",
      "The loss at epoch  47  was  0.33778008818626404\n",
      "The loss at epoch  48  was  0.3319711983203888\n",
      "The loss at epoch  49  was  0.3340044915676117\n",
      "The loss at epoch  50  was  0.330009788274765\n",
      "The loss at epoch  51  was  0.33526748418807983\n",
      "The loss at epoch  52  was  0.3287835121154785\n",
      "The loss at epoch  53  was  0.3269648849964142\n",
      "The loss at epoch  54  was  0.32613205909729004\n",
      "The loss at epoch  55  was  0.32291460037231445\n",
      "The loss at epoch  56  was  0.3222457468509674\n",
      "The loss at epoch  57  was  0.31975242495536804\n",
      "The loss at epoch  58  was  0.31809595227241516\n",
      "The loss at epoch  59  was  0.32062628865242004\n",
      "The loss at epoch  60  was  0.3188695013523102\n",
      "The loss at epoch  61  was  0.3185027241706848\n",
      "The loss at epoch  62  was  0.3180195689201355\n",
      "The loss at epoch  63  was  0.3172892928123474\n",
      "The loss at epoch  64  was  0.3165891170501709\n",
      "The loss at epoch  65  was  0.3171606957912445\n",
      "The loss at epoch  66  was  0.3170267939567566\n",
      "The loss at epoch  67  was  0.3162746727466583\n",
      "The loss at epoch  68  was  0.3160416781902313\n",
      "The loss at epoch  69  was  0.3158578872680664\n",
      "The loss at epoch  70  was  0.31560492515563965\n",
      "The loss at epoch  71  was  0.3162049651145935\n",
      "The loss at epoch  72  was  0.31605905294418335\n",
      "The loss at epoch  73  was  0.3156341016292572\n",
      "The loss at epoch  74  was  0.3158223628997803\n",
      "The loss at epoch  75  was  0.3156413733959198\n",
      "The loss at epoch  76  was  0.31554874777793884\n",
      "The loss at epoch  77  was  0.3154444992542267\n",
      "The loss at epoch  78  was  0.3154236078262329\n",
      "The loss at epoch  79  was  0.3152676522731781\n",
      "The loss at epoch  80  was  0.3151823580265045\n",
      "The loss at epoch  81  was  0.3150986135005951\n",
      "The loss at epoch  82  was  0.3150714039802551\n",
      "The loss at epoch  83  was  0.315133273601532\n",
      "The loss at epoch  84  was  0.3149978518486023\n",
      "The loss at epoch  85  was  0.31493547558784485\n",
      "The loss at epoch  86  was  0.31503188610076904\n",
      "The loss at epoch  87  was  0.31480076909065247\n",
      "The loss at epoch  88  was  0.3147735893726349\n",
      "The loss at epoch  89  was  0.31491759419441223\n",
      "The loss at epoch  90  was  0.31494611501693726\n",
      "The loss at epoch  91  was  0.31489458680152893\n",
      "The loss at epoch  92  was  0.31482696533203125\n",
      "The loss at epoch  93  was  0.3148565888404846\n",
      "The loss at epoch  94  was  0.314770370721817\n",
      "The loss at epoch  95  was  0.3147891163825989\n",
      "The loss at epoch  96  was  0.31478437781333923\n",
      "The loss at epoch  97  was  0.31479957699775696\n",
      "The loss at epoch  98  was  0.3146875202655792\n",
      "The loss at epoch  99  was  0.3147469162940979\n",
      "The loss at epoch  100  was  0.31465956568717957\n",
      "The loss at epoch  101  was  0.31464335322380066\n",
      "The loss at epoch  102  was  0.3146567940711975\n",
      "The loss at epoch  103  was  0.31469446420669556\n",
      "The loss at epoch  104  was  0.31466615200042725\n",
      "The loss at epoch  105  was  0.3146650791168213\n",
      "The loss at epoch  106  was  0.31461673974990845\n",
      "The loss at epoch  107  was  0.31466519832611084\n",
      "The loss at epoch  108  was  0.31462347507476807\n",
      "The loss at epoch  109  was  0.3146202862262726\n",
      "The loss at epoch  110  was  0.3145107924938202\n",
      "The loss at epoch  111  was  0.3145782947540283\n",
      "The loss at epoch  112  was  0.31459906697273254\n",
      "The loss at epoch  113  was  0.314575731754303\n",
      "The loss at epoch  114  was  0.3145616352558136\n",
      "The loss at epoch  115  was  0.31456229090690613\n",
      "The loss at epoch  116  was  0.3145689368247986\n",
      "The loss at epoch  117  was  0.3145262897014618\n",
      "The loss at epoch  118  was  0.31456512212753296\n",
      "The loss at epoch  119  was  0.3145235776901245\n",
      "The loss at epoch  120  was  0.3145541548728943\n",
      "The loss at epoch  121  was  0.31454455852508545\n",
      "The loss at epoch  122  was  0.31450438499450684\n",
      "The loss at epoch  123  was  0.3144943416118622\n",
      "The loss at epoch  124  was  0.314508855342865\n",
      "The loss at epoch  125  was  0.3145086467266083\n",
      "The loss at epoch  126  was  0.31451719999313354\n",
      "The loss at epoch  127  was  0.3145069479942322\n",
      "The loss at epoch  128  was  0.3144721984863281\n",
      "The loss at epoch  129  was  0.3144420087337494\n",
      "The loss at epoch  130  was  0.31448838114738464\n",
      "The loss at epoch  131  was  0.3144350051879883\n",
      "The loss at epoch  132  was  0.3144674003124237\n",
      "The loss at epoch  133  was  0.3144170939922333\n",
      "The loss at epoch  134  was  0.3144795298576355\n",
      "The loss at epoch  135  was  0.3144403398036957\n",
      "The loss at epoch  136  was  0.31445664167404175\n",
      "The loss at epoch  137  was  0.31446436047554016\n",
      "The loss at epoch  138  was  0.31444111466407776\n",
      "The loss at epoch  139  was  0.3144506812095642\n",
      "The loss at epoch  140  was  0.3144579827785492\n",
      "The loss at epoch  141  was  0.31444090604782104\n",
      "The loss at epoch  142  was  0.31441017985343933\n",
      "The loss at epoch  143  was  0.31441032886505127\n",
      "The loss at epoch  144  was  0.31443002820014954\n",
      "The loss at epoch  145  was  0.31443509459495544\n",
      "The loss at epoch  146  was  0.3144189119338989\n",
      "The loss at epoch  147  was  0.3144017457962036\n",
      "The loss at epoch  148  was  0.31443580985069275\n",
      "The loss at epoch  149  was  0.31443318724632263\n",
      "The loss at epoch  150  was  0.3144279420375824\n",
      "The loss at epoch  151  was  0.31442901492118835\n",
      "The loss at epoch  152  was  0.314424991607666\n",
      "The loss at epoch  153  was  0.3144036829471588\n",
      "The loss at epoch  154  was  0.31441786885261536\n",
      "The loss at epoch  155  was  0.31438788771629333\n",
      "The loss at epoch  156  was  0.3144136667251587\n",
      "The loss at epoch  157  was  0.31441250443458557\n",
      "The loss at epoch  158  was  0.3144119083881378\n",
      "The loss at epoch  159  was  0.3143940269947052\n",
      "The loss at epoch  160  was  0.3144066631793976\n",
      "The loss at epoch  161  was  0.3143969476222992\n",
      "The loss at epoch  162  was  0.31436628103256226\n",
      "The loss at epoch  163  was  0.3143908679485321\n",
      "The loss at epoch  164  was  0.3143819570541382\n",
      "The loss at epoch  165  was  0.31438010931015015\n",
      "The loss at epoch  166  was  0.31438523530960083\n",
      "The loss at epoch  167  was  0.3143828213214874\n",
      "The loss at epoch  168  was  0.31437891721725464\n",
      "The loss at epoch  169  was  0.3143855631351471\n",
      "The loss at epoch  170  was  0.31436997652053833\n",
      "The loss at epoch  171  was  0.31435906887054443\n",
      "The loss at epoch  172  was  0.3143726885318756\n",
      "The loss at epoch  173  was  0.31434497237205505\n",
      "The loss at epoch  174  was  0.31435686349868774\n",
      "The loss at epoch  175  was  0.3143743872642517\n",
      "The loss at epoch  176  was  0.31437164545059204\n",
      "The loss at epoch  177  was  0.31437021493911743\n",
      "The loss at epoch  178  was  0.31435126066207886\n",
      "The loss at epoch  179  was  0.3143775463104248\n",
      "The loss at epoch  180  was  0.3143538236618042\n",
      "The loss at epoch  181  was  0.314369797706604\n",
      "The loss at epoch  182  was  0.3143483102321625\n",
      "The loss at epoch  183  was  0.31435978412628174\n",
      "The loss at epoch  184  was  0.3143641948699951\n",
      "The loss at epoch  185  was  0.31436973810195923\n",
      "The loss at epoch  186  was  0.31436264514923096\n",
      "The loss at epoch  187  was  0.3143608272075653\n",
      "The loss at epoch  188  was  0.3143634796142578\n",
      "The loss at epoch  189  was  0.31435126066207886\n",
      "The loss at epoch  190  was  0.31435227394104004\n",
      "The loss at epoch  191  was  0.31436389684677124\n",
      "The loss at epoch  192  was  0.3143511712551117\n",
      "The loss at epoch  193  was  0.3143584430217743\n",
      "The loss at epoch  194  was  0.31435427069664\n",
      "The loss at epoch  195  was  0.31435367465019226\n",
      "The loss at epoch  196  was  0.31435683369636536\n",
      "The loss at epoch  197  was  0.31433334946632385\n",
      "The loss at epoch  198  was  0.3143448531627655\n",
      "The loss at epoch  199  was  0.3143424689769745\n",
      "The loss at epoch  200  was  0.31434816122055054\n",
      "The loss at epoch  201  was  0.314352422952652\n",
      "The loss at epoch  202  was  0.3143153786659241\n",
      "The loss at epoch  203  was  0.31435349583625793\n",
      "The loss at epoch  204  was  0.31434890627861023\n",
      "The loss at epoch  205  was  0.3143344819545746\n",
      "The loss at epoch  206  was  0.31434741616249084\n",
      "The loss at epoch  207  was  0.31433388590812683\n",
      "The loss at epoch  208  was  0.3143291175365448\n",
      "The loss at epoch  209  was  0.3143391013145447\n"
     ]
    },
    {
     "name": "stdout",
     "output_type": "stream",
     "text": [
      "The loss at epoch  210  was  0.31433311104774475\n",
      "The loss at epoch  211  was  0.3143271505832672\n",
      "The loss at epoch  212  was  0.3143441081047058\n",
      "The loss at epoch  213  was  0.31432241201400757\n",
      "The loss at epoch  214  was  0.3143364489078522\n",
      "The loss at epoch  215  was  0.31434082984924316\n",
      "The loss at epoch  216  was  0.31431981921195984\n",
      "The loss at epoch  217  was  0.31432291865348816\n",
      "The loss at epoch  218  was  0.3143417239189148\n",
      "The loss at epoch  219  was  0.31431716680526733\n",
      "The loss at epoch  220  was  0.31432831287384033\n",
      "The loss at epoch  221  was  0.3143324851989746\n",
      "The loss at epoch  222  was  0.3143329620361328\n",
      "The loss at epoch  223  was  0.31433066725730896\n",
      "The loss at epoch  224  was  0.3143312931060791\n",
      "The loss at epoch  225  was  0.3143357038497925\n",
      "The loss at epoch  226  was  0.3143255412578583\n",
      "The loss at epoch  227  was  0.31433120369911194\n",
      "The loss at epoch  228  was  0.3143245577812195\n",
      "The loss at epoch  229  was  0.31430044770240784\n",
      "The loss at epoch  230  was  0.31432515382766724\n",
      "The loss at epoch  231  was  0.3143320679664612\n",
      "The loss at epoch  232  was  0.31431564688682556\n",
      "The loss at epoch  233  was  0.31431126594543457\n",
      "The loss at epoch  234  was  0.31431707739830017\n",
      "The loss at epoch  235  was  0.31431591510772705\n",
      "The loss at epoch  236  was  0.3143182694911957\n",
      "The loss at epoch  237  was  0.31431394815444946\n",
      "The loss at epoch  238  was  0.31432899832725525\n",
      "The loss at epoch  239  was  0.3143237233161926\n",
      "The loss at epoch  240  was  0.31432589888572693\n",
      "The loss at epoch  241  was  0.3143135905265808\n",
      "The loss at epoch  242  was  0.31432637572288513\n",
      "The loss at epoch  243  was  0.31431642174720764\n",
      "The loss at epoch  244  was  0.31431081891059875\n",
      "The loss at epoch  245  was  0.3143099844455719\n",
      "The loss at epoch  246  was  0.3143247961997986\n",
      "The loss at epoch  247  was  0.3143152594566345\n",
      "The loss at epoch  248  was  0.3143175542354584\n",
      "The loss at epoch  249  was  0.3143167197704315\n",
      "The loss at epoch  250  was  0.31432339549064636\n",
      "The loss at epoch  251  was  0.3143138587474823\n",
      "The loss at epoch  252  was  0.3143131136894226\n",
      "The loss at epoch  253  was  0.31431254744529724\n",
      "The loss at epoch  254  was  0.3142964243888855\n",
      "The loss at epoch  255  was  0.31431302428245544\n",
      "The loss at epoch  256  was  0.31432005763053894\n",
      "The loss at epoch  257  was  0.3143114149570465\n",
      "The loss at epoch  258  was  0.31430956721305847\n",
      "The loss at epoch  259  was  0.3143039047718048\n",
      "The loss at epoch  260  was  0.314314067363739\n",
      "The loss at epoch  261  was  0.3143165409564972\n",
      "The loss at epoch  262  was  0.3143139183521271\n",
      "The loss at epoch  263  was  0.31430763006210327\n",
      "The loss at epoch  264  was  0.3143118619918823\n",
      "The loss at epoch  265  was  0.31430965662002563\n",
      "The loss at epoch  266  was  0.3143126368522644\n",
      "The loss at epoch  267  was  0.3143003284931183\n",
      "The loss at epoch  268  was  0.31431084871292114\n",
      "The loss at epoch  269  was  0.31430694460868835\n",
      "The loss at epoch  270  was  0.31429994106292725\n",
      "The loss at epoch  271  was  0.31430983543395996\n",
      "The loss at epoch  272  was  0.3142997622489929\n",
      "The loss at epoch  273  was  0.3142983317375183\n",
      "The loss at epoch  274  was  0.3143143057823181\n",
      "The loss at epoch  275  was  0.3143021762371063\n",
      "The loss at epoch  276  was  0.3143041431903839\n",
      "The loss at epoch  277  was  0.31431037187576294\n",
      "The loss at epoch  278  was  0.3143133223056793\n",
      "The loss at epoch  279  was  0.3143008053302765\n",
      "The loss at epoch  280  was  0.31430649757385254\n",
      "The loss at epoch  281  was  0.3143066167831421\n",
      "The loss at epoch  282  was  0.3143082857131958\n",
      "The loss at epoch  283  was  0.314307302236557\n",
      "The loss at epoch  284  was  0.31430184841156006\n",
      "The loss at epoch  285  was  0.31430500745773315\n",
      "The loss at epoch  286  was  0.31430572271347046\n",
      "The loss at epoch  287  was  0.3143059015274048\n",
      "The loss at epoch  288  was  0.3143036663532257\n",
      "The loss at epoch  289  was  0.31430673599243164\n",
      "The loss at epoch  290  was  0.3143087327480316\n",
      "The loss at epoch  291  was  0.3143083453178406\n",
      "The loss at epoch  292  was  0.3143073618412018\n",
      "The loss at epoch  293  was  0.31430783867836\n",
      "The loss at epoch  294  was  0.31429946422576904\n",
      "The loss at epoch  295  was  0.31429603695869446\n",
      "The loss at epoch  296  was  0.31429651379585266\n",
      "The loss at epoch  297  was  0.3142969310283661\n",
      "The loss at epoch  298  was  0.3143033981323242\n",
      "The loss at epoch  299  was  0.31429824233055115\n",
      "The loss at epoch  300  was  0.31430190801620483\n",
      "The loss at epoch  301  was  0.3142983913421631\n",
      "The loss at epoch  302  was  0.31430381536483765\n",
      "The loss at epoch  303  was  0.3143056035041809\n",
      "The loss at epoch  304  was  0.3142942190170288\n",
      "The loss at epoch  305  was  0.31430453062057495\n",
      "The loss at epoch  306  was  0.314299613237381\n",
      "The loss at epoch  307  was  0.31429046392440796\n",
      "The loss at epoch  308  was  0.3142980933189392\n",
      "The loss at epoch  309  was  0.3143020570278168\n",
      "The loss at epoch  310  was  0.3142932951450348\n",
      "The loss at epoch  311  was  0.314300537109375\n",
      "The loss at epoch  312  was  0.31429824233055115\n",
      "The loss at epoch  313  was  0.3142974078655243\n",
      "The loss at epoch  314  was  0.31429916620254517\n",
      "The loss at epoch  315  was  0.31429317593574524\n",
      "The loss at epoch  316  was  0.314300000667572\n",
      "The loss at epoch  317  was  0.3142983913421631\n",
      "The loss at epoch  318  was  0.3143004775047302\n",
      "The loss at epoch  319  was  0.31429848074913025\n",
      "The loss at epoch  320  was  0.3142954707145691\n",
      "The loss at epoch  321  was  0.314299613237381\n",
      "The loss at epoch  322  was  0.3142957389354706\n",
      "The loss at epoch  323  was  0.31429100036621094\n",
      "The loss at epoch  324  was  0.3143007755279541\n",
      "The loss at epoch  325  was  0.31429624557495117\n",
      "The loss at epoch  326  was  0.31429293751716614\n",
      "The loss at epoch  327  was  0.3142964243888855\n",
      "The loss at epoch  328  was  0.3142890930175781\n",
      "The loss at epoch  329  was  0.3142928183078766\n",
      "The loss at epoch  330  was  0.31429630517959595\n",
      "The loss at epoch  331  was  0.31429561972618103\n",
      "The loss at epoch  332  was  0.31429606676101685\n",
      "The loss at epoch  333  was  0.3142978549003601\n",
      "The loss at epoch  334  was  0.31429487466812134\n",
      "The loss at epoch  335  was  0.3142981231212616\n",
      "The loss at epoch  336  was  0.31429776549339294\n",
      "The loss at epoch  337  was  0.31429335474967957\n",
      "The loss at epoch  338  was  0.3142881393432617\n",
      "The loss at epoch  339  was  0.3142969608306885\n",
      "The loss at epoch  340  was  0.31429198384284973\n",
      "The loss at epoch  341  was  0.3142968416213989\n",
      "The loss at epoch  342  was  0.31429627537727356\n",
      "The loss at epoch  343  was  0.31429120898246765\n",
      "The loss at epoch  344  was  0.31429311633110046\n",
      "The loss at epoch  345  was  0.31428560614585876\n",
      "The loss at epoch  346  was  0.31429582834243774\n",
      "The loss at epoch  347  was  0.31428807973861694\n",
      "The loss at epoch  348  was  0.3142881393432617\n",
      "The loss at epoch  349  was  0.31428542733192444\n",
      "The loss at epoch  350  was  0.3142819404602051\n",
      "The loss at epoch  351  was  0.3142888844013214\n",
      "The loss at epoch  352  was  0.3142947256565094\n",
      "The loss at epoch  353  was  0.3142941892147064\n",
      "The loss at epoch  354  was  0.3142893612384796\n",
      "The loss at epoch  355  was  0.3142821490764618\n",
      "The loss at epoch  356  was  0.3142876923084259\n",
      "The loss at epoch  357  was  0.3142937123775482\n",
      "The loss at epoch  358  was  0.3142945468425751\n",
      "The loss at epoch  359  was  0.3142940402030945\n",
      "The loss at epoch  360  was  0.3142884075641632\n",
      "The loss at epoch  361  was  0.3142929971218109\n",
      "The loss at epoch  362  was  0.3142900764942169\n",
      "The loss at epoch  363  was  0.3142929971218109\n",
      "The loss at epoch  364  was  0.31429246068000793\n",
      "The loss at epoch  365  was  0.31429323554039\n",
      "The loss at epoch  366  was  0.3142901360988617\n",
      "The loss at epoch  367  was  0.3142848312854767\n",
      "The loss at epoch  368  was  0.3142900764942169\n",
      "The loss at epoch  369  was  0.31429150700569153\n",
      "The loss at epoch  370  was  0.31429076194763184\n",
      "The loss at epoch  371  was  0.3142877519130707\n",
      "The loss at epoch  372  was  0.3142891228199005\n",
      "The loss at epoch  373  was  0.31428706645965576\n",
      "The loss at epoch  374  was  0.314289927482605\n",
      "The loss at epoch  375  was  0.31428489089012146\n",
      "The loss at epoch  376  was  0.3142920136451721\n",
      "The loss at epoch  377  was  0.3142901062965393\n",
      "The loss at epoch  378  was  0.3142847418785095\n",
      "The loss at epoch  379  was  0.3142789304256439\n",
      "The loss at epoch  380  was  0.3142898976802826\n",
      "The loss at epoch  381  was  0.31428608298301697\n"
     ]
    },
    {
     "name": "stdout",
     "output_type": "stream",
     "text": [
      "The loss at epoch  382  was  0.3142823278903961\n",
      "The loss at epoch  383  was  0.3142908811569214\n",
      "The loss at epoch  384  was  0.3142860531806946\n",
      "The loss at epoch  385  was  0.31428804993629456\n",
      "The loss at epoch  386  was  0.3142887353897095\n",
      "The loss at epoch  387  was  0.3142852187156677\n",
      "The loss at epoch  388  was  0.3142853379249573\n",
      "The loss at epoch  389  was  0.3142881691455841\n",
      "The loss at epoch  390  was  0.3142836093902588\n",
      "The loss at epoch  391  was  0.31428706645965576\n",
      "The loss at epoch  392  was  0.31428760290145874\n",
      "The loss at epoch  393  was  0.3142821788787842\n",
      "The loss at epoch  394  was  0.31428563594818115\n",
      "The loss at epoch  395  was  0.314288467168808\n",
      "The loss at epoch  396  was  0.3142816126346588\n",
      "The loss at epoch  397  was  0.3142833709716797\n",
      "The loss at epoch  398  was  0.3142824172973633\n",
      "The loss at epoch  399  was  0.31428465247154236\n",
      "The loss at epoch  400  was  0.31428053975105286\n"
     ]
    }
   ],
   "source": [
    "kernel_model = model_fitter(num_nodes, dims, X, y, epochs=epochs, p=p, \n",
    "                                              lr=lr,lr_decay=lr_decay, lam=lam, \n",
    "                            weight_decay=weight_decay, undersample=True)"
   ]
  },
  {
   "cell_type": "code",
   "execution_count": 11,
   "metadata": {
    "collapsed": true
   },
   "outputs": [],
   "source": [
    "import sklearn.cluster as cluster"
   ]
  },
  {
   "cell_type": "code",
   "execution_count": 12,
   "metadata": {
    "collapsed": true
   },
   "outputs": [],
   "source": [
    "clf = cluster.KMeans(n_clusters=3)\n",
    "clf1 = cluster.AgglomerativeClustering(n_clusters=3)"
   ]
  },
  {
   "cell_type": "code",
   "execution_count": 13,
   "metadata": {
    "collapsed": true
   },
   "outputs": [],
   "source": [
    "all_embeddings = kernel_model.get_all_weights()"
   ]
  },
  {
   "cell_type": "code",
   "execution_count": 14,
   "metadata": {
    "collapsed": true
   },
   "outputs": [],
   "source": [
    "viable_embeddings = all_embeddings[1:,:]"
   ]
  },
  {
   "cell_type": "code",
   "execution_count": 15,
   "metadata": {
    "collapsed": true
   },
   "outputs": [],
   "source": [
    "from sklearn.manifold import TSNE, MDS\n",
    "tsne = TSNE(n_components=2)\n",
    "mds = MDS(n_components=2)"
   ]
  },
  {
   "cell_type": "code",
   "execution_count": 16,
   "metadata": {
    "collapsed": true
   },
   "outputs": [],
   "source": [
    "projections = tsne.fit_transform(viable_embeddings)\n",
    "projections = mds.fit_transform(viable_embeddings)"
   ]
  },
  {
   "cell_type": "code",
   "execution_count": 17,
   "metadata": {
    "collapsed": true
   },
   "outputs": [],
   "source": [
    "color_dict = ['green', 'purple', 'orange']\n",
    "    \n",
    "\n",
    "colors = [color_dict[c] for c in data.get_node_classes()]"
   ]
  },
  {
   "cell_type": "code",
   "execution_count": 18,
   "metadata": {
    "collapsed": true
   },
   "outputs": [],
   "source": [
    "from pylab import rcParams\n",
    "rcParams['figure.figsize'] = 20, 20\n",
    "rcParams['axes.titlesize'] = 14\n",
    "\n",
    "import seaborn as sns\n",
    "sns.set_style(\"darkgrid\")"
   ]
  },
  {
   "cell_type": "code",
   "execution_count": 19,
   "metadata": {},
   "outputs": [
    {
     "data": {
      "image/png": "[encoded data removed]",
      "text/plain": [
       "<matplotlib.figure.Figure at 0x1a1f9d58d0>"
      ]
     },
     "metadata": {},
     "output_type": "display_data"
    }
   ],
   "source": [
    "fig, ax = plt.subplots()\n",
    "ax.scatter(projections[:,0], projections[:,1], c=colors)\n",
    "ax.set_xlabel('component1')\n",
    "ax.set_ylabel('component2')\n",
    "font_dict = fontdict={'fontsize': 20,\n",
    " 'fontweight' : rcParams['axes.titleweight'],\n",
    " 'verticalalignment': 'baseline'}\n",
    "\n",
    "ax.set_xlabel('component1', fontdict=font_dict)\n",
    "ax.set_ylabel('component2', fontdict=font_dict)\n",
    "#ax.legend(prop={'size': font_dict['fontsize']})\n",
    "ax.grid(True)\n",
    "if False:\n",
    "    for i,_ in enumerate(colors):\n",
    "        s = int(data.id_assigner.id2object(i + 1))\n",
    "        ax.annotate(s, (float(projections[i, 0]), float(projections[i, 1])))\n",
    "fig.savefig('Sampson-StEM2.png')"
   ]
  },
  {
   "cell_type": "code",
   "execution_count": 20,
   "metadata": {
    "collapsed": true
   },
   "outputs": [],
   "source": [
    "labels = clf1.fit_predict(viable_embeddings)"
   ]
  },
  {
   "cell_type": "code",
   "execution_count": 21,
   "metadata": {},
   "outputs": [
    {
     "data": {
      "text/plain": [
       "array([0, 0, 0, 0, 2, 2, 2, 2, 1, 0, 0, 1, 1, 2, 1, 1])"
      ]
     },
     "execution_count": 21,
     "metadata": {},
     "output_type": "execute_result"
    }
   ],
   "source": [
    "labels"
   ]
  },
  {
   "cell_type": "code",
   "execution_count": 22,
   "metadata": {
    "collapsed": true
   },
   "outputs": [],
   "source": [
    "correct_labels = data.get_node_classes()\n",
    "#correct_labels[-1] = 2"
   ]
  },
  {
   "cell_type": "code",
   "execution_count": 23,
   "metadata": {},
   "outputs": [
    {
     "data": {
      "text/plain": [
       "array([0, 0, 0, 0, 1, 1, 1, 1, 2, 1, 1, 2, 2, 1, 2, 2])"
      ]
     },
     "execution_count": 23,
     "metadata": {},
     "output_type": "execute_result"
    }
   ],
   "source": [
    "correct_labels"
   ]
  },
  {
   "cell_type": "code",
   "execution_count": 24,
   "metadata": {
    "collapsed": true
   },
   "outputs": [],
   "source": [
    "from sklearn.metrics.cluster import normalized_mutual_info_score, completeness_score"
   ]
  },
  {
   "cell_type": "code",
   "execution_count": 25,
   "metadata": {},
   "outputs": [
    {
     "data": {
      "text/plain": [
       "array([0, 0, 0, 0, 2, 2, 2, 2, 1, 0, 0, 1, 1, 2, 1, 1])"
      ]
     },
     "execution_count": 25,
     "metadata": {},
     "output_type": "execute_result"
    }
   ],
   "source": [
    "labels"
   ]
  },
  {
   "cell_type": "code",
   "execution_count": 26,
   "metadata": {},
   "outputs": [
    {
     "name": "stdout",
     "output_type": "stream",
     "text": [
      "0.769056509803\n",
      "0.760917361505\n"
     ]
    }
   ],
   "source": [
    "print(normalized_mutual_info_score(correct_labels, labels))\n",
    "print(completeness_score(correct_labels, labels))"
   ]
  },
  {
   "cell_type": "code",
   "execution_count": 27,
   "metadata": {
    "collapsed": true
   },
   "outputs": [],
   "source": [
    "num_nodes = data.get_num_nodes()\n",
    "dims = dims\n",
    "epochs = epochs\n",
    "lr = lr\n",
    "lr_decay=0.0\n",
    "weight_decay=0.0\n",
    "lam = 0.00055\n",
    "p = 2\n",
    "delta = 1\n",
    "delta0 = 0.5\n",
    "dims_array = [dims, 20, 20]"
   ]
  },
  {
   "cell_type": "code",
   "execution_count": 28,
   "metadata": {
    "collapsed": true
   },
   "outputs": [],
   "source": [
    "model_fitter = models.fit_sine_model\n",
    "triples, triples0 = util.triples_from_array(X, y)\n",
    "batch_size = int(1.0 * len(triples))\n",
    "batch_size0 = len(triples0)"
   ]
  },
  {
   "cell_type": "code",
   "execution_count": 29,
   "metadata": {},
   "outputs": [
    {
     "name": "stdout",
     "output_type": "stream",
     "text": [
      "Loss at epoch  1  is  0.9900927543640137\n",
      "Loss at epoch  2  is  0.9614603519439697\n",
      "Loss at epoch  3  is  0.976190984249115\n",
      "Loss at epoch  4  is  0.9160668849945068\n",
      "Loss at epoch  5  is  0.9015657305717468\n",
      "Loss at epoch  6  is  0.8586670160293579\n",
      "Loss at epoch  7  is  0.843204140663147\n",
      "Loss at epoch  8  is  0.7575280666351318\n",
      "Loss at epoch  9  is  0.6875969767570496\n",
      "Loss at epoch  10  is  0.6394606232643127\n",
      "Loss at epoch  11  is  0.6058364510536194\n",
      "Loss at epoch  12  is  0.5732428431510925\n",
      "Loss at epoch  13  is  0.5556908845901489\n",
      "Loss at epoch  14  is  0.5388385057449341\n",
      "Loss at epoch  15  is  0.5054826736450195\n",
      "Loss at epoch  16  is  0.494208425283432\n",
      "Loss at epoch  17  is  0.488136887550354\n",
      "Loss at epoch  18  is  0.48413050174713135\n",
      "Loss at epoch  19  is  0.48456066846847534\n",
      "Loss at epoch  20  is  0.4832035005092621\n",
      "Loss at epoch  21  is  0.4812791645526886\n",
      "Loss at epoch  22  is  0.4794559180736542\n",
      "Loss at epoch  23  is  0.47847607731819153\n",
      "Loss at epoch  24  is  0.4777946472167969\n",
      "Loss at epoch  25  is  0.47728097438812256\n",
      "Loss at epoch  26  is  0.47687026858329773\n",
      "Loss at epoch  27  is  0.47652187943458557\n",
      "Loss at epoch  28  is  0.4762023091316223\n",
      "Loss at epoch  29  is  0.47586914896965027\n",
      "Loss at epoch  30  is  0.4755931794643402\n",
      "Loss at epoch  31  is  0.47525230050086975\n",
      "Loss at epoch  32  is  0.47250673174858093\n",
      "Loss at epoch  33  is  0.4628424644470215\n",
      "Loss at epoch  34  is  0.46637317538261414\n",
      "Loss at epoch  35  is  0.5364812612533569\n",
      "Loss at epoch  36  is  0.5630984306335449\n",
      "Loss at epoch  37  is  0.4833599030971527\n",
      "Loss at epoch  38  is  0.4942728877067566\n",
      "Loss at epoch  39  is  0.47133827209472656\n",
      "Loss at epoch  40  is  0.4639756977558136\n",
      "Loss at epoch  41  is  0.47074440121650696\n",
      "Loss at epoch  42  is  0.46144458651542664\n",
      "Loss at epoch  43  is  0.4612230956554413\n",
      "Loss at epoch  44  is  0.46105527877807617\n",
      "Loss at epoch  45  is  0.4609217047691345\n",
      "Loss at epoch  46  is  0.4608117341995239\n",
      "Loss at epoch  47  is  0.46071895956993103\n",
      "Loss at epoch  48  is  0.46063920855522156\n",
      "Loss at epoch  49  is  0.4605695307254791\n",
      "Loss at epoch  50  is  0.4605080187320709\n",
      "Loss at epoch  51  is  0.460453063249588\n",
      "Loss at epoch  52  is  0.4604036211967468\n",
      "Loss at epoch  53  is  0.46035879850387573\n",
      "Loss at epoch  54  is  0.46031782031059265\n",
      "Loss at epoch  55  is  0.46028023958206177\n",
      "Loss at epoch  56  is  0.46024560928344727\n",
      "Loss at epoch  57  is  0.4602135121822357\n",
      "Loss at epoch  58  is  0.46018362045288086\n",
      "Loss at epoch  59  is  0.46015575528144836\n",
      "Loss at epoch  60  is  0.46012961864471436\n",
      "Loss at epoch  61  is  0.4601050913333893\n",
      "Loss at epoch  62  is  0.46008193492889404\n",
      "Loss at epoch  63  is  0.46006011962890625\n",
      "Loss at epoch  64  is  0.4600394368171692\n",
      "Loss at epoch  65  is  0.4600197970867157\n",
      "Loss at epoch  66  is  0.460001140832901\n",
      "Loss at epoch  67  is  0.4599834084510803\n",
      "Loss at epoch  68  is  0.45996642112731934\n",
      "Loss at epoch  69  is  0.45995017886161804\n",
      "Loss at epoch  70  is  0.45993462204933167\n",
      "Loss at epoch  71  is  0.4599197506904602\n",
      "Loss at epoch  72  is  0.45990535616874695\n",
      "Loss at epoch  73  is  0.45989158749580383\n",
      "Loss at epoch  74  is  0.4598783254623413\n",
      "Loss at epoch  75  is  0.4598654806613922\n",
      "Loss at epoch  76  is  0.4598531126976013\n",
      "Loss at epoch  77  is  0.4598411023616791\n",
      "Loss at epoch  78  is  0.45982953906059265\n",
      "Loss at epoch  79  is  0.4598183333873749\n",
      "Loss at epoch  80  is  0.45980745553970337\n",
      "Loss at epoch  81  is  0.45979684591293335\n",
      "Loss at epoch  82  is  0.4597865641117096\n",
      "Loss at epoch  83  is  0.45977655053138733\n",
      "Loss at epoch  84  is  0.45976683497428894\n",
      "Loss at epoch  85  is  0.45975732803344727\n",
      "Loss at epoch  86  is  0.4597480595111847\n",
      "Loss at epoch  87  is  0.4597390294075012\n",
      "Loss at epoch  88  is  0.4597301781177521\n",
      "Loss at epoch  89  is  0.45972156524658203\n",
      "Loss at epoch  90  is  0.4597131609916687\n",
      "Loss at epoch  91  is  0.4597049057483673\n",
      "Loss at epoch  92  is  0.45969682931900024\n",
      "Loss at epoch  93  is  0.45968887209892273\n",
      "Loss at epoch  94  is  0.45968106389045715\n",
      "Loss at epoch  95  is  0.4596734642982483\n",
      "Loss at epoch  96  is  0.45966601371765137\n",
      "Loss at epoch  97  is  0.4596586525440216\n",
      "Loss at epoch  98  is  0.4596514403820038\n",
      "Loss at epoch  99  is  0.4596443474292755\n",
      "Loss at epoch  100  is  0.4596373438835144\n",
      "Loss at epoch  101  is  0.45963045954704285\n",
      "Loss at epoch  102  is  0.45962369441986084\n",
      "Loss at epoch  103  is  0.4596170485019684\n",
      "Loss at epoch  104  is  0.4596104919910431\n",
      "Loss at epoch  105  is  0.4596039950847626\n",
      "Loss at epoch  106  is  0.4595976173877716\n",
      "Loss at epoch  107  is  0.4595912992954254\n",
      "Loss at epoch  108  is  0.4595851004123688\n",
      "Loss at epoch  109  is  0.4595789909362793\n",
      "Loss at epoch  110  is  0.4595729410648346\n",
      "Loss at epoch  111  is  0.45956695079803467\n",
      "Loss at epoch  112  is  0.4595610499382019\n",
      "Loss at epoch  113  is  0.4595552086830139\n",
      "Loss at epoch  114  is  0.4595494270324707\n",
      "Loss at epoch  115  is  0.4595932960510254\n",
      "Loss at epoch  116  is  0.4596288800239563\n",
      "Loss at epoch  117  is  0.4596176743507385\n",
      "Loss at epoch  118  is  0.45960724353790283\n",
      "Loss at epoch  119  is  0.45959752798080444\n",
      "Loss at epoch  120  is  0.45958834886550903\n",
      "Loss at epoch  121  is  0.4595796465873718\n",
      "Loss at epoch  122  is  0.45957136154174805\n",
      "Loss at epoch  123  is  0.45956340432167053\n",
      "Loss at epoch  124  is  0.4595557749271393\n",
      "Loss at epoch  125  is  0.4595484137535095\n",
      "Loss at epoch  126  is  0.4595412611961365\n",
      "Loss at epoch  127  is  0.45953431725502014\n",
      "Loss at epoch  128  is  0.4595275819301605\n",
      "Loss at epoch  129  is  0.45952102541923523\n",
      "Loss at epoch  130  is  0.4595145881175995\n",
      "Loss at epoch  131  is  0.4595082998275757\n",
      "Loss at epoch  132  is  0.4595021605491638\n",
      "Loss at epoch  133  is  0.4594961106777191\n",
      "Loss at epoch  134  is  0.45949023962020874\n",
      "Loss at epoch  135  is  0.45948442816734314\n",
      "Loss at epoch  136  is  0.4594787359237671\n",
      "Loss at epoch  137  is  0.45947304368019104\n",
      "Loss at epoch  138  is  0.4594675302505493\n",
      "Loss at epoch  139  is  0.45946204662323\n",
      "Loss at epoch  140  is  0.4594566524028778\n",
      "Loss at epoch  141  is  0.4594513177871704\n",
      "Loss at epoch  142  is  0.4594460725784302\n",
      "Loss at epoch  143  is  0.45944085717201233\n",
      "Loss at epoch  144  is  0.45943570137023926\n",
      "Loss at epoch  145  is  0.45943060517311096\n",
      "Loss at epoch  146  is  0.4594256281852722\n",
      "Loss at epoch  147  is  0.4594205915927887\n",
      "Loss at epoch  148  is  0.45941564440727234\n",
      "Loss at epoch  149  is  0.45941078662872314\n",
      "Loss at epoch  150  is  0.45940595865249634\n",
      "Loss at epoch  151  is  0.45940113067626953\n",
      "Loss at epoch  152  is  0.4593963921070099\n",
      "Loss at epoch  153  is  0.45939168334007263\n",
      "Loss at epoch  154  is  0.4593869745731354\n",
      "Loss at epoch  155  is  0.4593823254108429\n",
      "Loss at epoch  156  is  0.45938172936439514\n",
      "Loss at epoch  157  is  0.45957428216934204\n",
      "Loss at epoch  158  is  0.4595407545566559\n",
      "Loss at epoch  159  is  0.4595147967338562\n",
      "Loss at epoch  160  is  0.4594937860965729\n",
      "Loss at epoch  161  is  0.45947620272636414\n",
      "Loss at epoch  162  is  0.45946118235588074\n",
      "Loss at epoch  163  is  0.4594479501247406\n",
      "Loss at epoch  164  is  0.45943617820739746\n",
      "Loss at epoch  165  is  0.45942553877830505\n",
      "Loss at epoch  166  is  0.4594157636165619\n",
      "Loss at epoch  167  is  0.4594067633152008\n",
      "Loss at epoch  168  is  0.4593983292579651\n",
      "Loss at epoch  169  is  0.45939043164253235\n",
      "Loss at epoch  170  is  0.45938292145729065\n",
      "Loss at epoch  171  is  0.45937579870224\n",
      "Loss at epoch  172  is  0.4593689441680908\n",
      "Loss at epoch  173  is  0.4593624174594879\n",
      "Loss at epoch  174  is  0.4593561291694641\n",
      "Loss at epoch  175  is  0.45935001969337463\n",
      "Loss at epoch  176  is  0.4593440890312195\n",
      "Loss at epoch  177  is  0.45933833718299866\n",
      "Loss at epoch  178  is  0.45933273434638977\n",
      "Loss at epoch  179  is  0.45932719111442566\n",
      "Loss at epoch  180  is  0.45932188630104065\n",
      "Loss at epoch  181  is  0.45931658148765564\n",
      "Loss at epoch  182  is  0.45931145548820496\n",
      "Loss at epoch  183  is  0.45930638909339905\n",
      "Loss at epoch  184  is  0.4593013823032379\n",
      "Loss at epoch  185  is  0.45929646492004395\n",
      "Loss at epoch  186  is  0.4592916667461395\n",
      "Loss at epoch  187  is  0.4592868983745575\n",
      "Loss at epoch  188  is  0.45928218960762024\n",
      "Loss at epoch  189  is  0.45927751064300537\n",
      "Loss at epoch  190  is  0.45927292108535767\n",
      "Loss at epoch  191  is  0.45926839113235474\n",
      "Loss at epoch  192  is  0.4592638909816742\n"
     ]
    },
    {
     "name": "stdout",
     "output_type": "stream",
     "text": [
      "Loss at epoch  193  is  0.45925942063331604\n",
      "Loss at epoch  194  is  0.45925500988960266\n",
      "Loss at epoch  195  is  0.45925062894821167\n",
      "Loss at epoch  196  is  0.45924627780914307\n",
      "Loss at epoch  197  is  0.45924195647239685\n",
      "Loss at epoch  198  is  0.4592377245426178\n",
      "Loss at epoch  199  is  0.45923346281051636\n",
      "Loss at epoch  200  is  0.4592292904853821\n",
      "Loss at epoch  201  is  0.4592250883579254\n",
      "Loss at epoch  202  is  0.4592209756374359\n",
      "Loss at epoch  203  is  0.459216833114624\n",
      "Loss at epoch  204  is  0.4592127203941345\n",
      "Loss at epoch  205  is  0.4592086672782898\n",
      "Loss at epoch  206  is  0.45920461416244507\n",
      "Loss at epoch  207  is  0.45920059084892273\n",
      "Loss at epoch  208  is  0.4591965973377228\n",
      "Loss at epoch  209  is  0.4591926336288452\n",
      "Loss at epoch  210  is  0.45918866991996765\n",
      "Loss at epoch  211  is  0.4591847360134125\n",
      "Loss at epoch  212  is  0.4591807723045349\n",
      "Loss at epoch  213  is  0.4591768682003021\n",
      "Loss at epoch  214  is  0.4591730237007141\n",
      "Loss at epoch  215  is  0.4591691493988037\n",
      "Loss at epoch  216  is  0.4591653347015381\n",
      "Loss at epoch  217  is  0.45916152000427246\n",
      "Loss at epoch  218  is  0.45915764570236206\n",
      "Loss at epoch  219  is  0.4591539204120636\n",
      "Loss at epoch  220  is  0.4591500759124756\n",
      "Loss at epoch  221  is  0.45914632081985474\n",
      "Loss at epoch  222  is  0.4591425657272339\n",
      "Loss at epoch  223  is  0.4591388404369354\n",
      "Loss at epoch  224  is  0.45913511514663696\n",
      "Loss at epoch  225  is  0.45915770530700684\n",
      "Loss at epoch  226  is  0.45974743366241455\n",
      "Loss at epoch  227  is  0.45917561650276184\n",
      "Loss at epoch  228  is  0.45917123556137085\n",
      "Loss at epoch  229  is  0.459166944026947\n",
      "Loss at epoch  230  is  0.45916271209716797\n",
      "Loss at epoch  231  is  0.45915845036506653\n",
      "Loss at epoch  232  is  0.45915427803993225\n",
      "Loss at epoch  233  is  0.45915013551712036\n",
      "Loss at epoch  234  is  0.45914605259895325\n",
      "Loss at epoch  235  is  0.45914196968078613\n",
      "Loss at epoch  236  is  0.4591379463672638\n",
      "Loss at epoch  237  is  0.45913392305374146\n",
      "Loss at epoch  238  is  0.4591299295425415\n",
      "Loss at epoch  239  is  0.45912596583366394\n",
      "Loss at epoch  240  is  0.45912203192710876\n",
      "Loss at epoch  241  is  0.45911815762519836\n",
      "Loss at epoch  242  is  0.4591142535209656\n",
      "Loss at epoch  243  is  0.4591103792190552\n",
      "Loss at epoch  244  is  0.45910653471946716\n",
      "Loss at epoch  245  is  0.45910272002220154\n",
      "Loss at epoch  246  is  0.4590989053249359\n",
      "Loss at epoch  247  is  0.45909515023231506\n",
      "Loss at epoch  248  is  0.4590914249420166\n",
      "Loss at epoch  249  is  0.45908766984939575\n",
      "Loss at epoch  250  is  0.4590839147567749\n",
      "Loss at epoch  251  is  0.4590802490711212\n",
      "Loss at epoch  252  is  0.45907652378082275\n",
      "Loss at epoch  253  is  0.45907285809516907\n",
      "Loss at epoch  254  is  0.4590691924095154\n",
      "Loss at epoch  255  is  0.45906558632850647\n",
      "Loss at epoch  256  is  0.4590619206428528\n",
      "Loss at epoch  257  is  0.4590582847595215\n",
      "Loss at epoch  258  is  0.45905473828315735\n",
      "Loss at epoch  259  is  0.45905113220214844\n",
      "Loss at epoch  260  is  0.4590475261211395\n",
      "Loss at epoch  261  is  0.4590439796447754\n",
      "Loss at epoch  262  is  0.45904046297073364\n",
      "Loss at epoch  263  is  0.4590368866920471\n",
      "Loss at epoch  264  is  0.45903337001800537\n",
      "Loss at epoch  265  is  0.4590298533439636\n",
      "Loss at epoch  266  is  0.45902636647224426\n",
      "Loss at epoch  267  is  0.4590228796005249\n",
      "Loss at epoch  268  is  0.45901939272880554\n",
      "Loss at epoch  269  is  0.4590159058570862\n",
      "Loss at epoch  270  is  0.4590124487876892\n",
      "Loss at epoch  271  is  0.45900899171829224\n",
      "Loss at epoch  272  is  0.45900553464889526\n",
      "Loss at epoch  273  is  0.4590021073818207\n",
      "Loss at epoch  274  is  0.4589987099170685\n",
      "Loss at epoch  275  is  0.4589952528476715\n",
      "Loss at epoch  276  is  0.4589918851852417\n",
      "Loss at epoch  277  is  0.4589884579181671\n",
      "Loss at epoch  278  is  0.4589851200580597\n",
      "Loss at epoch  279  is  0.4589816927909851\n",
      "Loss at epoch  280  is  0.4589790999889374\n",
      "Loss at epoch  281  is  0.4589914083480835\n",
      "Loss at epoch  282  is  0.4589878022670746\n",
      "Loss at epoch  283  is  0.4589841067790985\n",
      "Loss at epoch  284  is  0.4589805006980896\n",
      "Loss at epoch  285  is  0.4589768946170807\n",
      "Loss at epoch  286  is  0.45897331833839417\n",
      "Loss at epoch  287  is  0.45896977186203003\n",
      "Loss at epoch  288  is  0.4589662253856659\n",
      "Loss at epoch  289  is  0.45896267890930176\n",
      "Loss at epoch  290  is  0.4589591920375824\n",
      "Loss at epoch  291  is  0.45895567536354065\n",
      "Loss at epoch  292  is  0.4589522182941437\n",
      "Loss at epoch  293  is  0.4589487314224243\n",
      "Loss at epoch  294  is  0.4589453339576721\n",
      "Loss at epoch  295  is  0.45894187688827515\n",
      "Loss at epoch  296  is  0.45893844962120056\n",
      "Loss at epoch  297  is  0.45893508195877075\n",
      "Loss at epoch  298  is  0.45893168449401855\n",
      "Loss at epoch  299  is  0.45892831683158875\n",
      "Loss at epoch  300  is  0.45892494916915894\n",
      "Loss at epoch  301  is  0.4589216113090515\n",
      "Loss at epoch  302  is  0.4589182436466217\n",
      "Loss at epoch  303  is  0.45891493558883667\n",
      "Loss at epoch  304  is  0.45891159772872925\n",
      "Loss at epoch  305  is  0.4589082896709442\n",
      "Loss at epoch  306  is  0.4589049816131592\n",
      "Loss at epoch  307  is  0.45890170335769653\n",
      "Loss at epoch  308  is  0.4588984549045563\n",
      "Loss at epoch  309  is  0.45889514684677124\n",
      "Loss at epoch  310  is  0.458891898393631\n",
      "Loss at epoch  311  is  0.4588886499404907\n",
      "Loss at epoch  312  is  0.45888543128967285\n",
      "Loss at epoch  313  is  0.4588821828365326\n",
      "Loss at epoch  314  is  0.4588789641857147\n",
      "Loss at epoch  315  is  0.45887574553489685\n",
      "Loss at epoch  316  is  0.45887255668640137\n",
      "Loss at epoch  317  is  0.4588693380355835\n",
      "Loss at epoch  318  is  0.4588661789894104\n",
      "Loss at epoch  319  is  0.45886296033859253\n",
      "Loss at epoch  320  is  0.45885980129241943\n",
      "Loss at epoch  321  is  0.45885664224624634\n",
      "Loss at epoch  322  is  0.45885348320007324\n",
      "Loss at epoch  323  is  0.45885035395622253\n",
      "Loss at epoch  324  is  0.45884719491004944\n",
      "Loss at epoch  325  is  0.45884406566619873\n",
      "Loss at epoch  326  is  0.45884090662002563\n",
      "Loss at epoch  327  is  0.4588377773761749\n",
      "Loss at epoch  328  is  0.4588346779346466\n",
      "Loss at epoch  329  is  0.4588315188884735\n",
      "Loss at epoch  330  is  0.45882847905158997\n",
      "Loss at epoch  331  is  0.45882534980773926\n",
      "Loss at epoch  332  is  0.45882225036621094\n",
      "Loss at epoch  333  is  0.4588191509246826\n",
      "Loss at epoch  334  is  0.4588160812854767\n",
      "Loss at epoch  335  is  0.45881301164627075\n",
      "Loss at epoch  336  is  0.4588099420070648\n",
      "Loss at epoch  337  is  0.4588069021701813\n",
      "Loss at epoch  338  is  0.45880380272865295\n",
      "Loss at epoch  339  is  0.4588007926940918\n",
      "Loss at epoch  340  is  0.4587976932525635\n",
      "Loss at epoch  341  is  0.4587946832180023\n",
      "Loss at epoch  342  is  0.4587916135787964\n",
      "Loss at epoch  343  is  0.45878860354423523\n",
      "Loss at epoch  344  is  0.4587855935096741\n",
      "Loss at epoch  345  is  0.45878252387046814\n",
      "Loss at epoch  346  is  0.458779513835907\n",
      "Loss at epoch  347  is  0.4587765336036682\n",
      "Loss at epoch  348  is  0.45877349376678467\n",
      "Loss at epoch  349  is  0.4587704837322235\n",
      "Loss at epoch  350  is  0.45876750349998474\n",
      "Loss at epoch  351  is  0.4587644934654236\n",
      "Loss at epoch  352  is  0.4587615132331848\n",
      "Loss at epoch  353  is  0.45875850319862366\n",
      "Loss at epoch  354  is  0.4587555527687073\n",
      "Loss at epoch  355  is  0.4587525725364685\n",
      "Loss at epoch  356  is  0.45874959230422974\n",
      "Loss at epoch  357  is  0.45874664187431335\n",
      "Loss at epoch  358  is  0.4587436616420746\n",
      "Loss at epoch  359  is  0.4587407410144806\n",
      "Loss at epoch  360  is  0.4587377905845642\n",
      "Loss at epoch  361  is  0.4587348401546478\n",
      "Loss at epoch  362  is  0.45873185992240906\n",
      "Loss at epoch  363  is  0.4587289094924927\n",
      "Loss at epoch  364  is  0.4587259590625763\n",
      "Loss at epoch  365  is  0.4587230682373047\n",
      "Loss at epoch  366  is  0.4587201476097107\n",
      "Loss at epoch  367  is  0.4587171971797943\n",
      "Loss at epoch  368  is  0.4587143063545227\n",
      "Loss at epoch  369  is  0.4587113559246063\n",
      "Loss at epoch  370  is  0.4587084949016571\n",
      "Loss at epoch  371  is  0.4587055444717407\n",
      "Loss at epoch  372  is  0.4587026536464691\n",
      "Loss at epoch  373  is  0.4586997628211975\n",
      "Loss at epoch  374  is  0.4586968719959259\n",
      "Loss at epoch  375  is  0.4586939811706543\n",
      "Loss at epoch  376  is  0.4586911201477051\n",
      "Loss at epoch  377  is  0.4586881995201111\n",
      "Loss at epoch  378  is  0.45868533849716187\n",
      "Loss at epoch  379  is  0.45868241786956787\n",
      "Loss at epoch  380  is  0.45867958664894104\n",
      "Loss at epoch  381  is  0.4586767256259918\n",
      "Loss at epoch  382  is  0.4586738348007202\n",
      "Loss at epoch  383  is  0.4586710035800934\n",
      "Loss at epoch  384  is  0.45866814255714417\n",
      "Loss at epoch  385  is  0.45866528153419495\n",
      "Loss at epoch  386  is  0.4586624503135681\n",
      "Loss at epoch  387  is  0.4586595892906189\n",
      "Loss at epoch  388  is  0.45865675806999207\n",
      "Loss at epoch  389  is  0.45865389704704285\n",
      "Loss at epoch  390  is  0.458651065826416\n",
      "Loss at epoch  391  is  0.4586482346057892\n",
      "Loss at epoch  392  is  0.45864540338516235\n",
      "Loss at epoch  393  is  0.4586426019668579\n",
      "Loss at epoch  394  is  0.4586397707462311\n",
      "Loss at epoch  395  is  0.45863693952560425\n",
      "Loss at epoch  396  is  0.4586341083049774\n",
      "Loss at epoch  397  is  0.458631306886673\n",
      "Loss at epoch  398  is  0.45862850546836853\n",
      "Loss at epoch  399  is  0.4586257040500641\n",
      "Loss at epoch  400  is  0.45862287282943726\n",
      "Loss at epoch  401  is  0.4586201012134552\n",
      "Loss at epoch  402  is  0.45861729979515076\n",
      "Loss at epoch  403  is  0.4586145281791687\n",
      "Loss at epoch  404  is  0.45861172676086426\n",
      "Loss at epoch  405  is  0.4586089551448822\n",
      "Loss at epoch  406  is  0.45860618352890015\n",
      "Loss at epoch  407  is  0.4586033821105957\n",
      "Loss at epoch  408  is  0.45860061049461365\n",
      "Loss at epoch  409  is  0.4585978388786316\n",
      "Loss at epoch  410  is  0.45859506726264954\n"
     ]
    },
    {
     "name": "stdout",
     "output_type": "stream",
     "text": [
      "Loss at epoch  411  is  0.4585922956466675\n",
      "Loss at epoch  412  is  0.4585895240306854\n",
      "Loss at epoch  413  is  0.45858678221702576\n",
      "Loss at epoch  414  is  0.4585840404033661\n",
      "Loss at epoch  415  is  0.4585812985897064\n",
      "Loss at epoch  416  is  0.45857852697372437\n",
      "Loss at epoch  417  is  0.4585757851600647\n",
      "Loss at epoch  418  is  0.45857301354408264\n",
      "Loss at epoch  419  is  0.458570271730423\n",
      "Loss at epoch  420  is  0.4585675895214081\n"
     ]
    }
   ],
   "source": [
    "sine_model = model_fitter(num_nodes, dims_array, triples, triples0, delta, delta0,\n",
    "                                   batch_size, batch_size0, epochs + 20, lr=lr, lr_decay=lr_decay,\n",
    "                                  lam=lam, p=p, p0=True)"
   ]
  },
  {
   "cell_type": "code",
   "execution_count": 30,
   "metadata": {
    "collapsed": true
   },
   "outputs": [],
   "source": [
    "clf2 = cluster.KMeans(n_clusters=3)\n",
    "all_embeddings2 = sine_model.get_all_weights()\n",
    "viable_embeddings2 = all_embeddings2[1:,:]\n",
    "labels2 = clf2.fit_predict(viable_embeddings2)"
   ]
  },
  {
   "cell_type": "code",
   "execution_count": 31,
   "metadata": {},
   "outputs": [
    {
     "data": {
      "text/plain": [
       "0.5787338355633499"
      ]
     },
     "execution_count": 31,
     "metadata": {},
     "output_type": "execute_result"
    }
   ],
   "source": [
    "normalized_mutual_info_score(correct_labels, labels2)"
   ]
  },
  {
   "cell_type": "code",
   "execution_count": 985,
   "metadata": {},
   "outputs": [
    {
     "data": {
      "text/plain": [
       "array([2, 2, 2, 2, 1, 1, 1, 1, 1, 1, 1, 0, 0, 1, 1, 0], dtype=int32)"
      ]
     },
     "execution_count": 985,
     "metadata": {},
     "output_type": "execute_result"
    }
   ],
   "source": [
    "labels2"
   ]
  },
  {
   "cell_type": "code",
   "execution_count": 986,
   "metadata": {},
   "outputs": [
    {
     "data": {
      "text/plain": [
       "array([0, 0, 0, 0, 1, 1, 1, 1, 2, 1, 1, 2, 2, 1, 2, 2])"
      ]
     },
     "execution_count": 986,
     "metadata": {},
     "output_type": "execute_result"
    }
   ],
   "source": [
    "correct_labels"
   ]
  },
  {
   "cell_type": "code",
   "execution_count": 987,
   "metadata": {},
   "outputs": [
    {
     "name": "stderr",
     "output_type": "stream",
     "text": [
      "/Users/inzamamrahaman/anaconda3/lib/python3.6/site-packages/sklearn/manifold/mds.py:411: UserWarning: The MDS API has changed. ``fit`` now constructs an dissimilarity matrix from data. To use a custom dissimilarity matrix, set ``dissimilarity='precomputed'``.\n",
      "  warnings.warn(\"The MDS API has changed. ``fit`` now constructs an\"\n"
     ]
    }
   ],
   "source": [
    "mds2 = MDS(n_components=2)\n",
    "projections2 = mds2.fit_transform(viable_embeddings2)"
   ]
  },
  {
   "cell_type": "code",
   "execution_count": 988,
   "metadata": {},
   "outputs": [
    {
     "data": {
      "text/plain": [
       "array([[ 1.14038724, -0.21020809],\n",
       "       [ 1.13298982, -0.29239952],\n",
       "       [ 1.10600903, -0.33663383],\n",
       "       [ 1.13808362, -0.17087467],\n",
       "       [-0.50030631,  0.04200836],\n",
       "       [-0.37069261, -0.01944086],\n",
       "       [-0.48658977,  0.30513621],\n",
       "       [-0.50816242,  0.14152398],\n",
       "       [-0.1690381 , -0.77746951],\n",
       "       [-0.95569187,  0.16212191],\n",
       "       [-0.49320487,  0.18082967],\n",
       "       [ 0.16398252,  0.5205497 ],\n",
       "       [ 0.25886764,  0.21478909],\n",
       "       [-0.46979444,  0.37279428],\n",
       "       [-1.15157093, -0.72538048],\n",
       "       [ 0.16473143,  0.59265373]])"
      ]
     },
     "execution_count": 988,
     "metadata": {},
     "output_type": "execute_result"
    }
   ],
   "source": [
    "projections2"
   ]
  },
  {
   "cell_type": "code",
   "execution_count": 989,
   "metadata": {},
   "outputs": [
    {
     "data": {
      "image/png": "[encoded data removed]",
      "text/plain": [
       "<matplotlib.figure.Figure at 0x1a1cc2b048>"
      ]
     },
     "metadata": {},
     "output_type": "display_data"
    }
   ],
   "source": [
    "font_dict = fontdict={'fontsize': 20,\n",
    " 'fontweight' : rcParams['axes.titleweight'],\n",
    " 'verticalalignment': 'baseline'}\n",
    "\n",
    "ax.set_xlabel('component1', fontdict=font_dict)\n",
    "ax.set_ylabel('component2', fontdict=font_dict)\n",
    "#ax.legend(prop={'size': font_dict['fontsize']})\n",
    "ax.grid(True)\n",
    "fig, ax = plt.subplots()\n",
    "ax.scatter(projections2[:,0], projections2[:,1], c=colors)\n",
    "# for i,_ in enumerate(colors):\n",
    "#     s = int(data.id_assigner.id2object(i + 1))\n",
    "#     ax.annotate(s, (float(projections2[i, 0]), float(projections2[i, 1])))\n",
    "fig.savefig('Tribes-SiNE.png')"
   ]
  },
  {
   "cell_type": "code",
   "execution_count": 34,
   "metadata": {},
   "outputs": [
    {
     "name": "stdout",
     "output_type": "stream",
     "text": [
      "SVD error (low rank): 0.027559\n"
     ]
    }
   ],
   "source": [
    "hope_model = models.fit_hope(dims, data.X, directed=False)"
   ]
  },
  {
   "cell_type": "code",
   "execution_count": 35,
   "metadata": {
    "collapsed": true
   },
   "outputs": [],
   "source": [
    "all_embeddings3 = hope_model.get_all_weights()"
   ]
  },
  {
   "cell_type": "code",
   "execution_count": 40,
   "metadata": {
    "collapsed": true
   },
   "outputs": [],
   "source": [
    "clf3 = cluster.KMeans(n_clusters=3)\n",
    "viable_embeddings3 = all_embeddings3\n",
    "labels3 = clf3.fit_predict(viable_embeddings3)"
   ]
  },
  {
   "cell_type": "code",
   "execution_count": 41,
   "metadata": {},
   "outputs": [
    {
     "data": {
      "text/plain": [
       "0.14656852561320027"
      ]
     },
     "execution_count": 41,
     "metadata": {},
     "output_type": "execute_result"
    }
   ],
   "source": [
    "normalized_mutual_info_score(correct_labels, labels3)"
   ]
  },
  {
   "cell_type": "code",
   "execution_count": 43,
   "metadata": {},
   "outputs": [
    {
     "name": "stderr",
     "output_type": "stream",
     "text": [
      "/Users/inzamamrahaman/anaconda3/lib/python3.6/site-packages/sklearn/manifold/mds.py:411: UserWarning: The MDS API has changed. ``fit`` now constructs an dissimilarity matrix from data. To use a custom dissimilarity matrix, set ``dissimilarity='precomputed'``.\n",
      "  warnings.warn(\"The MDS API has changed. ``fit`` now constructs an\"\n"
     ]
    }
   ],
   "source": [
    "mds3 = MDS(n_components=2)\n",
    "projections3 = mds3.fit_transform(viable_embeddings3)"
   ]
  },
  {
   "cell_type": "code",
   "execution_count": 44,
   "metadata": {},
   "outputs": [
    {
     "data": {
      "text/plain": [
       "array([[-0.17978805,  0.04811187],\n",
       "       [-0.0872143 ,  0.16555319],\n",
       "       [ 0.07553115,  0.09264095],\n",
       "       [ 0.04156812, -0.02088484],\n",
       "       [-0.14911723, -0.07295552],\n",
       "       [-0.08788567,  0.08097569],\n",
       "       [-0.00910938,  0.10167321],\n",
       "       [-0.04184588, -0.09852043],\n",
       "       [-0.09868159, -0.02951219],\n",
       "       [ 0.07591886,  0.14945148],\n",
       "       [-0.0697521 , -0.18109432],\n",
       "       [ 0.1387922 , -0.03084327],\n",
       "       [ 0.08647515,  0.00497352],\n",
       "       [ 0.128694  , -0.12164165],\n",
       "       [ 0.03996331, -0.1527649 ],\n",
       "       [ 0.13645141,  0.06483722]])"
      ]
     },
     "execution_count": 44,
     "metadata": {},
     "output_type": "execute_result"
    }
   ],
   "source": [
    "projections3"
   ]
  },
  {
   "cell_type": "code",
   "execution_count": 45,
   "metadata": {},
   "outputs": [
    {
     "data": {
      "image/png": "[encoded data removed]",
      "text/plain": [
       "<matplotlib.figure.Figure at 0x1a20817588>"
      ]
     },
     "metadata": {},
     "output_type": "display_data"
    }
   ],
   "source": [
    "font_dict = fontdict={'fontsize': 20,\n",
    " 'fontweight' : rcParams['axes.titleweight'],\n",
    " 'verticalalignment': 'baseline'}\n",
    "\n",
    "ax.set_xlabel('component1', fontdict=font_dict)\n",
    "ax.set_ylabel('component2', fontdict=font_dict)\n",
    "#ax.legend(prop={'size': font_dict['fontsize']})\n",
    "ax.grid(True)\n",
    "fig, ax = plt.subplots()\n",
    "ax.scatter(projections3[:,0], projections3[:,1], c=colors)\n",
    "for i,_ in enumerate(colors):\n",
    "    s = int(data.id_assigner.id2object(i + 1))\n",
    "    ax.annotate(s, (float(projections3[i, 0]), float(projections3[i, 1])))\n",
    "fig.savefig('Tribes-HOPE.png')"
   ]
  },
  {
   "cell_type": "code",
   "execution_count": null,
   "metadata": {
    "collapsed": true
   },
   "outputs": [],
   "source": []
  }
 ],
 "metadata": {
  "kernelspec": {
   "display_name": "Python 3",
   "language": "python",
   "name": "python3"
  },
  "language_info": {
   "codemirror_mode": {
    "name": "ipython",
    "version": 3
   },
   "file_extension": ".py",
   "mimetype": "text/x-python",
   "name": "python",
   "nbconvert_exporter": "python",
   "pygments_lexer": "ipython3",
   "version": "3.6.3"
  }
 },
 "nbformat": 4,
 "nbformat_minor": 2
}
