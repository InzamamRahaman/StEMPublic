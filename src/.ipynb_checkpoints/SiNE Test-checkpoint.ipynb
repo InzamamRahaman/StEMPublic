{
 "cells": [
  {
   "cell_type": "code",
   "execution_count": 1,
   "metadata": {},
   "outputs": [
    {
     "name": "stdout",
     "output_type": "stream",
     "text": [
      "Populating the interactive namespace from numpy and matplotlib\n"
     ]
    }
   ],
   "source": [
    "%load_ext autoreload\n",
    "%autoreload 2\n",
    "\n",
    "%pylab inline\n",
    "\n",
    "import dataloaders\n",
    "import models\n",
    "import sklearn.linear_model as linear_model\n",
    "import sklearn.metrics as metrics \n",
    "import sklearn.cluster as cluster\n",
    "import numpy as np \n",
    "import random\n",
    "import classifiers\n",
    "from torch.autograd import Variable\n",
    "import torch\n",
    "import torch.nn as nn \n",
    "import torch.optim as optim\n",
    "\n",
    "from imblearn.under_sampling import RandomUnderSampler"
   ]
  },
  {
   "cell_type": "code",
   "execution_count": 2,
   "metadata": {
    "collapsed": true
   },
   "outputs": [],
   "source": [
    "filepath = '../data/soc-sign-Slashdot081106-cleaned.csv'\n",
    "data = dataloaders.UnsplitDataset(filepath, ratio=0.8, delimiter=',')"
   ]
  },
  {
   "cell_type": "code",
   "execution_count": 113,
   "metadata": {
    "collapsed": true
   },
   "outputs": [],
   "source": [
    "num_nodes = data.get_num_nodes()\n",
    "dims = 32\n",
    "epochs = 100\n",
    "lr = 0.1\n",
    "lr_decay=0.0\n",
    "weight_decay=0.0\n",
    "lam = 0.00055\n",
    "p = 2\n",
    "delta = 1\n",
    "delta0 = 0.5\n",
    "dims_array = [dims, 20, 20]"
   ]
  },
  {
   "cell_type": "code",
   "execution_count": 114,
   "metadata": {},
   "outputs": [],
   "source": [
    "triples, triples0 = data.get_training_triples(True)"
   ]
  },
  {
   "cell_type": "code",
   "execution_count": 115,
   "metadata": {
    "collapsed": true
   },
   "outputs": [],
   "source": [
    "batch_size = int(0.4 * len(triples))\n",
    "batch_size0 = int(0.4 * len(triples0))"
   ]
  },
  {
   "cell_type": "code",
   "execution_count": 116,
   "metadata": {},
   "outputs": [
    {
     "name": "stdout",
     "output_type": "stream",
     "text": [
      "Loss at epoch  1  is  1.8696781396865845\n"
     ]
    }
   ],
   "source": [
    "sine_model = models.fit_sine_model(num_nodes, dims_array, triples, triples0, delta, delta0,\n",
    "                                   batch_size, batch_size0, epochs, lr=lr, lr_decay=lr_decay,\n",
    "                                  lam=lam, p=p)"
   ]
  },
  {
   "cell_type": "code",
   "execution_count": 117,
   "metadata": {},
   "outputs": [
    {
     "name": "stdout",
     "output_type": "stream",
     "text": [
      "0\n",
      "1\n",
      "2\n",
      "3\n",
      "4\n",
      "5\n",
      "6\n"
     ]
    }
   ],
   "source": [
    "for i, param in enumerate(sine_model.parameters()):\n",
    "    print(i)"
   ]
  },
  {
   "cell_type": "code",
   "execution_count": 118,
   "metadata": {
    "collapsed": true
   },
   "outputs": [],
   "source": [
    "X_train, y_train = data.get_training_set()\n",
    "X_test, y_test = data.get_testing_set()"
   ]
  },
  {
   "cell_type": "code",
   "execution_count": 119,
   "metadata": {},
   "outputs": [
    {
     "name": "stdout",
     "output_type": "stream",
     "text": [
      "Assembling training set features....\n",
      "Fitting classifier model\n",
      "Assembling testing set features\n"
     ]
    },
    {
     "name": "stderr",
     "output_type": "stream",
     "text": [
      "/Users/inzamamrahaman/anaconda3/lib/python3.6/site-packages/sklearn/metrics/classification.py:1135: UndefinedMetricWarning: F-score is ill-defined and being set to 0.0 in labels with no predicted samples.\n",
      "  'precision', 'predicted', average, warn_for)\n",
      "/Users/inzamamrahaman/anaconda3/lib/python3.6/site-packages/sklearn/metrics/classification.py:1135: UndefinedMetricWarning: Precision and F-score are ill-defined and being set to 0.0 in labels with no predicted samples.\n",
      "  'precision', 'predicted', average, warn_for)\n"
     ]
    }
   ],
   "source": [
    "clf = linear_model.LogisticRegression()\n",
    "reports = classifiers.train_and_evaluate_classifier(clf, sine_model, X_train, y_train, X_test, y_test,\n",
    "                                                    operation='l2', undersample=True, ratio=3)"
   ]
  },
  {
   "cell_type": "code",
   "execution_count": 120,
   "metadata": {},
   "outputs": [
    {
     "data": {
      "text/plain": [
       "{'auc': 0.52952102445810445,\n",
       " 'average_percision_score': 0.76605103219555659,\n",
       " 'classification_report': '             precision    recall  f1-score   support\\n\\n          0       0.00      0.00      0.00     24272\\n          1       0.75      1.00      0.86     72816\\n\\navg / total       0.56      0.75      0.64     97088\\n',\n",
       " 'confusion_matrix': array([[    0, 24272],\n",
       "        [    0, 72816]]),\n",
       " 'macro_f1': 0.42857142857142855,\n",
       " 'micro_f1': 0.75}"
      ]
     },
     "execution_count": 120,
     "metadata": {},
     "output_type": "execute_result"
    }
   ],
   "source": [
    "reports"
   ]
  },
  {
   "cell_type": "code",
   "execution_count": 121,
   "metadata": {},
   "outputs": [
    {
     "name": "stdout",
     "output_type": "stream",
     "text": [
      "0.529521024458\n"
     ]
    }
   ],
   "source": [
    "print(reports['auc'])"
   ]
  },
  {
   "cell_type": "code",
   "execution_count": 122,
   "metadata": {},
   "outputs": [
    {
     "name": "stdout",
     "output_type": "stream",
     "text": [
      "0.75\n"
     ]
    }
   ],
   "source": [
    "print(reports['micro_f1'])"
   ]
  },
  {
   "cell_type": "code",
   "execution_count": 123,
   "metadata": {},
   "outputs": [
    {
     "name": "stdout",
     "output_type": "stream",
     "text": [
      "             precision    recall  f1-score   support\n",
      "\n",
      "          0       0.00      0.00      0.00     24272\n",
      "          1       0.75      1.00      0.86     72816\n",
      "\n",
      "avg / total       0.56      0.75      0.64     97088\n",
      "\n"
     ]
    }
   ],
   "source": [
    "print(reports['classification_report'])"
   ]
  },
  {
   "cell_type": "code",
   "execution_count": 124,
   "metadata": {},
   "outputs": [
    {
     "name": "stdout",
     "output_type": "stream",
     "text": [
      "[[    0 24272]\n",
      " [    0 72816]]\n"
     ]
    }
   ],
   "source": [
    "print(reports['confusion_matrix'])"
   ]
  },
  {
   "cell_type": "code",
   "execution_count": 92,
   "metadata": {},
   "outputs": [
    {
     "name": "stdout",
     "output_type": "stream",
     "text": [
      "Parameter containing:\n",
      " 1.3332 -0.0451 -0.0104  ...  -1.3903  1.3261  0.8171\n",
      "-0.5299  0.1871 -0.4839  ...  -0.4835  0.0767 -0.1680\n",
      "-0.2715 -0.3435  0.6422  ...   0.8871 -0.0059 -1.8913\n",
      "          ...             ⋱             ...          \n",
      " 0.0000 -0.0132  0.0151  ...   0.0138 -0.0000  0.0028\n",
      " 0.0001 -0.0276  0.0242  ...   0.0292 -0.0022  0.0137\n",
      " 0.0000 -0.0121  0.0092  ...   0.0141 -0.0007  0.1093\n",
      "[torch.FloatTensor of size 77351x32]\n",
      "\n",
      "Parameter containing:\n",
      " 0.2410\n",
      "-0.0200\n",
      " 0.2561\n",
      "-0.1663\n",
      "-0.0065\n",
      " 0.2114\n",
      "-0.4403\n",
      "-0.2890\n",
      " 0.1642\n",
      "-0.2407\n",
      "-0.3500\n",
      "-0.5050\n",
      " 0.2420\n",
      "-0.1902\n",
      "-0.0539\n",
      " 0.0102\n",
      " 0.2058\n",
      " 0.1469\n",
      "-0.3522\n",
      "-0.1306\n",
      "[torch.FloatTensor of size 20]\n",
      "\n",
      "Parameter containing:\n",
      "\n",
      "Columns 0 to 9 \n",
      "-0.5605  0.4398 -0.1512  0.3217  0.6279 -0.6841 -0.4576  0.2491  0.0731 -0.1670\n",
      " 0.2504 -0.0348  0.3824  0.1482 -0.2671  0.2671  0.3314 -0.5802 -0.2061 -0.4273\n",
      "-0.0628 -0.1842 -0.5106  0.2699 -0.2480  0.0231 -0.7662 -0.1069 -0.7997 -0.5386\n",
      "-0.3472 -0.1584  0.1214 -0.0892 -0.3494  0.5786  0.6190  0.0043  0.1317 -0.6065\n",
      " 0.4409 -0.0281 -0.4880  0.9723  0.2645  0.3787  0.4897 -0.3884  0.2639 -0.7977\n",
      " 0.6232  0.4047 -0.0385  0.9156  0.8548 -0.8948 -0.0865  0.4340 -0.9522 -0.4670\n",
      " 0.4156 -0.5617 -0.0622  1.1583 -0.5816  0.4266  0.6777 -0.1231  0.7626  0.0693\n",
      " 0.1162 -0.2685  0.4277 -0.7853 -0.7794  0.6120 -0.1411 -0.2266  0.0655  0.2899\n",
      " 0.8774  0.2946 -0.0455 -0.4664  0.2290 -0.2917 -0.0260  0.6635 -0.5841 -0.2034\n",
      "-0.5435 -0.2542  0.3908  0.8788 -0.5439  0.6355  0.5769 -0.3543  0.8380 -0.5964\n",
      " 0.5619 -0.6049 -0.0508  0.2994 -0.0555  0.3880  0.7026  0.6166  0.0978 -0.2860\n",
      " 0.5320 -0.4411  0.7241 -0.3315 -0.1599  0.0398  0.3264 -0.5260 -0.6352 -1.0607\n",
      "-0.5247 -0.1997  0.0356  0.0843  0.7175 -0.5787  0.3873  0.7008  0.0284 -0.5342\n",
      "-0.5080 -0.0886  0.5654 -0.9295 -0.2202  0.4770  0.1572  0.0593  0.0106  0.5819\n",
      " 0.6266 -0.3524  0.5186 -1.0299 -0.5317 -0.5499  0.5966  0.2717  1.2029 -0.3347\n",
      " 0.8545  0.0423 -0.0374  0.0124  0.1136 -0.3374 -0.2357 -0.1032 -0.4817  0.0656\n",
      " 0.4244  0.7548 -0.0418  0.8063  0.3622 -1.0703 -0.4816  0.2073 -0.6602 -0.5235\n",
      " 0.2050  0.4578 -0.6760  0.6149  0.4614 -0.6982 -0.3969 -0.3796 -0.2025 -0.0293\n",
      "-0.7073 -0.5620  0.5598  0.0118 -0.1736 -0.0689  0.8442 -0.3862  0.3435 -0.7521\n",
      " 0.1335 -0.0760  0.3137 -0.3710 -0.4943  0.3921  0.2685  0.0443  0.2340 -0.7567\n",
      "\n",
      "Columns 10 to 19 \n",
      "-1.0326  0.7537  0.0448 -0.6619  0.0856  0.2052 -0.0797 -0.5942 -0.8745  0.1287\n",
      " 0.2906 -0.2349 -0.1114 -0.3912 -0.0436 -0.6067 -0.4790  0.3090  0.8044  0.5982\n",
      "-0.9965  0.5440  0.2248 -0.3710 -0.7559  0.5977  0.0152 -0.5350  0.3072 -0.5098\n",
      " 0.5395  0.0090 -0.4323  0.3234  0.3717 -0.1716  0.5113  0.4789  0.0501  0.5319\n",
      "-0.1757  0.2603  1.3579  0.4732  0.6406 -0.1864  0.6415  0.2483 -1.0521 -0.7204\n",
      " 1.5050  0.8981  0.4792  0.6215 -0.0267  0.5787 -1.0134 -0.3674 -0.6904 -0.3074\n",
      "-0.3397  1.6314 -0.5441 -0.1667  0.0733  0.3301  0.6932  0.8353  0.8951  0.2047\n",
      "-0.8172  0.3472  0.5057 -0.7365  0.8839 -0.0992 -0.5983  0.3036 -0.0410  0.4725\n",
      "-0.5471 -0.1075 -0.4217 -0.3529  1.3324  0.3922  1.0998 -0.4203 -0.4510  0.2163\n",
      " 0.0684 -0.1363  0.5115 -0.5042 -0.4130 -0.6024 -0.9203  0.2209  0.2362 -0.2234\n",
      " 0.2109  0.0620  0.0654 -0.2363  0.3944 -0.5882 -0.1683  0.3310  0.5196  0.3195\n",
      "-0.4767  0.4212 -0.1498  0.5692 -0.3214 -0.5319 -0.2242  0.1720  0.5388  0.1230\n",
      " 0.1088 -0.2269 -0.8183  0.3608 -0.1817  0.2616  0.7273 -0.4266 -0.0880 -0.3902\n",
      " 0.0089  0.0195 -0.8780 -0.0088  0.1163 -0.1260 -0.1335  0.2554  0.6770  0.4711\n",
      "-0.2557  0.5917  0.6075 -0.5010 -0.2208  0.0527 -0.5342 -0.4351 -0.1501  0.0553\n",
      " 0.2584  0.0128  1.1012 -0.9582 -0.0315  0.0787  1.0633 -0.2243 -0.2098  0.4867\n",
      "-0.6096 -0.8480 -0.4247 -0.0097  0.2305  0.3503  0.5592  0.0085  0.1491  0.5767\n",
      "-0.7161  0.5396 -0.4065 -0.1938  0.1899 -0.0140 -0.0042 -0.7443 -0.6516  0.0193\n",
      " 0.1087 -0.7278  0.0358 -0.0052 -0.5614 -0.7843  0.6100  0.2640 -0.3077  0.5790\n",
      " 0.0360  0.6092  0.6732 -0.2802  0.8822 -0.4025  0.0833  0.1759 -0.1552  0.2912\n",
      "\n",
      "Columns 20 to 29 \n",
      "-0.6296  0.2287  0.4090 -0.7569 -0.0998 -0.2013 -0.5292 -0.5813 -0.0817 -0.0433\n",
      " 0.4423  0.4566  0.1922  0.2619  0.4824  0.3158  0.4417 -0.3601  0.5892  0.2531\n",
      " 0.1525 -0.4992 -0.8840 -0.4460 -0.0043 -0.6971 -0.3670  0.0696 -0.1524 -0.7926\n",
      " 0.3747  0.3090  0.0573  0.1114  0.2784  0.3094 -0.5266  0.1605 -0.2455  0.3139\n",
      "-0.0584 -0.3838 -0.1442  0.1052 -0.3403  0.3647 -0.5255  0.0552  0.4127  0.1074\n",
      "-0.1459 -0.0535 -0.6019 -0.3596  0.0970 -0.0262 -0.1130  0.1057  0.1323 -1.0141\n",
      "-0.3976  0.5399  0.2547  0.7109 -0.1517  0.2207  0.5428 -0.3279 -0.2516  0.8593\n",
      " 0.2190  0.5877  0.2854 -0.2430 -0.2123  0.3547  0.5011 -0.1533 -0.5689  0.2570\n",
      "-0.4933 -0.2696 -0.8639 -0.4261  0.3626 -0.2068 -0.8875  0.1442  0.1849  0.0976\n",
      " 0.5166  0.3191  0.6665  0.4203  0.6570  0.4151 -0.0744 -0.3823  0.4254  0.0078\n",
      " 0.5378  0.3288  0.4664  0.6320  0.5702 -0.3110  0.6822 -0.4623 -0.5363 -0.4665\n",
      " 0.5924  0.4019 -0.2307  0.4623 -0.3140  0.7777 -0.9991  0.2619 -0.1271  0.9516\n",
      "-0.6318 -0.4301 -0.5943  0.1092  0.5326 -0.5688 -0.2039  0.5305  0.6346 -0.3066\n",
      " 0.4936  0.4730  0.2862 -0.0778 -0.0941  0.1814  0.3614 -0.2598 -0.3859  0.4117\n",
      "-0.2166 -0.1615  0.6112  0.2788 -0.1139  0.5101  0.3786  0.1057  0.3509  0.0083\n",
      "-0.5586  0.0527 -0.1428 -0.1913  0.0010 -0.5173 -0.1074  0.6895 -0.3542 -0.1144\n",
      "-0.4288 -0.2045 -0.2507  0.1610 -0.5323 -0.8323  0.1854  0.3707 -0.0192 -0.6143\n",
      "-0.6270 -0.0717 -0.2042 -0.3544  0.4713 -0.7777 -0.8291 -0.0598 -0.3060 -0.8864\n",
      " 0.8276  0.6487  0.9653  0.1767 -0.4791  0.6326  0.1579 -0.6198 -0.7286 -0.4830\n",
      " 0.1188  0.5383  0.5422  0.1039  0.6608  0.3233 -0.2916 -0.3341 -0.0191  0.1917\n",
      "\n",
      "Columns 30 to 31 \n",
      "-0.9933 -0.2379\n",
      " 1.1002  0.6396\n",
      " 0.8026 -0.0456\n",
      " 0.1387  0.2216\n",
      "-0.8106 -0.5080\n",
      "-0.3547 -0.4354\n",
      " 0.4114 -0.7640\n",
      " 0.3031  0.7858\n",
      "-0.2178 -0.5041\n",
      " 0.2879 -0.2032\n",
      "-0.8156  0.5571\n",
      "-1.1767  0.6589\n",
      "-0.4524 -0.4199\n",
      "-0.1322  0.5352\n",
      " 0.3052  0.0224\n",
      " 0.1886 -0.0802\n",
      " 0.4265  0.4821\n",
      "-0.1206 -0.1229\n",
      " 0.0419 -0.5332\n",
      " 0.4353  0.4694\n",
      "[torch.FloatTensor of size 20x32]\n",
      "\n"
     ]
    }
   ],
   "source": []
  },
  {
   "cell_type": "code",
   "execution_count": 88,
   "metadata": {},
   "outputs": [
    {
     "data": {
      "text/plain": [
       "0.23493200406523737"
      ]
     },
     "execution_count": 88,
     "metadata": {},
     "output_type": "execute_result"
    }
   ],
   "source": [
    "len(y_test[y_test == 0])/len(y_test)"
   ]
  },
  {
   "cell_type": "code",
   "execution_count": 24,
   "metadata": {},
   "outputs": [
    {
     "data": {
      "text/plain": [
       "0.23211779509267774"
      ]
     },
     "execution_count": 24,
     "metadata": {},
     "output_type": "execute_result"
    }
   ],
   "source": [
    "len(y_train[y_train == 0])/len(y_train)"
   ]
  },
  {
   "cell_type": "code",
   "execution_count": 25,
   "metadata": {
    "collapsed": true
   },
   "outputs": [],
   "source": [
    "y = data.y"
   ]
  },
  {
   "cell_type": "code",
   "execution_count": 251,
   "metadata": {},
   "outputs": [
    {
     "data": {
      "text/plain": [
       "0.10010676556529557"
      ]
     },
     "execution_count": 251,
     "metadata": {},
     "output_type": "execute_result"
    }
   ],
   "source": [
    "len(y[y == 0]) / len(y)"
   ]
  },
  {
   "cell_type": "code",
   "execution_count": 252,
   "metadata": {},
   "outputs": [
    {
     "name": "stdout",
     "output_type": "stream",
     "text": [
      "0.8798882681564246\n"
     ]
    }
   ],
   "source": [
    "count = 0.0\n",
    "for x, y in X_test[y_test == 0]:\n",
    "    x = Variable(torch.LongTensor([int(x)]))\n",
    "    y = Variable(torch.LongTensor([int(y)]))\n",
    "    output = kernel_model(x, y).data.numpy()[0]\n",
    "    neg = output[0]\n",
    "    pos = output[1]\n",
    "    count += 1 if neg > pos else 0\n",
    "print(count / len(X_test[y_test == 0]))"
   ]
  },
  {
   "cell_type": "code",
   "execution_count": 253,
   "metadata": {},
   "outputs": [
    {
     "name": "stdout",
     "output_type": "stream",
     "text": [
      "0.8204247345409119\n"
     ]
    }
   ],
   "source": [
    "count = 0.0\n",
    "for x, y in X_test[y_test == 1]:\n",
    "    x = Variable(torch.LongTensor([int(x)]))\n",
    "    y = Variable(torch.LongTensor([int(y)]))\n",
    "    output = kernel_model(x, y).data.numpy()[0]\n",
    "    neg = output[0]\n",
    "    pos = output[1]\n",
    "    count += 1 if neg < pos else 0\n",
    "print(count / len(X_test[y_test == 1]))"
   ]
  },
  {
   "cell_type": "code",
   "execution_count": 254,
   "metadata": {},
   "outputs": [
    {
     "name": "stdout",
     "output_type": "stream",
     "text": [
      "0.8798882681564246\n",
      "0.8204247345409119\n"
     ]
    }
   ],
   "source": [
    "count = 0.0\n",
    "A = []\n",
    "b = []\n",
    "for x, y in X_test[y_test == 0]:\n",
    "    x = Variable(torch.LongTensor([int(x)]))\n",
    "    y = Variable(torch.LongTensor([int(y)]))\n",
    "    output = kernel_model(x, y).data.numpy()[0]\n",
    "    neg = output[0]\n",
    "    pos = output[1]\n",
    "    A.append(pos)\n",
    "    b.append(0)\n",
    "    count += 1 if neg > pos else 0\n",
    "print(count / len(X_test[y_test == 0]))\n",
    "count = 0.0\n",
    "for x, y in X_test[y_test == 1]:\n",
    "    x = Variable(torch.LongTensor([int(x)]))\n",
    "    y = Variable(torch.LongTensor([int(y)]))\n",
    "    output = kernel_model(x, y).data.numpy()[0]\n",
    "    neg = output[0]\n",
    "    pos = output[1]\n",
    "    A.append(pos)\n",
    "    b.append(1)\n",
    "    count += 1 if neg < pos else 0\n",
    "print(count / len(X_test[y_test == 1]))"
   ]
  },
  {
   "cell_type": "code",
   "execution_count": 255,
   "metadata": {},
   "outputs": [
    {
     "data": {
      "text/plain": [
       "0.91300304628043227"
      ]
     },
     "execution_count": 255,
     "metadata": {},
     "output_type": "execute_result"
    }
   ],
   "source": [
    "metrics.roc_auc_score(b, A)"
   ]
  },
  {
   "cell_type": "code",
   "execution_count": 256,
   "metadata": {
    "collapsed": true
   },
   "outputs": [],
   "source": [
    "class EnergyToProbsLayer(nn.Module):\n",
    "    def __init__(self):\n",
    "        super(EnergyToProbsLayer, self).__init__()\n",
    "        self.transform = nn.Sigmoid()\n",
    "    def forward(self, x):\n",
    "        ones = torch.ones_like(x)\n",
    "        positive_prob = self.transform(x)\n",
    "        negative_prob = ones - positive_prob\n",
    "        output = torch.cat((negative_prob, positive_prob), dim=1)\n",
    "        #output = torch.log(output)\n",
    "        return output\n",
    "        \n",
    "\n",
    "class BilinearEmbeddingModel(nn.Module):\n",
    "    def __init__(self, num_nodes, dims=128):\n",
    "        super(BilinearEmbeddingModel, self).__init__()\n",
    "        self.embeddings = nn.Embedding(num_nodes + 1, dims)\n",
    "        self.initial_layer = nn.Linear(dims, int(dims/2))\n",
    "        self.initial_transform = nn.ReLU()\n",
    "        self.layer = nn.Bilinear(int(dims/2), int(dims/2), 1)\n",
    "        self.transform_layer= EnergyToProbsLayer()\n",
    "    \n",
    "    def get_embedding(self, x):\n",
    "        x = Variable(torch.LongTensor([x]))\n",
    "        emb = self.embeddings(x)\n",
    "        transformed = self.initial_layer(emb)\n",
    "        emb = transformed.data.numpy()[0]\n",
    "        return emb\n",
    "\n",
    "        \n",
    "    def forward(self, u, v):\n",
    "        u_emb = self.embeddings(u)\n",
    "        v_emb = self.embeddings(v)\n",
    "        u_emb = self.initial_transform(self.initial_layer(u_emb))\n",
    "        v_emb = self.initial_transform(self.initial_layer(v_emb))\n",
    "        energy = self.layer(u_emb, v_emb)\n",
    "        probs = self.transform_layer(energy)\n",
    "        return probs"
   ]
  },
  {
   "cell_type": "code",
   "execution_count": 257,
   "metadata": {
    "collapsed": true
   },
   "outputs": [],
   "source": [
    "X_train_pos = X_train[y_train == 1]\n",
    "X_train_neg = X_train[y_train == 0]"
   ]
  },
  {
   "cell_type": "code",
   "execution_count": 258,
   "metadata": {},
   "outputs": [
    {
     "data": {
      "text/plain": [
       "-25622"
      ]
     },
     "execution_count": 258,
     "metadata": {},
     "output_type": "execute_result"
    }
   ],
   "source": [
    "len(X_train_neg) - len(X_train_pos)"
   ]
  },
  {
   "cell_type": "code",
   "execution_count": 259,
   "metadata": {},
   "outputs": [
    {
     "name": "stdout",
     "output_type": "stream",
     "text": [
      "5881\n"
     ]
    }
   ],
   "source": [
    "batch_frac = 0.1\n",
    "epochs = 200\n",
    "alpha = 0.7\n",
    "dim = 32\n",
    "beta = 0.1\n",
    "size = data.get_num_nodes()\n",
    "print(size)\n",
    "model = BilinearEmbeddingModel(size, dim)\n",
    "optimizer = optim.Adagrad(model.parameters(), lr=alpha, lr_decay=beta)\n",
    "lam = 0.0055"
   ]
  },
  {
   "cell_type": "code",
   "execution_count": 260,
   "metadata": {},
   "outputs": [
    {
     "name": "stdout",
     "output_type": "stream",
     "text": [
      "3205\n",
      "2564\n"
     ]
    }
   ],
   "source": [
    "negative_batch_size = len(X_train_neg)\n",
    "positive_batch_size = int(0.8 * negative_batch_size)\n",
    "num_positive = len(X_train_pos)\n",
    "\n",
    "\n",
    "criterion = nn.CrossEntropyLoss(size_average=True)\n",
    "regularizer = lambda x: torch.norm(x - torch.zeros_like(x))\n",
    "print(negative_batch_size)\n",
    "print(positive_batch_size)"
   ]
  },
  {
   "cell_type": "code",
   "execution_count": 261,
   "metadata": {},
   "outputs": [
    {
     "name": "stdout",
     "output_type": "stream",
     "text": [
      "Loss at iteration  0  is  \n",
      " 3.1082\n",
      "[torch.FloatTensor of size 1]\n",
      "\n",
      "Loss at iteration  1  is  \n",
      " 2.4626\n",
      "[torch.FloatTensor of size 1]\n",
      "\n",
      "Loss at iteration  2  is  \n",
      " 1.7610\n",
      "[torch.FloatTensor of size 1]\n",
      "\n",
      "Loss at iteration  3  is  \n",
      " 1.3609\n",
      "[torch.FloatTensor of size 1]\n",
      "\n",
      "Loss at iteration  4  is  \n",
      " 1.4519\n",
      "[torch.FloatTensor of size 1]\n",
      "\n",
      "Loss at iteration  5  is  \n",
      " 1.2471\n",
      "[torch.FloatTensor of size 1]\n",
      "\n",
      "Loss at iteration  6  is  \n",
      " 1.1656\n",
      "[torch.FloatTensor of size 1]\n",
      "\n",
      "Loss at iteration  7  is  \n",
      " 1.0918\n",
      "[torch.FloatTensor of size 1]\n",
      "\n",
      "Loss at iteration  8  is  \n",
      " 1.0441\n",
      "[torch.FloatTensor of size 1]\n",
      "\n",
      "Loss at iteration  9  is  \n",
      " 0.9981\n",
      "[torch.FloatTensor of size 1]\n",
      "\n",
      "Loss at iteration  10  is  \n",
      " 0.9836\n",
      "[torch.FloatTensor of size 1]\n",
      "\n",
      "Loss at iteration  11  is  \n",
      " 0.9513\n",
      "[torch.FloatTensor of size 1]\n",
      "\n",
      "Loss at iteration  12  is  \n",
      " 0.9050\n",
      "[torch.FloatTensor of size 1]\n",
      "\n",
      "Loss at iteration  13  is  \n",
      " 0.8665\n",
      "[torch.FloatTensor of size 1]\n",
      "\n",
      "Loss at iteration  14  is  \n",
      " 0.8369\n",
      "[torch.FloatTensor of size 1]\n",
      "\n",
      "Loss at iteration  15  is  \n",
      " 0.8063\n",
      "[torch.FloatTensor of size 1]\n",
      "\n",
      "Loss at iteration  16  is  \n",
      " 0.7851\n",
      "[torch.FloatTensor of size 1]\n",
      "\n",
      "Loss at iteration  17  is  \n",
      " 0.7630\n",
      "[torch.FloatTensor of size 1]\n",
      "\n",
      "Loss at iteration  18  is  \n",
      " 0.7481\n",
      "[torch.FloatTensor of size 1]\n",
      "\n",
      "Loss at iteration  19  is  \n",
      " 0.7314\n",
      "[torch.FloatTensor of size 1]\n",
      "\n",
      "Loss at iteration  20  is  \n",
      " 0.7142\n",
      "[torch.FloatTensor of size 1]\n",
      "\n",
      "Loss at iteration  21  is  \n",
      " 0.7007\n",
      "[torch.FloatTensor of size 1]\n",
      "\n",
      "Loss at iteration  22  is  \n",
      " 0.6978\n",
      "[torch.FloatTensor of size 1]\n",
      "\n",
      "Loss at iteration  23  is  \n",
      " 0.6823\n",
      "[torch.FloatTensor of size 1]\n",
      "\n",
      "Loss at iteration  24  is  \n",
      " 0.6741\n",
      "[torch.FloatTensor of size 1]\n",
      "\n",
      "Loss at iteration  25  is  \n",
      " 0.6679\n",
      "[torch.FloatTensor of size 1]\n",
      "\n",
      "Loss at iteration  26  is  \n",
      " 0.6628\n",
      "[torch.FloatTensor of size 1]\n",
      "\n",
      "Loss at iteration  27  is  \n",
      " 0.6590\n",
      "[torch.FloatTensor of size 1]\n",
      "\n",
      "Loss at iteration  28  is  \n",
      " 0.6492\n",
      "[torch.FloatTensor of size 1]\n",
      "\n",
      "Loss at iteration  29  is  \n",
      " 0.6385\n",
      "[torch.FloatTensor of size 1]\n",
      "\n",
      "Loss at iteration  30  is  \n",
      " 0.6292\n",
      "[torch.FloatTensor of size 1]\n",
      "\n",
      "Loss at iteration  31  is  \n",
      " 0.6263\n",
      "[torch.FloatTensor of size 1]\n",
      "\n",
      "Loss at iteration  32  is  \n",
      " 0.6232\n",
      "[torch.FloatTensor of size 1]\n",
      "\n",
      "Loss at iteration  33  is  \n",
      " 0.6148\n",
      "[torch.FloatTensor of size 1]\n",
      "\n",
      "Loss at iteration  34  is  \n",
      " 0.6156\n",
      "[torch.FloatTensor of size 1]\n",
      "\n",
      "Loss at iteration  35  is  \n",
      " 0.6042\n",
      "[torch.FloatTensor of size 1]\n",
      "\n",
      "Loss at iteration  36  is  \n",
      " 0.5991\n",
      "[torch.FloatTensor of size 1]\n",
      "\n",
      "Loss at iteration  37  is  \n",
      " 0.5953\n",
      "[torch.FloatTensor of size 1]\n",
      "\n",
      "Loss at iteration  38  is  \n",
      " 0.5904\n",
      "[torch.FloatTensor of size 1]\n",
      "\n",
      "Loss at iteration  39  is  \n",
      " 0.5849\n",
      "[torch.FloatTensor of size 1]\n",
      "\n",
      "Loss at iteration  40  is  \n",
      " 0.5808\n",
      "[torch.FloatTensor of size 1]\n",
      "\n",
      "Loss at iteration  41  is  \n",
      " 0.5754\n",
      "[torch.FloatTensor of size 1]\n",
      "\n",
      "Loss at iteration  42  is  \n",
      " 0.5722\n",
      "[torch.FloatTensor of size 1]\n",
      "\n",
      "Loss at iteration  43  is  \n",
      " 0.5696\n",
      "[torch.FloatTensor of size 1]\n",
      "\n",
      "Loss at iteration  44  is  \n",
      " 0.5632\n",
      "[torch.FloatTensor of size 1]\n",
      "\n",
      "Loss at iteration  45  is  \n",
      " 0.5613\n",
      "[torch.FloatTensor of size 1]\n",
      "\n",
      "Loss at iteration  46  is  \n",
      " 0.5567\n",
      "[torch.FloatTensor of size 1]\n",
      "\n",
      "Loss at iteration  47  is  \n",
      " 0.5560\n",
      "[torch.FloatTensor of size 1]\n",
      "\n",
      "Loss at iteration  48  is  \n",
      " 0.5539\n",
      "[torch.FloatTensor of size 1]\n",
      "\n",
      "Loss at iteration  49  is  \n",
      " 0.5535\n",
      "[torch.FloatTensor of size 1]\n",
      "\n",
      "Loss at iteration  50  is  \n",
      " 0.5515\n",
      "[torch.FloatTensor of size 1]\n",
      "\n",
      "Loss at iteration  51  is  \n",
      " 0.5496\n",
      "[torch.FloatTensor of size 1]\n",
      "\n",
      "Loss at iteration  52  is  \n",
      " 0.5469\n",
      "[torch.FloatTensor of size 1]\n",
      "\n",
      "Loss at iteration  53  is  \n",
      " 0.5416\n",
      "[torch.FloatTensor of size 1]\n",
      "\n",
      "Loss at iteration  54  is  \n",
      " 0.5348\n",
      "[torch.FloatTensor of size 1]\n",
      "\n",
      "Loss at iteration  55  is  \n",
      " 0.5325\n",
      "[torch.FloatTensor of size 1]\n",
      "\n",
      "Loss at iteration  56  is  \n",
      " 0.5302\n",
      "[torch.FloatTensor of size 1]\n",
      "\n",
      "Loss at iteration  57  is  \n",
      " 0.5267\n",
      "[torch.FloatTensor of size 1]\n",
      "\n",
      "Loss at iteration  58  is  \n",
      " 0.5265\n",
      "[torch.FloatTensor of size 1]\n",
      "\n",
      "Loss at iteration  59  is  \n",
      " 0.5242\n",
      "[torch.FloatTensor of size 1]\n",
      "\n",
      "Loss at iteration  60  is  \n",
      " 0.5209\n",
      "[torch.FloatTensor of size 1]\n",
      "\n",
      "Loss at iteration  61  is  \n",
      " 0.5230\n",
      "[torch.FloatTensor of size 1]\n",
      "\n",
      "Loss at iteration  62  is  \n",
      " 0.5227\n",
      "[torch.FloatTensor of size 1]\n",
      "\n",
      "Loss at iteration  63  is  \n",
      " 0.5234\n",
      "[torch.FloatTensor of size 1]\n",
      "\n",
      "Loss at iteration  64  is  \n",
      " 0.5252\n",
      "[torch.FloatTensor of size 1]\n",
      "\n",
      "Loss at iteration  65  is  \n",
      " 0.5179\n",
      "[torch.FloatTensor of size 1]\n",
      "\n",
      "Loss at iteration  66  is  \n",
      " 0.5157\n",
      "[torch.FloatTensor of size 1]\n",
      "\n",
      "Loss at iteration  67  is  \n",
      " 0.5118\n",
      "[torch.FloatTensor of size 1]\n",
      "\n",
      "Loss at iteration  68  is  \n",
      " 0.5102\n",
      "[torch.FloatTensor of size 1]\n",
      "\n",
      "Loss at iteration  69  is  \n",
      " 0.5096\n",
      "[torch.FloatTensor of size 1]\n",
      "\n",
      "Loss at iteration  70  is  \n",
      " 0.5087\n",
      "[torch.FloatTensor of size 1]\n",
      "\n",
      "Loss at iteration  71  is  \n",
      " 0.5077\n",
      "[torch.FloatTensor of size 1]\n",
      "\n",
      "Loss at iteration  72  is  \n",
      " 0.5098\n",
      "[torch.FloatTensor of size 1]\n",
      "\n",
      "Loss at iteration  73  is  \n",
      " 0.5090\n",
      "[torch.FloatTensor of size 1]\n",
      "\n",
      "Loss at iteration  74  is  \n",
      " 0.5131\n",
      "[torch.FloatTensor of size 1]\n",
      "\n",
      "Loss at iteration  75  is  \n",
      " 0.5083\n",
      "[torch.FloatTensor of size 1]\n",
      "\n",
      "Loss at iteration  76  is  \n",
      " 0.5076\n",
      "[torch.FloatTensor of size 1]\n",
      "\n",
      "Loss at iteration  77  is  \n",
      " 0.5034\n",
      "[torch.FloatTensor of size 1]\n",
      "\n",
      "Loss at iteration  78  is  \n",
      " 0.5010\n",
      "[torch.FloatTensor of size 1]\n",
      "\n",
      "Loss at iteration  79  is  \n",
      " 0.5034\n",
      "[torch.FloatTensor of size 1]\n",
      "\n",
      "Loss at iteration  80  is  \n",
      " 0.5017\n",
      "[torch.FloatTensor of size 1]\n",
      "\n",
      "Loss at iteration  81  is  \n",
      " 0.4990\n",
      "[torch.FloatTensor of size 1]\n",
      "\n",
      "Loss at iteration  82  is  \n",
      " 0.5009\n",
      "[torch.FloatTensor of size 1]\n",
      "\n",
      "Loss at iteration  83  is  \n",
      " 0.5010\n",
      "[torch.FloatTensor of size 1]\n",
      "\n",
      "Loss at iteration  84  is  \n",
      " 0.5013\n",
      "[torch.FloatTensor of size 1]\n",
      "\n",
      "Loss at iteration  85  is  \n",
      " 0.4998\n",
      "[torch.FloatTensor of size 1]\n",
      "\n",
      "Loss at iteration  86  is  \n",
      " 0.4980\n",
      "[torch.FloatTensor of size 1]\n",
      "\n",
      "Loss at iteration  87  is  \n",
      " 0.5007\n",
      "[torch.FloatTensor of size 1]\n",
      "\n",
      "Loss at iteration  88  is  \n",
      " 0.5002\n",
      "[torch.FloatTensor of size 1]\n",
      "\n",
      "Loss at iteration  89  is  \n",
      " 0.4976\n",
      "[torch.FloatTensor of size 1]\n",
      "\n",
      "Loss at iteration  90  is  \n",
      " 0.4982\n",
      "[torch.FloatTensor of size 1]\n",
      "\n",
      "Loss at iteration  91  is  \n",
      " 0.4971\n",
      "[torch.FloatTensor of size 1]\n",
      "\n",
      "Loss at iteration  92  is  \n",
      " 0.4945\n",
      "[torch.FloatTensor of size 1]\n",
      "\n",
      "Loss at iteration  93  is  \n",
      " 0.4958\n",
      "[torch.FloatTensor of size 1]\n",
      "\n",
      "Loss at iteration  94  is  \n",
      " 0.4916\n",
      "[torch.FloatTensor of size 1]\n",
      "\n",
      "Loss at iteration  95  is  \n",
      " 0.4947\n",
      "[torch.FloatTensor of size 1]\n",
      "\n",
      "Loss at iteration  96  is  \n",
      " 0.4932\n",
      "[torch.FloatTensor of size 1]\n",
      "\n",
      "Loss at iteration  97  is  \n",
      " 0.4927\n",
      "[torch.FloatTensor of size 1]\n",
      "\n",
      "Loss at iteration  98  is  \n",
      " 0.4926\n",
      "[torch.FloatTensor of size 1]\n",
      "\n",
      "Loss at iteration  99  is  \n",
      " 0.4952\n",
      "[torch.FloatTensor of size 1]\n",
      "\n",
      "Loss at iteration  100  is  \n",
      " 0.4923\n",
      "[torch.FloatTensor of size 1]\n",
      "\n",
      "Loss at iteration  101  is  \n",
      " 0.4947\n",
      "[torch.FloatTensor of size 1]\n",
      "\n",
      "Loss at iteration  102  is  \n",
      " 0.4912\n",
      "[torch.FloatTensor of size 1]\n",
      "\n",
      "Loss at iteration  103  is  \n",
      " 0.4947\n",
      "[torch.FloatTensor of size 1]\n",
      "\n",
      "Loss at iteration  104  is  \n",
      " 0.4926\n",
      "[torch.FloatTensor of size 1]\n",
      "\n",
      "Loss at iteration  105  is  \n",
      " 0.4907\n",
      "[torch.FloatTensor of size 1]\n",
      "\n",
      "Loss at iteration  106  is  \n",
      " 0.4905\n",
      "[torch.FloatTensor of size 1]\n",
      "\n",
      "Loss at iteration  107  is  \n",
      " 0.4902\n",
      "[torch.FloatTensor of size 1]\n",
      "\n",
      "Loss at iteration  108  is  \n",
      " 0.4899\n",
      "[torch.FloatTensor of size 1]\n",
      "\n",
      "Loss at iteration  109  is  \n",
      " 0.4907\n",
      "[torch.FloatTensor of size 1]\n",
      "\n",
      "Loss at iteration  110  is  \n",
      " 0.4894\n",
      "[torch.FloatTensor of size 1]\n",
      "\n",
      "Loss at iteration  111  is  \n",
      " 0.4896\n",
      "[torch.FloatTensor of size 1]\n",
      "\n",
      "Loss at iteration  112  is  \n",
      " 0.4917\n",
      "[torch.FloatTensor of size 1]\n",
      "\n",
      "Loss at iteration  113  is  \n",
      " 0.4909\n",
      "[torch.FloatTensor of size 1]\n",
      "\n",
      "Loss at iteration  114  is  \n",
      " 0.4883\n",
      "[torch.FloatTensor of size 1]\n",
      "\n",
      "Loss at iteration  115  is  \n",
      " 0.4842\n",
      "[torch.FloatTensor of size 1]\n",
      "\n",
      "Loss at iteration  116  is  \n",
      " 0.4872\n",
      "[torch.FloatTensor of size 1]\n",
      "\n",
      "Loss at iteration  117  is  \n",
      " 0.4847\n",
      "[torch.FloatTensor of size 1]\n",
      "\n",
      "Loss at iteration  118  is  \n",
      " 0.4838\n",
      "[torch.FloatTensor of size 1]\n",
      "\n",
      "Loss at iteration  119  is  \n",
      " 0.4860\n",
      "[torch.FloatTensor of size 1]\n",
      "\n",
      "Loss at iteration  120  is  \n",
      " 0.4842\n",
      "[torch.FloatTensor of size 1]\n",
      "\n",
      "Loss at iteration  121  is  \n",
      " 0.4860\n",
      "[torch.FloatTensor of size 1]\n",
      "\n",
      "Loss at iteration  122  is  \n",
      " 0.4835\n",
      "[torch.FloatTensor of size 1]\n",
      "\n",
      "Loss at iteration  123  is  \n",
      " 0.4830\n",
      "[torch.FloatTensor of size 1]\n",
      "\n",
      "Loss at iteration  124  is  \n",
      " 0.4850\n",
      "[torch.FloatTensor of size 1]\n",
      "\n",
      "Loss at iteration  125  is  \n",
      " 0.4814\n",
      "[torch.FloatTensor of size 1]\n",
      "\n"
     ]
    },
    {
     "name": "stdout",
     "output_type": "stream",
     "text": [
      "Loss at iteration  126  is  \n",
      " 0.4825\n",
      "[torch.FloatTensor of size 1]\n",
      "\n",
      "Loss at iteration  127  is  \n",
      " 0.4871\n",
      "[torch.FloatTensor of size 1]\n",
      "\n",
      "Loss at iteration  128  is  \n",
      " 0.4828\n",
      "[torch.FloatTensor of size 1]\n",
      "\n",
      "Loss at iteration  129  is  \n",
      " 0.4860\n",
      "[torch.FloatTensor of size 1]\n",
      "\n",
      "Loss at iteration  130  is  \n",
      " 0.4814\n",
      "[torch.FloatTensor of size 1]\n",
      "\n",
      "Loss at iteration  131  is  \n",
      " 0.4851\n",
      "[torch.FloatTensor of size 1]\n",
      "\n",
      "Loss at iteration  132  is  \n",
      " 0.4836\n",
      "[torch.FloatTensor of size 1]\n",
      "\n",
      "Loss at iteration  133  is  \n",
      " 0.4808\n",
      "[torch.FloatTensor of size 1]\n",
      "\n",
      "Loss at iteration  134  is  \n",
      " 0.4819\n",
      "[torch.FloatTensor of size 1]\n",
      "\n",
      "Loss at iteration  135  is  \n",
      " 0.4827\n",
      "[torch.FloatTensor of size 1]\n",
      "\n",
      "Loss at iteration  136  is  \n",
      " 0.4815\n",
      "[torch.FloatTensor of size 1]\n",
      "\n",
      "Loss at iteration  137  is  \n",
      " 0.4833\n",
      "[torch.FloatTensor of size 1]\n",
      "\n",
      "Loss at iteration  138  is  \n",
      " 0.4833\n",
      "[torch.FloatTensor of size 1]\n",
      "\n",
      "Loss at iteration  139  is  \n",
      " 0.4823\n",
      "[torch.FloatTensor of size 1]\n",
      "\n",
      "Loss at iteration  140  is  \n",
      " 0.4820\n",
      "[torch.FloatTensor of size 1]\n",
      "\n",
      "Loss at iteration  141  is  \n",
      " 0.4833\n",
      "[torch.FloatTensor of size 1]\n",
      "\n",
      "Loss at iteration  142  is  \n",
      " 0.4822\n",
      "[torch.FloatTensor of size 1]\n",
      "\n",
      "Loss at iteration  143  is  \n",
      " 0.4841\n",
      "[torch.FloatTensor of size 1]\n",
      "\n",
      "Loss at iteration  144  is  \n",
      " 0.4845\n",
      "[torch.FloatTensor of size 1]\n",
      "\n",
      "Loss at iteration  145  is  \n",
      " 0.4823\n",
      "[torch.FloatTensor of size 1]\n",
      "\n",
      "Loss at iteration  146  is  \n",
      " 0.4796\n",
      "[torch.FloatTensor of size 1]\n",
      "\n",
      "Loss at iteration  147  is  \n",
      " 0.4834\n",
      "[torch.FloatTensor of size 1]\n",
      "\n",
      "Loss at iteration  148  is  \n",
      " 0.4795\n",
      "[torch.FloatTensor of size 1]\n",
      "\n",
      "Loss at iteration  149  is  \n",
      " 0.4802\n",
      "[torch.FloatTensor of size 1]\n",
      "\n",
      "Loss at iteration  150  is  \n",
      " 0.4835\n",
      "[torch.FloatTensor of size 1]\n",
      "\n",
      "Loss at iteration  151  is  \n",
      " 0.4805\n",
      "[torch.FloatTensor of size 1]\n",
      "\n",
      "Loss at iteration  152  is  \n",
      " 0.4813\n",
      "[torch.FloatTensor of size 1]\n",
      "\n",
      "Loss at iteration  153  is  \n",
      " 0.4813\n",
      "[torch.FloatTensor of size 1]\n",
      "\n",
      "Loss at iteration  154  is  \n",
      " 0.4815\n",
      "[torch.FloatTensor of size 1]\n",
      "\n",
      "Loss at iteration  155  is  \n",
      " 0.4789\n",
      "[torch.FloatTensor of size 1]\n",
      "\n",
      "Loss at iteration  156  is  \n",
      " 0.4778\n",
      "[torch.FloatTensor of size 1]\n",
      "\n",
      "Loss at iteration  157  is  \n",
      " 0.4808\n",
      "[torch.FloatTensor of size 1]\n",
      "\n",
      "Loss at iteration  158  is  \n",
      " 0.4814\n",
      "[torch.FloatTensor of size 1]\n",
      "\n",
      "Loss at iteration  159  is  \n",
      " 0.4778\n",
      "[torch.FloatTensor of size 1]\n",
      "\n",
      "Loss at iteration  160  is  \n",
      " 0.4782\n",
      "[torch.FloatTensor of size 1]\n",
      "\n",
      "Loss at iteration  161  is  \n",
      " 0.4795\n",
      "[torch.FloatTensor of size 1]\n",
      "\n",
      "Loss at iteration  162  is  \n",
      " 0.4796\n",
      "[torch.FloatTensor of size 1]\n",
      "\n",
      "Loss at iteration  163  is  \n",
      " 0.4795\n",
      "[torch.FloatTensor of size 1]\n",
      "\n",
      "Loss at iteration  164  is  \n",
      " 0.4798\n",
      "[torch.FloatTensor of size 1]\n",
      "\n",
      "Loss at iteration  165  is  \n",
      " 0.4819\n",
      "[torch.FloatTensor of size 1]\n",
      "\n",
      "Loss at iteration  166  is  \n",
      " 0.4786\n",
      "[torch.FloatTensor of size 1]\n",
      "\n",
      "Loss at iteration  167  is  \n",
      " 0.4807\n",
      "[torch.FloatTensor of size 1]\n",
      "\n",
      "Loss at iteration  168  is  \n",
      " 0.4812\n",
      "[torch.FloatTensor of size 1]\n",
      "\n",
      "Loss at iteration  169  is  \n",
      " 0.4795\n",
      "[torch.FloatTensor of size 1]\n",
      "\n",
      "Loss at iteration  170  is  \n",
      " 0.4778\n",
      "[torch.FloatTensor of size 1]\n",
      "\n",
      "Loss at iteration  171  is  \n",
      " 0.4780\n",
      "[torch.FloatTensor of size 1]\n",
      "\n",
      "Loss at iteration  172  is  \n",
      " 0.4804\n",
      "[torch.FloatTensor of size 1]\n",
      "\n",
      "Loss at iteration  173  is  \n",
      " 0.4772\n",
      "[torch.FloatTensor of size 1]\n",
      "\n",
      "Loss at iteration  174  is  \n",
      " 0.4782\n",
      "[torch.FloatTensor of size 1]\n",
      "\n",
      "Loss at iteration  175  is  \n",
      " 0.4776\n",
      "[torch.FloatTensor of size 1]\n",
      "\n",
      "Loss at iteration  176  is  \n",
      " 0.4787\n",
      "[torch.FloatTensor of size 1]\n",
      "\n",
      "Loss at iteration  177  is  \n",
      " 0.4752\n",
      "[torch.FloatTensor of size 1]\n",
      "\n",
      "Loss at iteration  178  is  \n",
      " 0.4763\n",
      "[torch.FloatTensor of size 1]\n",
      "\n",
      "Loss at iteration  179  is  \n",
      " 0.4789\n",
      "[torch.FloatTensor of size 1]\n",
      "\n",
      "Loss at iteration  180  is  \n",
      " 0.4772\n",
      "[torch.FloatTensor of size 1]\n",
      "\n",
      "Loss at iteration  181  is  \n",
      " 0.4776\n",
      "[torch.FloatTensor of size 1]\n",
      "\n",
      "Loss at iteration  182  is  \n",
      " 0.4761\n",
      "[torch.FloatTensor of size 1]\n",
      "\n",
      "Loss at iteration  183  is  \n",
      " 0.4788\n",
      "[torch.FloatTensor of size 1]\n",
      "\n",
      "Loss at iteration  184  is  \n",
      " 0.4773\n",
      "[torch.FloatTensor of size 1]\n",
      "\n",
      "Loss at iteration  185  is  \n",
      " 0.4793\n",
      "[torch.FloatTensor of size 1]\n",
      "\n",
      "Loss at iteration  186  is  \n",
      " 0.4758\n",
      "[torch.FloatTensor of size 1]\n",
      "\n",
      "Loss at iteration  187  is  \n",
      " 0.4816\n",
      "[torch.FloatTensor of size 1]\n",
      "\n",
      "Loss at iteration  188  is  \n",
      " 0.4765\n",
      "[torch.FloatTensor of size 1]\n",
      "\n",
      "Loss at iteration  189  is  \n",
      " 0.4803\n",
      "[torch.FloatTensor of size 1]\n",
      "\n",
      "Loss at iteration  190  is  \n",
      " 0.4779\n",
      "[torch.FloatTensor of size 1]\n",
      "\n",
      "Loss at iteration  191  is  \n",
      " 0.4781\n",
      "[torch.FloatTensor of size 1]\n",
      "\n",
      "Loss at iteration  192  is  \n",
      " 0.4789\n",
      "[torch.FloatTensor of size 1]\n",
      "\n",
      "Loss at iteration  193  is  \n",
      " 0.4767\n",
      "[torch.FloatTensor of size 1]\n",
      "\n",
      "Loss at iteration  194  is  \n",
      " 0.4773\n",
      "[torch.FloatTensor of size 1]\n",
      "\n",
      "Loss at iteration  195  is  \n",
      " 0.4778\n",
      "[torch.FloatTensor of size 1]\n",
      "\n",
      "Loss at iteration  196  is  \n",
      " 0.4759\n",
      "[torch.FloatTensor of size 1]\n",
      "\n",
      "Loss at iteration  197  is  \n",
      " 0.4741\n",
      "[torch.FloatTensor of size 1]\n",
      "\n",
      "Loss at iteration  198  is  \n",
      " 0.4761\n",
      "[torch.FloatTensor of size 1]\n",
      "\n",
      "Loss at iteration  199  is  \n",
      " 0.4752\n",
      "[torch.FloatTensor of size 1]\n",
      "\n"
     ]
    }
   ],
   "source": [
    "for epoch in range(epochs):\n",
    "    model.zero_grad()\n",
    "\n",
    "    negative_batch = X_train_neg\n",
    "    positive_batch_idx = random.sample(range(num_positive), positive_batch_size)\n",
    "    positive_batch = X_train_pos[positive_batch_idx,:]\n",
    "    \n",
    "    \n",
    "    actual = [0] * negative_batch_size\n",
    "    actual1 = [1] * positive_batch_size\n",
    "    actual.extend(actual1)\n",
    "    actual = np.array(actual)\n",
    "    \n",
    "    \n",
    "    all_inputs = np.concatenate((negative_batch, positive_batch), axis=0)\n",
    "    us = all_inputs[:,0]\n",
    "    vs = all_inputs[:,1]\n",
    "    \n",
    "    us = Variable(torch.LongTensor(us))\n",
    "    vs = Variable(torch.LongTensor(vs))\n",
    "    actual = Variable(torch.LongTensor(actual))\n",
    "    \n",
    "    #print('Computing loss....')\n",
    "    probs = model(us, vs)\n",
    "    #print('Number of probs ', len(probs))\n",
    "    #print(probs)\n",
    "    #print('Number of examples ', len(actual))\n",
    "    loss = criterion(probs, actual)\n",
    "    for parameter in model.parameters():\n",
    "        loss += lam * regularizer(parameter)\n",
    "        \n",
    "        \n",
    "    \n",
    "    \n",
    "    print('Loss at iteration ', epoch, ' is ', loss.data)\n",
    "    loss.backward()\n",
    "    optimizer.step()"
   ]
  },
  {
   "cell_type": "code",
   "execution_count": 262,
   "metadata": {
    "collapsed": true
   },
   "outputs": [],
   "source": [
    "\n",
    "classifier = linear_model.LogisticRegression()"
   ]
  },
  {
   "cell_type": "code",
   "execution_count": 263,
   "metadata": {
    "collapsed": true
   },
   "outputs": [],
   "source": [
    "def embedding(model, x):\n",
    "    x_var = Variable(torch.LongTensor([x]))\n",
    "    emb = model.embeddings(x_var)\n",
    "    emb = model.initial_layer(emb)\n",
    "    emb = emb.data.numpy()[0]\n",
    "    return emb\n",
    "    \n",
    "\n",
    "def get_hadamard(model, x, y):\n",
    "    x_features = embedding(model, x)\n",
    "    y_features = embedding(model, y)\n",
    "    return x_features * y_features"
   ]
  },
  {
   "cell_type": "code",
   "execution_count": 264,
   "metadata": {
    "collapsed": true
   },
   "outputs": [],
   "source": [
    "\n",
    "feature_extractor = get_hadamard"
   ]
  },
  {
   "cell_type": "code",
   "execution_count": 265,
   "metadata": {
    "collapsed": true
   },
   "outputs": [],
   "source": [
    "inputs = []\n",
    "outputs = []\n",
    "for x, y in X_train_neg:\n",
    "    x = int(x)\n",
    "    y = int(y)\n",
    "    inputs.append(feature_extractor(model, x, y))\n",
    "    outputs.append(0)\n",
    "\n",
    "positive_batch_idx = random.sample(range(num_positive), positive_batch_size)\n",
    "positive_batch = X_train_pos[positive_batch_idx,:]\n",
    "for x, y in positive_batch:\n",
    "    x = int(x)\n",
    "    y = int(y)\n",
    "    inputs.append(feature_extractor(model, x, y))\n",
    "    outputs.append(1)\n",
    "\n",
    "inputs = np.array(inputs)\n",
    "outputs = np.array(outputs)"
   ]
  },
  {
   "cell_type": "code",
   "execution_count": 266,
   "metadata": {},
   "outputs": [
    {
     "data": {
      "text/plain": [
       "LogisticRegression(C=1.0, class_weight=None, dual=False, fit_intercept=True,\n",
       "          intercept_scaling=1, max_iter=100, multi_class='ovr', n_jobs=1,\n",
       "          penalty='l2', random_state=None, solver='liblinear', tol=0.0001,\n",
       "          verbose=0, warm_start=False)"
      ]
     },
     "execution_count": 266,
     "metadata": {},
     "output_type": "execute_result"
    }
   ],
   "source": [
    "classifier.fit(inputs, outputs)"
   ]
  },
  {
   "cell_type": "code",
   "execution_count": 267,
   "metadata": {},
   "outputs": [
    {
     "name": "stdout",
     "output_type": "stream",
     "text": [
      "358\n",
      "3560\n",
      "3560\n"
     ]
    }
   ],
   "source": [
    "inputs1 = []\n",
    "expected_outputs1 = []\n",
    "\n",
    "count = 0\n",
    "\n",
    "for x, y in X_test[y_test == 0]:\n",
    "    x = int(x)\n",
    "    y = int(y)\n",
    "    inputs1.append(feature_extractor(model, x, y))\n",
    "    expected_outputs1.append(0)\n",
    "    count += 1\n",
    "print(count)\n",
    "\n",
    "for x, y in X_test[y_test == 1]:\n",
    "    x = int(x)\n",
    "    y = int(y)\n",
    "    inputs1.append(feature_extractor(model, x, y))\n",
    "    expected_outputs1.append(1)\n",
    "    count += 1\n",
    "print(count)\n",
    "\n",
    "inputs1 = np.array(inputs1)\n",
    "expected_outputs1 = np.array(expected_outputs1)\n",
    "print(len(expected_outputs1))\n",
    "actual_outputs1 = classifier.predict(inputs1)\n",
    "actual_probs1 = classifier.predict_proba(inputs1)[:,1]\n"
   ]
  },
  {
   "cell_type": "code",
   "execution_count": 268,
   "metadata": {},
   "outputs": [
    {
     "data": {
      "text/plain": [
       "0.75784200322129891"
      ]
     },
     "execution_count": 268,
     "metadata": {},
     "output_type": "execute_result"
    }
   ],
   "source": [
    "metrics.f1_score(expected_outputs1, actual_outputs1, average='macro')"
   ]
  },
  {
   "cell_type": "code",
   "execution_count": 269,
   "metadata": {},
   "outputs": [
    {
     "data": {
      "text/plain": [
       "0.88987068138279501"
      ]
     },
     "execution_count": 269,
     "metadata": {},
     "output_type": "execute_result"
    }
   ],
   "source": [
    "metrics.roc_auc_score(expected_outputs1, actual_probs1)"
   ]
  },
  {
   "cell_type": "code",
   "execution_count": 270,
   "metadata": {},
   "outputs": [
    {
     "name": "stdout",
     "output_type": "stream",
     "text": [
      "             precision    recall  f1-score   support\n",
      "\n",
      "          0       0.47      0.77      0.58       358\n",
      "          1       0.97      0.90      0.94      3202\n",
      "\n",
      "avg / total       0.92      0.89      0.90      3560\n",
      "\n"
     ]
    }
   ],
   "source": [
    "print(metrics.classification_report(expected_outputs1, actual_outputs1))"
   ]
  },
  {
   "cell_type": "code",
   "execution_count": null,
   "metadata": {
    "collapsed": true
   },
   "outputs": [],
   "source": []
  },
  {
   "cell_type": "code",
   "execution_count": 271,
   "metadata": {},
   "outputs": [
    {
     "data": {
      "text/plain": [
       "3560"
      ]
     },
     "execution_count": 271,
     "metadata": {},
     "output_type": "execute_result"
    }
   ],
   "source": [
    "len(expected_outputs1)"
   ]
  },
  {
   "cell_type": "code",
   "execution_count": 272,
   "metadata": {},
   "outputs": [
    {
     "data": {
      "text/plain": [
       "3560"
      ]
     },
     "execution_count": 272,
     "metadata": {},
     "output_type": "execute_result"
    }
   ],
   "source": [
    "len(X_test[y_test == 1]) + len(X_test[y_test == 0])"
   ]
  },
  {
   "cell_type": "code",
   "execution_count": 273,
   "metadata": {},
   "outputs": [
    {
     "data": {
      "text/plain": [
       "array([[ 275,   83],\n",
       "       [ 315, 2887]])"
      ]
     },
     "execution_count": 273,
     "metadata": {},
     "output_type": "execute_result"
    }
   ],
   "source": [
    "metrics.confusion_matrix(expected_outputs1, actual_outputs1)"
   ]
  },
  {
   "cell_type": "code",
   "execution_count": null,
   "metadata": {
    "collapsed": true
   },
   "outputs": [],
   "source": []
  }
 ],
 "metadata": {
  "kernelspec": {
   "display_name": "Python 3",
   "language": "python",
   "name": "python3"
  },
  "language_info": {
   "codemirror_mode": {
    "name": "ipython",
    "version": 3
   },
   "file_extension": ".py",
   "mimetype": "text/x-python",
   "name": "python",
   "nbconvert_exporter": "python",
   "pygments_lexer": "ipython3",
   "version": "3.6.3"
  }
 },
 "nbformat": 4,
 "nbformat_minor": 2
}
