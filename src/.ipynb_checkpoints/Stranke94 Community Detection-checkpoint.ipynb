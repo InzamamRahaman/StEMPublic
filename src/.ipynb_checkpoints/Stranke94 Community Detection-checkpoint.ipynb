{
 "cells": [
  {
   "cell_type": "code",
   "execution_count": 1,
   "metadata": {},
   "outputs": [
    {
     "name": "stdout",
     "output_type": "stream",
     "text": [
      "Populating the interactive namespace from numpy and matplotlib\n"
     ]
    }
   ],
   "source": [
    "%load_ext autoreload\n",
    "%autoreload 2\n",
    "\n",
    "%pylab inline\n",
    "\n",
    "import dataloaders\n",
    "import models\n",
    "import sklearn.linear_model as linear_model\n",
    "import sklearn.metrics as metrics \n",
    "import sklearn.cluster as cluster\n",
    "import numpy as np \n",
    "import random\n",
    "import classifiers\n",
    "from torch.autograd import Variable\n",
    "import torch\n",
    "import torch.nn as nn \n",
    "import torch.optim as optim\n",
    "import util\n",
    "\n",
    "from imblearn.under_sampling import RandomUnderSampler"
   ]
  },
  {
   "cell_type": "code",
   "execution_count": 2,
   "metadata": {
    "collapsed": true
   },
   "outputs": [],
   "source": [
    "output_file_vot = '../data/slovenia/stranke94.csv'\n",
    "output_file_nam = '../data/slovenia/stranke94-classes.csv'\n",
    "data = dataloaders.SenateDataset(output_file_vot, output_file_nam, ratio=0.8, delimiter=',')"
   ]
  },
  {
   "cell_type": "code",
   "execution_count": 79,
   "metadata": {
    "collapsed": true
   },
   "outputs": [],
   "source": [
    "num_nodes = data.get_num_nodes()\n",
    "dims = 32\n",
    "epochs = 100\n",
    "lr = 0.1\n",
    "lr_decay=0.0\n",
    "weight_decay=0.0\n",
    "lam = 0.00055\n",
    "X_train, y_train = data.get_training_set()\n",
    "X_test, y_test = data.get_testing_set()\n",
    "p = 2\n",
    "X = data.X\n",
    "y = data.y\n",
    "\n",
    "model_fitter = models.fit_pseudo_kernel_model"
   ]
  },
  {
   "cell_type": "code",
   "execution_count": 80,
   "metadata": {},
   "outputs": [
    {
     "data": {
      "text/plain": [
       "72"
      ]
     },
     "execution_count": 80,
     "metadata": {},
     "output_type": "execute_result"
    }
   ],
   "source": [
    "len(X_train)"
   ]
  },
  {
   "cell_type": "code",
   "execution_count": 81,
   "metadata": {},
   "outputs": [
    {
     "data": {
      "text/plain": [
       "36"
      ]
     },
     "execution_count": 81,
     "metadata": {},
     "output_type": "execute_result"
    }
   ],
   "source": [
    "len(y[y == 1])"
   ]
  },
  {
   "cell_type": "code",
   "execution_count": 82,
   "metadata": {},
   "outputs": [
    {
     "name": "stdout",
     "output_type": "stream",
     "text": [
      "The loss at epoch  1  was  0.6945716738700867\n",
      "The loss at epoch  2  was  0.6798102855682373\n",
      "The loss at epoch  3  was  0.6233041286468506\n",
      "The loss at epoch  4  was  0.5338330864906311\n",
      "The loss at epoch  5  was  0.4074801504611969\n",
      "The loss at epoch  6  was  0.3709622323513031\n",
      "The loss at epoch  7  was  0.32264944911003113\n",
      "The loss at epoch  8  was  0.3670668601989746\n",
      "The loss at epoch  9  was  0.33633437752723694\n",
      "The loss at epoch  10  was  0.3669908046722412\n",
      "The loss at epoch  11  was  0.3361414074897766\n",
      "The loss at epoch  12  was  0.3668228089809418\n",
      "The loss at epoch  13  was  0.3665763735771179\n",
      "The loss at epoch  14  was  0.3663235008716583\n",
      "The loss at epoch  15  was  0.3509252369403839\n",
      "The loss at epoch  16  was  0.36523017287254333\n",
      "The loss at epoch  17  was  0.3504737913608551\n",
      "The loss at epoch  18  was  0.34888720512390137\n",
      "The loss at epoch  19  was  0.348239004611969\n",
      "The loss at epoch  20  was  0.33687764406204224\n",
      "The loss at epoch  21  was  0.33494505286216736\n",
      "The loss at epoch  22  was  0.33566048741340637\n",
      "The loss at epoch  23  was  0.36223408579826355\n",
      "The loss at epoch  24  was  0.3576786518096924\n",
      "The loss at epoch  25  was  0.33388906717300415\n",
      "The loss at epoch  26  was  0.3222639560699463\n",
      "The loss at epoch  27  was  0.33528321981430054\n",
      "The loss at epoch  28  was  0.3476582467556\n",
      "The loss at epoch  29  was  0.344289094209671\n",
      "The loss at epoch  30  was  0.34422236680984497\n",
      "The loss at epoch  31  was  0.33784180879592896\n",
      "The loss at epoch  32  was  0.3442841172218323\n",
      "The loss at epoch  33  was  0.3300587832927704\n",
      "The loss at epoch  34  was  0.3213093876838684\n",
      "The loss at epoch  35  was  0.32814961671829224\n",
      "The loss at epoch  36  was  0.32501232624053955\n",
      "The loss at epoch  37  was  0.3220040500164032\n",
      "The loss at epoch  38  was  0.3217732310295105\n",
      "The loss at epoch  39  was  0.321789026260376\n",
      "The loss at epoch  40  was  0.3214743435382843\n",
      "The loss at epoch  41  was  0.32168903946876526\n",
      "The loss at epoch  42  was  0.3214634656906128\n",
      "The loss at epoch  43  was  0.3213790953159332\n",
      "The loss at epoch  44  was  0.32155850529670715\n",
      "The loss at epoch  45  was  0.3212989866733551\n",
      "The loss at epoch  46  was  0.32137545943260193\n",
      "The loss at epoch  47  was  0.3213335871696472\n",
      "The loss at epoch  48  was  0.3213423788547516\n",
      "The loss at epoch  49  was  0.3212991952896118\n",
      "The loss at epoch  50  was  0.3213094472885132\n",
      "The loss at epoch  51  was  0.3213195502758026\n",
      "The loss at epoch  52  was  0.3212431073188782\n",
      "The loss at epoch  53  was  0.3212549686431885\n",
      "The loss at epoch  54  was  0.321150541305542\n",
      "The loss at epoch  55  was  0.32119300961494446\n",
      "The loss at epoch  56  was  0.32117536664009094\n",
      "The loss at epoch  57  was  0.32116302847862244\n",
      "The loss at epoch  58  was  0.32116419076919556\n",
      "The loss at epoch  59  was  0.32113268971443176\n",
      "The loss at epoch  60  was  0.32115304470062256\n",
      "The loss at epoch  61  was  0.3211008906364441\n",
      "The loss at epoch  62  was  0.321065753698349\n",
      "The loss at epoch  63  was  0.3210529088973999\n",
      "The loss at epoch  64  was  0.32102057337760925\n",
      "The loss at epoch  65  was  0.3210678696632385\n",
      "The loss at epoch  66  was  0.32107388973236084\n",
      "The loss at epoch  67  was  0.3210054636001587\n",
      "The loss at epoch  68  was  0.3210344910621643\n",
      "The loss at epoch  69  was  0.32098543643951416\n",
      "The loss at epoch  70  was  0.32099443674087524\n",
      "The loss at epoch  71  was  0.3209906220436096\n",
      "The loss at epoch  72  was  0.32096290588378906\n",
      "The loss at epoch  73  was  0.3209262192249298\n",
      "The loss at epoch  74  was  0.320920467376709\n",
      "The loss at epoch  75  was  0.3208884298801422\n",
      "The loss at epoch  76  was  0.32093897461891174\n",
      "The loss at epoch  77  was  0.3209274411201477\n",
      "The loss at epoch  78  was  0.32093003392219543\n",
      "The loss at epoch  79  was  0.3208707869052887\n",
      "The loss at epoch  80  was  0.32089588046073914\n",
      "The loss at epoch  81  was  0.32083287835121155\n",
      "The loss at epoch  82  was  0.32088503241539\n",
      "The loss at epoch  83  was  0.32087230682373047\n",
      "The loss at epoch  84  was  0.32087069749832153\n",
      "The loss at epoch  85  was  0.32080090045928955\n",
      "The loss at epoch  86  was  0.32080209255218506\n",
      "The loss at epoch  87  was  0.320822149515152\n",
      "The loss at epoch  88  was  0.3208022117614746\n",
      "The loss at epoch  89  was  0.3208461105823517\n",
      "The loss at epoch  90  was  0.3207893371582031\n",
      "The loss at epoch  91  was  0.32077109813690186\n",
      "The loss at epoch  92  was  0.3207663893699646\n",
      "The loss at epoch  93  was  0.3207637071609497\n",
      "The loss at epoch  94  was  0.32075777649879456\n",
      "The loss at epoch  95  was  0.3207683563232422\n",
      "The loss at epoch  96  was  0.3207014799118042\n",
      "The loss at epoch  97  was  0.32071927189826965\n",
      "The loss at epoch  98  was  0.3207046091556549\n",
      "The loss at epoch  99  was  0.3207341730594635\n",
      "The loss at epoch  100  was  0.3206869065761566\n"
     ]
    }
   ],
   "source": [
    "kernel_model = model_fitter(num_nodes, dims, X, 1 - y, epochs=epochs, p=p, \n",
    "                                              lr=lr,lr_decay=lr_decay, lam=lam, \n",
    "                            weight_decay=weight_decay, undersample=True)"
   ]
  },
  {
   "cell_type": "code",
   "execution_count": 83,
   "metadata": {
    "collapsed": true
   },
   "outputs": [],
   "source": [
    "import sklearn.cluster as cluster"
   ]
  },
  {
   "cell_type": "code",
   "execution_count": 100,
   "metadata": {
    "collapsed": true
   },
   "outputs": [],
   "source": [
    "clf = cluster.KMeans(n_clusters=3)"
   ]
  },
  {
   "cell_type": "code",
   "execution_count": 101,
   "metadata": {
    "collapsed": true
   },
   "outputs": [],
   "source": [
    "all_embeddings = kernel_model.get_all_weights()"
   ]
  },
  {
   "cell_type": "code",
   "execution_count": 102,
   "metadata": {
    "collapsed": true
   },
   "outputs": [],
   "source": [
    "viable_embeddings = all_embeddings[1:,:]"
   ]
  },
  {
   "cell_type": "code",
   "execution_count": 103,
   "metadata": {
    "collapsed": true
   },
   "outputs": [],
   "source": [
    "labels = clf.fit_predict(viable_embeddings)"
   ]
  },
  {
   "cell_type": "code",
   "execution_count": 104,
   "metadata": {},
   "outputs": [
    {
     "data": {
      "text/plain": [
       "array([1, 2, 1, 2, 2, 1, 2, 1, 1, 0], dtype=int32)"
      ]
     },
     "execution_count": 104,
     "metadata": {},
     "output_type": "execute_result"
    }
   ],
   "source": [
    "labels"
   ]
  },
  {
   "cell_type": "code",
   "execution_count": 105,
   "metadata": {
    "collapsed": true
   },
   "outputs": [],
   "source": [
    "correct_labels = data.get_node_classes()\n",
    "correct_labels[-1] = 2"
   ]
  },
  {
   "cell_type": "code",
   "execution_count": 106,
   "metadata": {},
   "outputs": [
    {
     "data": {
      "text/plain": [
       "array([0, 1, 0, 1, 1, 0, 1, 0, 0, 2])"
      ]
     },
     "execution_count": 106,
     "metadata": {},
     "output_type": "execute_result"
    }
   ],
   "source": [
    "correct_labels"
   ]
  },
  {
   "cell_type": "code",
   "execution_count": 107,
   "metadata": {
    "collapsed": true
   },
   "outputs": [],
   "source": [
    "from sklearn.metrics.cluster import normalized_mutual_info_score"
   ]
  },
  {
   "cell_type": "code",
   "execution_count": 109,
   "metadata": {},
   "outputs": [
    {
     "data": {
      "text/plain": [
       "array([1, 2, 1, 2, 2, 1, 2, 1, 1, 0], dtype=int32)"
      ]
     },
     "execution_count": 109,
     "metadata": {},
     "output_type": "execute_result"
    }
   ],
   "source": [
    "labels"
   ]
  },
  {
   "cell_type": "code",
   "execution_count": 110,
   "metadata": {},
   "outputs": [
    {
     "data": {
      "text/plain": [
       "1.0"
      ]
     },
     "execution_count": 110,
     "metadata": {},
     "output_type": "execute_result"
    }
   ],
   "source": [
    "normalized_mutual_info_score(correct_labels, labels)"
   ]
  },
  {
   "cell_type": "code",
   "execution_count": 111,
   "metadata": {
    "collapsed": true
   },
   "outputs": [],
   "source": [
    "num_nodes = data.get_num_nodes()\n",
    "dims = 32\n",
    "epochs = 100\n",
    "lr = 0.1\n",
    "lr_decay=0.0\n",
    "weight_decay=0.0\n",
    "lam = 0.00055\n",
    "p = 2\n",
    "delta = 1\n",
    "delta0 = 0.5\n",
    "dims_array = [dims, 20, 20]"
   ]
  },
  {
   "cell_type": "code",
   "execution_count": 112,
   "metadata": {
    "collapsed": true
   },
   "outputs": [],
   "source": [
    "model_fitter = models.fit_sine_model\n",
    "triples, triples0 = util.triples_from_array(X, 1 - y)\n",
    "batch_size = int(1.0 * len(triples))\n",
    "batch_size0 = 0"
   ]
  },
  {
   "cell_type": "code",
   "execution_count": 113,
   "metadata": {},
   "outputs": [
    {
     "name": "stdout",
     "output_type": "stream",
     "text": [
      "Loss at epoch  1  is  1.0087696313858032\n",
      "Loss at epoch  2  is  0.9843031167984009\n",
      "Loss at epoch  3  is  1.1237066984176636\n",
      "Loss at epoch  4  is  1.1001794338226318\n",
      "Loss at epoch  5  is  1.114688754081726\n",
      "Loss at epoch  6  is  1.0119948387145996\n",
      "Loss at epoch  7  is  1.009907841682434\n",
      "Loss at epoch  8  is  1.0119744539260864\n",
      "Loss at epoch  9  is  1.008675456047058\n",
      "Loss at epoch  10  is  1.0083411931991577\n",
      "Loss at epoch  11  is  1.007846713066101\n",
      "Loss at epoch  12  is  1.0070006847381592\n",
      "Loss at epoch  13  is  1.0052471160888672\n",
      "Loss at epoch  14  is  1.0005732774734497\n",
      "Loss at epoch  15  is  0.9867550134658813\n",
      "Loss at epoch  16  is  0.9780423045158386\n",
      "Loss at epoch  17  is  1.0438984632492065\n",
      "Loss at epoch  18  is  0.9735382795333862\n",
      "Loss at epoch  19  is  0.9671012759208679\n",
      "Loss at epoch  20  is  0.967065155506134\n",
      "Loss at epoch  21  is  0.9670292139053345\n",
      "Loss at epoch  22  is  0.9669934511184692\n",
      "Loss at epoch  23  is  0.9669579267501831\n",
      "Loss at epoch  24  is  0.9669226408004761\n",
      "Loss at epoch  25  is  0.9668874740600586\n",
      "Loss at epoch  26  is  0.9668525457382202\n",
      "Loss at epoch  27  is  0.9668177962303162\n",
      "Loss at epoch  28  is  0.9667832255363464\n",
      "Loss at epoch  29  is  0.966748833656311\n",
      "Loss at epoch  30  is  0.96671462059021\n",
      "Loss at epoch  31  is  0.9666805267333984\n",
      "Loss at epoch  32  is  0.966646671295166\n",
      "Loss at epoch  33  is  0.9666129946708679\n",
      "Loss at epoch  34  is  0.9665794372558594\n",
      "Loss at epoch  35  is  0.9665461182594299\n",
      "Loss at epoch  36  is  0.96651291847229\n",
      "Loss at epoch  37  is  0.9664798378944397\n",
      "Loss at epoch  38  is  0.9664469957351685\n",
      "Loss at epoch  39  is  0.9664142727851868\n",
      "Loss at epoch  40  is  0.9663816690444946\n",
      "Loss at epoch  41  is  0.9663492441177368\n",
      "Loss at epoch  42  is  0.9663169980049133\n",
      "Loss at epoch  43  is  0.9662848711013794\n",
      "Loss at epoch  44  is  0.966252863407135\n",
      "Loss at epoch  45  is  0.966221034526825\n",
      "Loss at epoch  46  is  0.9661893248558044\n",
      "Loss at epoch  47  is  0.9661577939987183\n",
      "Loss at epoch  48  is  0.9661263227462769\n",
      "Loss at epoch  49  is  0.9660950303077698\n",
      "Loss at epoch  50  is  0.966063916683197\n",
      "Loss at epoch  51  is  0.966032862663269\n",
      "Loss at epoch  52  is  0.9660019874572754\n",
      "Loss at epoch  53  is  0.9659712314605713\n",
      "Loss at epoch  54  is  0.9659405946731567\n",
      "Loss at epoch  55  is  0.9659100770950317\n",
      "Loss at epoch  56  is  0.9658796787261963\n",
      "Loss at epoch  57  is  0.9660196900367737\n",
      "Loss at epoch  58  is  0.9660026431083679\n",
      "Loss at epoch  59  is  0.9659733772277832\n",
      "Loss at epoch  60  is  0.9659441709518433\n",
      "Loss at epoch  61  is  0.9659150838851929\n",
      "Loss at epoch  62  is  0.965886116027832\n",
      "Loss at epoch  63  is  0.9658572673797607\n",
      "Loss at epoch  64  is  0.965828537940979\n",
      "Loss at epoch  65  is  0.965799868106842\n",
      "Loss at epoch  66  is  0.9657713174819946\n",
      "Loss at epoch  67  is  0.9657428860664368\n",
      "Loss at epoch  68  is  0.9657145142555237\n",
      "Loss at epoch  69  is  0.9656862616539001\n",
      "Loss at epoch  70  is  0.9656580686569214\n",
      "Loss at epoch  71  is  0.9656299948692322\n",
      "Loss at epoch  72  is  0.9656020402908325\n",
      "Loss at epoch  73  is  0.9655741453170776\n",
      "Loss at epoch  74  is  0.9655463695526123\n",
      "Loss at epoch  75  is  0.9655186533927917\n",
      "Loss at epoch  76  is  0.9654910564422607\n",
      "Loss at epoch  77  is  0.9654635787010193\n",
      "Loss at epoch  78  is  0.9654361605644226\n",
      "Loss at epoch  79  is  0.9654088020324707\n",
      "Loss at epoch  80  is  0.9653815627098083\n",
      "Loss at epoch  81  is  0.9653543829917908\n",
      "Loss at epoch  82  is  0.9653273224830627\n",
      "Loss at epoch  83  is  0.9653003215789795\n",
      "Loss at epoch  84  is  0.965273380279541\n",
      "Loss at epoch  85  is  0.9652465581893921\n",
      "Loss at epoch  86  is  0.9652197957038879\n",
      "Loss at epoch  87  is  0.9651931524276733\n",
      "Loss at epoch  88  is  0.9651665687561035\n",
      "Loss at epoch  89  is  0.9651401042938232\n",
      "Loss at epoch  90  is  0.965113639831543\n",
      "Loss at epoch  91  is  0.9650872945785522\n",
      "Loss at epoch  92  is  0.9650610685348511\n",
      "Loss at epoch  93  is  0.9650349020957947\n",
      "Loss at epoch  94  is  0.9650087952613831\n",
      "Loss at epoch  95  is  0.9649827480316162\n",
      "Loss at epoch  96  is  0.9649567604064941\n",
      "Loss at epoch  97  is  0.9649308919906616\n",
      "Loss at epoch  98  is  0.9649050831794739\n",
      "Loss at epoch  99  is  0.9649035334587097\n",
      "Loss at epoch  100  is  0.9663122892379761\n"
     ]
    }
   ],
   "source": [
    "sine_model = model_fitter(num_nodes, dims_array, triples, triples0, delta, delta0,\n",
    "                                   batch_size, batch_size0, epochs, lr=lr, lr_decay=lr_decay,\n",
    "                                  lam=lam, p=p, p0=False)"
   ]
  },
  {
   "cell_type": "code",
   "execution_count": 60,
   "metadata": {
    "collapsed": true
   },
   "outputs": [],
   "source": [
    "clf2 = cluster.KMeans(n_clusters=3)\n",
    "all_embeddings2 = sine_model.get_all_weights()\n",
    "viable_embeddings2 = all_embeddings2[1:,:]\n",
    "labels2 = clf2.fit_predict(viable_embeddings2)"
   ]
  },
  {
   "cell_type": "code",
   "execution_count": 61,
   "metadata": {},
   "outputs": [
    {
     "data": {
      "text/plain": [
       "0.61904424565882121"
      ]
     },
     "execution_count": 61,
     "metadata": {},
     "output_type": "execute_result"
    }
   ],
   "source": [
    "normalized_mutual_info_score(correct_labels, labels2)"
   ]
  },
  {
   "cell_type": "code",
   "execution_count": 62,
   "metadata": {},
   "outputs": [
    {
     "data": {
      "text/plain": [
       "array([1, 0, 1, 0, 0, 1, 0, 1, 1, 0], dtype=int32)"
      ]
     },
     "execution_count": 62,
     "metadata": {},
     "output_type": "execute_result"
    }
   ],
   "source": [
    "labels2"
   ]
  },
  {
   "cell_type": "code",
   "execution_count": 63,
   "metadata": {},
   "outputs": [
    {
     "data": {
      "text/plain": [
       "array([0, 1, 0, 1, 1, 0, 1, 0, 0, 0])"
      ]
     },
     "execution_count": 63,
     "metadata": {},
     "output_type": "execute_result"
    }
   ],
   "source": [
    "data.get_node_classes()"
   ]
  },
  {
   "cell_type": "code",
   "execution_count": null,
   "metadata": {
    "collapsed": true
   },
   "outputs": [],
   "source": []
  }
 ],
 "metadata": {
  "kernelspec": {
   "display_name": "Python 3",
   "language": "python",
   "name": "python3"
  },
  "language_info": {
   "codemirror_mode": {
    "name": "ipython",
    "version": 3
   },
   "file_extension": ".py",
   "mimetype": "text/x-python",
   "name": "python",
   "nbconvert_exporter": "python",
   "pygments_lexer": "ipython3",
   "version": "3.6.3"
  }
 },
 "nbformat": 4,
 "nbformat_minor": 2
}
