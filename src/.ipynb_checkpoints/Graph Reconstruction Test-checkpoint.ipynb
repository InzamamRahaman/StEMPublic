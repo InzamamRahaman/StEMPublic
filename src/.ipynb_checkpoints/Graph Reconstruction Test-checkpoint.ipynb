{
 "cells": [
  {
   "cell_type": "code",
   "execution_count": 5,
   "metadata": {},
   "outputs": [
    {
     "name": "stdout",
     "output_type": "stream",
     "text": [
      "The autoreload extension is already loaded. To reload it, use:\n",
      "  %reload_ext autoreload\n",
      "Populating the interactive namespace from numpy and matplotlib\n"
     ]
    },
    {
     "name": "stderr",
     "output_type": "stream",
     "text": [
      "/Users/inzamamrahaman/anaconda3/lib/python3.6/site-packages/IPython/core/magics/pylab.py:160: UserWarning: pylab import has clobbered these variables: ['random']\n",
      "`%matplotlib` prevents importing * from pylab and numpy\n",
      "  \"\\n`%matplotlib` prevents importing * from pylab and numpy\"\n"
     ]
    }
   ],
   "source": [
    "%load_ext autoreload\n",
    "%autoreload 2\n",
    "\n",
    "%pylab inline\n",
    "\n",
    "import dataloaders\n",
    "import models\n",
    "import sklearn.linear_model as linear_model\n",
    "import sklearn.metrics as metrics \n",
    "import sklearn.cluster as cluster\n",
    "import numpy as np \n",
    "import random\n",
    "import classifiers\n",
    "from torch.autograd import Variable\n",
    "import torch\n",
    "import torch.nn as nn \n",
    "import torch.optim as optim\n",
    "import sklearn.model_selection as model_selection\n",
    "import util\n",
    "import json\n",
    "import scipy.spatial.distance as dist\n",
    "\n",
    "from imblearn.under_sampling import RandomUnderSampler"
   ]
  },
  {
   "cell_type": "code",
   "execution_count": 21,
   "metadata": {
    "collapsed": true
   },
   "outputs": [],
   "source": [
    "input_file = '../data/bitcoinalpha-cleaned.csv'\n",
    "delimiter = ','\n",
    "ratio = 0.8\n",
    "data = dataloaders.UnsplitDataset(filepath=input_file, ratio=ratio, delimiter=delimiter)"
   ]
  },
  {
   "cell_type": "code",
   "execution_count": 22,
   "metadata": {
    "collapsed": true
   },
   "outputs": [],
   "source": [
    "X, y = data.get_shuffled_data()"
   ]
  },
  {
   "cell_type": "code",
   "execution_count": 67,
   "metadata": {
    "collapsed": true
   },
   "outputs": [],
   "source": [
    "from heapq import nlargest\n",
    "\n",
    "def get_distances(embeddings, nodes, reverse=False):\n",
    "    distances = {}\n",
    "    for u in nodes:\n",
    "        for v in nodes:\n",
    "            if u != v:\n",
    "                key = (u, v)\n",
    "                distance = dist.cosine(embeddings[u], embeddings[v])\n",
    "                if reverse:\n",
    "                    distance *= -1\n",
    "                distances[key] = distance\n",
    "    return distances \n",
    "\n",
    "def collapse(pairs):\n",
    "    seen = set()\n",
    "    for u, v in pairs:\n",
    "        if (v, u) not in seen:\n",
    "            seen.add((u, v))\n",
    "    return seen\n",
    "            \n",
    "        \n",
    "def get_top_k(embeddings, nodes, k, reverse=False):\n",
    "    distances = get_distances(embeddings, nodes, reverse)\n",
    "    n = len(distances)\n",
    "    keys = list(distances.keys())\n",
    "    top_k = nlargest(k * 2, keys, lambda k: -distances[k])\n",
    "    top_k = collapse(top_k)\n",
    "    return top_k\n",
    "\n",
    "def precision_at_k(embeddings, nodes, k, graph, negative=False):\n",
    "    count = 0.0\n",
    "    top_k = get_top_k(embeddings, nodes, k, negative)\n",
    "    for u, v in top_k:\n",
    "        count += 1.0 if graph.has_edge(u, v) or graph.has_edge(v, u) else 0.0\n",
    "    return count / k\n",
    "\n",
    "def get_nodes(edges):\n",
    "    nodes = set()\n",
    "    for u, v in edges:\n",
    "        nodes.add(u)\n",
    "        nodes.add(v)\n",
    "    return nodes\n",
    "\n",
    "def reconstruct_graph_segment(embeddings, k, edges, graph, negative=False):\n",
    "    num_divisions = int(float(len(edges)) / k)\n",
    "    precisions = []\n",
    "    kfold = model_selection.KFold(n_splits=num_divisions)\n",
    "    kfold.get_n_splits(edges)\n",
    "    for _, idx in kfold.split(edges):\n",
    "        nodes = get_nodes(edges[idx])\n",
    "        precision = precision_at_k(embeddings, nodes, k, graph, negative)\n",
    "        precisions.append(precision)\n",
    "    return precisions\n",
    "        \n",
    "        \n",
    "    \n",
    "\n",
    "\n",
    "    \n",
    "    \n",
    "    \n",
    "                "
   ]
  },
  {
   "cell_type": "code",
   "execution_count": 68,
   "metadata": {},
   "outputs": [
    {
     "name": "stdout",
     "output_type": "stream",
     "text": [
      "[[ 0.08942535  0.79770349]\n",
      " [ 0.72048766  0.98756469]\n",
      " [ 0.43213252  0.92097534]\n",
      " [ 0.55883565  0.58611477]\n",
      " [ 0.87713881  0.35876269]\n",
      " [ 0.09401011  0.42106801]\n",
      " [ 0.22187362  0.83885948]\n",
      " [ 0.23959472  0.74728089]\n",
      " [ 0.42684786  0.20780839]\n",
      " [ 0.45279841  0.59273072]]\n"
     ]
    }
   ],
   "source": [
    "embeddings = np.random.rand(10, 2)\n",
    "print(embeddings)"
   ]
  },
  {
   "cell_type": "code",
   "execution_count": 69,
   "metadata": {
    "collapsed": true
   },
   "outputs": [],
   "source": [
    "nodes = range(10)"
   ]
  },
  {
   "cell_type": "code",
   "execution_count": 70,
   "metadata": {},
   "outputs": [
    {
     "data": {
      "text/plain": [
       "{(1, 9), (5, 6)}"
      ]
     },
     "execution_count": 70,
     "metadata": {},
     "output_type": "execute_result"
    }
   ],
   "source": [
    "get_top_k(embeddings, nodes, 2)"
   ]
  },
  {
   "cell_type": "code",
   "execution_count": 71,
   "metadata": {},
   "outputs": [
    {
     "data": {
      "text/plain": [
       "10"
      ]
     },
     "execution_count": 71,
     "metadata": {},
     "output_type": "execute_result"
    }
   ],
   "source": [
    "len(embeddings)"
   ]
  },
  {
   "cell_type": "code",
   "execution_count": 72,
   "metadata": {
    "collapsed": true
   },
   "outputs": [],
   "source": [
    "positive_edges = X[y == 1,:]\n",
    "negative_edges = X[y == 0,:]\n",
    "positive_graph = util.array_edgelist_to_graph(positive_edges)\n",
    "negative_graph = util.array_edgelist_to_graph(negative_edges)"
   ]
  },
  {
   "cell_type": "code",
   "execution_count": 73,
   "metadata": {},
   "outputs": [
    {
     "data": {
      "text/plain": [
       "22650"
      ]
     },
     "execution_count": 73,
     "metadata": {},
     "output_type": "execute_result"
    }
   ],
   "source": [
    "len(positive_edges)"
   ]
  },
  {
   "cell_type": "code",
   "execution_count": 74,
   "metadata": {},
   "outputs": [
    {
     "data": {
      "text/plain": [
       "1536"
      ]
     },
     "execution_count": 74,
     "metadata": {},
     "output_type": "execute_result"
    }
   ],
   "source": [
    "len(negative_edges)"
   ]
  },
  {
   "cell_type": "code",
   "execution_count": 75,
   "metadata": {},
   "outputs": [],
   "source": [
    "num_nodes = data.get_num_nodes()\n",
    "dims = 16\n",
    "epochs = 100\n",
    "lr = 0.15\n",
    "lr_decay=0.0\n",
    "weight_decay=0.0\n",
    "lam = 0.00055\n",
    "p = 2"
   ]
  },
  {
   "cell_type": "code",
   "execution_count": 76,
   "metadata": {},
   "outputs": [
    {
     "name": "stdout",
     "output_type": "stream",
     "text": [
      "The loss at epoch  1  was  0.7066366076469421\n",
      "The loss at epoch  2  was  0.7073459029197693\n",
      "The loss at epoch  3  was  0.6127766370773315\n",
      "The loss at epoch  4  was  0.575674295425415\n",
      "The loss at epoch  5  was  0.5579367876052856\n",
      "The loss at epoch  6  was  0.5438091158866882\n",
      "The loss at epoch  7  was  0.5222313404083252\n",
      "The loss at epoch  8  was  0.501293957233429\n",
      "The loss at epoch  9  was  0.4856489896774292\n",
      "The loss at epoch  10  was  0.46860188245773315\n",
      "The loss at epoch  11  was  0.4430947005748749\n",
      "The loss at epoch  12  was  0.42790356278419495\n",
      "The loss at epoch  13  was  0.4539676308631897\n",
      "The loss at epoch  14  was  0.4125250577926636\n",
      "The loss at epoch  15  was  0.40495914220809937\n",
      "The loss at epoch  16  was  0.40226027369499207\n",
      "The loss at epoch  17  was  0.3959999680519104\n",
      "The loss at epoch  18  was  0.3928675949573517\n",
      "The loss at epoch  19  was  0.39240172505378723\n",
      "The loss at epoch  20  was  0.3849552571773529\n",
      "The loss at epoch  21  was  0.3764576017856598\n",
      "The loss at epoch  22  was  0.38082683086395264\n",
      "The loss at epoch  23  was  0.37847816944122314\n",
      "The loss at epoch  24  was  0.37800225615501404\n",
      "The loss at epoch  25  was  0.3730459213256836\n",
      "The loss at epoch  26  was  0.3751855194568634\n",
      "The loss at epoch  27  was  0.373140811920166\n",
      "The loss at epoch  28  was  0.3761764466762543\n",
      "The loss at epoch  29  was  0.37032246589660645\n",
      "The loss at epoch  30  was  0.36778348684310913\n",
      "The loss at epoch  31  was  0.36828404664993286\n",
      "The loss at epoch  32  was  0.3693307936191559\n",
      "The loss at epoch  33  was  0.3678668737411499\n",
      "The loss at epoch  34  was  0.36820468306541443\n",
      "The loss at epoch  35  was  0.36591392755508423\n",
      "The loss at epoch  36  was  0.3649161159992218\n",
      "The loss at epoch  37  was  0.36834535002708435\n",
      "The loss at epoch  38  was  0.36365604400634766\n",
      "The loss at epoch  39  was  0.360964298248291\n",
      "The loss at epoch  40  was  0.362682580947876\n",
      "The loss at epoch  41  was  0.36878883838653564\n",
      "The loss at epoch  42  was  0.36457711458206177\n",
      "The loss at epoch  43  was  0.36471089720726013\n",
      "The loss at epoch  44  was  0.3626384139060974\n",
      "The loss at epoch  45  was  0.36514005064964294\n",
      "The loss at epoch  46  was  0.3645574152469635\n",
      "The loss at epoch  47  was  0.3627522587776184\n",
      "The loss at epoch  48  was  0.36479106545448303\n",
      "The loss at epoch  49  was  0.3675650656223297\n",
      "The loss at epoch  50  was  0.3644269108772278\n",
      "The loss at epoch  51  was  0.36261001229286194\n",
      "The loss at epoch  52  was  0.3604455590248108\n",
      "The loss at epoch  53  was  0.3634881377220154\n",
      "The loss at epoch  54  was  0.3635014295578003\n",
      "The loss at epoch  55  was  0.3595186471939087\n",
      "The loss at epoch  56  was  0.3636441230773926\n",
      "The loss at epoch  57  was  0.3605395555496216\n",
      "The loss at epoch  58  was  0.35987526178359985\n",
      "The loss at epoch  59  was  0.3580695390701294\n",
      "The loss at epoch  60  was  0.35914677381515503\n",
      "The loss at epoch  61  was  0.36217549443244934\n",
      "The loss at epoch  62  was  0.35919833183288574\n",
      "The loss at epoch  63  was  0.3591781258583069\n",
      "The loss at epoch  64  was  0.35790950059890747\n",
      "The loss at epoch  65  was  0.3579477369785309\n",
      "The loss at epoch  66  was  0.3597138226032257\n",
      "The loss at epoch  67  was  0.36058980226516724\n",
      "The loss at epoch  68  was  0.35814544558525085\n",
      "The loss at epoch  69  was  0.3582232892513275\n",
      "The loss at epoch  70  was  0.3597370684146881\n",
      "The loss at epoch  71  was  0.35785144567489624\n",
      "The loss at epoch  72  was  0.35894715785980225\n",
      "The loss at epoch  73  was  0.3536342978477478\n",
      "The loss at epoch  74  was  0.3522472679615021\n",
      "The loss at epoch  75  was  0.358021080493927\n",
      "The loss at epoch  76  was  0.3603512942790985\n",
      "The loss at epoch  77  was  0.35807108879089355\n",
      "The loss at epoch  78  was  0.35546785593032837\n",
      "The loss at epoch  79  was  0.35323476791381836\n",
      "The loss at epoch  80  was  0.35351696610450745\n",
      "The loss at epoch  81  was  0.35939157009124756\n",
      "The loss at epoch  82  was  0.35235777497291565\n",
      "The loss at epoch  83  was  0.3584061861038208\n",
      "The loss at epoch  84  was  0.3546787202358246\n",
      "The loss at epoch  85  was  0.3541719913482666\n",
      "The loss at epoch  86  was  0.35698843002319336\n",
      "The loss at epoch  87  was  0.3556663691997528\n",
      "The loss at epoch  88  was  0.3566349148750305\n",
      "The loss at epoch  89  was  0.35715824365615845\n",
      "The loss at epoch  90  was  0.35822564363479614\n",
      "The loss at epoch  91  was  0.3565664291381836\n",
      "The loss at epoch  92  was  0.35769563913345337\n",
      "The loss at epoch  93  was  0.358140766620636\n",
      "The loss at epoch  94  was  0.35842281579971313\n",
      "The loss at epoch  95  was  0.35832902789115906\n",
      "The loss at epoch  96  was  0.3577307462692261\n",
      "The loss at epoch  97  was  0.35356369614601135\n",
      "The loss at epoch  98  was  0.35556527972221375\n",
      "The loss at epoch  99  was  0.35744765400886536\n",
      "The loss at epoch  100  was  0.35532379150390625\n"
     ]
    }
   ],
   "source": [
    "kernel_model = models.fit_pseudo_kernel_model(num_nodes, dims, X, y, epochs=epochs, p=p, \n",
    "                                              lr=lr,lr_decay=lr_decay, lam=lam, \n",
    "                            weight_decay=weight_decay, undersample=True)"
   ]
  },
  {
   "cell_type": "code",
   "execution_count": 77,
   "metadata": {},
   "outputs": [],
   "source": [
    "embeddings = kernel_model.get_all_weights()\n"
   ]
  },
  {
   "cell_type": "code",
   "execution_count": 83,
   "metadata": {
    "collapsed": true
   },
   "outputs": [],
   "source": [
    "from sklearn.manifold import TSNE, MDS\n",
    "tsne = TSNE(n_components=2)"
   ]
  },
  {
   "cell_type": "code",
   "execution_count": 84,
   "metadata": {
    "collapsed": true
   },
   "outputs": [],
   "source": [
    "embeddings = tsne.fit_transform(embeddings[1:,:])\n"
   ]
  },
  {
   "cell_type": "code",
   "execution_count": 95,
   "metadata": {
    "collapsed": true
   },
   "outputs": [],
   "source": [
    "first = np.random.rand(1,2)"
   ]
  },
  {
   "cell_type": "code",
   "execution_count": 96,
   "metadata": {},
   "outputs": [],
   "source": [
    "check = np.concatenate((first, embeddings), axis=0)"
   ]
  },
  {
   "cell_type": "code",
   "execution_count": 98,
   "metadata": {},
   "outputs": [
    {
     "data": {
      "text/plain": [
       "array([[  0.62744072,   0.71266844],\n",
       "       [-64.14340973,  10.98604393],\n",
       "       [ 49.85740662,  31.76700592],\n",
       "       ..., \n",
       "       [ 67.52962494, -20.71757889],\n",
       "       [ 49.31542587, -17.04026985],\n",
       "       [ 69.31339264,   1.95052552]])"
      ]
     },
     "execution_count": 98,
     "metadata": {},
     "output_type": "execute_result"
    }
   ],
   "source": [
    "check"
   ]
  },
  {
   "cell_type": "code",
   "execution_count": 78,
   "metadata": {},
   "outputs": [],
   "source": [
    "k = 50"
   ]
  },
  {
   "cell_type": "code",
   "execution_count": 79,
   "metadata": {},
   "outputs": [],
   "source": [
    "pos_pre = reconstruct_graph_segment(embeddings, k, positive_edges, positive_graph, negative=False)"
   ]
  },
  {
   "cell_type": "code",
   "execution_count": 80,
   "metadata": {},
   "outputs": [
    {
     "data": {
      "text/plain": [
       "0.098587196467991176"
      ]
     },
     "execution_count": 80,
     "metadata": {},
     "output_type": "execute_result"
    }
   ],
   "source": [
    "np.mean(pos_pre)\n"
   ]
  },
  {
   "cell_type": "code",
   "execution_count": 81,
   "metadata": {},
   "outputs": [
    {
     "data": {
      "text/plain": [
       "0.094519766854006745"
      ]
     },
     "execution_count": 81,
     "metadata": {},
     "output_type": "execute_result"
    }
   ],
   "source": [
    "np.std(pos_pre)"
   ]
  },
  {
   "cell_type": "code",
   "execution_count": 82,
   "metadata": {},
   "outputs": [
    {
     "data": {
      "text/plain": [
       "0.5"
      ]
     },
     "execution_count": 82,
     "metadata": {},
     "output_type": "execute_result"
    }
   ],
   "source": [
    "np.max(pos_pre)"
   ]
  },
  {
   "cell_type": "code",
   "execution_count": null,
   "metadata": {
    "collapsed": true
   },
   "outputs": [],
   "source": []
  }
 ],
 "metadata": {
  "kernelspec": {
   "display_name": "Python 3",
   "language": "python",
   "name": "python3"
  },
  "language_info": {
   "codemirror_mode": {
    "name": "ipython",
    "version": 3
   },
   "file_extension": ".py",
   "mimetype": "text/x-python",
   "name": "python",
   "nbconvert_exporter": "python",
   "pygments_lexer": "ipython3",
   "version": "3.6.3"
  }
 },
 "nbformat": 4,
 "nbformat_minor": 2
}
