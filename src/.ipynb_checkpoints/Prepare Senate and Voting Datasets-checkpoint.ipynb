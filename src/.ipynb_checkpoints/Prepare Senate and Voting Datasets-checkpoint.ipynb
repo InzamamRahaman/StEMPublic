{
 "cells": [
  {
   "cell_type": "code",
   "execution_count": 3,
   "metadata": {},
   "outputs": [
    {
     "name": "stdout",
     "output_type": "stream",
     "text": [
      "The autoreload extension is already loaded. To reload it, use:\n",
      "  %reload_ext autoreload\n"
     ]
    }
   ],
   "source": [
    "%load_ext autoreload\n",
    "%autoreload 2\n",
    "\n",
    "import dataloaders\n",
    "import util\n",
    "from pathlib import Path\n",
    "import glob"
   ]
  },
  {
   "cell_type": "code",
   "execution_count": 9,
   "metadata": {
    "collapsed": true
   },
   "outputs": [],
   "source": [
    "votes = Path('../data/votes')\n",
    "senate_folder = votes / 'senate101-107'\n",
    "house_folder = votes / 'house101-107'\n",
    "output_folder_senate =  votes / 'senate'\n",
    "output_folder_votes = votes / 'votes'"
   ]
  },
  {
   "cell_type": "code",
   "execution_count": 12,
   "metadata": {},
   "outputs": [],
   "source": [
    "senate_voting_records = glob.glob(str(senate_folder / '*.vot'))\n",
    "senate_nam_records = glob.glob(str(senate_folder / '*.nam'))"
   ]
  },
  {
   "cell_type": "code",
   "execution_count": 15,
   "metadata": {},
   "outputs": [
    {
     "name": "stdout",
     "output_type": "stream",
     "text": [
      "['../data/votes/senate101-107/senate102.nam', '../data/votes/senate101-107/senate103.nam', '../data/votes/senate101-107/senate104.nam', '../data/votes/senate101-107/senate105.nam', '../data/votes/senate101-107/senate106.nam', '../data/votes/senate101-107/senate107.nam']\n",
      "['../data/votes/senate101-107/senate102.vot', '../data/votes/senate101-107/senate103.vot', '../data/votes/senate101-107/senate104.vot', '../data/votes/senate101-107/senate105.vot', '../data/votes/senate101-107/senate106.vot', '../data/votes/senate101-107/senate107.vot']\n"
     ]
    }
   ],
   "source": [
    "print(sorted(senate_nam_records))\n",
    "print(sorted(senate_voting_records))"
   ]
  },
  {
   "cell_type": "code",
   "execution_count": 18,
   "metadata": {},
   "outputs": [
    {
     "data": {
      "text/plain": [
       "'103'"
      ]
     },
     "execution_count": 18,
     "metadata": {},
     "output_type": "execute_result"
    }
   ],
   "source": [
    "def get_number(path):\n",
    "    return path[-7:-4]\n",
    "\n",
    "#senate_nam_records[1][-7:-4]"
   ]
  },
  {
   "cell_type": "code",
   "execution_count": null,
   "metadata": {
    "collapsed": true
   },
   "outputs": [],
   "source": []
  }
 ],
 "metadata": {
  "kernelspec": {
   "display_name": "Python 3",
   "language": "python",
   "name": "python3"
  },
  "language_info": {
   "codemirror_mode": {
    "name": "ipython",
    "version": 3
   },
   "file_extension": ".py",
   "mimetype": "text/x-python",
   "name": "python",
   "nbconvert_exporter": "python",
   "pygments_lexer": "ipython3",
   "version": "3.6.3"
  }
 },
 "nbformat": 4,
 "nbformat_minor": 2
}
