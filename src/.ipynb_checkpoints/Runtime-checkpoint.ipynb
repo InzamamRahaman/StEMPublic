{
 "cells": [
  {
   "cell_type": "code",
   "execution_count": 1,
   "metadata": {},
   "outputs": [
    {
     "name": "stdout",
     "output_type": "stream",
     "text": [
      "Populating the interactive namespace from numpy and matplotlib\n"
     ]
    }
   ],
   "source": [
    "%load_ext autoreload\n",
    "%autoreload 2\n",
    "\n",
    "%pylab inline\n",
    "\n"
   ]
  },
  {
   "cell_type": "code",
   "execution_count": 8,
   "metadata": {},
   "outputs": [],
   "source": [
    "import dataloaders\n",
    "import models\n",
    "import sklearn.linear_model as linear_model\n",
    "import sklearn.metrics as metrics \n",
    "import sklearn.cluster as cluster\n",
    "import numpy as np \n",
    "import random\n",
    "import classifiers\n",
    "from torch.autograd import Variable\n",
    "import torch\n",
    "import torch.nn as nn \n",
    "import torch.optim as optim\n",
    "import util\n",
    "from pathlib import Path\n",
    "import time\n",
    "\n",
    "from imblearn.under_sampling import RandomUnderSampler"
   ]
  },
  {
   "cell_type": "code",
   "execution_count": 31,
   "metadata": {},
   "outputs": [],
   "source": [
    "filename = 'Wiki-Rfa'\n",
    "datapath = f'../data/{filename}-cleaned.csv'\n",
    "delimiter = ' '\n",
    "data = dataloaders.UnsplitDataset(datapath, ratio=0.8, delimiter=delimiter)"
   ]
  },
  {
   "cell_type": "code",
   "execution_count": 32,
   "metadata": {
    "collapsed": true
   },
   "outputs": [],
   "source": [
    "# parameters for PsuedoKernel \n",
    "num_nodes = data.get_num_nodes()\n",
    "dims = 16\n",
    "epochs = 50\n",
    "lr = 0.15\n",
    "lr_decay=0.0\n",
    "weight_decay=0.0\n",
    "lam = 0.00055\n",
    "p = 2\n",
    "\n",
    "delta = 1\n",
    "delta0 = 0.5\n",
    "dims_array = [dims, 20, 20]\n",
    "frac1 = 0.5\n",
    "frac0 = 0.5\n",
    "p0 = True if frac0 > 0 else 0\n",
    "\n",
    "X, y = data.get_shuffled_data()"
   ]
  },
  {
   "cell_type": "code",
   "execution_count": 33,
   "metadata": {},
   "outputs": [
    {
     "name": "stdout",
     "output_type": "stream",
     "text": [
      "The loss at epoch  1  was  0.693988025188446\n",
      "The loss at epoch  2  was  0.7224938273429871\n",
      "The loss at epoch  3  was  0.6969404816627502\n",
      "The loss at epoch  4  was  0.6847659349441528\n",
      "The loss at epoch  5  was  0.6473589539527893\n",
      "The loss at epoch  6  was  0.6326271295547485\n",
      "The loss at epoch  7  was  0.6049489974975586\n",
      "The loss at epoch  8  was  0.5844305157661438\n",
      "The loss at epoch  9  was  0.566598117351532\n",
      "The loss at epoch  10  was  0.5514394640922546\n",
      "The loss at epoch  11  was  0.543750524520874\n",
      "The loss at epoch  12  was  0.5409927368164062\n",
      "The loss at epoch  13  was  0.5672416090965271\n",
      "The loss at epoch  14  was  0.5507136583328247\n",
      "The loss at epoch  15  was  0.5301263332366943\n",
      "The loss at epoch  16  was  0.5219999551773071\n",
      "The loss at epoch  17  was  0.5202190279960632\n",
      "The loss at epoch  18  was  0.5143694877624512\n",
      "The loss at epoch  19  was  0.5142116546630859\n",
      "The loss at epoch  20  was  0.5122462511062622\n",
      "The loss at epoch  21  was  0.5117899179458618\n",
      "The loss at epoch  22  was  0.51031893491745\n",
      "The loss at epoch  23  was  0.5077264904975891\n",
      "The loss at epoch  24  was  0.5073237419128418\n",
      "The loss at epoch  25  was  0.5053176283836365\n",
      "The loss at epoch  26  was  0.5002942681312561\n",
      "The loss at epoch  27  was  0.49624067544937134\n",
      "The loss at epoch  28  was  0.4947153329849243\n",
      "The loss at epoch  29  was  0.49109020829200745\n",
      "The loss at epoch  30  was  0.4904433488845825\n",
      "The loss at epoch  31  was  0.4866882562637329\n",
      "The loss at epoch  32  was  0.48766496777534485\n",
      "The loss at epoch  33  was  0.48214513063430786\n",
      "The loss at epoch  34  was  0.48245924711227417\n",
      "The loss at epoch  35  was  0.4788395166397095\n",
      "The loss at epoch  36  was  0.4783148765563965\n",
      "The loss at epoch  37  was  0.4767744243144989\n",
      "The loss at epoch  38  was  0.47535595297813416\n",
      "The loss at epoch  39  was  0.47473791241645813\n",
      "The loss at epoch  40  was  0.47685015201568604\n",
      "The loss at epoch  41  was  0.4744381308555603\n",
      "The loss at epoch  42  was  0.4724310040473938\n",
      "The loss at epoch  43  was  0.4724377393722534\n",
      "The loss at epoch  44  was  0.4718913435935974\n",
      "The loss at epoch  45  was  0.4711796045303345\n",
      "The loss at epoch  46  was  0.47065863013267517\n",
      "The loss at epoch  47  was  0.4704072177410126\n",
      "The loss at epoch  48  was  0.471932590007782\n",
      "The loss at epoch  49  was  0.46778860688209534\n",
      "The loss at epoch  50  was  0.46761631965637207\n",
      "11.11400818824768\n"
     ]
    }
   ],
   "source": [
    "t1 = time.time()\n",
    "kernel_model = models.fit_pseudo_kernel_model(num_nodes, dims, X, y, epochs=epochs, p=p, \n",
    "                                              lr=lr,lr_decay=lr_decay, lam=lam, weight_decay=weight_decay, \n",
    "                                                  undersample=True)\n",
    "t2 = time.time()\n",
    "print(t2 - t1)"
   ]
  },
  {
   "cell_type": "code",
   "execution_count": 34,
   "metadata": {},
   "outputs": [
    {
     "name": "stdout",
     "output_type": "stream",
     "text": [
      "Triples created!\n",
      "Loss at epoch  1  is  1.0059492588043213\n",
      "Loss at epoch  2  is  0.9658286571502686\n",
      "Loss at epoch  3  is  0.29036033153533936\n",
      "Loss at epoch  4  is  0.6551297307014465\n",
      "Loss at epoch  5  is  0.5936199426651001\n",
      "Loss at epoch  6  is  0.29979950189590454\n",
      "Loss at epoch  7  is  0.2932747006416321\n",
      "Loss at epoch  8  is  0.28561848402023315\n",
      "Loss at epoch  9  is  0.28271761536598206\n",
      "Loss at epoch  10  is  0.277517169713974\n",
      "Loss at epoch  11  is  0.2726942002773285\n",
      "Loss at epoch  12  is  0.27181264758110046\n",
      "Loss at epoch  13  is  0.26727691292762756\n",
      "Loss at epoch  14  is  0.2561963200569153\n",
      "Loss at epoch  15  is  0.24807380139827728\n",
      "Loss at epoch  16  is  0.2422603815793991\n",
      "Loss at epoch  17  is  0.2324962019920349\n",
      "Loss at epoch  18  is  0.23852670192718506\n",
      "Loss at epoch  19  is  0.2474517524242401\n",
      "Loss at epoch  20  is  0.23370787501335144\n",
      "Loss at epoch  21  is  0.2410617619752884\n",
      "Loss at epoch  22  is  0.22997604310512543\n",
      "Loss at epoch  23  is  0.22027844190597534\n",
      "Loss at epoch  24  is  0.22227592766284943\n",
      "Loss at epoch  25  is  0.23392140865325928\n",
      "Loss at epoch  26  is  0.2117386907339096\n",
      "Loss at epoch  27  is  0.21227659285068512\n",
      "Loss at epoch  28  is  0.23501062393188477\n",
      "Loss at epoch  29  is  0.2274317443370819\n",
      "Loss at epoch  30  is  0.21247127652168274\n",
      "Loss at epoch  31  is  0.2014809548854828\n",
      "Loss at epoch  32  is  0.20224638283252716\n",
      "Loss at epoch  33  is  0.20433086156845093\n",
      "Loss at epoch  34  is  0.22306093573570251\n",
      "Loss at epoch  35  is  0.19664230942726135\n",
      "Loss at epoch  36  is  0.19859063625335693\n",
      "Loss at epoch  37  is  0.21928353607654572\n",
      "Loss at epoch  38  is  0.22366835176944733\n",
      "Loss at epoch  39  is  0.20480428636074066\n",
      "Loss at epoch  40  is  0.19344359636306763\n",
      "Loss at epoch  41  is  0.19335658848285675\n",
      "Loss at epoch  42  is  0.19061902165412903\n",
      "Loss at epoch  43  is  0.1965627372264862\n",
      "Loss at epoch  44  is  0.18952523171901703\n",
      "Loss at epoch  45  is  0.20048806071281433\n",
      "Loss at epoch  46  is  0.19679923355579376\n",
      "Loss at epoch  47  is  0.21062226593494415\n",
      "Loss at epoch  48  is  0.197617307305336\n",
      "Loss at epoch  49  is  0.1897413730621338\n",
      "Loss at epoch  50  is  0.18780939280986786\n",
      "181.08452010154724\n"
     ]
    }
   ],
   "source": [
    "triples, triples0 = util.triples_from_array(X, y)\n",
    "print('Triples created!')\n",
    "batch_size = int(frac1 * len(triples))\n",
    "batch_size0 = int(frac0 * len(triples0))\n",
    "t1 = time.time()\n",
    "sine_model = models.fit_sine_model(num_nodes, dims_array, triples, triples0, delta, delta0,batch_size, batch_size0, epochs, lr=lr, lr_decay=lr_decay,lam=lam, p=p, p0=p0)\n",
    "t2 = time.time()\n",
    "print(t2 - t1)"
   ]
  },
  {
   "cell_type": "code",
   "execution_count": 37,
   "metadata": {
    "collapsed": true
   },
   "outputs": [],
   "source": [
    "import seaborn as sns\n",
    "import pandas as pd\n",
    "\n",
    "sns.set_style(\"darkgrid\")\n",
    "from pylab import rcParams\n",
    "rcParams['figure.figsize'] = 13, 13\n",
    "rcParams['axes.titlesize'] = 14"
   ]
  },
  {
   "cell_type": "code",
   "execution_count": 52,
   "metadata": {},
   "outputs": [
    {
     "data": {
      "image/png": "[encoded data removed]",
      "text/plain": [
       "<matplotlib.figure.Figure at 0x1c210755c0>"
      ]
     },
     "metadata": {},
     "output_type": "display_data"
    }
   ],
   "source": [
    "# data to plot\n",
    "n_groups = 5\n",
    "means_frank = np.log([1.57, 1.12, 41.47, 33.27, 11.11])\n",
    "means_guido = np.log([37.43, 17.41, 97.92, 899.59, 181.08])\n",
    " \n",
    "# create plot\n",
    "fig, ax = plt.subplots()\n",
    "index = np.arange(n_groups)\n",
    "bar_width = 0.3\n",
    "opacity = 0.8\n",
    " \n",
    "rects1 = plt.bar(index, means_frank, bar_width,\n",
    "                 alpha=opacity,\n",
    "                 color='b',\n",
    "                 label='StEM')\n",
    " \n",
    "rects2 = plt.bar(index + bar_width, means_guido, bar_width,\n",
    "                 alpha=opacity,\n",
    "                 color='g',\n",
    "                 label='SiNE')\n",
    " \n",
    "#plt.xlabel('Method')\n",
    "plt.ylabel('log(time taken)')\n",
    "#plt.title('')\n",
    "plt.xticks(index + bar_width, ('BitcoinOtc', 'BitcoinAlpha',  'Slashdot', 'Epinions', 'Wiki-Rfa'), fontsize=20, rotation=90)\n",
    "\n",
    "font_dict = fontdict={'fontsize': 12,\n",
    " 'fontweight' : rcParams['axes.titleweight'],\n",
    " 'verticalalignment': 'baseline'}\n",
    "\n",
    "#ax.legend(prop={'size': font_dict['fontsize']})\n",
    "ax.grid(True)\n",
    "\n",
    "\n",
    " \n",
    "plt.tight_layout()\n",
    "plt.show()\n",
    "fig.savefig('Time Chart.png')"
   ]
  },
  {
   "cell_type": "code",
   "execution_count": 53,
   "metadata": {},
   "outputs": [
    {
     "name": "stdout",
     "output_type": "stream",
     "text": [
      "25.65\n",
      "26.0063934447\n"
     ]
    }
   ],
   "source": [
    "arr = [12.6, 7.5, 11.2, 15.4, 82.6, 24.6]\n",
    "print(np.mean(arr))\n",
    "print(np.std(arr))"
   ]
  },
  {
   "cell_type": "code",
   "execution_count": 54,
   "metadata": {},
   "outputs": [
    {
     "name": "stdout",
     "output_type": "stream",
     "text": [
      "28.9\n",
      "27.3125123951\n"
     ]
    }
   ],
   "source": [
    "arr = [15.9, 8.1, 11.5, 15.9, 86.9, 35.1]\n",
    "print(np.mean(arr))\n",
    "print(np.std(arr))"
   ]
  },
  {
   "cell_type": "code",
   "execution_count": 55,
   "metadata": {},
   "outputs": [
    {
     "name": "stdout",
     "output_type": "stream",
     "text": [
      "14.26\n",
      "5.7624994577\n"
     ]
    }
   ],
   "source": [
    "arr = [12.6, 7.5, 11.2, 15.4, 24.6]\n",
    "print(np.mean(arr))\n",
    "print(np.std(arr))"
   ]
  },
  {
   "cell_type": "code",
   "execution_count": 56,
   "metadata": {},
   "outputs": [
    {
     "name": "stdout",
     "output_type": "stream",
     "text": [
      "17.3\n",
      "9.37059229718\n"
     ]
    }
   ],
   "source": [
    "arr = [15.9, 8.1, 11.5, 15.9,  35.1]\n",
    "print(np.mean(arr))\n",
    "print(np.std(arr))"
   ]
  },
  {
   "cell_type": "code",
   "execution_count": null,
   "metadata": {
    "collapsed": true
   },
   "outputs": [],
   "source": []
  }
 ],
 "metadata": {
  "kernelspec": {
   "display_name": "Python 3",
   "language": "python",
   "name": "python3"
  },
  "language_info": {
   "codemirror_mode": {
    "name": "ipython",
    "version": 3
   },
   "file_extension": ".py",
   "mimetype": "text/x-python",
   "name": "python",
   "nbconvert_exporter": "python",
   "pygments_lexer": "ipython3",
   "version": "3.6.3"
  }
 },
 "nbformat": 4,
 "nbformat_minor": 2
}
