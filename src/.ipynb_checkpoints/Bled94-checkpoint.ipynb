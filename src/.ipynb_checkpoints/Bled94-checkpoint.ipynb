{
 "cells": [
  {
   "cell_type": "code",
   "execution_count": 22,
   "metadata": {
    "collapsed": true
   },
   "outputs": [],
   "source": [
    "import numpy as np\n",
    "\n",
    "def mat_string_to_mat(matrix_string):\n",
    "    arr = []\n",
    "    for line in matrix_string.split('\\n'):\n",
    "        line = line.split()\n",
    "        if len(line) > 0:\n",
    "            line = list(map(int, line))\n",
    "            arr.append(line)\n",
    "    arr = np.array(arr) \n",
    "    print(arr)\n",
    "    return arr\n",
    "\n",
    "def sign_ext(num):\n",
    "    if num < 0:\n",
    "        return -1\n",
    "    if num > 0:\n",
    "        return 1\n",
    "    return 0\n",
    "\n",
    "def mat_to_edgelist(matrix_string, indexing=1):\n",
    "    mat_repr = mat_string_to_mat(matrix_string)\n",
    "    edgelist = ''\n",
    "    for u, row  in enumerate(mat_repr):\n",
    "        for v, col in enumerate(row):\n",
    "            sign = sign_ext(col)\n",
    "            if sign != 0:\n",
    "                edgelist += '{0},{1},{2}\\n'.format(u + indexing, v + indexing, sign)\n",
    "    return edgelist\n",
    "    \n",
    "\n",
    "def matrix_file_to_edgelist_file(input_file, output_file):\n",
    "    with open(input_file, 'r') as infp:\n",
    "        with open(output_file, 'w') as outfp:\n",
    "            mat_string = infp.read()\n",
    "            print(mat_string)\n",
    "            edgelist = mat_to_edgelist(mat_string)\n",
    "            outfp.write(edgelist)"
   ]
  },
  {
   "cell_type": "code",
   "execution_count": 23,
   "metadata": {
    "collapsed": true
   },
   "outputs": [],
   "source": [
    "dataset = 'sampson'\n",
    "in_filename = f'../data/comm/{dataset}-mat.txt'\n",
    "out_filename = f'../data/comm/{dataset}-cleaned.txt'\n"
   ]
  },
  {
   "cell_type": "code",
   "execution_count": 24,
   "metadata": {},
   "outputs": [
    {
     "name": "stdout",
     "output_type": "stream",
     "text": [
      "0 0 -2 0 3 1 -3 0 0 2 0 0 0 0 0 0 0 -1 \n",
      "0 0 0 3 0 0 0 0 0 0  2 0 1 0 0 0 0 0\n",
      "1 0 0 3 0 0 -3 -1 2 0 0 -2 0 0 0 0 0 0 \n",
      "0 2 0 -3 -1 -2 0 1 0 0 0 0 0 0 0 3 0 0 \n",
      "3 2 -3 0 0 0 0 0 1 0 0 0 0 -2 0 0 -1 0 \n",
      "0 0 -3 0 2 0 0 3 0 0 0 0 0 0 0 1 -2 -1 \n",
      "0 0 0 3 0 0  0 1 0 0 0 0 0 2 0 0 0 0\n",
      "0 0 -1 0 3 0 0 1 0 0 0 0 -3 2 0 0 -2 0 \n",
      "3 2 -1 -3 0 0 0 0 0 0 -2 0 0 1 0 0 0 0 \n",
      "0 -3 0 0 2 -2 1 0 0 0 0 -1 0 0 0 0 0 3 \n",
      "3 0 0 0 0 0 0 -2 0 0 1 2 -3 0 2 0 -1 0 \n",
      "3 2 -2 0 0 0 0 0 0 0 0 0 -3 1 0 0 -1 -1 \n",
      "1 2 0 0 0 0 3 0 0 0 0 0 -1 0 0 0 -3 -2 \n",
      "0 0 3 -3 -2 0 0 0 0 0 -1 0 2 0 0 0 0 1 \n",
      "2 3 0 -3 0 -2 1 0 0 0 0 0 0 0 0 -1 0 0 \n",
      "\n",
      "[list([0, 0, -2, 0, 3, 1, -3, 0, 0, 2, 0, 0, 0, 0, 0, 0, 0, -1])\n",
      " list([0, 0, 0, 3, 0, 0, 0, 0, 0, 0, 2, 0, 1, 0, 0, 0, 0, 0])\n",
      " list([1, 0, 0, 3, 0, 0, -3, -1, 2, 0, 0, -2, 0, 0, 0, 0, 0, 0])\n",
      " list([0, 2, 0, -3, -1, -2, 0, 1, 0, 0, 0, 0, 0, 0, 0, 3, 0, 0])\n",
      " list([3, 2, -3, 0, 0, 0, 0, 0, 1, 0, 0, 0, 0, -2, 0, 0, -1, 0])\n",
      " list([0, 0, -3, 0, 2, 0, 0, 3, 0, 0, 0, 0, 0, 0, 0, 1, -2, -1])\n",
      " list([0, 0, 0, 3, 0, 0, 0, 1, 0, 0, 0, 0, 0, 2, 0, 0, 0, 0])\n",
      " list([0, 0, -1, 0, 3, 0, 0, 1, 0, 0, 0, 0, -3, 2, 0, 0, -2, 0])\n",
      " list([3, 2, -1, -3, 0, 0, 0, 0, 0, 0, -2, 0, 0, 1, 0, 0, 0, 0])\n",
      " list([0, -3, 0, 0, 2, -2, 1, 0, 0, 0, 0, -1, 0, 0, 0, 0, 0, 3])\n",
      " list([3, 0, 0, 0, 0, 0, 0, -2, 0, 0, 1, 2, -3, 0, 2, 0, -1, 0])\n",
      " list([3, 2, -2, 0, 0, 0, 0, 0, 0, 0, 0, 0, -3, 1, 0, 0, -1, -1])\n",
      " list([1, 2, 0, 0, 0, 0, 3, 0, 0, 0, 0, 0, -1, 0, 0, 0, -3, -2])\n",
      " list([0, 0, 3, -3, -2, 0, 0, 0, 0, 0, -1, 0, 2, 0, 0, 0, 0, 1])\n",
      " list([2, 3, 0, -3, 0, -2, 1, 0, 0, 0, 0, 0, 0, 0, 0, -1, 0, 0]) list([])]\n"
     ]
    }
   ],
   "source": [
    "matrix_file_to_edgelist_file(in_filename, out_filename)"
   ]
  },
  {
   "cell_type": "code",
   "execution_count": null,
   "metadata": {
    "collapsed": true
   },
   "outputs": [],
   "source": []
  }
 ],
 "metadata": {
  "kernelspec": {
   "display_name": "Python 3",
   "language": "python",
   "name": "python3"
  },
  "language_info": {
   "codemirror_mode": {
    "name": "ipython",
    "version": 3
   },
   "file_extension": ".py",
   "mimetype": "text/x-python",
   "name": "python",
   "nbconvert_exporter": "python",
   "pygments_lexer": "ipython3",
   "version": "3.6.3"
  }
 },
 "nbformat": 4,
 "nbformat_minor": 2
}
