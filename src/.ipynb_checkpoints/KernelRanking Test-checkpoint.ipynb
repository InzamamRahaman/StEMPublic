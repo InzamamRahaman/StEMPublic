{
 "cells": [
  {
   "cell_type": "code",
   "execution_count": 1,
   "metadata": {},
   "outputs": [
    {
     "name": "stdout",
     "output_type": "stream",
     "text": [
      "Populating the interactive namespace from numpy and matplotlib\n"
     ]
    }
   ],
   "source": [
    "%load_ext autoreload\n",
    "%autoreload 2\n",
    "\n",
    "%pylab inline\n",
    "\n",
    "import dataloaders\n",
    "import models\n",
    "import sklearn.linear_model as linear_model\n",
    "import sklearn.metrics as metrics \n",
    "import sklearn.cluster as cluster\n",
    "import numpy as np \n",
    "import random\n",
    "import classifiers\n",
    "from torch.autograd import Variable\n",
    "import torch\n",
    "import torch.nn as nn \n",
    "import torch.optim as optim\n",
    "\n",
    "from imblearn.under_sampling import RandomUnderSampler"
   ]
  },
  {
   "cell_type": "code",
   "execution_count": 2,
   "metadata": {
    "collapsed": true
   },
   "outputs": [],
   "source": [
    "filepath = '../data/soc-sign-Slashdot081106-cleaned.csv'\n",
    "data = dataloaders.UnsplitDataset(filepath, ratio=0.8, delimiter=',')"
   ]
  },
  {
   "cell_type": "code",
   "execution_count": 37,
   "metadata": {
    "collapsed": true
   },
   "outputs": [],
   "source": [
    "num_nodes = data.get_num_nodes()\n",
    "dims = 32\n",
    "epochs = 150\n",
    "lr = 0.5\n",
    "lr_decay=0.0\n",
    "weight_decay=0.0\n",
    "lam = 0.00055\n",
    "p = 2\n",
    "delta = 1\n",
    "delta0 = 0.5\n",
    "dims_array = [dims, 20, 20]"
   ]
  },
  {
   "cell_type": "code",
   "execution_count": 38,
   "metadata": {
    "collapsed": true
   },
   "outputs": [],
   "source": [
    "triples, triples0 = data.get_training_triples(True)"
   ]
  },
  {
   "cell_type": "code",
   "execution_count": 39,
   "metadata": {
    "collapsed": true
   },
   "outputs": [],
   "source": [
    "batch_size = int(0.4 * len(triples))\n",
    "batch_size0 = int(0.4 * len(triples0))"
   ]
  },
  {
   "cell_type": "code",
   "execution_count": 40,
   "metadata": {},
   "outputs": [
    {
     "name": "stdout",
     "output_type": "stream",
     "text": [
      "Loss at epoch  1  is  9.660587310791016\n",
      "Loss at epoch  2  is  7.841007232666016\n",
      "Loss at epoch  3  is  6.5262322425842285\n",
      "Loss at epoch  4  is  5.606200218200684\n",
      "Loss at epoch  5  is  4.889438152313232\n",
      "Loss at epoch  6  is  4.305512428283691\n",
      "Loss at epoch  7  is  3.8148341178894043\n",
      "Loss at epoch  8  is  3.395362377166748\n",
      "Loss at epoch  9  is  3.0366005897521973\n",
      "Loss at epoch  10  is  2.7285897731781006\n",
      "Loss at epoch  11  is  2.461519718170166\n",
      "Loss at epoch  12  is  2.2286739349365234\n",
      "Loss at epoch  13  is  2.0275912284851074\n",
      "Loss at epoch  14  is  1.8542766571044922\n",
      "Loss at epoch  15  is  1.7045196294784546\n",
      "Loss at epoch  16  is  1.5758233070373535\n",
      "Loss at epoch  17  is  1.4638190269470215\n",
      "Loss at epoch  18  is  1.3688241243362427\n",
      "Loss at epoch  19  is  1.2818033695220947\n",
      "Loss at epoch  20  is  1.2078380584716797\n",
      "Loss at epoch  21  is  1.1456105709075928\n",
      "Loss at epoch  22  is  1.0892378091812134\n",
      "Loss at epoch  23  is  1.0443669557571411\n",
      "Loss at epoch  24  is  1.0099506378173828\n",
      "Loss at epoch  25  is  0.9772751331329346\n",
      "Loss at epoch  26  is  0.9466854929924011\n",
      "Loss at epoch  27  is  0.9200294613838196\n",
      "Loss at epoch  28  is  0.8940417170524597\n",
      "Loss at epoch  29  is  0.8713365197181702\n",
      "Loss at epoch  30  is  0.8466968536376953\n",
      "Loss at epoch  31  is  0.8338116407394409\n",
      "Loss at epoch  32  is  0.8223534822463989\n",
      "Loss at epoch  33  is  0.8142868280410767\n",
      "Loss at epoch  34  is  0.7923168540000916\n",
      "Loss at epoch  35  is  0.7863647937774658\n",
      "Loss at epoch  36  is  0.767999529838562\n",
      "Loss at epoch  37  is  0.7642579078674316\n",
      "Loss at epoch  38  is  0.7505621910095215\n",
      "Loss at epoch  39  is  0.748202919960022\n",
      "Loss at epoch  40  is  0.7345359325408936\n",
      "Loss at epoch  41  is  0.736014723777771\n",
      "Loss at epoch  42  is  0.7199980616569519\n",
      "Loss at epoch  43  is  0.7187249660491943\n",
      "Loss at epoch  44  is  0.708929181098938\n",
      "Loss at epoch  45  is  0.7111639976501465\n",
      "Loss at epoch  46  is  0.6964452266693115\n",
      "Loss at epoch  47  is  0.6939465403556824\n",
      "Loss at epoch  48  is  0.6858684420585632\n",
      "Loss at epoch  49  is  0.6908099055290222\n",
      "Loss at epoch  50  is  0.6811346411705017\n",
      "Loss at epoch  51  is  0.681115984916687\n",
      "Loss at epoch  52  is  0.672704815864563\n",
      "Loss at epoch  53  is  0.6727184057235718\n",
      "Loss at epoch  54  is  0.6639968156814575\n",
      "Loss at epoch  55  is  0.6634556651115417\n",
      "Loss at epoch  56  is  0.656584620475769\n",
      "Loss at epoch  57  is  0.6595705151557922\n",
      "Loss at epoch  58  is  0.6539799571037292\n",
      "Loss at epoch  59  is  0.6549694538116455\n",
      "Loss at epoch  60  is  0.6469392776489258\n",
      "Loss at epoch  61  is  0.647002100944519\n",
      "Loss at epoch  62  is  0.6414083242416382\n",
      "Loss at epoch  63  is  0.6425773501396179\n",
      "Loss at epoch  64  is  0.6386948227882385\n",
      "Loss at epoch  65  is  0.6409354209899902\n",
      "Loss at epoch  66  is  0.6340639591217041\n",
      "Loss at epoch  67  is  0.6337066888809204\n",
      "Loss at epoch  68  is  0.6298861503601074\n",
      "Loss at epoch  69  is  0.6308376789093018\n",
      "Loss at epoch  70  is  0.6267048716545105\n",
      "Loss at epoch  71  is  0.6266762018203735\n",
      "Loss at epoch  72  is  0.622118353843689\n",
      "Loss at epoch  73  is  0.6233526468276978\n",
      "Loss at epoch  74  is  0.6200801730155945\n",
      "Loss at epoch  75  is  0.6203226447105408\n",
      "Loss at epoch  76  is  0.6175185441970825\n",
      "Loss at epoch  77  is  0.6176266670227051\n",
      "Loss at epoch  78  is  0.6147903203964233\n",
      "Loss at epoch  79  is  0.6150761246681213\n",
      "Loss at epoch  80  is  0.6127873063087463\n",
      "Loss at epoch  81  is  0.6126826405525208\n",
      "Loss at epoch  82  is  0.6090430021286011\n",
      "Loss at epoch  83  is  0.608552098274231\n",
      "Loss at epoch  84  is  0.6063342094421387\n",
      "Loss at epoch  85  is  0.6078824996948242\n",
      "Loss at epoch  86  is  0.6071399450302124\n",
      "Loss at epoch  87  is  0.6078999042510986\n",
      "Loss at epoch  88  is  0.6042884588241577\n",
      "Loss at epoch  89  is  0.6034685373306274\n",
      "Loss at epoch  90  is  0.6014671325683594\n",
      "Loss at epoch  91  is  0.6027763485908508\n",
      "Loss at epoch  92  is  0.6014841794967651\n",
      "Loss at epoch  93  is  0.6012686491012573\n",
      "Loss at epoch  94  is  0.598065972328186\n",
      "Loss at epoch  95  is  0.5981123447418213\n",
      "Loss at epoch  96  is  0.5970894694328308\n",
      "Loss at epoch  97  is  0.5973445773124695\n",
      "Loss at epoch  98  is  0.5961303114891052\n",
      "Loss at epoch  99  is  0.5954051613807678\n",
      "Loss at epoch  100  is  0.5945075750350952\n",
      "Loss at epoch  101  is  0.5957160592079163\n",
      "Loss at epoch  102  is  0.5938769578933716\n",
      "Loss at epoch  103  is  0.5946489572525024\n",
      "Loss at epoch  104  is  0.5922219753265381\n",
      "Loss at epoch  105  is  0.591538667678833\n",
      "Loss at epoch  106  is  0.5902522206306458\n",
      "Loss at epoch  107  is  0.5909924507141113\n",
      "Loss at epoch  108  is  0.5895582437515259\n",
      "Loss at epoch  109  is  0.5901491641998291\n",
      "Loss at epoch  110  is  0.588242769241333\n",
      "Loss at epoch  111  is  0.5882601141929626\n",
      "Loss at epoch  112  is  0.5871825218200684\n",
      "Loss at epoch  113  is  0.5874738693237305\n",
      "Loss at epoch  114  is  0.5871886014938354\n",
      "Loss at epoch  115  is  0.5875113606452942\n",
      "Loss at epoch  116  is  0.5861788392066956\n",
      "Loss at epoch  117  is  0.5864999890327454\n",
      "Loss at epoch  118  is  0.5849489569664001\n",
      "Loss at epoch  119  is  0.5841699242591858\n",
      "Loss at epoch  120  is  0.5839243531227112\n",
      "Loss at epoch  121  is  0.5845973491668701\n",
      "Loss at epoch  122  is  0.583228349685669\n",
      "Loss at epoch  123  is  0.5834174752235413\n",
      "Loss at epoch  124  is  0.5826348066329956\n",
      "Loss at epoch  125  is  0.5826231241226196\n",
      "Loss at epoch  126  is  0.5821330547332764\n",
      "Loss at epoch  127  is  0.5815248489379883\n",
      "Loss at epoch  128  is  0.580554723739624\n",
      "Loss at epoch  129  is  0.5807098746299744\n",
      "Loss at epoch  130  is  0.5795862674713135\n",
      "Loss at epoch  131  is  0.5795816779136658\n",
      "Loss at epoch  132  is  0.578636109828949\n",
      "Loss at epoch  133  is  0.5791453719139099\n",
      "Loss at epoch  134  is  0.578446626663208\n",
      "Loss at epoch  135  is  0.5785126686096191\n",
      "Loss at epoch  136  is  0.5776511430740356\n",
      "Loss at epoch  137  is  0.5776609778404236\n",
      "Loss at epoch  138  is  0.5770356059074402\n",
      "Loss at epoch  139  is  0.576761782169342\n",
      "Loss at epoch  140  is  0.5757310390472412\n",
      "Loss at epoch  141  is  0.5763522982597351\n",
      "Loss at epoch  142  is  0.5756062269210815\n",
      "Loss at epoch  143  is  0.5760159492492676\n",
      "Loss at epoch  144  is  0.5755761861801147\n",
      "Loss at epoch  145  is  0.5751838088035583\n",
      "Loss at epoch  146  is  0.574065625667572\n",
      "Loss at epoch  147  is  0.5744444727897644\n",
      "Loss at epoch  148  is  0.5739179253578186\n",
      "Loss at epoch  149  is  0.5742114782333374\n",
      "Loss at epoch  150  is  0.5721255540847778\n"
     ]
    }
   ],
   "source": [
    "ranking_model = models.fit_ranking_model(num_nodes, dims_array[0], triples, triples0, delta, delta0,\n",
    "                                   batch_size, batch_size0, epochs, lr=lr)"
   ]
  },
  {
   "cell_type": "code",
   "execution_count": 41,
   "metadata": {
    "collapsed": true
   },
   "outputs": [],
   "source": [
    "X_train, y_train = data.get_training_set()\n",
    "X_test, y_test = data.get_testing_set()"
   ]
  },
  {
   "cell_type": "code",
   "execution_count": 90,
   "metadata": {},
   "outputs": [
    {
     "name": "stdout",
     "output_type": "stream",
     "text": [
      "Assembling training set features....\n",
      "Fitting classifier model\n",
      "Assembling testing set features\n"
     ]
    }
   ],
   "source": [
    "clf = linear_model.LogisticRegression()\n",
    "reports = classifiers.train_and_evaluate_classifier(clf, ranking_model, X_train, y_train, X_test, y_test,\n",
    "                                                    operation='concat', undersample=True, ratio=1.7)"
   ]
  },
  {
   "cell_type": "code",
   "execution_count": 91,
   "metadata": {},
   "outputs": [
    {
     "data": {
      "text/plain": [
       "{'auc': 0.80999499349735227,\n",
       " 'average_percision_score': 0.92679715546420682,\n",
       " 'classification_report': '             precision    recall  f1-score   support\\n\\n          0       0.59      0.51      0.55     24189\\n          1       0.86      0.89      0.87     79126\\n\\navg / total       0.79      0.80      0.80    103315\\n',\n",
       " 'confusion_matrix': array([[12453, 11736],\n",
       "        [ 8763, 70363]]),\n",
       " 'macro_f1': 0.71069230187218224,\n",
       " 'micro_f1': 0.80158737840584615}"
      ]
     },
     "execution_count": 91,
     "metadata": {},
     "output_type": "execute_result"
    }
   ],
   "source": [
    "reports"
   ]
  },
  {
   "cell_type": "code",
   "execution_count": 92,
   "metadata": {},
   "outputs": [
    {
     "name": "stdout",
     "output_type": "stream",
     "text": [
      "0.809994993497\n"
     ]
    }
   ],
   "source": [
    "print(reports['auc'])"
   ]
  },
  {
   "cell_type": "code",
   "execution_count": 93,
   "metadata": {},
   "outputs": [
    {
     "name": "stdout",
     "output_type": "stream",
     "text": [
      "0.801587378406\n"
     ]
    }
   ],
   "source": [
    "print(reports['micro_f1'])"
   ]
  },
  {
   "cell_type": "code",
   "execution_count": 94,
   "metadata": {},
   "outputs": [
    {
     "name": "stdout",
     "output_type": "stream",
     "text": [
      "             precision    recall  f1-score   support\n",
      "\n",
      "          0       0.59      0.51      0.55     24189\n",
      "          1       0.86      0.89      0.87     79126\n",
      "\n",
      "avg / total       0.79      0.80      0.80    103315\n",
      "\n"
     ]
    }
   ],
   "source": [
    "print(reports['classification_report'])"
   ]
  },
  {
   "cell_type": "code",
   "execution_count": 95,
   "metadata": {},
   "outputs": [
    {
     "name": "stdout",
     "output_type": "stream",
     "text": [
      "[[12453 11736]\n",
      " [ 8763 70363]]\n"
     ]
    }
   ],
   "source": [
    "print(reports['confusion_matrix'])"
   ]
  },
  {
   "cell_type": "code",
   "execution_count": 83,
   "metadata": {},
   "outputs": [
    {
     "name": "stdout",
     "output_type": "stream",
     "text": [
      "24189\n",
      "79126\n"
     ]
    }
   ],
   "source": [
    "print(len(y_test[y_test == 0]))\n",
    "print(len(y_test[y_test == 1]))"
   ]
  },
  {
   "cell_type": "code",
   "execution_count": 88,
   "metadata": {},
   "outputs": [
    {
     "data": {
      "text/plain": [
       "0.23493200406523737"
      ]
     },
     "execution_count": 88,
     "metadata": {},
     "output_type": "execute_result"
    }
   ],
   "source": [
    "len(y_test[y_test == 0])/len(y_test)"
   ]
  },
  {
   "cell_type": "code",
   "execution_count": 24,
   "metadata": {},
   "outputs": [
    {
     "data": {
      "text/plain": [
       "0.23211779509267774"
      ]
     },
     "execution_count": 24,
     "metadata": {},
     "output_type": "execute_result"
    }
   ],
   "source": [
    "len(y_train[y_train == 0])/len(y_train)"
   ]
  },
  {
   "cell_type": "code",
   "execution_count": 25,
   "metadata": {
    "collapsed": true
   },
   "outputs": [],
   "source": [
    "y = data.y"
   ]
  },
  {
   "cell_type": "code",
   "execution_count": 251,
   "metadata": {},
   "outputs": [
    {
     "data": {
      "text/plain": [
       "0.10010676556529557"
      ]
     },
     "execution_count": 251,
     "metadata": {},
     "output_type": "execute_result"
    }
   ],
   "source": [
    "len(y[y == 0]) / len(y)"
   ]
  },
  {
   "cell_type": "code",
   "execution_count": 252,
   "metadata": {},
   "outputs": [
    {
     "name": "stdout",
     "output_type": "stream",
     "text": [
      "0.8798882681564246\n"
     ]
    }
   ],
   "source": [
    "count = 0.0\n",
    "for x, y in X_test[y_test == 0]:\n",
    "    x = Variable(torch.LongTensor([int(x)]))\n",
    "    y = Variable(torch.LongTensor([int(y)]))\n",
    "    output = kernel_model(x, y).data.numpy()[0]\n",
    "    neg = output[0]\n",
    "    pos = output[1]\n",
    "    count += 1 if neg > pos else 0\n",
    "print(count / len(X_test[y_test == 0]))"
   ]
  },
  {
   "cell_type": "code",
   "execution_count": 253,
   "metadata": {},
   "outputs": [
    {
     "name": "stdout",
     "output_type": "stream",
     "text": [
      "0.8204247345409119\n"
     ]
    }
   ],
   "source": [
    "count = 0.0\n",
    "for x, y in X_test[y_test == 1]:\n",
    "    x = Variable(torch.LongTensor([int(x)]))\n",
    "    y = Variable(torch.LongTensor([int(y)]))\n",
    "    output = kernel_model(x, y).data.numpy()[0]\n",
    "    neg = output[0]\n",
    "    pos = output[1]\n",
    "    count += 1 if neg < pos else 0\n",
    "print(count / len(X_test[y_test == 1]))"
   ]
  },
  {
   "cell_type": "code",
   "execution_count": 254,
   "metadata": {},
   "outputs": [
    {
     "name": "stdout",
     "output_type": "stream",
     "text": [
      "0.8798882681564246\n",
      "0.8204247345409119\n"
     ]
    }
   ],
   "source": [
    "count = 0.0\n",
    "A = []\n",
    "b = []\n",
    "for x, y in X_test[y_test == 0]:\n",
    "    x = Variable(torch.LongTensor([int(x)]))\n",
    "    y = Variable(torch.LongTensor([int(y)]))\n",
    "    output = kernel_model(x, y).data.numpy()[0]\n",
    "    neg = output[0]\n",
    "    pos = output[1]\n",
    "    A.append(pos)\n",
    "    b.append(0)\n",
    "    count += 1 if neg > pos else 0\n",
    "print(count / len(X_test[y_test == 0]))\n",
    "count = 0.0\n",
    "for x, y in X_test[y_test == 1]:\n",
    "    x = Variable(torch.LongTensor([int(x)]))\n",
    "    y = Variable(torch.LongTensor([int(y)]))\n",
    "    output = kernel_model(x, y).data.numpy()[0]\n",
    "    neg = output[0]\n",
    "    pos = output[1]\n",
    "    A.append(pos)\n",
    "    b.append(1)\n",
    "    count += 1 if neg < pos else 0\n",
    "print(count / len(X_test[y_test == 1]))"
   ]
  },
  {
   "cell_type": "code",
   "execution_count": 255,
   "metadata": {},
   "outputs": [
    {
     "data": {
      "text/plain": [
       "0.91300304628043227"
      ]
     },
     "execution_count": 255,
     "metadata": {},
     "output_type": "execute_result"
    }
   ],
   "source": [
    "metrics.roc_auc_score(b, A)"
   ]
  },
  {
   "cell_type": "code",
   "execution_count": 256,
   "metadata": {
    "collapsed": true
   },
   "outputs": [],
   "source": [
    "class EnergyToProbsLayer(nn.Module):\n",
    "    def __init__(self):\n",
    "        super(EnergyToProbsLayer, self).__init__()\n",
    "        self.transform = nn.Sigmoid()\n",
    "    def forward(self, x):\n",
    "        ones = torch.ones_like(x)\n",
    "        positive_prob = self.transform(x)\n",
    "        negative_prob = ones - positive_prob\n",
    "        output = torch.cat((negative_prob, positive_prob), dim=1)\n",
    "        #output = torch.log(output)\n",
    "        return output\n",
    "        \n",
    "\n",
    "class BilinearEmbeddingModel(nn.Module):\n",
    "    def __init__(self, num_nodes, dims=128):\n",
    "        super(BilinearEmbeddingModel, self).__init__()\n",
    "        self.embeddings = nn.Embedding(num_nodes + 1, dims)\n",
    "        self.initial_layer = nn.Linear(dims, int(dims/2))\n",
    "        self.initial_transform = nn.ReLU()\n",
    "        self.layer = nn.Bilinear(int(dims/2), int(dims/2), 1)\n",
    "        self.transform_layer= EnergyToProbsLayer()\n",
    "    \n",
    "    def get_embedding(self, x):\n",
    "        x = Variable(torch.LongTensor([x]))\n",
    "        emb = self.embeddings(x)\n",
    "        transformed = self.initial_layer(emb)\n",
    "        emb = transformed.data.numpy()[0]\n",
    "        return emb\n",
    "\n",
    "        \n",
    "    def forward(self, u, v):\n",
    "        u_emb = self.embeddings(u)\n",
    "        v_emb = self.embeddings(v)\n",
    "        u_emb = self.initial_transform(self.initial_layer(u_emb))\n",
    "        v_emb = self.initial_transform(self.initial_layer(v_emb))\n",
    "        energy = self.layer(u_emb, v_emb)\n",
    "        probs = self.transform_layer(energy)\n",
    "        return probs"
   ]
  },
  {
   "cell_type": "code",
   "execution_count": 257,
   "metadata": {
    "collapsed": true
   },
   "outputs": [],
   "source": [
    "X_train_pos = X_train[y_train == 1]\n",
    "X_train_neg = X_train[y_train == 0]"
   ]
  },
  {
   "cell_type": "code",
   "execution_count": 258,
   "metadata": {},
   "outputs": [
    {
     "data": {
      "text/plain": [
       "-25622"
      ]
     },
     "execution_count": 258,
     "metadata": {},
     "output_type": "execute_result"
    }
   ],
   "source": [
    "len(X_train_neg) - len(X_train_pos)"
   ]
  },
  {
   "cell_type": "code",
   "execution_count": 259,
   "metadata": {},
   "outputs": [
    {
     "name": "stdout",
     "output_type": "stream",
     "text": [
      "5881\n"
     ]
    }
   ],
   "source": [
    "batch_frac = 0.1\n",
    "epochs = 200\n",
    "alpha = 0.7\n",
    "dim = 32\n",
    "beta = 0.1\n",
    "size = data.get_num_nodes()\n",
    "print(size)\n",
    "model = BilinearEmbeddingModel(size, dim)\n",
    "optimizer = optim.Adagrad(model.parameters(), lr=alpha, lr_decay=beta)\n",
    "lam = 0.0055"
   ]
  },
  {
   "cell_type": "code",
   "execution_count": 260,
   "metadata": {},
   "outputs": [
    {
     "name": "stdout",
     "output_type": "stream",
     "text": [
      "3205\n",
      "2564\n"
     ]
    }
   ],
   "source": [
    "negative_batch_size = len(X_train_neg)\n",
    "positive_batch_size = int(0.8 * negative_batch_size)\n",
    "num_positive = len(X_train_pos)\n",
    "\n",
    "\n",
    "criterion = nn.CrossEntropyLoss(size_average=True)\n",
    "regularizer = lambda x: torch.norm(x - torch.zeros_like(x))\n",
    "print(negative_batch_size)\n",
    "print(positive_batch_size)"
   ]
  },
  {
   "cell_type": "code",
   "execution_count": 261,
   "metadata": {},
   "outputs": [
    {
     "name": "stdout",
     "output_type": "stream",
     "text": [
      "Loss at iteration  0  is  \n",
      " 3.1082\n",
      "[torch.FloatTensor of size 1]\n",
      "\n",
      "Loss at iteration  1  is  \n",
      " 2.4626\n",
      "[torch.FloatTensor of size 1]\n",
      "\n",
      "Loss at iteration  2  is  \n",
      " 1.7610\n",
      "[torch.FloatTensor of size 1]\n",
      "\n",
      "Loss at iteration  3  is  \n",
      " 1.3609\n",
      "[torch.FloatTensor of size 1]\n",
      "\n",
      "Loss at iteration  4  is  \n",
      " 1.4519\n",
      "[torch.FloatTensor of size 1]\n",
      "\n",
      "Loss at iteration  5  is  \n",
      " 1.2471\n",
      "[torch.FloatTensor of size 1]\n",
      "\n",
      "Loss at iteration  6  is  \n",
      " 1.1656\n",
      "[torch.FloatTensor of size 1]\n",
      "\n",
      "Loss at iteration  7  is  \n",
      " 1.0918\n",
      "[torch.FloatTensor of size 1]\n",
      "\n",
      "Loss at iteration  8  is  \n",
      " 1.0441\n",
      "[torch.FloatTensor of size 1]\n",
      "\n",
      "Loss at iteration  9  is  \n",
      " 0.9981\n",
      "[torch.FloatTensor of size 1]\n",
      "\n",
      "Loss at iteration  10  is  \n",
      " 0.9836\n",
      "[torch.FloatTensor of size 1]\n",
      "\n",
      "Loss at iteration  11  is  \n",
      " 0.9513\n",
      "[torch.FloatTensor of size 1]\n",
      "\n",
      "Loss at iteration  12  is  \n",
      " 0.9050\n",
      "[torch.FloatTensor of size 1]\n",
      "\n",
      "Loss at iteration  13  is  \n",
      " 0.8665\n",
      "[torch.FloatTensor of size 1]\n",
      "\n",
      "Loss at iteration  14  is  \n",
      " 0.8369\n",
      "[torch.FloatTensor of size 1]\n",
      "\n",
      "Loss at iteration  15  is  \n",
      " 0.8063\n",
      "[torch.FloatTensor of size 1]\n",
      "\n",
      "Loss at iteration  16  is  \n",
      " 0.7851\n",
      "[torch.FloatTensor of size 1]\n",
      "\n",
      "Loss at iteration  17  is  \n",
      " 0.7630\n",
      "[torch.FloatTensor of size 1]\n",
      "\n",
      "Loss at iteration  18  is  \n",
      " 0.7481\n",
      "[torch.FloatTensor of size 1]\n",
      "\n",
      "Loss at iteration  19  is  \n",
      " 0.7314\n",
      "[torch.FloatTensor of size 1]\n",
      "\n",
      "Loss at iteration  20  is  \n",
      " 0.7142\n",
      "[torch.FloatTensor of size 1]\n",
      "\n",
      "Loss at iteration  21  is  \n",
      " 0.7007\n",
      "[torch.FloatTensor of size 1]\n",
      "\n",
      "Loss at iteration  22  is  \n",
      " 0.6978\n",
      "[torch.FloatTensor of size 1]\n",
      "\n",
      "Loss at iteration  23  is  \n",
      " 0.6823\n",
      "[torch.FloatTensor of size 1]\n",
      "\n",
      "Loss at iteration  24  is  \n",
      " 0.6741\n",
      "[torch.FloatTensor of size 1]\n",
      "\n",
      "Loss at iteration  25  is  \n",
      " 0.6679\n",
      "[torch.FloatTensor of size 1]\n",
      "\n",
      "Loss at iteration  26  is  \n",
      " 0.6628\n",
      "[torch.FloatTensor of size 1]\n",
      "\n",
      "Loss at iteration  27  is  \n",
      " 0.6590\n",
      "[torch.FloatTensor of size 1]\n",
      "\n",
      "Loss at iteration  28  is  \n",
      " 0.6492\n",
      "[torch.FloatTensor of size 1]\n",
      "\n",
      "Loss at iteration  29  is  \n",
      " 0.6385\n",
      "[torch.FloatTensor of size 1]\n",
      "\n",
      "Loss at iteration  30  is  \n",
      " 0.6292\n",
      "[torch.FloatTensor of size 1]\n",
      "\n",
      "Loss at iteration  31  is  \n",
      " 0.6263\n",
      "[torch.FloatTensor of size 1]\n",
      "\n",
      "Loss at iteration  32  is  \n",
      " 0.6232\n",
      "[torch.FloatTensor of size 1]\n",
      "\n",
      "Loss at iteration  33  is  \n",
      " 0.6148\n",
      "[torch.FloatTensor of size 1]\n",
      "\n",
      "Loss at iteration  34  is  \n",
      " 0.6156\n",
      "[torch.FloatTensor of size 1]\n",
      "\n",
      "Loss at iteration  35  is  \n",
      " 0.6042\n",
      "[torch.FloatTensor of size 1]\n",
      "\n",
      "Loss at iteration  36  is  \n",
      " 0.5991\n",
      "[torch.FloatTensor of size 1]\n",
      "\n",
      "Loss at iteration  37  is  \n",
      " 0.5953\n",
      "[torch.FloatTensor of size 1]\n",
      "\n",
      "Loss at iteration  38  is  \n",
      " 0.5904\n",
      "[torch.FloatTensor of size 1]\n",
      "\n",
      "Loss at iteration  39  is  \n",
      " 0.5849\n",
      "[torch.FloatTensor of size 1]\n",
      "\n",
      "Loss at iteration  40  is  \n",
      " 0.5808\n",
      "[torch.FloatTensor of size 1]\n",
      "\n",
      "Loss at iteration  41  is  \n",
      " 0.5754\n",
      "[torch.FloatTensor of size 1]\n",
      "\n",
      "Loss at iteration  42  is  \n",
      " 0.5722\n",
      "[torch.FloatTensor of size 1]\n",
      "\n",
      "Loss at iteration  43  is  \n",
      " 0.5696\n",
      "[torch.FloatTensor of size 1]\n",
      "\n",
      "Loss at iteration  44  is  \n",
      " 0.5632\n",
      "[torch.FloatTensor of size 1]\n",
      "\n",
      "Loss at iteration  45  is  \n",
      " 0.5613\n",
      "[torch.FloatTensor of size 1]\n",
      "\n",
      "Loss at iteration  46  is  \n",
      " 0.5567\n",
      "[torch.FloatTensor of size 1]\n",
      "\n",
      "Loss at iteration  47  is  \n",
      " 0.5560\n",
      "[torch.FloatTensor of size 1]\n",
      "\n",
      "Loss at iteration  48  is  \n",
      " 0.5539\n",
      "[torch.FloatTensor of size 1]\n",
      "\n",
      "Loss at iteration  49  is  \n",
      " 0.5535\n",
      "[torch.FloatTensor of size 1]\n",
      "\n",
      "Loss at iteration  50  is  \n",
      " 0.5515\n",
      "[torch.FloatTensor of size 1]\n",
      "\n",
      "Loss at iteration  51  is  \n",
      " 0.5496\n",
      "[torch.FloatTensor of size 1]\n",
      "\n",
      "Loss at iteration  52  is  \n",
      " 0.5469\n",
      "[torch.FloatTensor of size 1]\n",
      "\n",
      "Loss at iteration  53  is  \n",
      " 0.5416\n",
      "[torch.FloatTensor of size 1]\n",
      "\n",
      "Loss at iteration  54  is  \n",
      " 0.5348\n",
      "[torch.FloatTensor of size 1]\n",
      "\n",
      "Loss at iteration  55  is  \n",
      " 0.5325\n",
      "[torch.FloatTensor of size 1]\n",
      "\n",
      "Loss at iteration  56  is  \n",
      " 0.5302\n",
      "[torch.FloatTensor of size 1]\n",
      "\n",
      "Loss at iteration  57  is  \n",
      " 0.5267\n",
      "[torch.FloatTensor of size 1]\n",
      "\n",
      "Loss at iteration  58  is  \n",
      " 0.5265\n",
      "[torch.FloatTensor of size 1]\n",
      "\n",
      "Loss at iteration  59  is  \n",
      " 0.5242\n",
      "[torch.FloatTensor of size 1]\n",
      "\n",
      "Loss at iteration  60  is  \n",
      " 0.5209\n",
      "[torch.FloatTensor of size 1]\n",
      "\n",
      "Loss at iteration  61  is  \n",
      " 0.5230\n",
      "[torch.FloatTensor of size 1]\n",
      "\n",
      "Loss at iteration  62  is  \n",
      " 0.5227\n",
      "[torch.FloatTensor of size 1]\n",
      "\n",
      "Loss at iteration  63  is  \n",
      " 0.5234\n",
      "[torch.FloatTensor of size 1]\n",
      "\n",
      "Loss at iteration  64  is  \n",
      " 0.5252\n",
      "[torch.FloatTensor of size 1]\n",
      "\n",
      "Loss at iteration  65  is  \n",
      " 0.5179\n",
      "[torch.FloatTensor of size 1]\n",
      "\n",
      "Loss at iteration  66  is  \n",
      " 0.5157\n",
      "[torch.FloatTensor of size 1]\n",
      "\n",
      "Loss at iteration  67  is  \n",
      " 0.5118\n",
      "[torch.FloatTensor of size 1]\n",
      "\n",
      "Loss at iteration  68  is  \n",
      " 0.5102\n",
      "[torch.FloatTensor of size 1]\n",
      "\n",
      "Loss at iteration  69  is  \n",
      " 0.5096\n",
      "[torch.FloatTensor of size 1]\n",
      "\n",
      "Loss at iteration  70  is  \n",
      " 0.5087\n",
      "[torch.FloatTensor of size 1]\n",
      "\n",
      "Loss at iteration  71  is  \n",
      " 0.5077\n",
      "[torch.FloatTensor of size 1]\n",
      "\n",
      "Loss at iteration  72  is  \n",
      " 0.5098\n",
      "[torch.FloatTensor of size 1]\n",
      "\n",
      "Loss at iteration  73  is  \n",
      " 0.5090\n",
      "[torch.FloatTensor of size 1]\n",
      "\n",
      "Loss at iteration  74  is  \n",
      " 0.5131\n",
      "[torch.FloatTensor of size 1]\n",
      "\n",
      "Loss at iteration  75  is  \n",
      " 0.5083\n",
      "[torch.FloatTensor of size 1]\n",
      "\n",
      "Loss at iteration  76  is  \n",
      " 0.5076\n",
      "[torch.FloatTensor of size 1]\n",
      "\n",
      "Loss at iteration  77  is  \n",
      " 0.5034\n",
      "[torch.FloatTensor of size 1]\n",
      "\n",
      "Loss at iteration  78  is  \n",
      " 0.5010\n",
      "[torch.FloatTensor of size 1]\n",
      "\n",
      "Loss at iteration  79  is  \n",
      " 0.5034\n",
      "[torch.FloatTensor of size 1]\n",
      "\n",
      "Loss at iteration  80  is  \n",
      " 0.5017\n",
      "[torch.FloatTensor of size 1]\n",
      "\n",
      "Loss at iteration  81  is  \n",
      " 0.4990\n",
      "[torch.FloatTensor of size 1]\n",
      "\n",
      "Loss at iteration  82  is  \n",
      " 0.5009\n",
      "[torch.FloatTensor of size 1]\n",
      "\n",
      "Loss at iteration  83  is  \n",
      " 0.5010\n",
      "[torch.FloatTensor of size 1]\n",
      "\n",
      "Loss at iteration  84  is  \n",
      " 0.5013\n",
      "[torch.FloatTensor of size 1]\n",
      "\n",
      "Loss at iteration  85  is  \n",
      " 0.4998\n",
      "[torch.FloatTensor of size 1]\n",
      "\n",
      "Loss at iteration  86  is  \n",
      " 0.4980\n",
      "[torch.FloatTensor of size 1]\n",
      "\n",
      "Loss at iteration  87  is  \n",
      " 0.5007\n",
      "[torch.FloatTensor of size 1]\n",
      "\n",
      "Loss at iteration  88  is  \n",
      " 0.5002\n",
      "[torch.FloatTensor of size 1]\n",
      "\n",
      "Loss at iteration  89  is  \n",
      " 0.4976\n",
      "[torch.FloatTensor of size 1]\n",
      "\n",
      "Loss at iteration  90  is  \n",
      " 0.4982\n",
      "[torch.FloatTensor of size 1]\n",
      "\n",
      "Loss at iteration  91  is  \n",
      " 0.4971\n",
      "[torch.FloatTensor of size 1]\n",
      "\n",
      "Loss at iteration  92  is  \n",
      " 0.4945\n",
      "[torch.FloatTensor of size 1]\n",
      "\n",
      "Loss at iteration  93  is  \n",
      " 0.4958\n",
      "[torch.FloatTensor of size 1]\n",
      "\n",
      "Loss at iteration  94  is  \n",
      " 0.4916\n",
      "[torch.FloatTensor of size 1]\n",
      "\n",
      "Loss at iteration  95  is  \n",
      " 0.4947\n",
      "[torch.FloatTensor of size 1]\n",
      "\n",
      "Loss at iteration  96  is  \n",
      " 0.4932\n",
      "[torch.FloatTensor of size 1]\n",
      "\n",
      "Loss at iteration  97  is  \n",
      " 0.4927\n",
      "[torch.FloatTensor of size 1]\n",
      "\n",
      "Loss at iteration  98  is  \n",
      " 0.4926\n",
      "[torch.FloatTensor of size 1]\n",
      "\n",
      "Loss at iteration  99  is  \n",
      " 0.4952\n",
      "[torch.FloatTensor of size 1]\n",
      "\n",
      "Loss at iteration  100  is  \n",
      " 0.4923\n",
      "[torch.FloatTensor of size 1]\n",
      "\n",
      "Loss at iteration  101  is  \n",
      " 0.4947\n",
      "[torch.FloatTensor of size 1]\n",
      "\n",
      "Loss at iteration  102  is  \n",
      " 0.4912\n",
      "[torch.FloatTensor of size 1]\n",
      "\n",
      "Loss at iteration  103  is  \n",
      " 0.4947\n",
      "[torch.FloatTensor of size 1]\n",
      "\n",
      "Loss at iteration  104  is  \n",
      " 0.4926\n",
      "[torch.FloatTensor of size 1]\n",
      "\n",
      "Loss at iteration  105  is  \n",
      " 0.4907\n",
      "[torch.FloatTensor of size 1]\n",
      "\n",
      "Loss at iteration  106  is  \n",
      " 0.4905\n",
      "[torch.FloatTensor of size 1]\n",
      "\n",
      "Loss at iteration  107  is  \n",
      " 0.4902\n",
      "[torch.FloatTensor of size 1]\n",
      "\n",
      "Loss at iteration  108  is  \n",
      " 0.4899\n",
      "[torch.FloatTensor of size 1]\n",
      "\n",
      "Loss at iteration  109  is  \n",
      " 0.4907\n",
      "[torch.FloatTensor of size 1]\n",
      "\n",
      "Loss at iteration  110  is  \n",
      " 0.4894\n",
      "[torch.FloatTensor of size 1]\n",
      "\n",
      "Loss at iteration  111  is  \n",
      " 0.4896\n",
      "[torch.FloatTensor of size 1]\n",
      "\n",
      "Loss at iteration  112  is  \n",
      " 0.4917\n",
      "[torch.FloatTensor of size 1]\n",
      "\n",
      "Loss at iteration  113  is  \n",
      " 0.4909\n",
      "[torch.FloatTensor of size 1]\n",
      "\n",
      "Loss at iteration  114  is  \n",
      " 0.4883\n",
      "[torch.FloatTensor of size 1]\n",
      "\n",
      "Loss at iteration  115  is  \n",
      " 0.4842\n",
      "[torch.FloatTensor of size 1]\n",
      "\n",
      "Loss at iteration  116  is  \n",
      " 0.4872\n",
      "[torch.FloatTensor of size 1]\n",
      "\n",
      "Loss at iteration  117  is  \n",
      " 0.4847\n",
      "[torch.FloatTensor of size 1]\n",
      "\n",
      "Loss at iteration  118  is  \n",
      " 0.4838\n",
      "[torch.FloatTensor of size 1]\n",
      "\n",
      "Loss at iteration  119  is  \n",
      " 0.4860\n",
      "[torch.FloatTensor of size 1]\n",
      "\n",
      "Loss at iteration  120  is  \n",
      " 0.4842\n",
      "[torch.FloatTensor of size 1]\n",
      "\n",
      "Loss at iteration  121  is  \n",
      " 0.4860\n",
      "[torch.FloatTensor of size 1]\n",
      "\n",
      "Loss at iteration  122  is  \n",
      " 0.4835\n",
      "[torch.FloatTensor of size 1]\n",
      "\n",
      "Loss at iteration  123  is  \n",
      " 0.4830\n",
      "[torch.FloatTensor of size 1]\n",
      "\n",
      "Loss at iteration  124  is  \n",
      " 0.4850\n",
      "[torch.FloatTensor of size 1]\n",
      "\n",
      "Loss at iteration  125  is  \n",
      " 0.4814\n",
      "[torch.FloatTensor of size 1]\n",
      "\n"
     ]
    },
    {
     "name": "stdout",
     "output_type": "stream",
     "text": [
      "Loss at iteration  126  is  \n",
      " 0.4825\n",
      "[torch.FloatTensor of size 1]\n",
      "\n",
      "Loss at iteration  127  is  \n",
      " 0.4871\n",
      "[torch.FloatTensor of size 1]\n",
      "\n",
      "Loss at iteration  128  is  \n",
      " 0.4828\n",
      "[torch.FloatTensor of size 1]\n",
      "\n",
      "Loss at iteration  129  is  \n",
      " 0.4860\n",
      "[torch.FloatTensor of size 1]\n",
      "\n",
      "Loss at iteration  130  is  \n",
      " 0.4814\n",
      "[torch.FloatTensor of size 1]\n",
      "\n",
      "Loss at iteration  131  is  \n",
      " 0.4851\n",
      "[torch.FloatTensor of size 1]\n",
      "\n",
      "Loss at iteration  132  is  \n",
      " 0.4836\n",
      "[torch.FloatTensor of size 1]\n",
      "\n",
      "Loss at iteration  133  is  \n",
      " 0.4808\n",
      "[torch.FloatTensor of size 1]\n",
      "\n",
      "Loss at iteration  134  is  \n",
      " 0.4819\n",
      "[torch.FloatTensor of size 1]\n",
      "\n",
      "Loss at iteration  135  is  \n",
      " 0.4827\n",
      "[torch.FloatTensor of size 1]\n",
      "\n",
      "Loss at iteration  136  is  \n",
      " 0.4815\n",
      "[torch.FloatTensor of size 1]\n",
      "\n",
      "Loss at iteration  137  is  \n",
      " 0.4833\n",
      "[torch.FloatTensor of size 1]\n",
      "\n",
      "Loss at iteration  138  is  \n",
      " 0.4833\n",
      "[torch.FloatTensor of size 1]\n",
      "\n",
      "Loss at iteration  139  is  \n",
      " 0.4823\n",
      "[torch.FloatTensor of size 1]\n",
      "\n",
      "Loss at iteration  140  is  \n",
      " 0.4820\n",
      "[torch.FloatTensor of size 1]\n",
      "\n",
      "Loss at iteration  141  is  \n",
      " 0.4833\n",
      "[torch.FloatTensor of size 1]\n",
      "\n",
      "Loss at iteration  142  is  \n",
      " 0.4822\n",
      "[torch.FloatTensor of size 1]\n",
      "\n",
      "Loss at iteration  143  is  \n",
      " 0.4841\n",
      "[torch.FloatTensor of size 1]\n",
      "\n",
      "Loss at iteration  144  is  \n",
      " 0.4845\n",
      "[torch.FloatTensor of size 1]\n",
      "\n",
      "Loss at iteration  145  is  \n",
      " 0.4823\n",
      "[torch.FloatTensor of size 1]\n",
      "\n",
      "Loss at iteration  146  is  \n",
      " 0.4796\n",
      "[torch.FloatTensor of size 1]\n",
      "\n",
      "Loss at iteration  147  is  \n",
      " 0.4834\n",
      "[torch.FloatTensor of size 1]\n",
      "\n",
      "Loss at iteration  148  is  \n",
      " 0.4795\n",
      "[torch.FloatTensor of size 1]\n",
      "\n",
      "Loss at iteration  149  is  \n",
      " 0.4802\n",
      "[torch.FloatTensor of size 1]\n",
      "\n",
      "Loss at iteration  150  is  \n",
      " 0.4835\n",
      "[torch.FloatTensor of size 1]\n",
      "\n",
      "Loss at iteration  151  is  \n",
      " 0.4805\n",
      "[torch.FloatTensor of size 1]\n",
      "\n",
      "Loss at iteration  152  is  \n",
      " 0.4813\n",
      "[torch.FloatTensor of size 1]\n",
      "\n",
      "Loss at iteration  153  is  \n",
      " 0.4813\n",
      "[torch.FloatTensor of size 1]\n",
      "\n",
      "Loss at iteration  154  is  \n",
      " 0.4815\n",
      "[torch.FloatTensor of size 1]\n",
      "\n",
      "Loss at iteration  155  is  \n",
      " 0.4789\n",
      "[torch.FloatTensor of size 1]\n",
      "\n",
      "Loss at iteration  156  is  \n",
      " 0.4778\n",
      "[torch.FloatTensor of size 1]\n",
      "\n",
      "Loss at iteration  157  is  \n",
      " 0.4808\n",
      "[torch.FloatTensor of size 1]\n",
      "\n",
      "Loss at iteration  158  is  \n",
      " 0.4814\n",
      "[torch.FloatTensor of size 1]\n",
      "\n",
      "Loss at iteration  159  is  \n",
      " 0.4778\n",
      "[torch.FloatTensor of size 1]\n",
      "\n",
      "Loss at iteration  160  is  \n",
      " 0.4782\n",
      "[torch.FloatTensor of size 1]\n",
      "\n",
      "Loss at iteration  161  is  \n",
      " 0.4795\n",
      "[torch.FloatTensor of size 1]\n",
      "\n",
      "Loss at iteration  162  is  \n",
      " 0.4796\n",
      "[torch.FloatTensor of size 1]\n",
      "\n",
      "Loss at iteration  163  is  \n",
      " 0.4795\n",
      "[torch.FloatTensor of size 1]\n",
      "\n",
      "Loss at iteration  164  is  \n",
      " 0.4798\n",
      "[torch.FloatTensor of size 1]\n",
      "\n",
      "Loss at iteration  165  is  \n",
      " 0.4819\n",
      "[torch.FloatTensor of size 1]\n",
      "\n",
      "Loss at iteration  166  is  \n",
      " 0.4786\n",
      "[torch.FloatTensor of size 1]\n",
      "\n",
      "Loss at iteration  167  is  \n",
      " 0.4807\n",
      "[torch.FloatTensor of size 1]\n",
      "\n",
      "Loss at iteration  168  is  \n",
      " 0.4812\n",
      "[torch.FloatTensor of size 1]\n",
      "\n",
      "Loss at iteration  169  is  \n",
      " 0.4795\n",
      "[torch.FloatTensor of size 1]\n",
      "\n",
      "Loss at iteration  170  is  \n",
      " 0.4778\n",
      "[torch.FloatTensor of size 1]\n",
      "\n",
      "Loss at iteration  171  is  \n",
      " 0.4780\n",
      "[torch.FloatTensor of size 1]\n",
      "\n",
      "Loss at iteration  172  is  \n",
      " 0.4804\n",
      "[torch.FloatTensor of size 1]\n",
      "\n",
      "Loss at iteration  173  is  \n",
      " 0.4772\n",
      "[torch.FloatTensor of size 1]\n",
      "\n",
      "Loss at iteration  174  is  \n",
      " 0.4782\n",
      "[torch.FloatTensor of size 1]\n",
      "\n",
      "Loss at iteration  175  is  \n",
      " 0.4776\n",
      "[torch.FloatTensor of size 1]\n",
      "\n",
      "Loss at iteration  176  is  \n",
      " 0.4787\n",
      "[torch.FloatTensor of size 1]\n",
      "\n",
      "Loss at iteration  177  is  \n",
      " 0.4752\n",
      "[torch.FloatTensor of size 1]\n",
      "\n",
      "Loss at iteration  178  is  \n",
      " 0.4763\n",
      "[torch.FloatTensor of size 1]\n",
      "\n",
      "Loss at iteration  179  is  \n",
      " 0.4789\n",
      "[torch.FloatTensor of size 1]\n",
      "\n",
      "Loss at iteration  180  is  \n",
      " 0.4772\n",
      "[torch.FloatTensor of size 1]\n",
      "\n",
      "Loss at iteration  181  is  \n",
      " 0.4776\n",
      "[torch.FloatTensor of size 1]\n",
      "\n",
      "Loss at iteration  182  is  \n",
      " 0.4761\n",
      "[torch.FloatTensor of size 1]\n",
      "\n",
      "Loss at iteration  183  is  \n",
      " 0.4788\n",
      "[torch.FloatTensor of size 1]\n",
      "\n",
      "Loss at iteration  184  is  \n",
      " 0.4773\n",
      "[torch.FloatTensor of size 1]\n",
      "\n",
      "Loss at iteration  185  is  \n",
      " 0.4793\n",
      "[torch.FloatTensor of size 1]\n",
      "\n",
      "Loss at iteration  186  is  \n",
      " 0.4758\n",
      "[torch.FloatTensor of size 1]\n",
      "\n",
      "Loss at iteration  187  is  \n",
      " 0.4816\n",
      "[torch.FloatTensor of size 1]\n",
      "\n",
      "Loss at iteration  188  is  \n",
      " 0.4765\n",
      "[torch.FloatTensor of size 1]\n",
      "\n",
      "Loss at iteration  189  is  \n",
      " 0.4803\n",
      "[torch.FloatTensor of size 1]\n",
      "\n",
      "Loss at iteration  190  is  \n",
      " 0.4779\n",
      "[torch.FloatTensor of size 1]\n",
      "\n",
      "Loss at iteration  191  is  \n",
      " 0.4781\n",
      "[torch.FloatTensor of size 1]\n",
      "\n",
      "Loss at iteration  192  is  \n",
      " 0.4789\n",
      "[torch.FloatTensor of size 1]\n",
      "\n",
      "Loss at iteration  193  is  \n",
      " 0.4767\n",
      "[torch.FloatTensor of size 1]\n",
      "\n",
      "Loss at iteration  194  is  \n",
      " 0.4773\n",
      "[torch.FloatTensor of size 1]\n",
      "\n",
      "Loss at iteration  195  is  \n",
      " 0.4778\n",
      "[torch.FloatTensor of size 1]\n",
      "\n",
      "Loss at iteration  196  is  \n",
      " 0.4759\n",
      "[torch.FloatTensor of size 1]\n",
      "\n",
      "Loss at iteration  197  is  \n",
      " 0.4741\n",
      "[torch.FloatTensor of size 1]\n",
      "\n",
      "Loss at iteration  198  is  \n",
      " 0.4761\n",
      "[torch.FloatTensor of size 1]\n",
      "\n",
      "Loss at iteration  199  is  \n",
      " 0.4752\n",
      "[torch.FloatTensor of size 1]\n",
      "\n"
     ]
    }
   ],
   "source": [
    "for epoch in range(epochs):\n",
    "    model.zero_grad()\n",
    "\n",
    "    negative_batch = X_train_neg\n",
    "    positive_batch_idx = random.sample(range(num_positive), positive_batch_size)\n",
    "    positive_batch = X_train_pos[positive_batch_idx,:]\n",
    "    \n",
    "    \n",
    "    actual = [0] * negative_batch_size\n",
    "    actual1 = [1] * positive_batch_size\n",
    "    actual.extend(actual1)\n",
    "    actual = np.array(actual)\n",
    "    \n",
    "    \n",
    "    all_inputs = np.concatenate((negative_batch, positive_batch), axis=0)\n",
    "    us = all_inputs[:,0]\n",
    "    vs = all_inputs[:,1]\n",
    "    \n",
    "    us = Variable(torch.LongTensor(us))\n",
    "    vs = Variable(torch.LongTensor(vs))\n",
    "    actual = Variable(torch.LongTensor(actual))\n",
    "    \n",
    "    #print('Computing loss....')\n",
    "    probs = model(us, vs)\n",
    "    #print('Number of probs ', len(probs))\n",
    "    #print(probs)\n",
    "    #print('Number of examples ', len(actual))\n",
    "    loss = criterion(probs, actual)\n",
    "    for parameter in model.parameters():\n",
    "        loss += lam * regularizer(parameter)\n",
    "        \n",
    "        \n",
    "    \n",
    "    \n",
    "    print('Loss at iteration ', epoch, ' is ', loss.data)\n",
    "    loss.backward()\n",
    "    optimizer.step()"
   ]
  },
  {
   "cell_type": "code",
   "execution_count": 262,
   "metadata": {
    "collapsed": true
   },
   "outputs": [],
   "source": [
    "\n",
    "classifier = linear_model.LogisticRegression()"
   ]
  },
  {
   "cell_type": "code",
   "execution_count": 263,
   "metadata": {
    "collapsed": true
   },
   "outputs": [],
   "source": [
    "def embedding(model, x):\n",
    "    x_var = Variable(torch.LongTensor([x]))\n",
    "    emb = model.embeddings(x_var)\n",
    "    emb = model.initial_layer(emb)\n",
    "    emb = emb.data.numpy()[0]\n",
    "    return emb\n",
    "    \n",
    "\n",
    "def get_hadamard(model, x, y):\n",
    "    x_features = embedding(model, x)\n",
    "    y_features = embedding(model, y)\n",
    "    return x_features * y_features"
   ]
  },
  {
   "cell_type": "code",
   "execution_count": 264,
   "metadata": {
    "collapsed": true
   },
   "outputs": [],
   "source": [
    "\n",
    "feature_extractor = get_hadamard"
   ]
  },
  {
   "cell_type": "code",
   "execution_count": 265,
   "metadata": {
    "collapsed": true
   },
   "outputs": [],
   "source": [
    "inputs = []\n",
    "outputs = []\n",
    "for x, y in X_train_neg:\n",
    "    x = int(x)\n",
    "    y = int(y)\n",
    "    inputs.append(feature_extractor(model, x, y))\n",
    "    outputs.append(0)\n",
    "\n",
    "positive_batch_idx = random.sample(range(num_positive), positive_batch_size)\n",
    "positive_batch = X_train_pos[positive_batch_idx,:]\n",
    "for x, y in positive_batch:\n",
    "    x = int(x)\n",
    "    y = int(y)\n",
    "    inputs.append(feature_extractor(model, x, y))\n",
    "    outputs.append(1)\n",
    "\n",
    "inputs = np.array(inputs)\n",
    "outputs = np.array(outputs)"
   ]
  },
  {
   "cell_type": "code",
   "execution_count": 266,
   "metadata": {},
   "outputs": [
    {
     "data": {
      "text/plain": [
       "LogisticRegression(C=1.0, class_weight=None, dual=False, fit_intercept=True,\n",
       "          intercept_scaling=1, max_iter=100, multi_class='ovr', n_jobs=1,\n",
       "          penalty='l2', random_state=None, solver='liblinear', tol=0.0001,\n",
       "          verbose=0, warm_start=False)"
      ]
     },
     "execution_count": 266,
     "metadata": {},
     "output_type": "execute_result"
    }
   ],
   "source": [
    "classifier.fit(inputs, outputs)"
   ]
  },
  {
   "cell_type": "code",
   "execution_count": 267,
   "metadata": {},
   "outputs": [
    {
     "name": "stdout",
     "output_type": "stream",
     "text": [
      "358\n",
      "3560\n",
      "3560\n"
     ]
    }
   ],
   "source": [
    "inputs1 = []\n",
    "expected_outputs1 = []\n",
    "\n",
    "count = 0\n",
    "\n",
    "for x, y in X_test[y_test == 0]:\n",
    "    x = int(x)\n",
    "    y = int(y)\n",
    "    inputs1.append(feature_extractor(model, x, y))\n",
    "    expected_outputs1.append(0)\n",
    "    count += 1\n",
    "print(count)\n",
    "\n",
    "for x, y in X_test[y_test == 1]:\n",
    "    x = int(x)\n",
    "    y = int(y)\n",
    "    inputs1.append(feature_extractor(model, x, y))\n",
    "    expected_outputs1.append(1)\n",
    "    count += 1\n",
    "print(count)\n",
    "\n",
    "inputs1 = np.array(inputs1)\n",
    "expected_outputs1 = np.array(expected_outputs1)\n",
    "print(len(expected_outputs1))\n",
    "actual_outputs1 = classifier.predict(inputs1)\n",
    "actual_probs1 = classifier.predict_proba(inputs1)[:,1]\n"
   ]
  },
  {
   "cell_type": "code",
   "execution_count": 268,
   "metadata": {},
   "outputs": [
    {
     "data": {
      "text/plain": [
       "0.75784200322129891"
      ]
     },
     "execution_count": 268,
     "metadata": {},
     "output_type": "execute_result"
    }
   ],
   "source": [
    "metrics.f1_score(expected_outputs1, actual_outputs1, average='macro')"
   ]
  },
  {
   "cell_type": "code",
   "execution_count": 269,
   "metadata": {},
   "outputs": [
    {
     "data": {
      "text/plain": [
       "0.88987068138279501"
      ]
     },
     "execution_count": 269,
     "metadata": {},
     "output_type": "execute_result"
    }
   ],
   "source": [
    "metrics.roc_auc_score(expected_outputs1, actual_probs1)"
   ]
  },
  {
   "cell_type": "code",
   "execution_count": 270,
   "metadata": {},
   "outputs": [
    {
     "name": "stdout",
     "output_type": "stream",
     "text": [
      "             precision    recall  f1-score   support\n",
      "\n",
      "          0       0.47      0.77      0.58       358\n",
      "          1       0.97      0.90      0.94      3202\n",
      "\n",
      "avg / total       0.92      0.89      0.90      3560\n",
      "\n"
     ]
    }
   ],
   "source": [
    "print(metrics.classification_report(expected_outputs1, actual_outputs1))"
   ]
  },
  {
   "cell_type": "code",
   "execution_count": null,
   "metadata": {
    "collapsed": true
   },
   "outputs": [],
   "source": []
  },
  {
   "cell_type": "code",
   "execution_count": 271,
   "metadata": {},
   "outputs": [
    {
     "data": {
      "text/plain": [
       "3560"
      ]
     },
     "execution_count": 271,
     "metadata": {},
     "output_type": "execute_result"
    }
   ],
   "source": [
    "len(expected_outputs1)"
   ]
  },
  {
   "cell_type": "code",
   "execution_count": 272,
   "metadata": {},
   "outputs": [
    {
     "data": {
      "text/plain": [
       "3560"
      ]
     },
     "execution_count": 272,
     "metadata": {},
     "output_type": "execute_result"
    }
   ],
   "source": [
    "len(X_test[y_test == 1]) + len(X_test[y_test == 0])"
   ]
  },
  {
   "cell_type": "code",
   "execution_count": 273,
   "metadata": {},
   "outputs": [
    {
     "data": {
      "text/plain": [
       "array([[ 275,   83],\n",
       "       [ 315, 2887]])"
      ]
     },
     "execution_count": 273,
     "metadata": {},
     "output_type": "execute_result"
    }
   ],
   "source": [
    "metrics.confusion_matrix(expected_outputs1, actual_outputs1)"
   ]
  },
  {
   "cell_type": "code",
   "execution_count": null,
   "metadata": {
    "collapsed": true
   },
   "outputs": [],
   "source": []
  }
 ],
 "metadata": {
  "kernelspec": {
   "display_name": "Python 3",
   "language": "python",
   "name": "python3"
  },
  "language_info": {
   "codemirror_mode": {
    "name": "ipython",
    "version": 3
   },
   "file_extension": ".py",
   "mimetype": "text/x-python",
   "name": "python",
   "nbconvert_exporter": "python",
   "pygments_lexer": "ipython3",
   "version": "3.6.3"
  }
 },
 "nbformat": 4,
 "nbformat_minor": 2
}
