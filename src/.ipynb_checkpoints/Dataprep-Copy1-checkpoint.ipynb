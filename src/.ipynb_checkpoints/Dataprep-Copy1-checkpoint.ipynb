{
 "cells": [
  {
   "cell_type": "code",
   "execution_count": 2,
   "metadata": {},
   "outputs": [
    {
     "name": "stdout",
     "output_type": "stream",
     "text": [
      "The autoreload extension is already loaded. To reload it, use:\n",
      "  %reload_ext autoreload\n"
     ]
    }
   ],
   "source": [
    "%load_ext autoreload\n",
    "%autoreload 2\n"
   ]
  },
  {
   "cell_type": "code",
   "execution_count": 3,
   "metadata": {
    "collapsed": true
   },
   "outputs": [],
   "source": [
    "\n",
    "import util\n",
    "import dataloaders\n",
    "import path"
   ]
  },
  {
   "cell_type": "code",
   "execution_count": 4,
   "metadata": {
    "collapsed": true
   },
   "outputs": [],
   "source": [
    "first = 102\n",
    "last = 107\n",
    "house_sitting_numbers = range(first, last + 1)"
   ]
  },
  {
   "cell_type": "code",
   "execution_count": 9,
   "metadata": {
    "collapsed": true
   },
   "outputs": [],
   "source": [
    "input_data_path = path.Path(f'../data/votes/house{first - 1}-{last}')\n",
    "output_data_path = path.Path('../data/house')"
   ]
  },
  {
   "cell_type": "code",
   "execution_count": 14,
   "metadata": {},
   "outputs": [
    {
     "name": "stdout",
     "output_type": "stream",
     "text": [
      "Processing 102\n"
     ]
    },
    {
     "ename": "KeyboardInterrupt",
     "evalue": "",
     "output_type": "error",
     "traceback": [
      "\u001b[0;31m---------------------------------------------------------------------------\u001b[0m",
      "\u001b[0;31mKeyboardInterrupt\u001b[0m                         Traceback (most recent call last)",
      "\u001b[0;32m<ipython-input-14-fb35d2b65a77>\u001b[0m in \u001b[0;36m<module>\u001b[0;34m()\u001b[0m\n\u001b[1;32m     12\u001b[0m     \u001b[0mclasses_path\u001b[0m \u001b[0;34m=\u001b[0m \u001b[0moutput_data_path\u001b[0m \u001b[0;34m/\u001b[0m \u001b[0mclasses_file\u001b[0m\u001b[0;34m\u001b[0m\u001b[0m\n\u001b[1;32m     13\u001b[0m \u001b[0;34m\u001b[0m\u001b[0m\n\u001b[0;32m---> 14\u001b[0;31m     \u001b[0mdataloaders\u001b[0m\u001b[0;34m.\u001b[0m\u001b[0medgelist_from_vot\u001b[0m\u001b[0;34m(\u001b[0m\u001b[0mstr\u001b[0m\u001b[0;34m(\u001b[0m\u001b[0mvot_path\u001b[0m\u001b[0;34m)\u001b[0m\u001b[0;34m,\u001b[0m \u001b[0mstr\u001b[0m\u001b[0;34m(\u001b[0m\u001b[0medgelist_path\u001b[0m\u001b[0;34m)\u001b[0m\u001b[0;34m,\u001b[0m \u001b[0mthreshold\u001b[0m\u001b[0;34m=\u001b[0m\u001b[0;36m0.45\u001b[0m\u001b[0;34m)\u001b[0m\u001b[0;34m\u001b[0m\u001b[0m\n\u001b[0m\u001b[1;32m     15\u001b[0m     \u001b[0mdataloaders\u001b[0m\u001b[0;34m.\u001b[0m\u001b[0mnode_props_from_nam\u001b[0m\u001b[0;34m(\u001b[0m\u001b[0mstr\u001b[0m\u001b[0;34m(\u001b[0m\u001b[0mnam_path\u001b[0m\u001b[0;34m)\u001b[0m\u001b[0;34m,\u001b[0m \u001b[0mstr\u001b[0m\u001b[0;34m(\u001b[0m\u001b[0mclasses_path\u001b[0m\u001b[0;34m)\u001b[0m\u001b[0;34m)\u001b[0m\u001b[0;34m\u001b[0m\u001b[0m\n",
      "\u001b[0;32m~/Desktop/SignEmb-3985b33de9ca5751ec59cf7b3596bf12bb298a21 copy/src/dataloaders.py\u001b[0m in \u001b[0;36medgelist_from_vot\u001b[0;34m(filepath, edgelist_path, threshold)\u001b[0m\n\u001b[1;32m    324\u001b[0m                 \u001b[0mi_records\u001b[0m \u001b[0;34m=\u001b[0m \u001b[0mvotes\u001b[0m\u001b[0;34m[\u001b[0m\u001b[0mi\u001b[0m\u001b[0;34m]\u001b[0m\u001b[0;34m\u001b[0m\u001b[0m\n\u001b[1;32m    325\u001b[0m                 \u001b[0mj_records\u001b[0m \u001b[0;34m=\u001b[0m \u001b[0mvotes\u001b[0m\u001b[0;34m[\u001b[0m\u001b[0mj\u001b[0m\u001b[0;34m]\u001b[0m\u001b[0;34m\u001b[0m\u001b[0m\n\u001b[0;32m--> 326\u001b[0;31m                 \u001b[0mdistance\u001b[0m \u001b[0;34m=\u001b[0m \u001b[0mvote_hamming_distance\u001b[0m\u001b[0;34m(\u001b[0m\u001b[0mi_records\u001b[0m\u001b[0;34m,\u001b[0m \u001b[0mj_records\u001b[0m\u001b[0;34m)\u001b[0m\u001b[0;34m\u001b[0m\u001b[0m\n\u001b[0m\u001b[1;32m    327\u001b[0m                 \u001b[0msign\u001b[0m \u001b[0;34m=\u001b[0m \u001b[0;34m-\u001b[0m\u001b[0;36m1\u001b[0m \u001b[0;32mif\u001b[0m \u001b[0mdistance\u001b[0m \u001b[0;34m<\u001b[0m \u001b[0mthreshold\u001b[0m \u001b[0;32melse\u001b[0m \u001b[0;36m1\u001b[0m\u001b[0;34m\u001b[0m\u001b[0m\n\u001b[1;32m    328\u001b[0m                 \u001b[0medge_list\u001b[0m \u001b[0;34m+=\u001b[0m \u001b[0;34m'{0},{1},{2}\\n'\u001b[0m\u001b[0;34m.\u001b[0m\u001b[0mformat\u001b[0m\u001b[0;34m(\u001b[0m\u001b[0mi\u001b[0m\u001b[0;34m,\u001b[0m \u001b[0mj\u001b[0m\u001b[0;34m,\u001b[0m \u001b[0msign\u001b[0m\u001b[0;34m)\u001b[0m\u001b[0;34m\u001b[0m\u001b[0m\n",
      "\u001b[0;32m~/Desktop/SignEmb-3985b33de9ca5751ec59cf7b3596bf12bb298a21 copy/src/dataloaders.py\u001b[0m in \u001b[0;36mvote_hamming_distance\u001b[0;34m(votes1, votes2)\u001b[0m\n\u001b[1;32m    222\u001b[0m \u001b[0;34m\u001b[0m\u001b[0m\n\u001b[1;32m    223\u001b[0m \u001b[0;32mdef\u001b[0m \u001b[0mvote_hamming_distance\u001b[0m\u001b[0;34m(\u001b[0m\u001b[0mvotes1\u001b[0m\u001b[0;34m,\u001b[0m \u001b[0mvotes2\u001b[0m\u001b[0;34m)\u001b[0m\u001b[0;34m:\u001b[0m\u001b[0;34m\u001b[0m\u001b[0m\n\u001b[0;32m--> 224\u001b[0;31m     \u001b[0mids\u001b[0m \u001b[0;34m=\u001b[0m \u001b[0mnp\u001b[0m\u001b[0;34m.\u001b[0m\u001b[0marray\u001b[0m\u001b[0;34m(\u001b[0m\u001b[0mrange\u001b[0m\u001b[0;34m(\u001b[0m\u001b[0mlen\u001b[0m\u001b[0;34m(\u001b[0m\u001b[0mvotes1\u001b[0m\u001b[0;34m)\u001b[0m\u001b[0;34m)\u001b[0m\u001b[0;34m)\u001b[0m\u001b[0;34m\u001b[0m\u001b[0m\n\u001b[0m\u001b[1;32m    225\u001b[0m     \u001b[0mboth_voted\u001b[0m \u001b[0;34m=\u001b[0m \u001b[0mids\u001b[0m\u001b[0;34m[\u001b[0m\u001b[0;34m(\u001b[0m\u001b[0mvotes1\u001b[0m \u001b[0;34m!=\u001b[0m \u001b[0;36m0\u001b[0m\u001b[0;34m)\u001b[0m \u001b[0;34m&\u001b[0m \u001b[0;34m(\u001b[0m\u001b[0mvotes2\u001b[0m \u001b[0;34m!=\u001b[0m \u001b[0;36m0\u001b[0m\u001b[0;34m)\u001b[0m\u001b[0;34m]\u001b[0m\u001b[0;34m\u001b[0m\u001b[0m\n\u001b[1;32m    226\u001b[0m     \u001b[0;32mif\u001b[0m \u001b[0mlen\u001b[0m\u001b[0;34m(\u001b[0m\u001b[0mboth_voted\u001b[0m\u001b[0;34m)\u001b[0m \u001b[0;34m==\u001b[0m \u001b[0;36m0\u001b[0m\u001b[0;34m:\u001b[0m\u001b[0;34m\u001b[0m\u001b[0m\n",
      "\u001b[0;31mKeyboardInterrupt\u001b[0m: "
     ]
    }
   ],
   "source": [
    "for house_num in house_sitting_numbers:\n",
    "    print(f'Processing {house_num}')\n",
    "    vot_file = f'house{house_num}.vot'\n",
    "    nam_file = f'house{house_num}.nam'\n",
    "    vot_path = input_data_path / vot_file\n",
    "    nam_path = input_data_path / nam_file\n",
    "    \n",
    "    edgelist_file = f'house-{house_num}-cleaned.csv'\n",
    "    classes_file = f'house-{house_num}-classes.csv'\n",
    "    \n",
    "    edgelist_path = output_data_path / edgelist_file\n",
    "    classes_path = output_data_path / classes_file\n",
    "    \n",
    "    print(f'Processing voting record for House #{house_num}')\n",
    "    dataloaders.edgelist_from_vot(str(vot_path), str(edgelist_path), threshold=0.45)\n",
    "    \n",
    "    print(f'Processing party record for House #{house_num}')\n",
    "    dataloaders.node_props_from_nam(str(nam_path), str(classes_path))"
   ]
  },
  {
   "cell_type": "code",
   "execution_count": 5,
   "metadata": {
    "collapsed": true
   },
   "outputs": [],
   "source": [
    "input_file_vot = '../data/votes/senate101-107/senate104.vot'\n",
    "input_file_nam = '../data/votes/senate101-107/senate104.nam'"
   ]
  },
  {
   "cell_type": "code",
   "execution_count": 12,
   "metadata": {
    "collapsed": true
   },
   "outputs": [],
   "source": [
    "output_file_vot = '../data/senate-104-cleaned.csv'\n",
    "output_file_nam = '../data/senate-104-classes.csv'"
   ]
  },
  {
   "cell_type": "code",
   "execution_count": 13,
   "metadata": {
    "collapsed": true
   },
   "outputs": [],
   "source": [
    "dataloaders.edgelist_from_vot(input_file_vot, output_file_vot, threshold=0.45)"
   ]
  },
  {
   "cell_type": "code",
   "execution_count": 16,
   "metadata": {
    "collapsed": true
   },
   "outputs": [],
   "source": [
    "dataloaders.node_props_from_nam(input_file_nam, output_file_nam)"
   ]
  },
  {
   "cell_type": "code",
   "execution_count": 1,
   "metadata": {
    "collapsed": true
   },
   "outputs": [],
   "source": [
    "i = '/Users/inzamamrahaman/Desktop/Research/SignedEmb/data/soc-sign-bitcoinotc.csv'\n",
    "o = '/Users/inzamamrahaman/Desktop/Research/SignedEmb/data/bitcoinotc-regression.csv'"
   ]
  },
  {
   "cell_type": "code",
   "execution_count": 3,
   "metadata": {
    "collapsed": true
   },
   "outputs": [],
   "source": [
    "dataloaders.from_bitcoin_to_regression(i, o)"
   ]
  },
  {
   "cell_type": "code",
   "execution_count": 13,
   "metadata": {
    "collapsed": true
   },
   "outputs": [],
   "source": [
    "input_filepath = '../data/senate-104-cleaned.csv'\n",
    "output_filepath = '../data/node2vec/senate-104-cleaned.edgelist'"
   ]
  },
  {
   "cell_type": "code",
   "execution_count": 14,
   "metadata": {
    "collapsed": true
   },
   "outputs": [],
   "source": [
    "util.remove_edge_sign(input_filepath, output_filepath)"
   ]
  },
  {
   "cell_type": "code",
   "execution_count": 24,
   "metadata": {
    "collapsed": true
   },
   "outputs": [],
   "source": [
    "stranke94 = [[0, -215, 114, -89, -77, 94, -170, 176, 117, -210], [-215, 0, -217, 134, 77, -150, 57, -253, -230, 49], [114, -217, 0, -203, -80, 138, -109, 177, 180, -174], [-89, 134, -203, 0, 157, -142, 173, -241, -254, 23], [-77, 77, -80, 157, 0, -188, 170, -120, -160, -9], [94, -150, 138, -142, -188, 0, -97, 140, 116, -106], [-170, 57, -109, 173, 170, -97, 0, -184, -191, -6], [176, -253, 177, -241, -120, 140, -184, 0, 235, -132], [117, -230, 180, -254, -160, 116, -191, 235, 0, -164], [-210, 49, -174, 23, -9, -106, -6, -132, -164, 0]]"
   ]
  },
  {
   "cell_type": "code",
   "execution_count": 25,
   "metadata": {
    "collapsed": true
   },
   "outputs": [],
   "source": [
    "file_loc = '../data/stranke94.csv'"
   ]
  },
  {
   "cell_type": "code",
   "execution_count": 26,
   "metadata": {
    "collapsed": true
   },
   "outputs": [],
   "source": [
    "with open(file_loc, 'w') as fp:\n",
    "    for i, line in enumerate(stranke94):\n",
    "        for j, rec in enumerate(line):\n",
    "            if i != j:\n",
    "                sign = 1 if rec > 0 else -1\n",
    "                fp.write('{0},{1},{2}\\n'.format(i + 1, j + 1, sign))"
   ]
  },
  {
   "cell_type": "code",
   "execution_count": 6,
   "metadata": {
    "collapsed": true
   },
   "outputs": [],
   "source": [
    "st = \"\"\"\n",
    "0 1 0 0 0 0 0 0 0 0 0 0 0 0 1 1\n",
    " 1 0 0 0 0 0 0 0 0 0 0 0 0 0 1 1\n",
    " 0 0 0 1 0 1 1 1 0 0 0 0 0 0 0 0\n",
    " 0 0 1 0 0 0 0 1 0 0 0 0 0 0 0 0\n",
    " 0 0 0 0 0 0 1 0 1 0 0 0 0 1 0 0\n",
    " 0 0 1 0 0 0 1 1 0 0 1 1 0 0 0 0\n",
    " 0 0 1 0 1 1 0 1 0 0 1 1 1 0 0 0\n",
    " 0 0 1 1 0 1 1 0 0 0 1 1 0 0 0 0\n",
    " 0 0 0 0 1 0 0 0 0 1 0 0 1 0 0 0\n",
    " 0 0 0 0 0 0 0 0 1 0 0 0 1 0 0 0\n",
    " 0 0 0 0 0 1 1 1 0 0 0 1 0 0 0 0\n",
    " 0 0 0 0 0 1 1 1 0 0 1 0 0 0 0 0\n",
    " 0 0 0 0 0 0 1 0 1 1 0 0 0 1 0 0\n",
    " 0 0 0 0 1 0 0 0 0 0 0 0 1 0 0 0\n",
    " 1 1 0 0 0 0 0 0 0 0 0 0 0 0 0 1\n",
    " 1 1 0 0 0 0 0 0 0 0 0 0 0 0 1 0\n",
    " 0 0 1 1 1 1 0 0 0 0 0 1 0 0 0 0\n",
    " 0 0 1 0 1 1 0 0 1 1 0 0 0 0 0 0\n",
    " 1 1 0 0 0 0 0 0 0 0 0 0 0 0 0 0\n",
    " 1 0 0 0 0 0 0 0 0 0 0 0 0 0 0 0\n",
    " 1 1 0 0 0 0 0 0 0 0 0 0 0 0 1 1\n",
    " 1 1 0 0 0 0 0 0 1 0 0 0 1 0 0 1\n",
    " 0 0 0 0 0 0 0 0 0 0 0 0 0 0 0 0\n",
    " 0 0 0 0 0 0 0 0 0 0 0 0 0 1 0 0\n",
    " 0 1 0 0 0 1 0 0 0 0 1 0 0 0 1 0\n",
    " 0 1 0 0 0 0 0 0 0 0 1 0 0 0 1 0\n",
    " 0 0 0 0 0 0 0 0 1 1 0 0 1 0 1 1\n",
    " 1 0 0 0 0 0 0 0 0 0 0 0 0 1 1 1\n",
    " 0 0 0 0 0 1 0 0 0 0 1 0 0 0 1 1\n",
    " 0 0 0 0 0 0 0 1 0 0 0 1 0 0 0 1\n",
    " 0 0 0 0 1 0 0 0 1 1 1 1 1 0 0 0\n",
    " 0 0 0 0 1 1 0 0 0 0 1 1 1 1 0 0\n",
    "\"\"\""
   ]
  },
  {
   "cell_type": "code",
   "execution_count": 7,
   "metadata": {
    "collapsed": true
   },
   "outputs": [],
   "source": [
    "import numpy as np"
   ]
  },
  {
   "cell_type": "code",
   "execution_count": 11,
   "metadata": {
    "collapsed": true
   },
   "outputs": [],
   "source": [
    "lines = st.strip().split('\\n')"
   ]
  },
  {
   "cell_type": "code",
   "execution_count": 13,
   "metadata": {
    "collapsed": true
   },
   "outputs": [],
   "source": [
    "positive_lines = lines[:16]\n",
    "negative_lines = lines[16:]"
   ]
  },
  {
   "cell_type": "code",
   "execution_count": 16,
   "metadata": {
    "collapsed": true
   },
   "outputs": [],
   "source": [
    "def process_lines(lines):\n",
    "    arr = []\n",
    "    for line in lines:\n",
    "        a = list(map(int, line.split()))\n",
    "        arr.append(a)\n",
    "    return np.array(arr) \n",
    "\n",
    "def merge_lines(pos, neg):\n",
    "    return pos + -neg\n",
    "\n",
    "    "
   ]
  },
  {
   "cell_type": "code",
   "execution_count": 17,
   "metadata": {
    "collapsed": true
   },
   "outputs": [],
   "source": [
    "full_matrix = merge_lines(process_lines(positive_lines), process_lines(negative_lines))"
   ]
  },
  {
   "cell_type": "code",
   "execution_count": 23,
   "metadata": {},
   "outputs": [
    {
     "name": "stdout",
     "output_type": "stream",
     "text": [
      "1,2,1\n",
      "1,3,-1\n",
      "1,4,-1\n",
      "1,5,-1\n",
      "1,6,-1\n",
      "1,7,-1\n",
      "1,8,-1\n",
      "1,9,-1\n",
      "1,10,-1\n",
      "1,11,-1\n",
      "1,12,-1\n",
      "1,13,-1\n",
      "1,14,-1\n",
      "1,15,1\n",
      "1,16,1\n",
      "2,1,1\n",
      "2,3,-1\n",
      "2,4,-1\n",
      "2,5,-1\n",
      "2,6,-1\n",
      "2,7,-1\n",
      "2,8,-1\n",
      "2,9,-1\n",
      "2,10,-1\n",
      "2,11,-1\n",
      "2,12,-1\n",
      "2,13,-1\n",
      "2,14,-1\n",
      "2,15,1\n",
      "2,16,1\n",
      "3,1,-1\n",
      "3,2,-1\n",
      "3,4,1\n",
      "3,5,-1\n",
      "3,6,1\n",
      "3,7,1\n",
      "3,8,1\n",
      "3,9,-1\n",
      "3,10,-1\n",
      "3,11,-1\n",
      "3,12,-1\n",
      "3,13,-1\n",
      "3,14,-1\n",
      "3,15,-1\n",
      "3,16,-1\n",
      "4,1,-1\n",
      "4,2,-1\n",
      "4,3,1\n",
      "4,5,-1\n",
      "4,6,-1\n",
      "4,7,-1\n",
      "4,8,1\n",
      "4,9,-1\n",
      "4,10,-1\n",
      "4,11,-1\n",
      "4,12,-1\n",
      "4,13,-1\n",
      "4,14,-1\n",
      "4,15,-1\n",
      "4,16,-1\n",
      "5,1,-1\n",
      "5,2,-1\n",
      "5,3,-1\n",
      "5,4,-1\n",
      "5,6,-1\n",
      "5,7,1\n",
      "5,8,-1\n",
      "5,9,1\n",
      "5,10,-1\n",
      "5,11,-1\n",
      "5,12,-1\n",
      "5,13,-1\n",
      "5,14,1\n",
      "5,15,-1\n",
      "5,16,-1\n",
      "6,1,-1\n",
      "6,2,-1\n",
      "6,3,1\n",
      "6,4,-1\n",
      "6,5,-1\n",
      "6,7,1\n",
      "6,8,1\n",
      "6,9,-1\n",
      "6,10,-1\n",
      "6,11,1\n",
      "6,12,1\n",
      "6,13,-1\n",
      "6,14,-1\n",
      "6,15,-1\n",
      "6,16,-1\n",
      "7,1,-1\n",
      "7,2,-1\n",
      "7,3,1\n",
      "7,4,-1\n",
      "7,5,1\n",
      "7,6,1\n",
      "7,8,1\n",
      "7,9,-1\n",
      "7,10,-1\n",
      "7,11,1\n",
      "7,12,1\n",
      "7,13,1\n",
      "7,14,-1\n",
      "7,15,-1\n",
      "7,16,-1\n",
      "8,1,-1\n",
      "8,2,-1\n",
      "8,3,1\n",
      "8,4,1\n",
      "8,5,-1\n",
      "8,6,1\n",
      "8,7,1\n",
      "8,9,-1\n",
      "8,10,-1\n",
      "8,11,1\n",
      "8,12,1\n",
      "8,13,-1\n",
      "8,14,-1\n",
      "8,15,-1\n",
      "8,16,-1\n",
      "9,1,-1\n",
      "9,2,-1\n",
      "9,3,-1\n",
      "9,4,-1\n",
      "9,5,1\n",
      "9,6,-1\n",
      "9,7,-1\n",
      "9,8,-1\n",
      "9,10,1\n",
      "9,11,-1\n",
      "9,12,-1\n",
      "9,13,1\n",
      "9,14,-1\n",
      "9,15,-1\n",
      "9,16,-1\n",
      "10,1,-1\n",
      "10,2,-1\n",
      "10,3,-1\n",
      "10,4,-1\n",
      "10,5,-1\n",
      "10,6,-1\n",
      "10,7,-1\n",
      "10,8,-1\n",
      "10,9,1\n",
      "10,11,-1\n",
      "10,12,-1\n",
      "10,13,1\n",
      "10,14,-1\n",
      "10,15,-1\n",
      "10,16,-1\n",
      "11,1,-1\n",
      "11,2,-1\n",
      "11,3,-1\n",
      "11,4,-1\n",
      "11,5,-1\n",
      "11,6,1\n",
      "11,7,1\n",
      "11,8,1\n",
      "11,9,-1\n",
      "11,10,-1\n",
      "11,12,1\n",
      "11,13,-1\n",
      "11,14,-1\n",
      "11,15,-1\n",
      "11,16,-1\n",
      "12,1,-1\n",
      "12,2,-1\n",
      "12,3,-1\n",
      "12,4,-1\n",
      "12,5,-1\n",
      "12,6,1\n",
      "12,7,1\n",
      "12,8,1\n",
      "12,9,-1\n",
      "12,10,-1\n",
      "12,11,1\n",
      "12,13,-1\n",
      "12,14,-1\n",
      "12,15,-1\n",
      "12,16,-1\n",
      "13,1,-1\n",
      "13,2,-1\n",
      "13,3,-1\n",
      "13,4,-1\n",
      "13,5,-1\n",
      "13,6,-1\n",
      "13,7,1\n",
      "13,8,-1\n",
      "13,9,1\n",
      "13,10,1\n",
      "13,11,-1\n",
      "13,12,-1\n",
      "13,14,1\n",
      "13,15,-1\n",
      "13,16,-1\n",
      "14,1,-1\n",
      "14,2,-1\n",
      "14,3,-1\n",
      "14,4,-1\n",
      "14,5,1\n",
      "14,6,-1\n",
      "14,7,-1\n",
      "14,8,-1\n",
      "14,9,-1\n",
      "14,10,-1\n",
      "14,11,-1\n",
      "14,12,-1\n",
      "14,13,1\n",
      "14,15,-1\n",
      "14,16,-1\n",
      "15,1,1\n",
      "15,2,1\n",
      "15,3,-1\n",
      "15,4,-1\n",
      "15,5,-1\n",
      "15,6,-1\n",
      "15,7,-1\n",
      "15,8,-1\n",
      "15,9,-1\n",
      "15,10,-1\n",
      "15,11,-1\n",
      "15,12,-1\n",
      "15,13,-1\n",
      "15,14,-1\n",
      "15,16,1\n",
      "16,1,1\n",
      "16,2,1\n",
      "16,3,-1\n",
      "16,4,-1\n",
      "16,5,-1\n",
      "16,6,-1\n",
      "16,7,-1\n",
      "16,8,-1\n",
      "16,9,-1\n",
      "16,10,-1\n",
      "16,11,-1\n",
      "16,12,-1\n",
      "16,13,-1\n",
      "16,14,-1\n",
      "16,15,1\n",
      "\n"
     ]
    }
   ],
   "source": [
    "file_loc = '../data/stranke94.csv'\n",
    "x = ''\n",
    "with open(file_loc, 'w') as fp:\n",
    "    for i, row in enumerate(full_matrix):\n",
    "        for j, entry in enumerate(row):\n",
    "            if i != j:\n",
    "                sign = 1 if entry > 0 else -1\n",
    "                y = '{0},{1},{2}\\n'.format(i + 1, j + 1, sign)\n",
    "                fp.write(y)\n",
    "                x += y\n",
    "print(x)\n",
    "                \n",
    "        "
   ]
  },
  {
   "cell_type": "code",
   "execution_count": 22,
   "metadata": {},
   "outputs": [
    {
     "data": {
      "text/plain": [
       "array([[ 0,  1, -1, -1, -1, -1,  0,  0,  0,  0,  0, -1,  0,  0,  1,  1],\n",
       "       [ 1,  0, -1,  0, -1, -1,  0,  0, -1, -1,  0,  0,  0,  0,  1,  1],\n",
       "       [-1, -1,  0,  1,  0,  1,  1,  1,  0,  0,  0,  0,  0,  0,  0,  0],\n",
       "       [-1,  0,  1,  0,  0,  0,  0,  1,  0,  0,  0,  0,  0,  0,  0,  0],\n",
       "       [-1, -1,  0,  0,  0,  0,  1,  0,  1,  0,  0,  0,  0,  1, -1, -1],\n",
       "       [-1, -1,  1,  0,  0,  0,  1,  1, -1,  0,  1,  1, -1,  0,  0, -1],\n",
       "       [ 0,  0,  1,  0,  1,  1,  0,  1,  0,  0,  1,  1,  1,  0,  0,  0],\n",
       "       [ 0,  0,  1,  1,  0,  1,  1,  0,  0,  0,  1,  1,  0, -1,  0,  0],\n",
       "       [ 0, -1,  0,  0,  1, -1,  0,  0,  0,  1, -1,  0,  1,  0, -1,  0],\n",
       "       [ 0, -1,  0,  0,  0,  0,  0,  0,  1,  0, -1,  0,  1,  0, -1,  0],\n",
       "       [ 0,  0,  0,  0,  0,  1,  1,  1, -1, -1,  0,  1, -1,  0, -1, -1],\n",
       "       [-1,  0,  0,  0,  0,  1,  1,  1,  0,  0,  1,  0,  0, -1, -1, -1],\n",
       "       [ 0,  0,  0,  0,  0, -1,  1,  0,  1,  1, -1,  0,  0,  1, -1, -1],\n",
       "       [ 0,  0,  0,  0,  1,  0,  0, -1,  0,  0,  0, -1,  1,  0,  0, -1],\n",
       "       [ 1,  1,  0,  0, -1,  0,  0,  0, -1, -1, -1, -1, -1,  0,  0,  1],\n",
       "       [ 1,  1,  0,  0, -1, -1,  0,  0,  0,  0, -1, -1, -1, -1,  1,  0]])"
      ]
     },
     "execution_count": 22,
     "metadata": {},
     "output_type": "execute_result"
    }
   ],
   "source": [
    "full_matrix"
   ]
  },
  {
   "cell_type": "code",
   "execution_count": 27,
   "metadata": {
    "collapsed": true
   },
   "outputs": [],
   "source": [
    "names = \"\"\"\n",
    "ALIKA\n",
    "ASARO\n",
    "GAHUK\n",
    "GAMA\n",
    "GAVEV\n",
    "GEHAM\n",
    "KOHIK\n",
    "KOTUN\n",
    "MASIL\n",
    "NAGAD\n",
    "NAGAM\n",
    "NOTOH\n",
    "OVE\n",
    "SEUVE\n",
    "UHETO\n",
    "UKUDZ\n",
    "GINI\n",
    "HERFINDAHL\n",
    "\"\"\"\n",
    "\n",
    "comms = \"\"\"\n",
    "\n",
    "\"\"\""
   ]
  },
  {
   "cell_type": "code",
   "execution_count": 1,
   "metadata": {
    "collapsed": true
   },
   "outputs": [],
   "source": [
    "pollblogs_original = '../data/pollblogs/polblogs.gml'\n",
    "import networkx as nx"
   ]
  },
  {
   "cell_type": "code",
   "execution_count": 2,
   "metadata": {
    "collapsed": true
   },
   "outputs": [],
   "source": [
    "g = nx.read_gml(pollblogs_original)"
   ]
  },
  {
   "cell_type": "code",
   "execution_count": 5,
   "metadata": {},
   "outputs": [
    {
     "ename": "AttributeError",
     "evalue": "'MultiDiGraph' object has no attribute 'edges_iter'",
     "output_type": "error",
     "traceback": [
      "\u001b[0;31m---------------------------------------------------------------------------\u001b[0m",
      "\u001b[0;31mAttributeError\u001b[0m                            Traceback (most recent call last)",
      "\u001b[0;32m<ipython-input-5-943787905b2a>\u001b[0m in \u001b[0;36m<module>\u001b[0;34m()\u001b[0m\n\u001b[0;32m----> 1\u001b[0;31m \u001b[0mg\u001b[0m\u001b[0;34m.\u001b[0m\u001b[0medges_iter\u001b[0m\u001b[0;34m\u001b[0m\u001b[0m\n\u001b[0m",
      "\u001b[0;31mAttributeError\u001b[0m: 'MultiDiGraph' object has no attribute 'edges_iter'"
     ]
    }
   ],
   "source": [
    "g.edges_iter"
   ]
  },
  {
   "cell_type": "code",
   "execution_count": 6,
   "metadata": {},
   "outputs": [
    {
     "data": {
      "text/plain": [
       "'2.0'"
      ]
     },
     "execution_count": 6,
     "metadata": {},
     "output_type": "execute_result"
    }
   ],
   "source": [
    "nx.__version__"
   ]
  },
  {
   "cell_type": "code",
   "execution_count": 60,
   "metadata": {
    "collapsed": true
   },
   "outputs": [],
   "source": [
    "id_assigner = dataloaders.IdAssigner()"
   ]
  },
  {
   "cell_type": "code",
   "execution_count": 61,
   "metadata": {
    "collapsed": true
   },
   "outputs": [],
   "source": [
    "classlist = ''\n",
    "edgelist = []\n",
    "p = 0.99\n",
    "import random"
   ]
  },
  {
   "cell_type": "code",
   "execution_count": 62,
   "metadata": {
    "collapsed": true
   },
   "outputs": [],
   "source": [
    "class_dict = {}\n",
    "for u, v in g.edges():\n",
    "    u_class = g.node[u]['value']\n",
    "    v_class = g.node[v]['value']\n",
    "    if u_class == v_class:\n",
    "        sign = 1\n",
    "    else:\n",
    "        sign =  -1\n",
    "    u_id = id_assigner.insert(u)\n",
    "    v_id = id_assigner.insert(v)\n",
    "    class_dict[u_id] = u_class\n",
    "    class_dict[v_id] = v_class\n",
    "    edgelist.append('{0},{1},{2}\\n'.format(u_id, v_id, sign))    "
   ]
  },
  {
   "cell_type": "code",
   "execution_count": 63,
   "metadata": {
    "collapsed": true
   },
   "outputs": [],
   "source": [
    "with open('../data/pollblogs/pollblogs-cleaned.csv', 'w') as fp:\n",
    "    fp.writelines(edgelist)"
   ]
  },
  {
   "cell_type": "code",
   "execution_count": 64,
   "metadata": {
    "collapsed": true
   },
   "outputs": [],
   "source": [
    "with open('../data/pollblogs/pollblogs-class.csv', 'w') as fp:\n",
    "    for k, v in class_dict.items():\n",
    "        fp.write('{0},{1}\\n'.format(k, v))"
   ]
  },
  {
   "cell_type": "code",
   "execution_count": 65,
   "metadata": {},
   "outputs": [
    {
     "name": "stdout",
     "output_type": "stream",
     "text": [
      "1224\n"
     ]
    }
   ],
   "source": [
    "print(id_assigner.count)"
   ]
  },
  {
   "cell_type": "code",
   "execution_count": null,
   "metadata": {
    "collapsed": true
   },
   "outputs": [],
   "source": []
  }
 ],
 "metadata": {
  "kernelspec": {
   "display_name": "Python 3",
   "language": "python",
   "name": "python3"
  },
  "language_info": {
   "codemirror_mode": {
    "name": "ipython",
    "version": 3
   },
   "file_extension": ".py",
   "mimetype": "text/x-python",
   "name": "python",
   "nbconvert_exporter": "python",
   "pygments_lexer": "ipython3",
   "version": "3.6.3"
  }
 },
 "nbformat": 4,
 "nbformat_minor": 2
}
