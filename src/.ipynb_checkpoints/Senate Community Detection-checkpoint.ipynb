{
 "cells": [
  {
   "cell_type": "code",
   "execution_count": 23,
   "metadata": {},
   "outputs": [
    {
     "name": "stdout",
     "output_type": "stream",
     "text": [
      "The autoreload extension is already loaded. To reload it, use:\n",
      "  %reload_ext autoreload\n",
      "Populating the interactive namespace from numpy and matplotlib\n"
     ]
    },
    {
     "name": "stderr",
     "output_type": "stream",
     "text": [
      "/Users/inzamamrahaman/anaconda3/lib/python3.6/site-packages/IPython/core/magics/pylab.py:160: UserWarning: pylab import has clobbered these variables: ['random']\n",
      "`%matplotlib` prevents importing * from pylab and numpy\n",
      "  \"\\n`%matplotlib` prevents importing * from pylab and numpy\"\n"
     ]
    }
   ],
   "source": [
    "%load_ext autoreload\n",
    "%autoreload 2\n",
    "\n",
    "%pylab inline\n",
    "\n",
    "import dataloaders\n",
    "import models\n",
    "import sklearn.linear_model as linear_model\n",
    "import sklearn.metrics as metrics \n",
    "import sklearn.cluster as cluster\n",
    "import numpy as np \n",
    "import random\n",
    "import classifiers\n",
    "from torch.autograd import Variable\n",
    "import torch\n",
    "import torch.nn as nn \n",
    "import torch.optim as optim\n",
    "import util\n",
    "\n",
    "from imblearn.under_sampling import RandomUnderSampler"
   ]
  },
  {
   "cell_type": "code",
   "execution_count": 2,
   "metadata": {
    "collapsed": true
   },
   "outputs": [],
   "source": [
    "output_file_vot = '../data/senate-104-cleaned.csv'\n",
    "output_file_nam = '../data/senate-104-classes.csv'\n",
    "data = dataloaders.SenateDataset(output_file_vot, output_file_nam, ratio=0.8, delimiter=',')"
   ]
  },
  {
   "cell_type": "code",
   "execution_count": 5,
   "metadata": {
    "collapsed": true
   },
   "outputs": [],
   "source": [
    "num_nodes = data.get_num_nodes()\n",
    "dims = 32\n",
    "epochs = 100\n",
    "lr = 0.1\n",
    "lr_decay=0.0\n",
    "weight_decay=0.0\n",
    "lam = 0.00055\n",
    "X_train, y_train = data.get_training_set()\n",
    "X_test, y_test = data.get_testing_set()\n",
    "p = 2\n",
    "X = data.X\n",
    "y = data.y\n",
    "\n",
    "model_fitter = models.fit_pseudo_kernel_model"
   ]
  },
  {
   "cell_type": "code",
   "execution_count": 6,
   "metadata": {},
   "outputs": [
    {
     "name": "stdout",
     "output_type": "stream",
     "text": [
      "The loss at epoch  1  was  0.7015076279640198\n",
      "The loss at epoch  2  was  0.6920823454856873\n",
      "The loss at epoch  3  was  0.6722244620323181\n",
      "The loss at epoch  4  was  0.6731360554695129\n",
      "The loss at epoch  5  was  0.48140791058540344\n",
      "The loss at epoch  6  was  0.36799824237823486\n",
      "The loss at epoch  7  was  0.3662998676300049\n",
      "The loss at epoch  8  was  0.3659003674983978\n",
      "The loss at epoch  9  was  0.3657987713813782\n",
      "The loss at epoch  10  was  0.3659939169883728\n",
      "The loss at epoch  11  was  0.3652951717376709\n",
      "The loss at epoch  12  was  0.3654524087905884\n",
      "The loss at epoch  13  was  0.36488738656044006\n",
      "The loss at epoch  14  was  0.3608745336532593\n",
      "The loss at epoch  15  was  0.36028358340263367\n",
      "The loss at epoch  16  was  0.36101049184799194\n",
      "The loss at epoch  17  was  0.36067327857017517\n",
      "The loss at epoch  18  was  0.35980644822120667\n",
      "The loss at epoch  19  was  0.35772639513015747\n",
      "The loss at epoch  20  was  0.3563453257083893\n",
      "The loss at epoch  21  was  0.35586032271385193\n",
      "The loss at epoch  22  was  0.35469844937324524\n",
      "The loss at epoch  23  was  0.3484255373477936\n",
      "The loss at epoch  24  was  0.34200558066368103\n",
      "The loss at epoch  25  was  0.34269943833351135\n",
      "The loss at epoch  26  was  0.3407083749771118\n",
      "The loss at epoch  27  was  0.34026840329170227\n",
      "The loss at epoch  28  was  0.3399619460105896\n",
      "The loss at epoch  29  was  0.3433336615562439\n",
      "The loss at epoch  30  was  0.3406049907207489\n",
      "The loss at epoch  31  was  0.3386909067630768\n",
      "The loss at epoch  32  was  0.3381617069244385\n",
      "The loss at epoch  33  was  0.33851778507232666\n",
      "The loss at epoch  34  was  0.33800897002220154\n",
      "The loss at epoch  35  was  0.3383840322494507\n",
      "The loss at epoch  36  was  0.33935320377349854\n",
      "The loss at epoch  37  was  0.33933329582214355\n",
      "The loss at epoch  38  was  0.34360378980636597\n",
      "The loss at epoch  39  was  0.3465171158313751\n",
      "The loss at epoch  40  was  0.34088781476020813\n",
      "The loss at epoch  41  was  0.33858001232147217\n",
      "The loss at epoch  42  was  0.33550888299942017\n",
      "The loss at epoch  43  was  0.33522263169288635\n",
      "The loss at epoch  44  was  0.33573979139328003\n",
      "The loss at epoch  45  was  0.33651089668273926\n",
      "The loss at epoch  46  was  0.33788546919822693\n",
      "The loss at epoch  47  was  0.33578062057495117\n",
      "The loss at epoch  48  was  0.334651917219162\n",
      "The loss at epoch  49  was  0.3346571624279022\n",
      "The loss at epoch  50  was  0.33448484539985657\n",
      "The loss at epoch  51  was  0.33602824807167053\n",
      "The loss at epoch  52  was  0.33447128534317017\n",
      "The loss at epoch  53  was  0.33494773507118225\n",
      "The loss at epoch  54  was  0.3336150646209717\n",
      "The loss at epoch  55  was  0.3331213891506195\n",
      "The loss at epoch  56  was  0.33397170901298523\n",
      "The loss at epoch  57  was  0.33222171664237976\n",
      "The loss at epoch  58  was  0.33643144369125366\n",
      "The loss at epoch  59  was  0.33411264419555664\n",
      "The loss at epoch  60  was  0.33148837089538574\n",
      "The loss at epoch  61  was  0.3301185369491577\n",
      "The loss at epoch  62  was  0.32960304617881775\n",
      "The loss at epoch  63  was  0.32937124371528625\n",
      "The loss at epoch  64  was  0.33019891381263733\n",
      "The loss at epoch  65  was  0.3352167010307312\n",
      "The loss at epoch  66  was  0.3397662937641144\n",
      "The loss at epoch  67  was  0.33645325899124146\n",
      "The loss at epoch  68  was  0.33291134238243103\n",
      "The loss at epoch  69  was  0.3327021896839142\n",
      "The loss at epoch  70  was  0.3370824158191681\n",
      "The loss at epoch  71  was  0.3332313895225525\n",
      "The loss at epoch  72  was  0.33057019114494324\n",
      "The loss at epoch  73  was  0.32919934391975403\n",
      "The loss at epoch  74  was  0.3292580246925354\n",
      "The loss at epoch  75  was  0.33046436309814453\n",
      "The loss at epoch  76  was  0.33190128207206726\n",
      "The loss at epoch  77  was  0.3302554488182068\n",
      "The loss at epoch  78  was  0.33213451504707336\n",
      "The loss at epoch  79  was  0.3314957618713379\n",
      "The loss at epoch  80  was  0.33214178681373596\n",
      "The loss at epoch  81  was  0.3321858048439026\n",
      "The loss at epoch  82  was  0.3318161964416504\n",
      "The loss at epoch  83  was  0.33070364594459534\n",
      "The loss at epoch  84  was  0.3314911425113678\n",
      "The loss at epoch  85  was  0.33040308952331543\n",
      "The loss at epoch  86  was  0.33011695742607117\n",
      "The loss at epoch  87  was  0.3290954828262329\n",
      "The loss at epoch  88  was  0.32862237095832825\n",
      "The loss at epoch  89  was  0.3283516466617584\n",
      "The loss at epoch  90  was  0.32831695675849915\n",
      "The loss at epoch  91  was  0.32860785722732544\n",
      "The loss at epoch  92  was  0.32947027683258057\n",
      "The loss at epoch  93  was  0.33018040657043457\n",
      "The loss at epoch  94  was  0.3295883238315582\n",
      "The loss at epoch  95  was  0.3308863639831543\n",
      "The loss at epoch  96  was  0.32825443148612976\n",
      "The loss at epoch  97  was  0.32807955145835876\n",
      "The loss at epoch  98  was  0.32841214537620544\n",
      "The loss at epoch  99  was  0.3284044563770294\n",
      "The loss at epoch  100  was  0.32868772745132446\n"
     ]
    }
   ],
   "source": [
    "kernel_model = model_fitter(num_nodes, dims, X, y, epochs=epochs, p=p, \n",
    "                                              lr=lr,lr_decay=lr_decay, lam=lam, \n",
    "                            weight_decay=weight_decay, undersample=True)"
   ]
  },
  {
   "cell_type": "code",
   "execution_count": 7,
   "metadata": {
    "collapsed": true
   },
   "outputs": [],
   "source": [
    "import sklearn.cluster as cluster"
   ]
  },
  {
   "cell_type": "code",
   "execution_count": 9,
   "metadata": {},
   "outputs": [],
   "source": [
    "clf = cluster.KMeans(n_clusters=2)"
   ]
  },
  {
   "cell_type": "code",
   "execution_count": 10,
   "metadata": {
    "collapsed": true
   },
   "outputs": [],
   "source": [
    "all_embeddings = kernel_model.get_all_weights()"
   ]
  },
  {
   "cell_type": "code",
   "execution_count": 11,
   "metadata": {
    "collapsed": true
   },
   "outputs": [],
   "source": [
    "viable_embeddings = all_embeddings[1:,:]"
   ]
  },
  {
   "cell_type": "code",
   "execution_count": 13,
   "metadata": {},
   "outputs": [],
   "source": [
    "labels = clf.fit_predict(viable_embeddings)"
   ]
  },
  {
   "cell_type": "code",
   "execution_count": 14,
   "metadata": {},
   "outputs": [
    {
     "data": {
      "text/plain": [
       "array([1, 0, 0, 0, 0, 0, 1, 1, 1, 1, 0, 1, 0, 1, 1, 1, 0, 1, 0, 0, 1, 1, 1,\n",
       "       0, 0, 1, 1, 0, 0, 0, 1, 0, 0, 0, 1, 0, 1, 1, 0, 0, 1, 1, 1, 1, 0, 1,\n",
       "       0, 1, 0, 0, 0, 0, 1, 0, 1, 1, 1, 1, 0, 0, 1, 1, 1, 0, 0, 1, 0, 0, 1,\n",
       "       1, 0, 1, 0, 0, 0, 0, 1, 0, 0, 0, 1, 1, 0, 1, 0, 0, 0, 0, 0, 0, 0, 0,\n",
       "       1, 1, 0, 0, 1, 1, 1, 1, 1, 0, 0], dtype=int32)"
      ]
     },
     "execution_count": 14,
     "metadata": {},
     "output_type": "execute_result"
    }
   ],
   "source": [
    "labels"
   ]
  },
  {
   "cell_type": "code",
   "execution_count": 15,
   "metadata": {
    "collapsed": true
   },
   "outputs": [],
   "source": [
    "correct_labels = data.get_node_classes()"
   ]
  },
  {
   "cell_type": "code",
   "execution_count": 16,
   "metadata": {},
   "outputs": [
    {
     "data": {
      "text/plain": [
       "array([0, 1, 1, 1, 1, 1, 0, 0, 0, 0, 1, 0, 1, 0, 0, 0, 1, 0, 1, 1, 0, 0, 0,\n",
       "       1, 1, 0, 0, 1, 1, 1, 0, 1, 1, 1, 0, 1, 0, 0, 1, 1, 0, 0, 0, 0, 1, 0,\n",
       "       1, 0, 1, 1, 1, 1, 0, 1, 0, 0, 0, 0, 1, 1, 0, 0, 0, 1, 1, 0, 1, 1, 0,\n",
       "       0, 1, 0, 1, 1, 1, 1, 0, 1, 1, 1, 0, 0, 1, 0, 1, 1, 1, 1, 1, 1, 1, 1,\n",
       "       0, 0, 1, 1, 0, 0, 0, 0, 0, 1, 1])"
      ]
     },
     "execution_count": 16,
     "metadata": {},
     "output_type": "execute_result"
    }
   ],
   "source": [
    "correct_labels"
   ]
  },
  {
   "cell_type": "code",
   "execution_count": 17,
   "metadata": {
    "collapsed": true
   },
   "outputs": [],
   "source": [
    "from sklearn.metrics.cluster import normalized_mutual_info_score"
   ]
  },
  {
   "cell_type": "code",
   "execution_count": 18,
   "metadata": {},
   "outputs": [
    {
     "data": {
      "text/plain": [
       "1.0"
      ]
     },
     "execution_count": 18,
     "metadata": {},
     "output_type": "execute_result"
    }
   ],
   "source": [
    "normalized_mutual_info_score(correct_labels, labels)"
   ]
  },
  {
   "cell_type": "code",
   "execution_count": 19,
   "metadata": {
    "collapsed": true
   },
   "outputs": [],
   "source": [
    "num_nodes = data.get_num_nodes()\n",
    "dims = 32\n",
    "epochs = 100\n",
    "lr = 0.1\n",
    "lr_decay=0.0\n",
    "weight_decay=0.0\n",
    "lam = 0.00055\n",
    "p = 2\n",
    "delta = 1\n",
    "delta0 = 0.5\n",
    "dims_array = [dims, 20, 20]"
   ]
  },
  {
   "cell_type": "code",
   "execution_count": 24,
   "metadata": {
    "collapsed": true
   },
   "outputs": [],
   "source": [
    "model_fitter = models.fit_sine_model\n",
    "triples, triples0 = util.triples_from_array(X, y)\n",
    "batch_size = int(1.0 * len(triples))\n",
    "batch_size0 = 0"
   ]
  },
  {
   "cell_type": "code",
   "execution_count": 25,
   "metadata": {},
   "outputs": [
    {
     "name": "stdout",
     "output_type": "stream",
     "text": [
      "Loss at epoch  1  is  1.008731484413147\n",
      "Loss at epoch  2  is  0.9886441230773926\n",
      "Loss at epoch  3  is  1.018957257270813\n",
      "Loss at epoch  4  is  1.006143569946289\n",
      "Loss at epoch  5  is  0.9817221164703369\n",
      "Loss at epoch  6  is  1.045125961303711\n",
      "Loss at epoch  7  is  1.0184706449508667\n",
      "Loss at epoch  8  is  1.0363869667053223\n",
      "Loss at epoch  9  is  0.9886006116867065\n",
      "Loss at epoch  10  is  0.9706711769104004\n",
      "Loss at epoch  11  is  0.9596784710884094\n",
      "Loss at epoch  12  is  0.954473078250885\n",
      "Loss at epoch  13  is  0.952099621295929\n",
      "Loss at epoch  14  is  0.9502440690994263\n",
      "Loss at epoch  15  is  0.9495346546173096\n",
      "Loss at epoch  16  is  0.9487578272819519\n",
      "Loss at epoch  17  is  0.9481592178344727\n",
      "Loss at epoch  18  is  0.9476214051246643\n",
      "Loss at epoch  19  is  0.9471310377120972\n",
      "Loss at epoch  20  is  0.9466978311538696\n",
      "Loss at epoch  21  is  0.9462220668792725\n",
      "Loss at epoch  22  is  0.9459151029586792\n",
      "Loss at epoch  23  is  0.9457082748413086\n",
      "Loss at epoch  24  is  0.9460397958755493\n",
      "Loss at epoch  25  is  0.9467054605484009\n",
      "Loss at epoch  26  is  0.9499807953834534\n",
      "Loss at epoch  27  is  0.948761522769928\n",
      "Loss at epoch  28  is  0.9479840397834778\n",
      "Loss at epoch  29  is  0.9453756809234619\n",
      "Loss at epoch  30  is  0.9444349408149719\n",
      "Loss at epoch  31  is  0.9441208839416504\n",
      "Loss at epoch  32  is  0.9441142082214355\n",
      "Loss at epoch  33  is  0.9440401196479797\n",
      "Loss at epoch  34  is  0.9439820051193237\n",
      "Loss at epoch  35  is  0.943605363368988\n",
      "Loss at epoch  36  is  0.943341851234436\n",
      "Loss at epoch  37  is  0.9428861141204834\n",
      "Loss at epoch  38  is  0.9429267644882202\n",
      "Loss at epoch  39  is  0.9423696994781494\n",
      "Loss at epoch  40  is  0.9424148201942444\n",
      "Loss at epoch  41  is  0.9418865442276001\n",
      "Loss at epoch  42  is  0.9418628215789795\n",
      "Loss at epoch  43  is  0.9410169124603271\n",
      "Loss at epoch  44  is  0.9405731558799744\n",
      "Loss at epoch  45  is  0.9401699900627136\n",
      "Loss at epoch  46  is  0.9398009777069092\n",
      "Loss at epoch  47  is  0.9393563866615295\n",
      "Loss at epoch  48  is  0.9392421841621399\n",
      "Loss at epoch  49  is  0.9383572936058044\n",
      "Loss at epoch  50  is  0.9379460215568542\n",
      "Loss at epoch  51  is  0.9377862215042114\n",
      "Loss at epoch  52  is  0.9385607242584229\n",
      "Loss at epoch  53  is  0.9397389888763428\n",
      "Loss at epoch  54  is  0.9410767555236816\n",
      "Loss at epoch  55  is  0.9405431151390076\n",
      "Loss at epoch  56  is  0.9363178610801697\n",
      "Loss at epoch  57  is  0.9356656074523926\n",
      "Loss at epoch  58  is  0.9357343316078186\n",
      "Loss at epoch  59  is  0.9358567595481873\n",
      "Loss at epoch  60  is  0.9353187680244446\n",
      "Loss at epoch  61  is  0.9339807033538818\n",
      "Loss at epoch  62  is  0.9338022470474243\n",
      "Loss at epoch  63  is  0.9334091544151306\n",
      "Loss at epoch  64  is  0.9334918856620789\n",
      "Loss at epoch  65  is  0.9330630302429199\n",
      "Loss at epoch  66  is  0.933361291885376\n",
      "Loss at epoch  67  is  0.9326381683349609\n",
      "Loss at epoch  68  is  0.9323866963386536\n",
      "Loss at epoch  69  is  0.9316677451133728\n",
      "Loss at epoch  70  is  0.9333356618881226\n",
      "Loss at epoch  71  is  0.9333728551864624\n",
      "Loss at epoch  72  is  0.9341141581535339\n",
      "Loss at epoch  73  is  0.9346427321434021\n",
      "Loss at epoch  74  is  0.9315052628517151\n",
      "Loss at epoch  75  is  0.9308285117149353\n",
      "Loss at epoch  76  is  0.9312249422073364\n",
      "Loss at epoch  77  is  0.9295310974121094\n",
      "Loss at epoch  78  is  0.9302746653556824\n",
      "Loss at epoch  79  is  0.9292101263999939\n",
      "Loss at epoch  80  is  0.9300689101219177\n",
      "Loss at epoch  81  is  0.9289166331291199\n",
      "Loss at epoch  82  is  0.928345263004303\n",
      "Loss at epoch  83  is  0.9284652471542358\n",
      "Loss at epoch  84  is  0.9286695122718811\n",
      "Loss at epoch  85  is  0.9280993938446045\n",
      "Loss at epoch  86  is  0.9273458123207092\n",
      "Loss at epoch  87  is  0.9269216656684875\n",
      "Loss at epoch  88  is  0.9282330274581909\n",
      "Loss at epoch  89  is  0.9272473454475403\n",
      "Loss at epoch  90  is  0.9269347190856934\n",
      "Loss at epoch  91  is  0.9266027212142944\n",
      "Loss at epoch  92  is  0.9262357354164124\n",
      "Loss at epoch  93  is  0.9262690544128418\n",
      "Loss at epoch  94  is  0.926574170589447\n",
      "Loss at epoch  95  is  0.9266170263290405\n",
      "Loss at epoch  96  is  0.9288147687911987\n",
      "Loss at epoch  97  is  0.9282538294792175\n",
      "Loss at epoch  98  is  0.9258540868759155\n",
      "Loss at epoch  99  is  0.9250960350036621\n",
      "Loss at epoch  100  is  0.9249746799468994\n"
     ]
    }
   ],
   "source": [
    "sine_model = model_fitter(num_nodes, dims_array, triples, triples0, delta, delta0,\n",
    "                                   batch_size, batch_size0, epochs, lr=lr, lr_decay=lr_decay,\n",
    "                                  lam=lam, p=p, p0=False)"
   ]
  },
  {
   "cell_type": "code",
   "execution_count": 26,
   "metadata": {
    "collapsed": true
   },
   "outputs": [],
   "source": [
    "clf2 = cluster.KMeans(n_clusters=2)\n",
    "all_embeddings2 = sine_model.get_all_weights()\n",
    "viable_embeddings2 = all_embeddings2[1:,:]\n",
    "labels2 = clf2.fit_predict(viable_embeddings2)"
   ]
  },
  {
   "cell_type": "code",
   "execution_count": 27,
   "metadata": {},
   "outputs": [
    {
     "data": {
      "text/plain": [
       "0.55411700862254609"
      ]
     },
     "execution_count": 27,
     "metadata": {},
     "output_type": "execute_result"
    }
   ],
   "source": [
    "normalized_mutual_info_score(correct_labels, labels2)"
   ]
  },
  {
   "cell_type": "code",
   "execution_count": null,
   "metadata": {
    "collapsed": true
   },
   "outputs": [],
   "source": []
  }
 ],
 "metadata": {
  "kernelspec": {
   "display_name": "Python 3",
   "language": "python",
   "name": "python3"
  },
  "language_info": {
   "codemirror_mode": {
    "name": "ipython",
    "version": 3
   },
   "file_extension": ".py",
   "mimetype": "text/x-python",
   "name": "python",
   "nbconvert_exporter": "python",
   "pygments_lexer": "ipython3",
   "version": "3.6.3"
  }
 },
 "nbformat": 4,
 "nbformat_minor": 2
}
