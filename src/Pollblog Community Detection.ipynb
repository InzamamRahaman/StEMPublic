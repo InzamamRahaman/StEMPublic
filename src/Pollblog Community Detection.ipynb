{
 "cells": [
  {
   "cell_type": "code",
   "execution_count": 161,
   "metadata": {},
   "outputs": [
    {
     "name": "stdout",
     "output_type": "stream",
     "text": [
      "The autoreload extension is already loaded. To reload it, use:\n",
      "  %reload_ext autoreload\n",
      "Populating the interactive namespace from numpy and matplotlib\n"
     ]
    },
    {
     "name": "stderr",
     "output_type": "stream",
     "text": [
      "/Users/inzamamrahaman/anaconda3/lib/python3.6/site-packages/IPython/core/magics/pylab.py:160: UserWarning: pylab import has clobbered these variables: ['random', 'colors', 'clf']\n",
      "`%matplotlib` prevents importing * from pylab and numpy\n",
      "  \"\\n`%matplotlib` prevents importing * from pylab and numpy\"\n"
     ]
    }
   ],
   "source": [
    "%load_ext autoreload\n",
    "%autoreload 2\n",
    "\n",
    "%pylab inline\n",
    "\n",
    "import dataloaders\n",
    "import models\n",
    "import sklearn.linear_model as linear_model\n",
    "import sklearn.metrics as metrics \n",
    "import sklearn.cluster as cluster\n",
    "import numpy as np \n",
    "import random\n",
    "import classifiers\n",
    "from torch.autograd import Variable\n",
    "import torch\n",
    "import torch.nn as nn \n",
    "import torch.optim as optim\n",
    "import util\n",
    "\n",
    "from imblearn.under_sampling import RandomUnderSampler"
   ]
  },
  {
   "cell_type": "code",
   "execution_count": 226,
   "metadata": {
    "collapsed": true
   },
   "outputs": [],
   "source": [
    "output_file_vot = '../data/pollblogs/pollblogs-cleaned.csv'\n",
    "output_file_nam = '../data/pollblogs/pollblogs-class.csv'\n",
    "data = dataloaders.SenateDataset(output_file_vot, output_file_nam, ratio=0.8, delimiter=',')"
   ]
  },
  {
   "cell_type": "code",
   "execution_count": 251,
   "metadata": {
    "collapsed": true
   },
   "outputs": [],
   "source": [
    "num_nodes = data.get_num_nodes()\n",
    "dims = 16\n",
    "epochs = 200\n",
    "lr = 0.10\n",
    "lr_decay=0.0\n",
    "weight_decay=0.0\n",
    "lam = 0.00055\n",
    "X_train, y_train = data.get_training_set()\n",
    "X_test, y_test = data.get_testing_set()\n",
    "p = 2\n",
    "X = data.X\n",
    "y = data.y\n",
    "\n",
    "model_fitter = models.fit_pseudo_kernel_model"
   ]
  },
  {
   "cell_type": "code",
   "execution_count": 252,
   "metadata": {},
   "outputs": [
    {
     "data": {
      "text/plain": [
       "19090"
      ]
     },
     "execution_count": 252,
     "metadata": {},
     "output_type": "execute_result"
    }
   ],
   "source": [
    "len(y)"
   ]
  },
  {
   "cell_type": "code",
   "execution_count": 253,
   "metadata": {},
   "outputs": [
    {
     "name": "stdout",
     "output_type": "stream",
     "text": [
      "The loss at epoch  1  was  0.6938682198524475\n",
      "The loss at epoch  2  was  0.6486061811447144\n",
      "The loss at epoch  3  was  0.48617273569107056\n",
      "The loss at epoch  4  was  0.40501222014427185\n",
      "The loss at epoch  5  was  0.40336906909942627\n",
      "The loss at epoch  6  was  0.4017738103866577\n",
      "The loss at epoch  7  was  0.40096136927604675\n",
      "The loss at epoch  8  was  0.400485634803772\n",
      "The loss at epoch  9  was  0.40003639459609985\n",
      "The loss at epoch  10  was  0.39974740147590637\n",
      "The loss at epoch  11  was  0.39941173791885376\n",
      "The loss at epoch  12  was  0.3990831971168518\n",
      "The loss at epoch  13  was  0.3987537920475006\n",
      "The loss at epoch  14  was  0.39848533272743225\n",
      "The loss at epoch  15  was  0.39821475744247437\n",
      "The loss at epoch  16  was  0.39800649881362915\n",
      "The loss at epoch  17  was  0.39775344729423523\n",
      "The loss at epoch  18  was  0.39758971333503723\n",
      "The loss at epoch  19  was  0.39734891057014465\n",
      "The loss at epoch  20  was  0.39718642830848694\n",
      "The loss at epoch  21  was  0.396950900554657\n",
      "The loss at epoch  22  was  0.39673885703086853\n",
      "The loss at epoch  23  was  0.3963611125946045\n",
      "The loss at epoch  24  was  0.3960173726081848\n",
      "The loss at epoch  25  was  0.3954516053199768\n",
      "The loss at epoch  26  was  0.39484167098999023\n",
      "The loss at epoch  27  was  0.3939535617828369\n",
      "The loss at epoch  28  was  0.3930908441543579\n",
      "The loss at epoch  29  was  0.3920373022556305\n",
      "The loss at epoch  30  was  0.3914155960083008\n",
      "The loss at epoch  31  was  0.39073872566223145\n",
      "The loss at epoch  32  was  0.39049360156059265\n",
      "The loss at epoch  33  was  0.3900710940361023\n",
      "The loss at epoch  34  was  0.3899894952774048\n",
      "The loss at epoch  35  was  0.3896925151348114\n",
      "The loss at epoch  36  was  0.38966119289398193\n",
      "The loss at epoch  37  was  0.3894519805908203\n",
      "The loss at epoch  38  was  0.38943082094192505\n",
      "The loss at epoch  39  was  0.3892466127872467\n",
      "The loss at epoch  40  was  0.38919469714164734\n",
      "The loss at epoch  41  was  0.38904258608818054\n",
      "The loss at epoch  42  was  0.38904932141304016\n",
      "The loss at epoch  43  was  0.38891297578811646\n",
      "The loss at epoch  44  was  0.3888241648674011\n",
      "The loss at epoch  45  was  0.3887210786342621\n",
      "The loss at epoch  46  was  0.3886722922325134\n",
      "The loss at epoch  47  was  0.38857796788215637\n",
      "The loss at epoch  48  was  0.3885756731033325\n",
      "The loss at epoch  49  was  0.3884789049625397\n",
      "The loss at epoch  50  was  0.38846221566200256\n",
      "The loss at epoch  51  was  0.38831520080566406\n",
      "The loss at epoch  52  was  0.38829922676086426\n",
      "The loss at epoch  53  was  0.3881857991218567\n",
      "The loss at epoch  54  was  0.38823023438453674\n",
      "The loss at epoch  55  was  0.3881112337112427\n",
      "The loss at epoch  56  was  0.3881818354129791\n",
      "The loss at epoch  57  was  0.3879718780517578\n",
      "The loss at epoch  58  was  0.38790032267570496\n",
      "The loss at epoch  59  was  0.3877955377101898\n",
      "The loss at epoch  60  was  0.387776255607605\n",
      "The loss at epoch  61  was  0.38796156644821167\n",
      "The loss at epoch  62  was  0.38778167963027954\n",
      "The loss at epoch  63  was  0.3875826299190521\n",
      "The loss at epoch  64  was  0.38757649064064026\n",
      "The loss at epoch  65  was  0.3874635100364685\n",
      "The loss at epoch  66  was  0.38742437958717346\n",
      "The loss at epoch  67  was  0.3873361349105835\n",
      "The loss at epoch  68  was  0.38728514313697815\n",
      "The loss at epoch  69  was  0.38722485303878784\n",
      "The loss at epoch  70  was  0.3873237371444702\n",
      "The loss at epoch  71  was  0.3872206211090088\n",
      "The loss at epoch  72  was  0.38712120056152344\n",
      "The loss at epoch  73  was  0.387038916349411\n",
      "The loss at epoch  74  was  0.38720154762268066\n",
      "The loss at epoch  75  was  0.3869353234767914\n",
      "The loss at epoch  76  was  0.3869483768939972\n",
      "The loss at epoch  77  was  0.38689401745796204\n",
      "The loss at epoch  78  was  0.38704192638397217\n",
      "The loss at epoch  79  was  0.3868383765220642\n",
      "The loss at epoch  80  was  0.386912077665329\n",
      "The loss at epoch  81  was  0.38672521710395813\n",
      "The loss at epoch  82  was  0.3867882192134857\n",
      "The loss at epoch  83  was  0.3866497874259949\n",
      "The loss at epoch  84  was  0.3867252767086029\n",
      "The loss at epoch  85  was  0.38660696148872375\n",
      "The loss at epoch  86  was  0.3868354558944702\n",
      "The loss at epoch  87  was  0.38653063774108887\n",
      "The loss at epoch  88  was  0.3865509331226349\n",
      "The loss at epoch  89  was  0.38642725348472595\n",
      "The loss at epoch  90  was  0.3864358067512512\n",
      "The loss at epoch  91  was  0.3863665759563446\n",
      "The loss at epoch  92  was  0.3862224519252777\n",
      "The loss at epoch  93  was  0.3861983120441437\n",
      "The loss at epoch  94  was  0.38643863797187805\n",
      "The loss at epoch  95  was  0.386158287525177\n",
      "The loss at epoch  96  was  0.38626569509506226\n",
      "The loss at epoch  97  was  0.38627809286117554\n",
      "The loss at epoch  98  was  0.38595816493034363\n",
      "The loss at epoch  99  was  0.38597968220710754\n",
      "The loss at epoch  100  was  0.38600385189056396\n",
      "The loss at epoch  101  was  0.38637658953666687\n",
      "The loss at epoch  102  was  0.3859364092350006\n",
      "The loss at epoch  103  was  0.3857715427875519\n",
      "The loss at epoch  104  was  0.3860194981098175\n",
      "The loss at epoch  105  was  0.3858298659324646\n",
      "The loss at epoch  106  was  0.3858608305454254\n",
      "The loss at epoch  107  was  0.3859536349773407\n",
      "The loss at epoch  108  was  0.3861193060874939\n",
      "The loss at epoch  109  was  0.38599899411201477\n",
      "The loss at epoch  110  was  0.38636428117752075\n",
      "The loss at epoch  111  was  0.3858252763748169\n",
      "The loss at epoch  112  was  0.3861718475818634\n",
      "The loss at epoch  113  was  0.38560888171195984\n",
      "The loss at epoch  114  was  0.38556578755378723\n",
      "The loss at epoch  115  was  0.38555681705474854\n",
      "The loss at epoch  116  was  0.38577908277511597\n",
      "The loss at epoch  117  was  0.3857271373271942\n",
      "The loss at epoch  118  was  0.38550618290901184\n",
      "The loss at epoch  119  was  0.3854905664920807\n",
      "The loss at epoch  120  was  0.3854907155036926\n",
      "The loss at epoch  121  was  0.38540393114089966\n",
      "The loss at epoch  122  was  0.3855871558189392\n",
      "The loss at epoch  123  was  0.3857354521751404\n",
      "The loss at epoch  124  was  0.38547417521476746\n",
      "The loss at epoch  125  was  0.38528624176979065\n",
      "The loss at epoch  126  was  0.3852802515029907\n",
      "The loss at epoch  127  was  0.38555142283439636\n",
      "The loss at epoch  128  was  0.38530731201171875\n",
      "The loss at epoch  129  was  0.38554123044013977\n",
      "The loss at epoch  130  was  0.3853180706501007\n",
      "The loss at epoch  131  was  0.38525667786598206\n",
      "The loss at epoch  132  was  0.3858439028263092\n",
      "The loss at epoch  133  was  0.38514143228530884\n",
      "The loss at epoch  134  was  0.3855155408382416\n",
      "The loss at epoch  135  was  0.3850405216217041\n",
      "The loss at epoch  136  was  0.3856581747531891\n",
      "The loss at epoch  137  was  0.38515782356262207\n",
      "The loss at epoch  138  was  0.3858444392681122\n",
      "The loss at epoch  139  was  0.38511601090431213\n",
      "The loss at epoch  140  was  0.3852502107620239\n",
      "The loss at epoch  141  was  0.3851843476295471\n",
      "The loss at epoch  142  was  0.3850068747997284\n",
      "The loss at epoch  143  was  0.38498979806900024\n",
      "The loss at epoch  144  was  0.38499152660369873\n",
      "The loss at epoch  145  was  0.3852590024471283\n",
      "The loss at epoch  146  was  0.38498497009277344\n",
      "The loss at epoch  147  was  0.38497358560562134\n",
      "The loss at epoch  148  was  0.3848310112953186\n",
      "The loss at epoch  149  was  0.3848729133605957\n",
      "The loss at epoch  150  was  0.3850843608379364\n",
      "The loss at epoch  151  was  0.3847426474094391\n",
      "The loss at epoch  152  was  0.3853990435600281\n",
      "The loss at epoch  153  was  0.38487112522125244\n",
      "The loss at epoch  154  was  0.3858073949813843\n",
      "The loss at epoch  155  was  0.38509970903396606\n",
      "The loss at epoch  156  was  0.38543006777763367\n",
      "The loss at epoch  157  was  0.3848876357078552\n",
      "The loss at epoch  158  was  0.3853045701980591\n",
      "The loss at epoch  159  was  0.38476455211639404\n",
      "The loss at epoch  160  was  0.38564440608024597\n",
      "The loss at epoch  161  was  0.38490816950798035\n",
      "The loss at epoch  162  was  0.3854292631149292\n",
      "The loss at epoch  163  was  0.3846929967403412\n",
      "The loss at epoch  164  was  0.3848766088485718\n",
      "The loss at epoch  165  was  0.3845212757587433\n",
      "The loss at epoch  166  was  0.3849220275878906\n",
      "The loss at epoch  167  was  0.3844895660877228\n",
      "The loss at epoch  168  was  0.3848479092121124\n",
      "The loss at epoch  169  was  0.3845391869544983\n",
      "The loss at epoch  170  was  0.38499915599823\n",
      "The loss at epoch  171  was  0.3846103847026825\n",
      "The loss at epoch  172  was  0.38499611616134644\n",
      "The loss at epoch  173  was  0.38443493843078613\n",
      "The loss at epoch  174  was  0.38462990522384644\n",
      "The loss at epoch  175  was  0.3844996392726898\n"
     ]
    },
    {
     "name": "stdout",
     "output_type": "stream",
     "text": [
      "The loss at epoch  176  was  0.3845367729663849\n",
      "The loss at epoch  177  was  0.3845938742160797\n",
      "The loss at epoch  178  was  0.38453832268714905\n",
      "The loss at epoch  179  was  0.38493236899375916\n",
      "The loss at epoch  180  was  0.38445547223091125\n",
      "The loss at epoch  181  was  0.38465091586112976\n",
      "The loss at epoch  182  was  0.3845064640045166\n",
      "The loss at epoch  183  was  0.3851618766784668\n",
      "The loss at epoch  184  was  0.38445332646369934\n",
      "The loss at epoch  185  was  0.384575754404068\n",
      "The loss at epoch  186  was  0.3843385577201843\n",
      "The loss at epoch  187  was  0.3847384750843048\n",
      "The loss at epoch  188  was  0.3844330310821533\n",
      "The loss at epoch  189  was  0.384947806596756\n",
      "The loss at epoch  190  was  0.3842807412147522\n",
      "The loss at epoch  191  was  0.3845882713794708\n",
      "The loss at epoch  192  was  0.38441598415374756\n",
      "The loss at epoch  193  was  0.38552388548851013\n",
      "The loss at epoch  194  was  0.38466358184814453\n",
      "The loss at epoch  195  was  0.3848012685775757\n",
      "The loss at epoch  196  was  0.38435065746307373\n",
      "The loss at epoch  197  was  0.3848186433315277\n",
      "The loss at epoch  198  was  0.38431984186172485\n",
      "The loss at epoch  199  was  0.38483330607414246\n",
      "The loss at epoch  200  was  0.3844352662563324\n"
     ]
    }
   ],
   "source": [
    "kernel_model = model_fitter(num_nodes, dims, X_train, y_train, epochs=epochs, p=p, \n",
    "                                              lr=lr,lr_decay=lr_decay, lam=lam, \n",
    "                            weight_decay=weight_decay, undersample=False)"
   ]
  },
  {
   "cell_type": "code",
   "execution_count": 254,
   "metadata": {
    "collapsed": true
   },
   "outputs": [],
   "source": [
    "from sklearn.manifold import TSNE, MDS"
   ]
  },
  {
   "cell_type": "code",
   "execution_count": 255,
   "metadata": {},
   "outputs": [],
   "source": [
    "tsne = TSNE(n_components=2)\n",
    "mds = MDS(n_components=2)"
   ]
  },
  {
   "cell_type": "code",
   "execution_count": 256,
   "metadata": {
    "collapsed": true
   },
   "outputs": [],
   "source": [
    "import sklearn.cluster as cluster"
   ]
  },
  {
   "cell_type": "code",
   "execution_count": 257,
   "metadata": {
    "collapsed": true
   },
   "outputs": [],
   "source": [
    "clf = cluster.KMeans(n_clusters=2)"
   ]
  },
  {
   "cell_type": "code",
   "execution_count": 258,
   "metadata": {
    "collapsed": true
   },
   "outputs": [],
   "source": [
    "all_embeddings = kernel_model.get_all_weights()"
   ]
  },
  {
   "cell_type": "code",
   "execution_count": 259,
   "metadata": {
    "collapsed": true
   },
   "outputs": [],
   "source": [
    "viable_embeddings = all_embeddings[1:,:]"
   ]
  },
  {
   "cell_type": "code",
   "execution_count": 260,
   "metadata": {},
   "outputs": [],
   "source": [
    "reduced = tsne.fit_transform(viable_embeddings)"
   ]
  },
  {
   "cell_type": "code",
   "execution_count": 261,
   "metadata": {},
   "outputs": [],
   "source": [
    "colors = ['blue' if x == 0 else 'red' for x in data.get_node_classes()]\n",
    "from pylab import rcParams\n",
    "rcParams['figure.figsize'] = 20, 20\n",
    "rcParams['axes.titlesize'] = 14"
   ]
  },
  {
   "cell_type": "code",
   "execution_count": 262,
   "metadata": {},
   "outputs": [
    {
     "data": {
      "text/plain": [
       "<matplotlib.collections.PathCollection at 0x1a236bf4e0>"
      ]
     },
     "execution_count": 262,
     "metadata": {},
     "output_type": "execute_result"
    },
    {
     "data": {
      "image/png": "[encoded data removed]",
      "text/plain": [
       "<matplotlib.figure.Figure at 0x1a2336d6a0>"
      ]
     },
     "metadata": {},
     "output_type": "display_data"
    }
   ],
   "source": [
    "plt.scatter(reduced[:,0], reduced[:,1],c=colors)"
   ]
  },
  {
   "cell_type": "code",
   "execution_count": 263,
   "metadata": {
    "collapsed": true
   },
   "outputs": [],
   "source": [
    "labels = clf.fit_predict(viable_embeddings)"
   ]
  },
  {
   "cell_type": "code",
   "execution_count": 264,
   "metadata": {},
   "outputs": [
    {
     "data": {
      "text/plain": [
       "array([1, 1, 0, ..., 1, 1, 1], dtype=int32)"
      ]
     },
     "execution_count": 264,
     "metadata": {},
     "output_type": "execute_result"
    }
   ],
   "source": [
    "labels"
   ]
  },
  {
   "cell_type": "code",
   "execution_count": 265,
   "metadata": {
    "collapsed": true
   },
   "outputs": [],
   "source": [
    "correct_labels = data.get_node_classes()"
   ]
  },
  {
   "cell_type": "code",
   "execution_count": 266,
   "metadata": {},
   "outputs": [
    {
     "data": {
      "text/plain": [
       "1224"
      ]
     },
     "execution_count": 266,
     "metadata": {},
     "output_type": "execute_result"
    }
   ],
   "source": [
    "len(correct_labels)"
   ]
  },
  {
   "cell_type": "code",
   "execution_count": 267,
   "metadata": {
    "collapsed": true
   },
   "outputs": [],
   "source": [
    "from sklearn.metrics.cluster import normalized_mutual_info_score"
   ]
  },
  {
   "cell_type": "code",
   "execution_count": 268,
   "metadata": {},
   "outputs": [
    {
     "data": {
      "text/plain": [
       "0.23731442215722298"
      ]
     },
     "execution_count": 268,
     "metadata": {},
     "output_type": "execute_result"
    }
   ],
   "source": [
    "normalized_mutual_info_score(correct_labels, labels)"
   ]
  },
  {
   "cell_type": "code",
   "execution_count": 269,
   "metadata": {
    "collapsed": true
   },
   "outputs": [],
   "source": [
    "num_nodes = data.get_num_nodes()\n",
    "dims = 32\n",
    "epochs = 100\n",
    "lr = 0.1\n",
    "lr_decay=0.0\n",
    "weight_decay=0.0\n",
    "lam = 0.00055\n",
    "p = 2\n",
    "delta = 1\n",
    "delta0 = 0.5\n",
    "dims_array = [dims, 20, 20]"
   ]
  },
  {
   "cell_type": "code",
   "execution_count": 270,
   "metadata": {
    "collapsed": true
   },
   "outputs": [],
   "source": [
    "model_fitter = models.fit_sine_model\n",
    "triples, triples0 = util.triples_from_array(X, y)\n",
    "batch_size = int(1.0 * len(triples))\n",
    "batch_size0 = int(1.0 * len(triples0))"
   ]
  },
  {
   "cell_type": "code",
   "execution_count": 247,
   "metadata": {},
   "outputs": [
    {
     "name": "stdout",
     "output_type": "stream",
     "text": [
      "Loss at epoch  1  is  0.9802922606468201\n",
      "Loss at epoch  2  is  0.840734601020813\n",
      "Loss at epoch  3  is  0.41397640109062195\n",
      "Loss at epoch  4  is  0.8895852565765381\n",
      "Loss at epoch  5  is  0.6886106133460999\n",
      "Loss at epoch  6  is  0.4021938443183899\n",
      "Loss at epoch  7  is  0.40453556180000305\n",
      "Loss at epoch  8  is  0.3906833231449127\n",
      "Loss at epoch  9  is  0.3552408218383789\n",
      "Loss at epoch  10  is  0.33920910954475403\n",
      "Loss at epoch  11  is  0.3199699819087982\n",
      "Loss at epoch  12  is  0.33626487851142883\n",
      "Loss at epoch  13  is  0.3375679552555084\n",
      "Loss at epoch  14  is  0.3230205774307251\n",
      "Loss at epoch  15  is  0.2376825213432312\n",
      "Loss at epoch  16  is  0.224774569272995\n",
      "Loss at epoch  17  is  0.218300923705101\n",
      "Loss at epoch  18  is  0.215392604470253\n",
      "Loss at epoch  19  is  0.21197929978370667\n",
      "Loss at epoch  20  is  0.2099146693944931\n",
      "Loss at epoch  21  is  0.20846572518348694\n",
      "Loss at epoch  22  is  0.20780523121356964\n",
      "Loss at epoch  23  is  0.20661889016628265\n",
      "Loss at epoch  24  is  0.2057691514492035\n",
      "Loss at epoch  25  is  0.20514729619026184\n",
      "Loss at epoch  26  is  0.20473507046699524\n",
      "Loss at epoch  27  is  0.2043457329273224\n",
      "Loss at epoch  28  is  0.2040243148803711\n",
      "Loss at epoch  29  is  0.20375992357730865\n",
      "Loss at epoch  30  is  0.2035066783428192\n",
      "Loss at epoch  31  is  0.2031722366809845\n",
      "Loss at epoch  32  is  0.202969029545784\n",
      "Loss at epoch  33  is  0.20271381735801697\n",
      "Loss at epoch  34  is  0.20256799459457397\n",
      "Loss at epoch  35  is  0.20236502587795258\n",
      "Loss at epoch  36  is  0.20232143998146057\n",
      "Loss at epoch  37  is  0.20209500193595886\n",
      "Loss at epoch  38  is  0.20193956792354584\n",
      "Loss at epoch  39  is  0.20182707905769348\n",
      "Loss at epoch  40  is  0.20170804858207703\n",
      "Loss at epoch  41  is  0.2015400528907776\n",
      "Loss at epoch  42  is  0.2014756202697754\n",
      "Loss at epoch  43  is  0.2012970745563507\n",
      "Loss at epoch  44  is  0.20118620991706848\n",
      "Loss at epoch  45  is  0.20107096433639526\n",
      "Loss at epoch  46  is  0.20097294449806213\n",
      "Loss at epoch  47  is  0.2008458375930786\n",
      "Loss at epoch  48  is  0.2007630467414856\n",
      "Loss at epoch  49  is  0.20065446197986603\n",
      "Loss at epoch  50  is  0.20063571631908417\n",
      "Loss at epoch  51  is  0.20052368938922882\n",
      "Loss at epoch  52  is  0.20046751201152802\n",
      "Loss at epoch  53  is  0.20044969022274017\n",
      "Loss at epoch  54  is  0.20040687918663025\n",
      "Loss at epoch  55  is  0.2002876251935959\n",
      "Loss at epoch  56  is  0.20020410418510437\n",
      "Loss at epoch  57  is  0.20010003447532654\n",
      "Loss at epoch  58  is  0.20006805658340454\n",
      "Loss at epoch  59  is  0.19997747242450714\n",
      "Loss at epoch  60  is  0.199905663728714\n",
      "Loss at epoch  61  is  0.19983011484146118\n",
      "Loss at epoch  62  is  0.1997750997543335\n",
      "Loss at epoch  63  is  0.19970354437828064\n",
      "Loss at epoch  64  is  0.19962231814861298\n",
      "Loss at epoch  65  is  0.19963690638542175\n",
      "Loss at epoch  66  is  0.19950619339942932\n",
      "Loss at epoch  67  is  0.1994810253381729\n",
      "Loss at epoch  68  is  0.19945770502090454\n",
      "Loss at epoch  69  is  0.19937074184417725\n",
      "Loss at epoch  70  is  0.19930164515972137\n",
      "Loss at epoch  71  is  0.19923128187656403\n",
      "Loss at epoch  72  is  0.19922974705696106\n",
      "Loss at epoch  73  is  0.19918318092823029\n",
      "Loss at epoch  74  is  0.1991235911846161\n",
      "Loss at epoch  75  is  0.19907838106155396\n",
      "Loss at epoch  76  is  0.1990259885787964\n",
      "Loss at epoch  77  is  0.1989479660987854\n",
      "Loss at epoch  78  is  0.19892315566539764\n",
      "Loss at epoch  79  is  0.19885161519050598\n",
      "Loss at epoch  80  is  0.19883567094802856\n",
      "Loss at epoch  81  is  0.198773592710495\n",
      "Loss at epoch  82  is  0.19874384999275208\n",
      "Loss at epoch  83  is  0.1987127959728241\n",
      "Loss at epoch  84  is  0.19866220653057098\n",
      "Loss at epoch  85  is  0.1986246556043625\n",
      "Loss at epoch  86  is  0.19860133528709412\n",
      "Loss at epoch  87  is  0.1985441893339157\n",
      "Loss at epoch  88  is  0.19852054119110107\n",
      "Loss at epoch  89  is  0.19842208921909332\n",
      "Loss at epoch  90  is  0.19838286936283112\n",
      "Loss at epoch  91  is  0.19833552837371826\n",
      "Loss at epoch  92  is  0.19832636415958405\n",
      "Loss at epoch  93  is  0.1982642114162445\n",
      "Loss at epoch  94  is  0.1982462853193283\n",
      "Loss at epoch  95  is  0.1982220560312271\n",
      "Loss at epoch  96  is  0.19817890226840973\n",
      "Loss at epoch  97  is  0.19810917973518372\n",
      "Loss at epoch  98  is  0.19807587563991547\n",
      "Loss at epoch  99  is  0.19806019961833954\n",
      "Loss at epoch  100  is  0.19805294275283813\n"
     ]
    }
   ],
   "source": [
    "sine_model = model_fitter(num_nodes, dims_array, triples, triples0, delta, delta0,\n",
    "                                   batch_size, batch_size0, epochs, lr=lr, lr_decay=lr_decay,\n",
    "                                  lam=lam, p=p, p0=True)"
   ]
  },
  {
   "cell_type": "code",
   "execution_count": 248,
   "metadata": {
    "collapsed": true
   },
   "outputs": [],
   "source": [
    "clf2 = cluster.KMeans(n_clusters=2)\n",
    "all_embeddings2 = sine_model.get_all_weights()\n",
    "viable_embeddings2 = all_embeddings2[1:,:]\n",
    "labels2 = clf2.fit_predict(viable_embeddings2)"
   ]
  },
  {
   "cell_type": "code",
   "execution_count": 249,
   "metadata": {},
   "outputs": [
    {
     "data": {
      "text/plain": [
       "0.35155663866382741"
      ]
     },
     "execution_count": 249,
     "metadata": {},
     "output_type": "execute_result"
    }
   ],
   "source": [
    "normalized_mutual_info_score(correct_labels, labels2)"
   ]
  },
  {
   "cell_type": "code",
   "execution_count": null,
   "metadata": {
    "collapsed": true
   },
   "outputs": [],
   "source": []
  }
 ],
 "metadata": {
  "kernelspec": {
   "display_name": "Python 3",
   "language": "python",
   "name": "python3"
  },
  "language_info": {
   "codemirror_mode": {
    "name": "ipython",
    "version": 3
   },
   "file_extension": ".py",
   "mimetype": "text/x-python",
   "name": "python",
   "nbconvert_exporter": "python",
   "pygments_lexer": "ipython3",
   "version": "3.6.3"
  }
 },
 "nbformat": 4,
 "nbformat_minor": 2
}
