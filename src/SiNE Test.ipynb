{
 "cells": [
  {
   "cell_type": "code",
   "execution_count": 1,
   "metadata": {},
   "outputs": [
    {
     "name": "stdout",
     "output_type": "stream",
     "text": [
      "Populating the interactive namespace from numpy and matplotlib\n"
     ]
    }
   ],
   "source": [
    "%load_ext autoreload\n",
    "%autoreload 2\n",
    "\n",
    "%pylab inline\n",
    "\n",
    "import dataloaders\n",
    "import models\n",
    "import sklearn.linear_model as linear_model\n",
    "import sklearn.metrics as metrics \n",
    "import sklearn.cluster as cluster\n",
    "import numpy as np \n",
    "import random\n",
    "import classifiers\n",
    "from torch.autograd import Variable\n",
    "import torch\n",
    "import torch.nn as nn \n",
    "import torch.optim as optim\n",
    "\n",
    "from imblearn.under_sampling import RandomUnderSampler"
   ]
  },
  {
   "cell_type": "code",
   "execution_count": 2,
   "metadata": {
    "collapsed": true
   },
   "outputs": [],
   "source": [
    "filepath = '../data/soc-sign-epinions-cleaned.csv'\n",
    "data = dataloaders.UnsplitDataset(filepath, ratio=0.8, delimiter=',')"
   ]
  },
  {
   "cell_type": "code",
   "execution_count": 3,
   "metadata": {
    "collapsed": true
   },
   "outputs": [],
   "source": [
    "num_nodes = data.get_num_nodes()\n",
    "dims = 32\n",
    "epochs = 100\n",
    "lr = 0.1\n",
    "lr_decay=0.0\n",
    "weight_decay=0.0\n",
    "lam = 0.00055\n",
    "p = 2\n",
    "delta = 1\n",
    "delta0 = 0.5\n",
    "dims_array = [dims, 20, 20]"
   ]
  },
  {
   "cell_type": "code",
   "execution_count": 4,
   "metadata": {
    "collapsed": true
   },
   "outputs": [],
   "source": [
    "triples, triples0 = data.get_training_triples(True)"
   ]
  },
  {
   "cell_type": "code",
   "execution_count": null,
   "metadata": {
    "collapsed": true
   },
   "outputs": [],
   "source": [
    "batch_size = int(0.4 * len(triples))\n",
    "batch_size0 = int(0.4 * len(triples0))"
   ]
  },
  {
   "cell_type": "code",
   "execution_count": null,
   "metadata": {},
   "outputs": [
    {
     "name": "stdout",
     "output_type": "stream",
     "text": [
      "Loss at epoch  1  is  2.141263008117676\n",
      "Loss at epoch  2  is  1.8648185729980469\n",
      "Loss at epoch  3  is  1.4938678741455078\n",
      "Loss at epoch  4  is  1.3047062158584595\n",
      "Loss at epoch  5  is  1.1976044178009033\n",
      "Loss at epoch  6  is  1.1234960556030273\n",
      "Loss at epoch  7  is  1.068747878074646\n",
      "Loss at epoch  8  is  1.028942346572876\n",
      "Loss at epoch  9  is  0.995143473148346\n",
      "Loss at epoch  10  is  0.9652245044708252\n",
      "Loss at epoch  11  is  0.9396826028823853\n",
      "Loss at epoch  12  is  0.9175252318382263\n",
      "Loss at epoch  13  is  0.8954623937606812\n",
      "Loss at epoch  14  is  0.875285804271698\n",
      "Loss at epoch  15  is  0.8571527600288391\n",
      "Loss at epoch  16  is  0.8418391942977905\n",
      "Loss at epoch  17  is  0.8284574747085571\n",
      "Loss at epoch  18  is  0.8112876415252686\n",
      "Loss at epoch  19  is  0.7933687567710876\n",
      "Loss at epoch  20  is  0.7775708436965942\n",
      "Loss at epoch  21  is  0.7658843398094177\n",
      "Loss at epoch  22  is  0.7567294836044312\n",
      "Loss at epoch  23  is  0.7509208917617798\n",
      "Loss at epoch  24  is  0.7319033145904541\n",
      "Loss at epoch  25  is  0.72011399269104\n",
      "Loss at epoch  26  is  0.7088724970817566\n",
      "Loss at epoch  27  is  0.6996333003044128\n",
      "Loss at epoch  28  is  0.6885867118835449\n",
      "Loss at epoch  29  is  0.6798096895217896\n",
      "Loss at epoch  30  is  0.6672438383102417\n",
      "Loss at epoch  31  is  0.6576474905014038\n",
      "Loss at epoch  32  is  0.6490426063537598\n",
      "Loss at epoch  33  is  0.6441271305084229\n",
      "Loss at epoch  34  is  0.6331837773323059\n",
      "Loss at epoch  35  is  0.6227719187736511\n",
      "Loss at epoch  36  is  0.6127009391784668\n"
     ]
    }
   ],
   "source": [
    "sine_model = models.fit_sine_model(num_nodes, dims_array, triples, triples0, delta, delta0,\n",
    "                                   batch_size, batch_size0, epochs, lr=lr, lr_decay=lr_decay,\n",
    "                                  lam=lam, p=p)"
   ]
  },
  {
   "cell_type": "code",
   "execution_count": 9,
   "metadata": {},
   "outputs": [
    {
     "name": "stdout",
     "output_type": "stream",
     "text": [
      "0\n",
      "1\n",
      "2\n",
      "3\n",
      "4\n",
      "5\n",
      "6\n",
      "7\n"
     ]
    }
   ],
   "source": [
    "for i, param in enumerate(sine_model.parameters()):\n",
    "    print(i)"
   ]
  },
  {
   "cell_type": "code",
   "execution_count": 10,
   "metadata": {
    "collapsed": true
   },
   "outputs": [],
   "source": [
    "X_train, y_train = data.get_training_set()\n",
    "X_test, y_test = data.get_testing_set()"
   ]
  },
  {
   "cell_type": "code",
   "execution_count": 11,
   "metadata": {},
   "outputs": [
    {
     "name": "stdout",
     "output_type": "stream",
     "text": [
      "Assembling training set features....\n",
      "Fitting classifier model\n",
      "Assembling testing set features\n"
     ]
    }
   ],
   "source": [
    "clf = linear_model.LogisticRegression()\n",
    "reports = classifiers.train_and_evaluate_classifier(clf, sine_model, X_train, y_train, X_test, y_test,\n",
    "                                                    operation='l2', undersample=True, ratio=3)"
   ]
  },
  {
   "cell_type": "code",
   "execution_count": 12,
   "metadata": {},
   "outputs": [
    {
     "data": {
      "text/plain": [
       "{'auc': 0.63556034467045697,\n",
       " 'average_percision_score': 0.84457887770899254,\n",
       " 'classification_report': '             precision    recall  f1-score   support\\n\\n          0       0.44      0.04      0.08     24153\\n          1       0.77      0.98      0.86     79162\\n\\navg / total       0.69      0.76      0.68    103315\\n',\n",
       " 'confusion_matrix': array([[ 1027, 23126],\n",
       "        [ 1324, 77838]]),\n",
       " 'macro_f1': 0.47087970983949434,\n",
       " 'micro_f1': 0.76334510961622226}"
      ]
     },
     "execution_count": 12,
     "metadata": {},
     "output_type": "execute_result"
    }
   ],
   "source": [
    "reports"
   ]
  },
  {
   "cell_type": "code",
   "execution_count": 13,
   "metadata": {},
   "outputs": [
    {
     "name": "stdout",
     "output_type": "stream",
     "text": [
      "0.63556034467\n"
     ]
    }
   ],
   "source": [
    "print(reports['auc'])"
   ]
  },
  {
   "cell_type": "code",
   "execution_count": 14,
   "metadata": {},
   "outputs": [
    {
     "name": "stdout",
     "output_type": "stream",
     "text": [
      "0.763345109616\n"
     ]
    }
   ],
   "source": [
    "print(reports['micro_f1'])"
   ]
  },
  {
   "cell_type": "code",
   "execution_count": 15,
   "metadata": {},
   "outputs": [
    {
     "name": "stdout",
     "output_type": "stream",
     "text": [
      "             precision    recall  f1-score   support\n",
      "\n",
      "          0       0.44      0.04      0.08     24153\n",
      "          1       0.77      0.98      0.86     79162\n",
      "\n",
      "avg / total       0.69      0.76      0.68    103315\n",
      "\n"
     ]
    }
   ],
   "source": [
    "print(reports['classification_report'])"
   ]
  },
  {
   "cell_type": "code",
   "execution_count": 16,
   "metadata": {},
   "outputs": [
    {
     "name": "stdout",
     "output_type": "stream",
     "text": [
      "[[ 1027 23126]\n",
      " [ 1324 77838]]\n"
     ]
    }
   ],
   "source": [
    "print(reports['confusion_matrix'])"
   ]
  },
  {
   "cell_type": "code",
   "execution_count": 19,
   "metadata": {},
   "outputs": [
    {
     "name": "stdout",
     "output_type": "stream",
     "text": [
      "0.999379532508\n",
      "1.01730525188\n",
      "0.179853851779\n",
      "0.17695632218\n",
      "1.00052123149\n",
      "1.01069444434\n",
      "0.179554389231\n",
      "0.176938804426\n"
     ]
    }
   ],
   "source": [
    "from scipy.spatial import distance\n",
    "dist_met = distance.cosine\n",
    "pos_distances = []\n",
    "for x, y in X_train[y_train == 1]:\n",
    "    x_emb = sine_model.get_embedding(x)\n",
    "    y_emb = sine_model.get_embedding(y)\n",
    "    pos_distances.append(dist_met(x_emb, y_emb))\n",
    "    \n",
    "neg_distances = []\n",
    "for x, y in X_train[y_train == 0]:\n",
    "    x_emb = sine_model.get_embedding(x)\n",
    "    y_emb = sine_model.get_embedding(y)\n",
    "    neg_distances.append(dist_met(x_emb, y_emb))\n",
    "    \n",
    "print(np.mean(pos_distances))\n",
    "print(np.mean(neg_distances))\n",
    "print(np.std(pos_distances))\n",
    "print(np.std(neg_distances))\n",
    "\n",
    "\n",
    "pos_distances1 = []\n",
    "for x, y in X_test[y_test == 1]:\n",
    "    x_emb = sine_model.get_embedding(x)\n",
    "    y_emb = sine_model.get_embedding(y)\n",
    "    pos_distances1.append(dist_met(x_emb, y_emb))\n",
    "    \n",
    "neg_distances1 = []\n",
    "for x, y in X_test[y_test == 0]:\n",
    "    x_emb = sine_model.get_embedding(x)\n",
    "    y_emb = sine_model.get_embedding(y)\n",
    "    neg_distances1.append(dist_met(x_emb, y_emb))\n",
    "    \n",
    "print(np.mean(pos_distances1))\n",
    "print(np.mean(neg_distances1))\n",
    "\n",
    "print(np.std(pos_distances1))\n",
    "print(np.std(neg_distances1))"
   ]
  },
  {
   "cell_type": "code",
   "execution_count": 88,
   "metadata": {},
   "outputs": [
    {
     "data": {
      "text/plain": [
       "0.23493200406523737"
      ]
     },
     "execution_count": 88,
     "metadata": {},
     "output_type": "execute_result"
    }
   ],
   "source": [
    "len(y_test[y_test == 0])/len(y_test)"
   ]
  },
  {
   "cell_type": "code",
   "execution_count": 24,
   "metadata": {},
   "outputs": [
    {
     "data": {
      "text/plain": [
       "0.23211779509267774"
      ]
     },
     "execution_count": 24,
     "metadata": {},
     "output_type": "execute_result"
    }
   ],
   "source": [
    "len(y_train[y_train == 0])/len(y_train)"
   ]
  },
  {
   "cell_type": "code",
   "execution_count": 25,
   "metadata": {
    "collapsed": true
   },
   "outputs": [],
   "source": [
    "y = data.y"
   ]
  },
  {
   "cell_type": "code",
   "execution_count": 251,
   "metadata": {},
   "outputs": [
    {
     "data": {
      "text/plain": [
       "0.10010676556529557"
      ]
     },
     "execution_count": 251,
     "metadata": {},
     "output_type": "execute_result"
    }
   ],
   "source": [
    "len(y[y == 0]) / len(y)"
   ]
  },
  {
   "cell_type": "code",
   "execution_count": 252,
   "metadata": {},
   "outputs": [
    {
     "name": "stdout",
     "output_type": "stream",
     "text": [
      "0.8798882681564246\n"
     ]
    }
   ],
   "source": [
    "count = 0.0\n",
    "for x, y in X_test[y_test == 0]:\n",
    "    x = Variable(torch.LongTensor([int(x)]))\n",
    "    y = Variable(torch.LongTensor([int(y)]))\n",
    "    output = kernel_model(x, y).data.numpy()[0]\n",
    "    neg = output[0]\n",
    "    pos = output[1]\n",
    "    count += 1 if neg > pos else 0\n",
    "print(count / len(X_test[y_test == 0]))"
   ]
  },
  {
   "cell_type": "code",
   "execution_count": 253,
   "metadata": {},
   "outputs": [
    {
     "name": "stdout",
     "output_type": "stream",
     "text": [
      "0.8204247345409119\n"
     ]
    }
   ],
   "source": [
    "count = 0.0\n",
    "for x, y in X_test[y_test == 1]:\n",
    "    x = Variable(torch.LongTensor([int(x)]))\n",
    "    y = Variable(torch.LongTensor([int(y)]))\n",
    "    output = kernel_model(x, y).data.numpy()[0]\n",
    "    neg = output[0]\n",
    "    pos = output[1]\n",
    "    count += 1 if neg < pos else 0\n",
    "print(count / len(X_test[y_test == 1]))"
   ]
  },
  {
   "cell_type": "code",
   "execution_count": 254,
   "metadata": {},
   "outputs": [
    {
     "name": "stdout",
     "output_type": "stream",
     "text": [
      "0.8798882681564246\n",
      "0.8204247345409119\n"
     ]
    }
   ],
   "source": [
    "count = 0.0\n",
    "A = []\n",
    "b = []\n",
    "for x, y in X_test[y_test == 0]:\n",
    "    x = Variable(torch.LongTensor([int(x)]))\n",
    "    y = Variable(torch.LongTensor([int(y)]))\n",
    "    output = kernel_model(x, y).data.numpy()[0]\n",
    "    neg = output[0]\n",
    "    pos = output[1]\n",
    "    A.append(pos)\n",
    "    b.append(0)\n",
    "    count += 1 if neg > pos else 0\n",
    "print(count / len(X_test[y_test == 0]))\n",
    "count = 0.0\n",
    "for x, y in X_test[y_test == 1]:\n",
    "    x = Variable(torch.LongTensor([int(x)]))\n",
    "    y = Variable(torch.LongTensor([int(y)]))\n",
    "    output = kernel_model(x, y).data.numpy()[0]\n",
    "    neg = output[0]\n",
    "    pos = output[1]\n",
    "    A.append(pos)\n",
    "    b.append(1)\n",
    "    count += 1 if neg < pos else 0\n",
    "print(count / len(X_test[y_test == 1]))"
   ]
  },
  {
   "cell_type": "code",
   "execution_count": 255,
   "metadata": {},
   "outputs": [
    {
     "data": {
      "text/plain": [
       "0.91300304628043227"
      ]
     },
     "execution_count": 255,
     "metadata": {},
     "output_type": "execute_result"
    }
   ],
   "source": [
    "metrics.roc_auc_score(b, A)"
   ]
  },
  {
   "cell_type": "code",
   "execution_count": 256,
   "metadata": {
    "collapsed": true
   },
   "outputs": [],
   "source": [
    "class EnergyToProbsLayer(nn.Module):\n",
    "    def __init__(self):\n",
    "        super(EnergyToProbsLayer, self).__init__()\n",
    "        self.transform = nn.Sigmoid()\n",
    "    def forward(self, x):\n",
    "        ones = torch.ones_like(x)\n",
    "        positive_prob = self.transform(x)\n",
    "        negative_prob = ones - positive_prob\n",
    "        output = torch.cat((negative_prob, positive_prob), dim=1)\n",
    "        #output = torch.log(output)\n",
    "        return output\n",
    "        \n",
    "\n",
    "class BilinearEmbeddingModel(nn.Module):\n",
    "    def __init__(self, num_nodes, dims=128):\n",
    "        super(BilinearEmbeddingModel, self).__init__()\n",
    "        self.embeddings = nn.Embedding(num_nodes + 1, dims)\n",
    "        self.initial_layer = nn.Linear(dims, int(dims/2))\n",
    "        self.initial_transform = nn.ReLU()\n",
    "        self.layer = nn.Bilinear(int(dims/2), int(dims/2), 1)\n",
    "        self.transform_layer= EnergyToProbsLayer()\n",
    "    \n",
    "    def get_embedding(self, x):\n",
    "        x = Variable(torch.LongTensor([x]))\n",
    "        emb = self.embeddings(x)\n",
    "        transformed = self.initial_layer(emb)\n",
    "        emb = transformed.data.numpy()[0]\n",
    "        return emb\n",
    "\n",
    "        \n",
    "    def forward(self, u, v):\n",
    "        u_emb = self.embeddings(u)\n",
    "        v_emb = self.embeddings(v)\n",
    "        u_emb = self.initial_transform(self.initial_layer(u_emb))\n",
    "        v_emb = self.initial_transform(self.initial_layer(v_emb))\n",
    "        energy = self.layer(u_emb, v_emb)\n",
    "        probs = self.transform_layer(energy)\n",
    "        return probs"
   ]
  },
  {
   "cell_type": "code",
   "execution_count": 257,
   "metadata": {
    "collapsed": true
   },
   "outputs": [],
   "source": [
    "X_train_pos = X_train[y_train == 1]\n",
    "X_train_neg = X_train[y_train == 0]"
   ]
  },
  {
   "cell_type": "code",
   "execution_count": 258,
   "metadata": {},
   "outputs": [
    {
     "data": {
      "text/plain": [
       "-25622"
      ]
     },
     "execution_count": 258,
     "metadata": {},
     "output_type": "execute_result"
    }
   ],
   "source": [
    "len(X_train_neg) - len(X_train_pos)"
   ]
  },
  {
   "cell_type": "code",
   "execution_count": 259,
   "metadata": {},
   "outputs": [
    {
     "name": "stdout",
     "output_type": "stream",
     "text": [
      "5881\n"
     ]
    }
   ],
   "source": [
    "batch_frac = 0.1\n",
    "epochs = 200\n",
    "alpha = 0.7\n",
    "dim = 32\n",
    "beta = 0.1\n",
    "size = data.get_num_nodes()\n",
    "print(size)\n",
    "model = BilinearEmbeddingModel(size, dim)\n",
    "optimizer = optim.Adagrad(model.parameters(), lr=alpha, lr_decay=beta)\n",
    "lam = 0.0055"
   ]
  },
  {
   "cell_type": "code",
   "execution_count": 260,
   "metadata": {},
   "outputs": [
    {
     "name": "stdout",
     "output_type": "stream",
     "text": [
      "3205\n",
      "2564\n"
     ]
    }
   ],
   "source": [
    "negative_batch_size = len(X_train_neg)\n",
    "positive_batch_size = int(0.8 * negative_batch_size)\n",
    "num_positive = len(X_train_pos)\n",
    "\n",
    "\n",
    "criterion = nn.CrossEntropyLoss(size_average=True)\n",
    "regularizer = lambda x: torch.norm(x - torch.zeros_like(x))\n",
    "print(negative_batch_size)\n",
    "print(positive_batch_size)"
   ]
  },
  {
   "cell_type": "code",
   "execution_count": 261,
   "metadata": {},
   "outputs": [
    {
     "name": "stdout",
     "output_type": "stream",
     "text": [
      "Loss at iteration  0  is  \n",
      " 3.1082\n",
      "[torch.FloatTensor of size 1]\n",
      "\n",
      "Loss at iteration  1  is  \n",
      " 2.4626\n",
      "[torch.FloatTensor of size 1]\n",
      "\n",
      "Loss at iteration  2  is  \n",
      " 1.7610\n",
      "[torch.FloatTensor of size 1]\n",
      "\n",
      "Loss at iteration  3  is  \n",
      " 1.3609\n",
      "[torch.FloatTensor of size 1]\n",
      "\n",
      "Loss at iteration  4  is  \n",
      " 1.4519\n",
      "[torch.FloatTensor of size 1]\n",
      "\n",
      "Loss at iteration  5  is  \n",
      " 1.2471\n",
      "[torch.FloatTensor of size 1]\n",
      "\n",
      "Loss at iteration  6  is  \n",
      " 1.1656\n",
      "[torch.FloatTensor of size 1]\n",
      "\n",
      "Loss at iteration  7  is  \n",
      " 1.0918\n",
      "[torch.FloatTensor of size 1]\n",
      "\n",
      "Loss at iteration  8  is  \n",
      " 1.0441\n",
      "[torch.FloatTensor of size 1]\n",
      "\n",
      "Loss at iteration  9  is  \n",
      " 0.9981\n",
      "[torch.FloatTensor of size 1]\n",
      "\n",
      "Loss at iteration  10  is  \n",
      " 0.9836\n",
      "[torch.FloatTensor of size 1]\n",
      "\n",
      "Loss at iteration  11  is  \n",
      " 0.9513\n",
      "[torch.FloatTensor of size 1]\n",
      "\n",
      "Loss at iteration  12  is  \n",
      " 0.9050\n",
      "[torch.FloatTensor of size 1]\n",
      "\n",
      "Loss at iteration  13  is  \n",
      " 0.8665\n",
      "[torch.FloatTensor of size 1]\n",
      "\n",
      "Loss at iteration  14  is  \n",
      " 0.8369\n",
      "[torch.FloatTensor of size 1]\n",
      "\n",
      "Loss at iteration  15  is  \n",
      " 0.8063\n",
      "[torch.FloatTensor of size 1]\n",
      "\n",
      "Loss at iteration  16  is  \n",
      " 0.7851\n",
      "[torch.FloatTensor of size 1]\n",
      "\n",
      "Loss at iteration  17  is  \n",
      " 0.7630\n",
      "[torch.FloatTensor of size 1]\n",
      "\n",
      "Loss at iteration  18  is  \n",
      " 0.7481\n",
      "[torch.FloatTensor of size 1]\n",
      "\n",
      "Loss at iteration  19  is  \n",
      " 0.7314\n",
      "[torch.FloatTensor of size 1]\n",
      "\n",
      "Loss at iteration  20  is  \n",
      " 0.7142\n",
      "[torch.FloatTensor of size 1]\n",
      "\n",
      "Loss at iteration  21  is  \n",
      " 0.7007\n",
      "[torch.FloatTensor of size 1]\n",
      "\n",
      "Loss at iteration  22  is  \n",
      " 0.6978\n",
      "[torch.FloatTensor of size 1]\n",
      "\n",
      "Loss at iteration  23  is  \n",
      " 0.6823\n",
      "[torch.FloatTensor of size 1]\n",
      "\n",
      "Loss at iteration  24  is  \n",
      " 0.6741\n",
      "[torch.FloatTensor of size 1]\n",
      "\n",
      "Loss at iteration  25  is  \n",
      " 0.6679\n",
      "[torch.FloatTensor of size 1]\n",
      "\n",
      "Loss at iteration  26  is  \n",
      " 0.6628\n",
      "[torch.FloatTensor of size 1]\n",
      "\n",
      "Loss at iteration  27  is  \n",
      " 0.6590\n",
      "[torch.FloatTensor of size 1]\n",
      "\n",
      "Loss at iteration  28  is  \n",
      " 0.6492\n",
      "[torch.FloatTensor of size 1]\n",
      "\n",
      "Loss at iteration  29  is  \n",
      " 0.6385\n",
      "[torch.FloatTensor of size 1]\n",
      "\n",
      "Loss at iteration  30  is  \n",
      " 0.6292\n",
      "[torch.FloatTensor of size 1]\n",
      "\n",
      "Loss at iteration  31  is  \n",
      " 0.6263\n",
      "[torch.FloatTensor of size 1]\n",
      "\n",
      "Loss at iteration  32  is  \n",
      " 0.6232\n",
      "[torch.FloatTensor of size 1]\n",
      "\n",
      "Loss at iteration  33  is  \n",
      " 0.6148\n",
      "[torch.FloatTensor of size 1]\n",
      "\n",
      "Loss at iteration  34  is  \n",
      " 0.6156\n",
      "[torch.FloatTensor of size 1]\n",
      "\n",
      "Loss at iteration  35  is  \n",
      " 0.6042\n",
      "[torch.FloatTensor of size 1]\n",
      "\n",
      "Loss at iteration  36  is  \n",
      " 0.5991\n",
      "[torch.FloatTensor of size 1]\n",
      "\n",
      "Loss at iteration  37  is  \n",
      " 0.5953\n",
      "[torch.FloatTensor of size 1]\n",
      "\n",
      "Loss at iteration  38  is  \n",
      " 0.5904\n",
      "[torch.FloatTensor of size 1]\n",
      "\n",
      "Loss at iteration  39  is  \n",
      " 0.5849\n",
      "[torch.FloatTensor of size 1]\n",
      "\n",
      "Loss at iteration  40  is  \n",
      " 0.5808\n",
      "[torch.FloatTensor of size 1]\n",
      "\n",
      "Loss at iteration  41  is  \n",
      " 0.5754\n",
      "[torch.FloatTensor of size 1]\n",
      "\n",
      "Loss at iteration  42  is  \n",
      " 0.5722\n",
      "[torch.FloatTensor of size 1]\n",
      "\n",
      "Loss at iteration  43  is  \n",
      " 0.5696\n",
      "[torch.FloatTensor of size 1]\n",
      "\n",
      "Loss at iteration  44  is  \n",
      " 0.5632\n",
      "[torch.FloatTensor of size 1]\n",
      "\n",
      "Loss at iteration  45  is  \n",
      " 0.5613\n",
      "[torch.FloatTensor of size 1]\n",
      "\n",
      "Loss at iteration  46  is  \n",
      " 0.5567\n",
      "[torch.FloatTensor of size 1]\n",
      "\n",
      "Loss at iteration  47  is  \n",
      " 0.5560\n",
      "[torch.FloatTensor of size 1]\n",
      "\n",
      "Loss at iteration  48  is  \n",
      " 0.5539\n",
      "[torch.FloatTensor of size 1]\n",
      "\n",
      "Loss at iteration  49  is  \n",
      " 0.5535\n",
      "[torch.FloatTensor of size 1]\n",
      "\n",
      "Loss at iteration  50  is  \n",
      " 0.5515\n",
      "[torch.FloatTensor of size 1]\n",
      "\n",
      "Loss at iteration  51  is  \n",
      " 0.5496\n",
      "[torch.FloatTensor of size 1]\n",
      "\n",
      "Loss at iteration  52  is  \n",
      " 0.5469\n",
      "[torch.FloatTensor of size 1]\n",
      "\n",
      "Loss at iteration  53  is  \n",
      " 0.5416\n",
      "[torch.FloatTensor of size 1]\n",
      "\n",
      "Loss at iteration  54  is  \n",
      " 0.5348\n",
      "[torch.FloatTensor of size 1]\n",
      "\n",
      "Loss at iteration  55  is  \n",
      " 0.5325\n",
      "[torch.FloatTensor of size 1]\n",
      "\n",
      "Loss at iteration  56  is  \n",
      " 0.5302\n",
      "[torch.FloatTensor of size 1]\n",
      "\n",
      "Loss at iteration  57  is  \n",
      " 0.5267\n",
      "[torch.FloatTensor of size 1]\n",
      "\n",
      "Loss at iteration  58  is  \n",
      " 0.5265\n",
      "[torch.FloatTensor of size 1]\n",
      "\n",
      "Loss at iteration  59  is  \n",
      " 0.5242\n",
      "[torch.FloatTensor of size 1]\n",
      "\n",
      "Loss at iteration  60  is  \n",
      " 0.5209\n",
      "[torch.FloatTensor of size 1]\n",
      "\n",
      "Loss at iteration  61  is  \n",
      " 0.5230\n",
      "[torch.FloatTensor of size 1]\n",
      "\n",
      "Loss at iteration  62  is  \n",
      " 0.5227\n",
      "[torch.FloatTensor of size 1]\n",
      "\n",
      "Loss at iteration  63  is  \n",
      " 0.5234\n",
      "[torch.FloatTensor of size 1]\n",
      "\n",
      "Loss at iteration  64  is  \n",
      " 0.5252\n",
      "[torch.FloatTensor of size 1]\n",
      "\n",
      "Loss at iteration  65  is  \n",
      " 0.5179\n",
      "[torch.FloatTensor of size 1]\n",
      "\n",
      "Loss at iteration  66  is  \n",
      " 0.5157\n",
      "[torch.FloatTensor of size 1]\n",
      "\n",
      "Loss at iteration  67  is  \n",
      " 0.5118\n",
      "[torch.FloatTensor of size 1]\n",
      "\n",
      "Loss at iteration  68  is  \n",
      " 0.5102\n",
      "[torch.FloatTensor of size 1]\n",
      "\n",
      "Loss at iteration  69  is  \n",
      " 0.5096\n",
      "[torch.FloatTensor of size 1]\n",
      "\n",
      "Loss at iteration  70  is  \n",
      " 0.5087\n",
      "[torch.FloatTensor of size 1]\n",
      "\n",
      "Loss at iteration  71  is  \n",
      " 0.5077\n",
      "[torch.FloatTensor of size 1]\n",
      "\n",
      "Loss at iteration  72  is  \n",
      " 0.5098\n",
      "[torch.FloatTensor of size 1]\n",
      "\n",
      "Loss at iteration  73  is  \n",
      " 0.5090\n",
      "[torch.FloatTensor of size 1]\n",
      "\n",
      "Loss at iteration  74  is  \n",
      " 0.5131\n",
      "[torch.FloatTensor of size 1]\n",
      "\n",
      "Loss at iteration  75  is  \n",
      " 0.5083\n",
      "[torch.FloatTensor of size 1]\n",
      "\n",
      "Loss at iteration  76  is  \n",
      " 0.5076\n",
      "[torch.FloatTensor of size 1]\n",
      "\n",
      "Loss at iteration  77  is  \n",
      " 0.5034\n",
      "[torch.FloatTensor of size 1]\n",
      "\n",
      "Loss at iteration  78  is  \n",
      " 0.5010\n",
      "[torch.FloatTensor of size 1]\n",
      "\n",
      "Loss at iteration  79  is  \n",
      " 0.5034\n",
      "[torch.FloatTensor of size 1]\n",
      "\n",
      "Loss at iteration  80  is  \n",
      " 0.5017\n",
      "[torch.FloatTensor of size 1]\n",
      "\n",
      "Loss at iteration  81  is  \n",
      " 0.4990\n",
      "[torch.FloatTensor of size 1]\n",
      "\n",
      "Loss at iteration  82  is  \n",
      " 0.5009\n",
      "[torch.FloatTensor of size 1]\n",
      "\n",
      "Loss at iteration  83  is  \n",
      " 0.5010\n",
      "[torch.FloatTensor of size 1]\n",
      "\n",
      "Loss at iteration  84  is  \n",
      " 0.5013\n",
      "[torch.FloatTensor of size 1]\n",
      "\n",
      "Loss at iteration  85  is  \n",
      " 0.4998\n",
      "[torch.FloatTensor of size 1]\n",
      "\n",
      "Loss at iteration  86  is  \n",
      " 0.4980\n",
      "[torch.FloatTensor of size 1]\n",
      "\n",
      "Loss at iteration  87  is  \n",
      " 0.5007\n",
      "[torch.FloatTensor of size 1]\n",
      "\n",
      "Loss at iteration  88  is  \n",
      " 0.5002\n",
      "[torch.FloatTensor of size 1]\n",
      "\n",
      "Loss at iteration  89  is  \n",
      " 0.4976\n",
      "[torch.FloatTensor of size 1]\n",
      "\n",
      "Loss at iteration  90  is  \n",
      " 0.4982\n",
      "[torch.FloatTensor of size 1]\n",
      "\n",
      "Loss at iteration  91  is  \n",
      " 0.4971\n",
      "[torch.FloatTensor of size 1]\n",
      "\n",
      "Loss at iteration  92  is  \n",
      " 0.4945\n",
      "[torch.FloatTensor of size 1]\n",
      "\n",
      "Loss at iteration  93  is  \n",
      " 0.4958\n",
      "[torch.FloatTensor of size 1]\n",
      "\n",
      "Loss at iteration  94  is  \n",
      " 0.4916\n",
      "[torch.FloatTensor of size 1]\n",
      "\n",
      "Loss at iteration  95  is  \n",
      " 0.4947\n",
      "[torch.FloatTensor of size 1]\n",
      "\n",
      "Loss at iteration  96  is  \n",
      " 0.4932\n",
      "[torch.FloatTensor of size 1]\n",
      "\n",
      "Loss at iteration  97  is  \n",
      " 0.4927\n",
      "[torch.FloatTensor of size 1]\n",
      "\n",
      "Loss at iteration  98  is  \n",
      " 0.4926\n",
      "[torch.FloatTensor of size 1]\n",
      "\n",
      "Loss at iteration  99  is  \n",
      " 0.4952\n",
      "[torch.FloatTensor of size 1]\n",
      "\n",
      "Loss at iteration  100  is  \n",
      " 0.4923\n",
      "[torch.FloatTensor of size 1]\n",
      "\n",
      "Loss at iteration  101  is  \n",
      " 0.4947\n",
      "[torch.FloatTensor of size 1]\n",
      "\n",
      "Loss at iteration  102  is  \n",
      " 0.4912\n",
      "[torch.FloatTensor of size 1]\n",
      "\n",
      "Loss at iteration  103  is  \n",
      " 0.4947\n",
      "[torch.FloatTensor of size 1]\n",
      "\n",
      "Loss at iteration  104  is  \n",
      " 0.4926\n",
      "[torch.FloatTensor of size 1]\n",
      "\n",
      "Loss at iteration  105  is  \n",
      " 0.4907\n",
      "[torch.FloatTensor of size 1]\n",
      "\n",
      "Loss at iteration  106  is  \n",
      " 0.4905\n",
      "[torch.FloatTensor of size 1]\n",
      "\n",
      "Loss at iteration  107  is  \n",
      " 0.4902\n",
      "[torch.FloatTensor of size 1]\n",
      "\n",
      "Loss at iteration  108  is  \n",
      " 0.4899\n",
      "[torch.FloatTensor of size 1]\n",
      "\n",
      "Loss at iteration  109  is  \n",
      " 0.4907\n",
      "[torch.FloatTensor of size 1]\n",
      "\n",
      "Loss at iteration  110  is  \n",
      " 0.4894\n",
      "[torch.FloatTensor of size 1]\n",
      "\n",
      "Loss at iteration  111  is  \n",
      " 0.4896\n",
      "[torch.FloatTensor of size 1]\n",
      "\n",
      "Loss at iteration  112  is  \n",
      " 0.4917\n",
      "[torch.FloatTensor of size 1]\n",
      "\n",
      "Loss at iteration  113  is  \n",
      " 0.4909\n",
      "[torch.FloatTensor of size 1]\n",
      "\n",
      "Loss at iteration  114  is  \n",
      " 0.4883\n",
      "[torch.FloatTensor of size 1]\n",
      "\n",
      "Loss at iteration  115  is  \n",
      " 0.4842\n",
      "[torch.FloatTensor of size 1]\n",
      "\n",
      "Loss at iteration  116  is  \n",
      " 0.4872\n",
      "[torch.FloatTensor of size 1]\n",
      "\n",
      "Loss at iteration  117  is  \n",
      " 0.4847\n",
      "[torch.FloatTensor of size 1]\n",
      "\n",
      "Loss at iteration  118  is  \n",
      " 0.4838\n",
      "[torch.FloatTensor of size 1]\n",
      "\n",
      "Loss at iteration  119  is  \n",
      " 0.4860\n",
      "[torch.FloatTensor of size 1]\n",
      "\n",
      "Loss at iteration  120  is  \n",
      " 0.4842\n",
      "[torch.FloatTensor of size 1]\n",
      "\n",
      "Loss at iteration  121  is  \n",
      " 0.4860\n",
      "[torch.FloatTensor of size 1]\n",
      "\n",
      "Loss at iteration  122  is  \n",
      " 0.4835\n",
      "[torch.FloatTensor of size 1]\n",
      "\n",
      "Loss at iteration  123  is  \n",
      " 0.4830\n",
      "[torch.FloatTensor of size 1]\n",
      "\n",
      "Loss at iteration  124  is  \n",
      " 0.4850\n",
      "[torch.FloatTensor of size 1]\n",
      "\n",
      "Loss at iteration  125  is  \n",
      " 0.4814\n",
      "[torch.FloatTensor of size 1]\n",
      "\n"
     ]
    },
    {
     "name": "stdout",
     "output_type": "stream",
     "text": [
      "Loss at iteration  126  is  \n",
      " 0.4825\n",
      "[torch.FloatTensor of size 1]\n",
      "\n",
      "Loss at iteration  127  is  \n",
      " 0.4871\n",
      "[torch.FloatTensor of size 1]\n",
      "\n",
      "Loss at iteration  128  is  \n",
      " 0.4828\n",
      "[torch.FloatTensor of size 1]\n",
      "\n",
      "Loss at iteration  129  is  \n",
      " 0.4860\n",
      "[torch.FloatTensor of size 1]\n",
      "\n",
      "Loss at iteration  130  is  \n",
      " 0.4814\n",
      "[torch.FloatTensor of size 1]\n",
      "\n",
      "Loss at iteration  131  is  \n",
      " 0.4851\n",
      "[torch.FloatTensor of size 1]\n",
      "\n",
      "Loss at iteration  132  is  \n",
      " 0.4836\n",
      "[torch.FloatTensor of size 1]\n",
      "\n",
      "Loss at iteration  133  is  \n",
      " 0.4808\n",
      "[torch.FloatTensor of size 1]\n",
      "\n",
      "Loss at iteration  134  is  \n",
      " 0.4819\n",
      "[torch.FloatTensor of size 1]\n",
      "\n",
      "Loss at iteration  135  is  \n",
      " 0.4827\n",
      "[torch.FloatTensor of size 1]\n",
      "\n",
      "Loss at iteration  136  is  \n",
      " 0.4815\n",
      "[torch.FloatTensor of size 1]\n",
      "\n",
      "Loss at iteration  137  is  \n",
      " 0.4833\n",
      "[torch.FloatTensor of size 1]\n",
      "\n",
      "Loss at iteration  138  is  \n",
      " 0.4833\n",
      "[torch.FloatTensor of size 1]\n",
      "\n",
      "Loss at iteration  139  is  \n",
      " 0.4823\n",
      "[torch.FloatTensor of size 1]\n",
      "\n",
      "Loss at iteration  140  is  \n",
      " 0.4820\n",
      "[torch.FloatTensor of size 1]\n",
      "\n",
      "Loss at iteration  141  is  \n",
      " 0.4833\n",
      "[torch.FloatTensor of size 1]\n",
      "\n",
      "Loss at iteration  142  is  \n",
      " 0.4822\n",
      "[torch.FloatTensor of size 1]\n",
      "\n",
      "Loss at iteration  143  is  \n",
      " 0.4841\n",
      "[torch.FloatTensor of size 1]\n",
      "\n",
      "Loss at iteration  144  is  \n",
      " 0.4845\n",
      "[torch.FloatTensor of size 1]\n",
      "\n",
      "Loss at iteration  145  is  \n",
      " 0.4823\n",
      "[torch.FloatTensor of size 1]\n",
      "\n",
      "Loss at iteration  146  is  \n",
      " 0.4796\n",
      "[torch.FloatTensor of size 1]\n",
      "\n",
      "Loss at iteration  147  is  \n",
      " 0.4834\n",
      "[torch.FloatTensor of size 1]\n",
      "\n",
      "Loss at iteration  148  is  \n",
      " 0.4795\n",
      "[torch.FloatTensor of size 1]\n",
      "\n",
      "Loss at iteration  149  is  \n",
      " 0.4802\n",
      "[torch.FloatTensor of size 1]\n",
      "\n",
      "Loss at iteration  150  is  \n",
      " 0.4835\n",
      "[torch.FloatTensor of size 1]\n",
      "\n",
      "Loss at iteration  151  is  \n",
      " 0.4805\n",
      "[torch.FloatTensor of size 1]\n",
      "\n",
      "Loss at iteration  152  is  \n",
      " 0.4813\n",
      "[torch.FloatTensor of size 1]\n",
      "\n",
      "Loss at iteration  153  is  \n",
      " 0.4813\n",
      "[torch.FloatTensor of size 1]\n",
      "\n",
      "Loss at iteration  154  is  \n",
      " 0.4815\n",
      "[torch.FloatTensor of size 1]\n",
      "\n",
      "Loss at iteration  155  is  \n",
      " 0.4789\n",
      "[torch.FloatTensor of size 1]\n",
      "\n",
      "Loss at iteration  156  is  \n",
      " 0.4778\n",
      "[torch.FloatTensor of size 1]\n",
      "\n",
      "Loss at iteration  157  is  \n",
      " 0.4808\n",
      "[torch.FloatTensor of size 1]\n",
      "\n",
      "Loss at iteration  158  is  \n",
      " 0.4814\n",
      "[torch.FloatTensor of size 1]\n",
      "\n",
      "Loss at iteration  159  is  \n",
      " 0.4778\n",
      "[torch.FloatTensor of size 1]\n",
      "\n",
      "Loss at iteration  160  is  \n",
      " 0.4782\n",
      "[torch.FloatTensor of size 1]\n",
      "\n",
      "Loss at iteration  161  is  \n",
      " 0.4795\n",
      "[torch.FloatTensor of size 1]\n",
      "\n",
      "Loss at iteration  162  is  \n",
      " 0.4796\n",
      "[torch.FloatTensor of size 1]\n",
      "\n",
      "Loss at iteration  163  is  \n",
      " 0.4795\n",
      "[torch.FloatTensor of size 1]\n",
      "\n",
      "Loss at iteration  164  is  \n",
      " 0.4798\n",
      "[torch.FloatTensor of size 1]\n",
      "\n",
      "Loss at iteration  165  is  \n",
      " 0.4819\n",
      "[torch.FloatTensor of size 1]\n",
      "\n",
      "Loss at iteration  166  is  \n",
      " 0.4786\n",
      "[torch.FloatTensor of size 1]\n",
      "\n",
      "Loss at iteration  167  is  \n",
      " 0.4807\n",
      "[torch.FloatTensor of size 1]\n",
      "\n",
      "Loss at iteration  168  is  \n",
      " 0.4812\n",
      "[torch.FloatTensor of size 1]\n",
      "\n",
      "Loss at iteration  169  is  \n",
      " 0.4795\n",
      "[torch.FloatTensor of size 1]\n",
      "\n",
      "Loss at iteration  170  is  \n",
      " 0.4778\n",
      "[torch.FloatTensor of size 1]\n",
      "\n",
      "Loss at iteration  171  is  \n",
      " 0.4780\n",
      "[torch.FloatTensor of size 1]\n",
      "\n",
      "Loss at iteration  172  is  \n",
      " 0.4804\n",
      "[torch.FloatTensor of size 1]\n",
      "\n",
      "Loss at iteration  173  is  \n",
      " 0.4772\n",
      "[torch.FloatTensor of size 1]\n",
      "\n",
      "Loss at iteration  174  is  \n",
      " 0.4782\n",
      "[torch.FloatTensor of size 1]\n",
      "\n",
      "Loss at iteration  175  is  \n",
      " 0.4776\n",
      "[torch.FloatTensor of size 1]\n",
      "\n",
      "Loss at iteration  176  is  \n",
      " 0.4787\n",
      "[torch.FloatTensor of size 1]\n",
      "\n",
      "Loss at iteration  177  is  \n",
      " 0.4752\n",
      "[torch.FloatTensor of size 1]\n",
      "\n",
      "Loss at iteration  178  is  \n",
      " 0.4763\n",
      "[torch.FloatTensor of size 1]\n",
      "\n",
      "Loss at iteration  179  is  \n",
      " 0.4789\n",
      "[torch.FloatTensor of size 1]\n",
      "\n",
      "Loss at iteration  180  is  \n",
      " 0.4772\n",
      "[torch.FloatTensor of size 1]\n",
      "\n",
      "Loss at iteration  181  is  \n",
      " 0.4776\n",
      "[torch.FloatTensor of size 1]\n",
      "\n",
      "Loss at iteration  182  is  \n",
      " 0.4761\n",
      "[torch.FloatTensor of size 1]\n",
      "\n",
      "Loss at iteration  183  is  \n",
      " 0.4788\n",
      "[torch.FloatTensor of size 1]\n",
      "\n",
      "Loss at iteration  184  is  \n",
      " 0.4773\n",
      "[torch.FloatTensor of size 1]\n",
      "\n",
      "Loss at iteration  185  is  \n",
      " 0.4793\n",
      "[torch.FloatTensor of size 1]\n",
      "\n",
      "Loss at iteration  186  is  \n",
      " 0.4758\n",
      "[torch.FloatTensor of size 1]\n",
      "\n",
      "Loss at iteration  187  is  \n",
      " 0.4816\n",
      "[torch.FloatTensor of size 1]\n",
      "\n",
      "Loss at iteration  188  is  \n",
      " 0.4765\n",
      "[torch.FloatTensor of size 1]\n",
      "\n",
      "Loss at iteration  189  is  \n",
      " 0.4803\n",
      "[torch.FloatTensor of size 1]\n",
      "\n",
      "Loss at iteration  190  is  \n",
      " 0.4779\n",
      "[torch.FloatTensor of size 1]\n",
      "\n",
      "Loss at iteration  191  is  \n",
      " 0.4781\n",
      "[torch.FloatTensor of size 1]\n",
      "\n",
      "Loss at iteration  192  is  \n",
      " 0.4789\n",
      "[torch.FloatTensor of size 1]\n",
      "\n",
      "Loss at iteration  193  is  \n",
      " 0.4767\n",
      "[torch.FloatTensor of size 1]\n",
      "\n",
      "Loss at iteration  194  is  \n",
      " 0.4773\n",
      "[torch.FloatTensor of size 1]\n",
      "\n",
      "Loss at iteration  195  is  \n",
      " 0.4778\n",
      "[torch.FloatTensor of size 1]\n",
      "\n",
      "Loss at iteration  196  is  \n",
      " 0.4759\n",
      "[torch.FloatTensor of size 1]\n",
      "\n",
      "Loss at iteration  197  is  \n",
      " 0.4741\n",
      "[torch.FloatTensor of size 1]\n",
      "\n",
      "Loss at iteration  198  is  \n",
      " 0.4761\n",
      "[torch.FloatTensor of size 1]\n",
      "\n",
      "Loss at iteration  199  is  \n",
      " 0.4752\n",
      "[torch.FloatTensor of size 1]\n",
      "\n"
     ]
    }
   ],
   "source": [
    "for epoch in range(epochs):\n",
    "    model.zero_grad()\n",
    "\n",
    "    negative_batch = X_train_neg\n",
    "    positive_batch_idx = random.sample(range(num_positive), positive_batch_size)\n",
    "    positive_batch = X_train_pos[positive_batch_idx,:]\n",
    "    \n",
    "    \n",
    "    actual = [0] * negative_batch_size\n",
    "    actual1 = [1] * positive_batch_size\n",
    "    actual.extend(actual1)\n",
    "    actual = np.array(actual)\n",
    "    \n",
    "    \n",
    "    all_inputs = np.concatenate((negative_batch, positive_batch), axis=0)\n",
    "    us = all_inputs[:,0]\n",
    "    vs = all_inputs[:,1]\n",
    "    \n",
    "    us = Variable(torch.LongTensor(us))\n",
    "    vs = Variable(torch.LongTensor(vs))\n",
    "    actual = Variable(torch.LongTensor(actual))\n",
    "    \n",
    "    #print('Computing loss....')\n",
    "    probs = model(us, vs)\n",
    "    #print('Number of probs ', len(probs))\n",
    "    #print(probs)\n",
    "    #print('Number of examples ', len(actual))\n",
    "    loss = criterion(probs, actual)\n",
    "    for parameter in model.parameters():\n",
    "        loss += lam * regularizer(parameter)\n",
    "        \n",
    "        \n",
    "    \n",
    "    \n",
    "    print('Loss at iteration ', epoch, ' is ', loss.data)\n",
    "    loss.backward()\n",
    "    optimizer.step()"
   ]
  },
  {
   "cell_type": "code",
   "execution_count": 262,
   "metadata": {
    "collapsed": true
   },
   "outputs": [],
   "source": [
    "\n",
    "classifier = linear_model.LogisticRegression()"
   ]
  },
  {
   "cell_type": "code",
   "execution_count": 263,
   "metadata": {
    "collapsed": true
   },
   "outputs": [],
   "source": [
    "def embedding(model, x):\n",
    "    x_var = Variable(torch.LongTensor([x]))\n",
    "    emb = model.embeddings(x_var)\n",
    "    emb = model.initial_layer(emb)\n",
    "    emb = emb.data.numpy()[0]\n",
    "    return emb\n",
    "    \n",
    "\n",
    "def get_hadamard(model, x, y):\n",
    "    x_features = embedding(model, x)\n",
    "    y_features = embedding(model, y)\n",
    "    return x_features * y_features"
   ]
  },
  {
   "cell_type": "code",
   "execution_count": 264,
   "metadata": {
    "collapsed": true
   },
   "outputs": [],
   "source": [
    "\n",
    "feature_extractor = get_hadamard"
   ]
  },
  {
   "cell_type": "code",
   "execution_count": 265,
   "metadata": {
    "collapsed": true
   },
   "outputs": [],
   "source": [
    "inputs = []\n",
    "outputs = []\n",
    "for x, y in X_train_neg:\n",
    "    x = int(x)\n",
    "    y = int(y)\n",
    "    inputs.append(feature_extractor(model, x, y))\n",
    "    outputs.append(0)\n",
    "\n",
    "positive_batch_idx = random.sample(range(num_positive), positive_batch_size)\n",
    "positive_batch = X_train_pos[positive_batch_idx,:]\n",
    "for x, y in positive_batch:\n",
    "    x = int(x)\n",
    "    y = int(y)\n",
    "    inputs.append(feature_extractor(model, x, y))\n",
    "    outputs.append(1)\n",
    "\n",
    "inputs = np.array(inputs)\n",
    "outputs = np.array(outputs)"
   ]
  },
  {
   "cell_type": "code",
   "execution_count": 266,
   "metadata": {},
   "outputs": [
    {
     "data": {
      "text/plain": [
       "LogisticRegression(C=1.0, class_weight=None, dual=False, fit_intercept=True,\n",
       "          intercept_scaling=1, max_iter=100, multi_class='ovr', n_jobs=1,\n",
       "          penalty='l2', random_state=None, solver='liblinear', tol=0.0001,\n",
       "          verbose=0, warm_start=False)"
      ]
     },
     "execution_count": 266,
     "metadata": {},
     "output_type": "execute_result"
    }
   ],
   "source": [
    "classifier.fit(inputs, outputs)"
   ]
  },
  {
   "cell_type": "code",
   "execution_count": 267,
   "metadata": {},
   "outputs": [
    {
     "name": "stdout",
     "output_type": "stream",
     "text": [
      "358\n",
      "3560\n",
      "3560\n"
     ]
    }
   ],
   "source": [
    "inputs1 = []\n",
    "expected_outputs1 = []\n",
    "\n",
    "count = 0\n",
    "\n",
    "for x, y in X_test[y_test == 0]:\n",
    "    x = int(x)\n",
    "    y = int(y)\n",
    "    inputs1.append(feature_extractor(model, x, y))\n",
    "    expected_outputs1.append(0)\n",
    "    count += 1\n",
    "print(count)\n",
    "\n",
    "for x, y in X_test[y_test == 1]:\n",
    "    x = int(x)\n",
    "    y = int(y)\n",
    "    inputs1.append(feature_extractor(model, x, y))\n",
    "    expected_outputs1.append(1)\n",
    "    count += 1\n",
    "print(count)\n",
    "\n",
    "inputs1 = np.array(inputs1)\n",
    "expected_outputs1 = np.array(expected_outputs1)\n",
    "print(len(expected_outputs1))\n",
    "actual_outputs1 = classifier.predict(inputs1)\n",
    "actual_probs1 = classifier.predict_proba(inputs1)[:,1]\n"
   ]
  },
  {
   "cell_type": "code",
   "execution_count": 268,
   "metadata": {},
   "outputs": [
    {
     "data": {
      "text/plain": [
       "0.75784200322129891"
      ]
     },
     "execution_count": 268,
     "metadata": {},
     "output_type": "execute_result"
    }
   ],
   "source": [
    "metrics.f1_score(expected_outputs1, actual_outputs1, average='macro')"
   ]
  },
  {
   "cell_type": "code",
   "execution_count": 269,
   "metadata": {},
   "outputs": [
    {
     "data": {
      "text/plain": [
       "0.88987068138279501"
      ]
     },
     "execution_count": 269,
     "metadata": {},
     "output_type": "execute_result"
    }
   ],
   "source": [
    "metrics.roc_auc_score(expected_outputs1, actual_probs1)"
   ]
  },
  {
   "cell_type": "code",
   "execution_count": 270,
   "metadata": {},
   "outputs": [
    {
     "name": "stdout",
     "output_type": "stream",
     "text": [
      "             precision    recall  f1-score   support\n",
      "\n",
      "          0       0.47      0.77      0.58       358\n",
      "          1       0.97      0.90      0.94      3202\n",
      "\n",
      "avg / total       0.92      0.89      0.90      3560\n",
      "\n"
     ]
    }
   ],
   "source": [
    "print(metrics.classification_report(expected_outputs1, actual_outputs1))"
   ]
  },
  {
   "cell_type": "code",
   "execution_count": null,
   "metadata": {
    "collapsed": true
   },
   "outputs": [],
   "source": []
  },
  {
   "cell_type": "code",
   "execution_count": 271,
   "metadata": {},
   "outputs": [
    {
     "data": {
      "text/plain": [
       "3560"
      ]
     },
     "execution_count": 271,
     "metadata": {},
     "output_type": "execute_result"
    }
   ],
   "source": [
    "len(expected_outputs1)"
   ]
  },
  {
   "cell_type": "code",
   "execution_count": 272,
   "metadata": {},
   "outputs": [
    {
     "data": {
      "text/plain": [
       "3560"
      ]
     },
     "execution_count": 272,
     "metadata": {},
     "output_type": "execute_result"
    }
   ],
   "source": [
    "len(X_test[y_test == 1]) + len(X_test[y_test == 0])"
   ]
  },
  {
   "cell_type": "code",
   "execution_count": 273,
   "metadata": {},
   "outputs": [
    {
     "data": {
      "text/plain": [
       "array([[ 275,   83],\n",
       "       [ 315, 2887]])"
      ]
     },
     "execution_count": 273,
     "metadata": {},
     "output_type": "execute_result"
    }
   ],
   "source": [
    "metrics.confusion_matrix(expected_outputs1, actual_outputs1)"
   ]
  },
  {
   "cell_type": "code",
   "execution_count": null,
   "metadata": {
    "collapsed": true
   },
   "outputs": [],
   "source": []
  }
 ],
 "metadata": {
  "kernelspec": {
   "display_name": "Python 3",
   "language": "python",
   "name": "python3"
  },
  "language_info": {
   "codemirror_mode": {
    "name": "ipython",
    "version": 3
   },
   "file_extension": ".py",
   "mimetype": "text/x-python",
   "name": "python",
   "nbconvert_exporter": "python",
   "pygments_lexer": "ipython3",
   "version": "3.6.3"
  }
 },
 "nbformat": 4,
 "nbformat_minor": 2
}
