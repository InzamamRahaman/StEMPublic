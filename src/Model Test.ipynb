{
 "cells": [
  {
   "cell_type": "code",
   "execution_count": 1,
   "metadata": {},
   "outputs": [
    {
     "name": "stdout",
     "output_type": "stream",
     "text": [
      "Populating the interactive namespace from numpy and matplotlib\n"
     ]
    }
   ],
   "source": [
    "%load_ext autoreload\n",
    "%autoreload 2\n",
    "\n",
    "%pylab inline\n",
    "\n",
    "import dataloaders\n",
    "import models\n",
    "import sklearn.linear_model as linear_model\n",
    "import sklearn.metrics as metrics \n",
    "import sklearn.cluster as cluster\n",
    "import numpy as np \n",
    "import random\n",
    "import classifiers\n",
    "from torch.autograd import Variable\n",
    "import torch\n",
    "import torch.nn as nn \n",
    "import torch.optim as optim\n",
    "\n",
    "from imblearn.under_sampling import RandomUnderSampler"
   ]
  },
  {
   "cell_type": "code",
   "execution_count": 2,
   "metadata": {
    "collapsed": true
   },
   "outputs": [],
   "source": [
    "filepath = '../data/bitcoinotc-cleaned.csv'\n",
    "data = dataloaders.UnsplitDataset(filepath, ratio=0.8, delimiter=',')"
   ]
  },
  {
   "cell_type": "code",
   "execution_count": 3,
   "metadata": {
    "collapsed": true
   },
   "outputs": [],
   "source": [
    "num_nodes = data.get_num_nodes()\n",
    "dims = 32\n",
    "epochs = 200\n",
    "lr = 0.1\n",
    "lr_decay=0.0\n",
    "weight_decay=0.0\n",
    "lam = 0.00055\n",
    "X_train, y_train = data.get_training_set()\n",
    "X_test, y_test = data.get_testing_set()\n",
    "p = 2"
   ]
  },
  {
   "cell_type": "code",
   "execution_count": 4,
   "metadata": {},
   "outputs": [
    {
     "name": "stdout",
     "output_type": "stream",
     "text": [
      "The loss at epoch  1  was  1.5590450763702393\n",
      "The loss at epoch  2  was  1.4956154823303223\n",
      "The loss at epoch  3  was  1.446141242980957\n",
      "The loss at epoch  4  was  1.3872889280319214\n",
      "The loss at epoch  5  was  1.338585615158081\n",
      "The loss at epoch  6  was  1.2976762056350708\n",
      "The loss at epoch  7  was  1.2577276229858398\n",
      "The loss at epoch  8  was  1.2104427814483643\n",
      "The loss at epoch  9  was  1.1628793478012085\n",
      "The loss at epoch  10  was  1.1245709657669067\n",
      "The loss at epoch  11  was  1.0973206758499146\n",
      "The loss at epoch  12  was  1.0787360668182373\n",
      "The loss at epoch  13  was  1.0557217597961426\n",
      "The loss at epoch  14  was  1.0396438837051392\n",
      "The loss at epoch  15  was  1.0195204019546509\n",
      "The loss at epoch  16  was  1.0052871704101562\n",
      "The loss at epoch  17  was  0.9885675311088562\n",
      "The loss at epoch  18  was  0.9757601022720337\n",
      "The loss at epoch  19  was  0.9618380069732666\n",
      "The loss at epoch  20  was  0.9522594213485718\n",
      "The loss at epoch  21  was  0.9387855529785156\n",
      "The loss at epoch  22  was  0.9292411804199219\n",
      "The loss at epoch  23  was  0.9162997007369995\n",
      "The loss at epoch  24  was  0.9066112637519836\n",
      "The loss at epoch  25  was  0.8947051763534546\n",
      "The loss at epoch  26  was  0.8866976499557495\n",
      "The loss at epoch  27  was  0.8758459091186523\n",
      "The loss at epoch  28  was  0.8676302433013916\n",
      "The loss at epoch  29  was  0.8595389723777771\n",
      "The loss at epoch  30  was  0.8540595769882202\n",
      "The loss at epoch  31  was  0.8438664674758911\n",
      "The loss at epoch  32  was  0.83616042137146\n",
      "The loss at epoch  33  was  0.8282164335250854\n",
      "The loss at epoch  34  was  0.8214262127876282\n",
      "The loss at epoch  35  was  0.8144087195396423\n",
      "The loss at epoch  36  was  0.8074986934661865\n",
      "The loss at epoch  37  was  0.8002997636795044\n",
      "The loss at epoch  38  was  0.7933992147445679\n",
      "The loss at epoch  39  was  0.7862184047698975\n",
      "The loss at epoch  40  was  0.7819383144378662\n",
      "The loss at epoch  41  was  0.7754952907562256\n",
      "The loss at epoch  42  was  0.7704409956932068\n",
      "The loss at epoch  43  was  0.7638241648674011\n",
      "The loss at epoch  44  was  0.7584967017173767\n",
      "The loss at epoch  45  was  0.7526440620422363\n",
      "The loss at epoch  46  was  0.7489159107208252\n",
      "The loss at epoch  47  was  0.7424818277359009\n",
      "The loss at epoch  48  was  0.7389411926269531\n",
      "The loss at epoch  49  was  0.731782853603363\n",
      "The loss at epoch  50  was  0.7289258241653442\n",
      "The loss at epoch  51  was  0.7221406698226929\n",
      "The loss at epoch  52  was  0.7188945412635803\n",
      "The loss at epoch  53  was  0.7138001322746277\n",
      "The loss at epoch  54  was  0.7099855542182922\n",
      "The loss at epoch  55  was  0.7042098641395569\n",
      "The loss at epoch  56  was  0.7008602619171143\n",
      "The loss at epoch  57  was  0.6974239349365234\n",
      "The loss at epoch  58  was  0.6931886076927185\n",
      "The loss at epoch  59  was  0.6889886856079102\n",
      "The loss at epoch  60  was  0.6851158142089844\n",
      "The loss at epoch  61  was  0.6809701323509216\n",
      "The loss at epoch  62  was  0.6778917908668518\n",
      "The loss at epoch  63  was  0.6731890439987183\n",
      "The loss at epoch  64  was  0.6703623533248901\n",
      "The loss at epoch  65  was  0.665729284286499\n",
      "The loss at epoch  66  was  0.6644642353057861\n",
      "The loss at epoch  67  was  0.6595317125320435\n",
      "The loss at epoch  68  was  0.6568243503570557\n",
      "The loss at epoch  69  was  0.6527801752090454\n",
      "The loss at epoch  70  was  0.6509486436843872\n",
      "The loss at epoch  71  was  0.6468626856803894\n",
      "The loss at epoch  72  was  0.6435776948928833\n",
      "The loss at epoch  73  was  0.6411356329917908\n",
      "The loss at epoch  74  was  0.6373403072357178\n",
      "The loss at epoch  75  was  0.6340869665145874\n",
      "The loss at epoch  76  was  0.6317896842956543\n",
      "The loss at epoch  77  was  0.6292147636413574\n",
      "The loss at epoch  78  was  0.6259970664978027\n",
      "The loss at epoch  79  was  0.6235846281051636\n",
      "The loss at epoch  80  was  0.6210199594497681\n",
      "The loss at epoch  81  was  0.6180602312088013\n",
      "The loss at epoch  82  was  0.6148495674133301\n",
      "The loss at epoch  83  was  0.6123709678649902\n",
      "The loss at epoch  84  was  0.6097453236579895\n",
      "The loss at epoch  85  was  0.6074104905128479\n",
      "The loss at epoch  86  was  0.6054679751396179\n",
      "The loss at epoch  87  was  0.6040797233581543\n",
      "The loss at epoch  88  was  0.6012766361236572\n",
      "The loss at epoch  89  was  0.5990067720413208\n",
      "The loss at epoch  90  was  0.5971565842628479\n",
      "The loss at epoch  91  was  0.593367338180542\n",
      "The loss at epoch  92  was  0.5910779237747192\n",
      "The loss at epoch  93  was  0.5887194871902466\n",
      "The loss at epoch  94  was  0.5874719023704529\n",
      "The loss at epoch  95  was  0.5846510529518127\n",
      "The loss at epoch  96  was  0.5834724307060242\n",
      "The loss at epoch  97  was  0.5811341404914856\n",
      "The loss at epoch  98  was  0.5789527893066406\n",
      "The loss at epoch  99  was  0.5772274136543274\n",
      "The loss at epoch  100  was  0.5752507448196411\n",
      "The loss at epoch  101  was  0.5735592842102051\n",
      "The loss at epoch  102  was  0.5712034702301025\n",
      "The loss at epoch  103  was  0.5695617198944092\n",
      "The loss at epoch  104  was  0.5677223801612854\n",
      "The loss at epoch  105  was  0.5659027099609375\n",
      "The loss at epoch  106  was  0.5637856721878052\n",
      "The loss at epoch  107  was  0.5618802309036255\n",
      "The loss at epoch  108  was  0.5609233379364014\n",
      "The loss at epoch  109  was  0.5583436489105225\n",
      "The loss at epoch  110  was  0.5574213266372681\n",
      "The loss at epoch  111  was  0.5553855895996094\n",
      "The loss at epoch  112  was  0.5540714263916016\n",
      "The loss at epoch  113  was  0.5529813170433044\n",
      "The loss at epoch  114  was  0.5516096949577332\n",
      "The loss at epoch  115  was  0.5483861565589905\n",
      "The loss at epoch  116  was  0.5464696884155273\n",
      "The loss at epoch  117  was  0.5455432534217834\n",
      "The loss at epoch  118  was  0.5442705750465393\n",
      "The loss at epoch  119  was  0.5435049533843994\n",
      "The loss at epoch  120  was  0.5415692329406738\n",
      "The loss at epoch  121  was  0.5405958294868469\n",
      "The loss at epoch  122  was  0.5378918051719666\n",
      "The loss at epoch  123  was  0.5371135473251343\n",
      "The loss at epoch  124  was  0.5355653762817383\n",
      "The loss at epoch  125  was  0.5342307090759277\n",
      "The loss at epoch  126  was  0.5326975584030151\n",
      "The loss at epoch  127  was  0.5322102904319763\n",
      "The loss at epoch  128  was  0.531748354434967\n",
      "The loss at epoch  129  was  0.5301030874252319\n",
      "The loss at epoch  130  was  0.5294119119644165\n",
      "The loss at epoch  131  was  0.5281091332435608\n",
      "The loss at epoch  132  was  0.5262650847434998\n",
      "The loss at epoch  133  was  0.5248331427574158\n",
      "The loss at epoch  134  was  0.5235940217971802\n",
      "The loss at epoch  135  was  0.5229349732398987\n",
      "The loss at epoch  136  was  0.5213084816932678\n",
      "The loss at epoch  137  was  0.5202579498291016\n",
      "The loss at epoch  138  was  0.5186952352523804\n",
      "The loss at epoch  139  was  0.5183068513870239\n",
      "The loss at epoch  140  was  0.5163455605506897\n",
      "The loss at epoch  141  was  0.5154736638069153\n",
      "The loss at epoch  142  was  0.5153994560241699\n",
      "The loss at epoch  143  was  0.5136319398880005\n",
      "The loss at epoch  144  was  0.5131438970565796\n",
      "The loss at epoch  145  was  0.5123957991600037\n",
      "The loss at epoch  146  was  0.5112459659576416\n",
      "The loss at epoch  147  was  0.5101504325866699\n",
      "The loss at epoch  148  was  0.5092353820800781\n",
      "The loss at epoch  149  was  0.5087084174156189\n",
      "The loss at epoch  150  was  0.507000207901001\n",
      "The loss at epoch  151  was  0.5060031414031982\n",
      "The loss at epoch  152  was  0.5046507120132446\n",
      "The loss at epoch  153  was  0.5042497515678406\n",
      "The loss at epoch  154  was  0.502918004989624\n",
      "The loss at epoch  155  was  0.5023133754730225\n",
      "The loss at epoch  156  was  0.501380205154419\n",
      "The loss at epoch  157  was  0.5007928013801575\n",
      "The loss at epoch  158  was  0.5000536441802979\n",
      "The loss at epoch  159  was  0.49845796823501587\n",
      "The loss at epoch  160  was  0.49781250953674316\n",
      "The loss at epoch  161  was  0.49651265144348145\n",
      "The loss at epoch  162  was  0.49638354778289795\n",
      "The loss at epoch  163  was  0.4957346022129059\n",
      "The loss at epoch  164  was  0.4949725568294525\n",
      "The loss at epoch  165  was  0.49429112672805786\n",
      "The loss at epoch  166  was  0.49305617809295654\n",
      "The loss at epoch  167  was  0.4930107593536377\n",
      "The loss at epoch  168  was  0.4909670352935791\n",
      "The loss at epoch  169  was  0.49110063910484314\n",
      "The loss at epoch  170  was  0.490405410528183\n",
      "The loss at epoch  171  was  0.4894639551639557\n",
      "The loss at epoch  172  was  0.4894948899745941\n",
      "The loss at epoch  173  was  0.4886494278907776\n",
      "The loss at epoch  174  was  0.48804259300231934\n"
     ]
    },
    {
     "name": "stdout",
     "output_type": "stream",
     "text": [
      "The loss at epoch  175  was  0.4870762825012207\n",
      "The loss at epoch  176  was  0.4867139756679535\n",
      "The loss at epoch  177  was  0.4861244857311249\n",
      "The loss at epoch  178  was  0.48585766553878784\n",
      "The loss at epoch  179  was  0.4845474362373352\n",
      "The loss at epoch  180  was  0.4836742877960205\n",
      "The loss at epoch  181  was  0.48358380794525146\n",
      "The loss at epoch  182  was  0.48203346133232117\n",
      "The loss at epoch  183  was  0.4811708331108093\n",
      "The loss at epoch  184  was  0.480518102645874\n",
      "The loss at epoch  185  was  0.48083972930908203\n",
      "The loss at epoch  186  was  0.4792487323284149\n",
      "The loss at epoch  187  was  0.4793809950351715\n",
      "The loss at epoch  188  was  0.4785274565219879\n",
      "The loss at epoch  189  was  0.47772136330604553\n",
      "The loss at epoch  190  was  0.47727900743484497\n",
      "The loss at epoch  191  was  0.4774092435836792\n",
      "The loss at epoch  192  was  0.4761957824230194\n",
      "The loss at epoch  193  was  0.4754314720630646\n",
      "The loss at epoch  194  was  0.47495314478874207\n",
      "The loss at epoch  195  was  0.47470366954803467\n",
      "The loss at epoch  196  was  0.4736708700656891\n",
      "The loss at epoch  197  was  0.473230242729187\n",
      "The loss at epoch  198  was  0.4726336598396301\n",
      "The loss at epoch  199  was  0.47223421931266785\n",
      "The loss at epoch  200  was  0.4727705419063568\n"
     ]
    }
   ],
   "source": [
    "kernel_model = models.fit_pseudo_kernel_model(num_nodes, dims, X_train, y_train, epochs=epochs, p=p, \n",
    "                                              lr=lr,lr_decay=lr_decay, lam=lam, weight_decay=weight_decay, undersample=True)"
   ]
  },
  {
   "cell_type": "code",
   "execution_count": 5,
   "metadata": {},
   "outputs": [
    {
     "name": "stdout",
     "output_type": "stream",
     "text": [
      "Assembling training set features....\n",
      "Fitting classifier model\n",
      "Assembling testing set features\n"
     ]
    }
   ],
   "source": [
    "clf = linear_model.LogisticRegression()\n",
    "reports = classifiers.train_and_evaluate_classifier(clf, kernel_model, X_train, y_train, X_test, y_test,\n",
    "                                                    operation='concat', undersample=True, ratio=2)"
   ]
  },
  {
   "cell_type": "code",
   "execution_count": 6,
   "metadata": {},
   "outputs": [
    {
     "data": {
      "text/plain": [
       "{'auc': 0.86170610673665793,\n",
       " 'average_percision_score': 0.94690366239968582,\n",
       " 'classification_report': '             precision    recall  f1-score   support\\n\\n          0       0.63      0.64      0.64     23940\\n          1       0.89      0.89      0.89     79375\\n\\navg / total       0.83      0.83      0.83    103315\\n',\n",
       " 'confusion_matrix': array([[15307,  8633],\n",
       "        [ 8824, 70551]]),\n",
       " 'macro_f1': 0.7633759207002162,\n",
       " 'micro_f1': 0.83103131200696889}"
      ]
     },
     "execution_count": 6,
     "metadata": {},
     "output_type": "execute_result"
    }
   ],
   "source": [
    "reports"
   ]
  },
  {
   "cell_type": "code",
   "execution_count": 7,
   "metadata": {},
   "outputs": [
    {
     "name": "stdout",
     "output_type": "stream",
     "text": [
      "0.861706106737\n"
     ]
    }
   ],
   "source": [
    "print(reports['auc'])"
   ]
  },
  {
   "cell_type": "code",
   "execution_count": 8,
   "metadata": {},
   "outputs": [
    {
     "name": "stdout",
     "output_type": "stream",
     "text": [
      "0.831031312007\n"
     ]
    }
   ],
   "source": [
    "print(reports['micro_f1'])"
   ]
  },
  {
   "cell_type": "code",
   "execution_count": 9,
   "metadata": {},
   "outputs": [
    {
     "name": "stdout",
     "output_type": "stream",
     "text": [
      "             precision    recall  f1-score   support\n",
      "\n",
      "          0       0.63      0.64      0.64     23940\n",
      "          1       0.89      0.89      0.89     79375\n",
      "\n",
      "avg / total       0.83      0.83      0.83    103315\n",
      "\n"
     ]
    }
   ],
   "source": [
    "print(reports['classification_report'])"
   ]
  },
  {
   "cell_type": "code",
   "execution_count": 10,
   "metadata": {},
   "outputs": [
    {
     "name": "stdout",
     "output_type": "stream",
     "text": [
      "[[15307  8633]\n",
      " [ 8824 70551]]\n"
     ]
    }
   ],
   "source": [
    "print(reports['confusion_matrix'])"
   ]
  },
  {
   "cell_type": "code",
   "execution_count": 11,
   "metadata": {},
   "outputs": [
    {
     "data": {
      "text/plain": [
       "0.23171853070706094"
      ]
     },
     "execution_count": 11,
     "metadata": {},
     "output_type": "execute_result"
    }
   ],
   "source": [
    "len(y_test[y_test == 0])/len(y_test)"
   ]
  },
  {
   "cell_type": "code",
   "execution_count": 12,
   "metadata": {},
   "outputs": [
    {
     "data": {
      "text/plain": [
       "0.23292116343222186"
      ]
     },
     "execution_count": 12,
     "metadata": {},
     "output_type": "execute_result"
    }
   ],
   "source": [
    "len(y_train[y_train == 0])/len(y_train)"
   ]
  },
  {
   "cell_type": "code",
   "execution_count": 13,
   "metadata": {
    "collapsed": true
   },
   "outputs": [],
   "source": [
    "y = data.y"
   ]
  },
  {
   "cell_type": "code",
   "execution_count": 14,
   "metadata": {},
   "outputs": [
    {
     "data": {
      "text/plain": [
       "0.23268063688718965"
      ]
     },
     "execution_count": 14,
     "metadata": {},
     "output_type": "execute_result"
    }
   ],
   "source": [
    "len(y[y == 0]) / len(y)"
   ]
  },
  {
   "cell_type": "code",
   "execution_count": 15,
   "metadata": {},
   "outputs": [
    {
     "name": "stdout",
     "output_type": "stream",
     "text": [
      "0.7601503759398496\n"
     ]
    }
   ],
   "source": [
    "count = 0.0\n",
    "for x, y in X_test[y_test == 0]:\n",
    "    x = Variable(torch.LongTensor([int(x)]))\n",
    "    y = Variable(torch.LongTensor([int(y)]))\n",
    "    output = kernel_model(x, y).data.numpy()[0]\n",
    "    neg = output[0]\n",
    "    pos = output[1]\n",
    "    count += 1 if neg > pos else 0\n",
    "print(count / len(X_test[y_test == 0]))"
   ]
  },
  {
   "cell_type": "code",
   "execution_count": 16,
   "metadata": {},
   "outputs": [
    {
     "name": "stdout",
     "output_type": "stream",
     "text": [
      "0.8529133858267717\n"
     ]
    }
   ],
   "source": [
    "count = 0.0\n",
    "for x, y in X_test[y_test == 1]:\n",
    "    x = Variable(torch.LongTensor([int(x)]))\n",
    "    y = Variable(torch.LongTensor([int(y)]))\n",
    "    output = kernel_model(x, y).data.numpy()[0]\n",
    "    neg = output[0]\n",
    "    pos = output[1]\n",
    "    count += 1 if neg < pos else 0\n",
    "print(count / len(X_test[y_test == 1]))"
   ]
  },
  {
   "cell_type": "code",
   "execution_count": 17,
   "metadata": {},
   "outputs": [
    {
     "name": "stdout",
     "output_type": "stream",
     "text": [
      "0.7601503759398496\n",
      "0.8529133858267717\n"
     ]
    }
   ],
   "source": [
    "count = 0.0\n",
    "A = []\n",
    "b = []\n",
    "for x, y in X_test[y_test == 0]:\n",
    "    x = Variable(torch.LongTensor([int(x)]))\n",
    "    y = Variable(torch.LongTensor([int(y)]))\n",
    "    output = kernel_model(x, y).data.numpy()[0]\n",
    "    neg = output[0]\n",
    "    pos = output[1]\n",
    "    A.append(pos)\n",
    "    b.append(0)\n",
    "    count += 1 if neg > pos else 0\n",
    "print(count / len(X_test[y_test == 0]))\n",
    "count = 0.0\n",
    "for x, y in X_test[y_test == 1]:\n",
    "    x = Variable(torch.LongTensor([int(x)]))\n",
    "    y = Variable(torch.LongTensor([int(y)]))\n",
    "    output = kernel_model(x, y).data.numpy()[0]\n",
    "    neg = output[0]\n",
    "    pos = output[1]\n",
    "    A.append(pos)\n",
    "    b.append(1)\n",
    "    count += 1 if neg < pos else 0\n",
    "print(count / len(X_test[y_test == 1]))"
   ]
  },
  {
   "cell_type": "code",
   "execution_count": 18,
   "metadata": {},
   "outputs": [
    {
     "data": {
      "text/plain": [
       "0.86365012320828316"
      ]
     },
     "execution_count": 18,
     "metadata": {},
     "output_type": "execute_result"
    }
   ],
   "source": [
    "metrics.roc_auc_score(b, A)"
   ]
  },
  {
   "cell_type": "code",
   "execution_count": 20,
   "metadata": {
    "collapsed": true
   },
   "outputs": [],
   "source": [
    "from scipy.spatial import distance"
   ]
  },
  {
   "cell_type": "code",
   "execution_count": 31,
   "metadata": {
    "collapsed": true
   },
   "outputs": [],
   "source": [
    "dist_met = distance.euclidean"
   ]
  },
  {
   "cell_type": "code",
   "execution_count": 32,
   "metadata": {},
   "outputs": [
    {
     "name": "stdout",
     "output_type": "stream",
     "text": [
      "5.41690816198\n",
      "6.65625353608\n"
     ]
    }
   ],
   "source": [
    "pos_distances = []\n",
    "for x, y in X_train[y_train == 1]:\n",
    "    x_emb = kernel_model.get_embedding(x)\n",
    "    y_emb = kernel_model.get_embedding(y)\n",
    "    pos_distances.append(dist_met(x_emb, y_emb))\n",
    "    \n",
    "neg_distances = []\n",
    "for x, y in X_train[y_train == 0]:\n",
    "    x_emb = kernel_model.get_embedding(x)\n",
    "    y_emb = kernel_model.get_embedding(y)\n",
    "    neg_distances.append(dist_met(x_emb, y_emb))\n",
    "    \n",
    "print(np.mean(pos_distances))\n",
    "print(np.mean(neg_distances))"
   ]
  },
  {
   "cell_type": "code",
   "execution_count": 33,
   "metadata": {},
   "outputs": [
    {
     "name": "stdout",
     "output_type": "stream",
     "text": [
      "3.11624376136\n",
      "2.82529433645\n"
     ]
    }
   ],
   "source": [
    "print(np.std(pos_distances))\n",
    "print(np.std(neg_distances))"
   ]
  },
  {
   "cell_type": "code",
   "execution_count": 34,
   "metadata": {},
   "outputs": [
    {
     "name": "stdout",
     "output_type": "stream",
     "text": [
      "5.38336331667\n",
      "6.62175926003\n"
     ]
    }
   ],
   "source": [
    "pos_distances1 = []\n",
    "for x, y in X_test[y_test == 1]:\n",
    "    x_emb = kernel_model.get_embedding(x)\n",
    "    y_emb = kernel_model.get_embedding(y)\n",
    "    pos_distances1.append(dist_met(x_emb, y_emb))\n",
    "    \n",
    "neg_distances1 = []\n",
    "for x, y in X_test[y_test == 0]:\n",
    "    x_emb = kernel_model.get_embedding(x)\n",
    "    y_emb = kernel_model.get_embedding(y)\n",
    "    neg_distances1.append(dist_met(x_emb, y_emb))\n",
    "    \n",
    "print(np.mean(pos_distances1))\n",
    "print(np.mean(neg_distances1))"
   ]
  },
  {
   "cell_type": "code",
   "execution_count": 35,
   "metadata": {},
   "outputs": [
    {
     "name": "stdout",
     "output_type": "stream",
     "text": [
      "3.11565370537\n",
      "2.8730274542\n"
     ]
    }
   ],
   "source": [
    "print(np.std(pos_distances1))\n",
    "print(np.std(neg_distances1))"
   ]
  },
  {
   "cell_type": "code",
   "execution_count": 36,
   "metadata": {
    "collapsed": true
   },
   "outputs": [],
   "source": [
    "from scipy import stats"
   ]
  },
  {
   "cell_type": "code",
   "execution_count": 37,
   "metadata": {},
   "outputs": [
    {
     "data": {
      "text/plain": [
       "Ks_2sampResult(statistic=0.19805813801614713, pvalue=0.0)"
      ]
     },
     "execution_count": 37,
     "metadata": {},
     "output_type": "execute_result"
    }
   ],
   "source": [
    "stats.ks_2samp(pos_distances, neg_distances)"
   ]
  },
  {
   "cell_type": "code",
   "execution_count": 38,
   "metadata": {},
   "outputs": [
    {
     "data": {
      "text/plain": [
       "Ks_2sampResult(statistic=0.19507443937928814, pvalue=0.0)"
      ]
     },
     "execution_count": 38,
     "metadata": {},
     "output_type": "execute_result"
    }
   ],
   "source": [
    "stats.ks_2samp(pos_distances1, neg_distances1)"
   ]
  },
  {
   "cell_type": "code",
   "execution_count": 19,
   "metadata": {
    "collapsed": true
   },
   "outputs": [],
   "source": [
    "class EnergyToProbsLayer(nn.Module):\n",
    "    def __init__(self):\n",
    "        super(EnergyToProbsLayer, self).__init__()\n",
    "        self.transform = nn.Sigmoid()\n",
    "    def forward(self, x):\n",
    "        ones = torch.ones_like(x)\n",
    "        positive_prob = self.transform(x)\n",
    "        negative_prob = ones - positive_prob\n",
    "        output = torch.cat((negative_prob, positive_prob), dim=1)\n",
    "        #output = torch.log(output)\n",
    "        return output\n",
    "        \n",
    "\n",
    "class BilinearEmbeddingModel(nn.Module):\n",
    "    def __init__(self, num_nodes, dims=128):\n",
    "        super(BilinearEmbeddingModel, self).__init__()\n",
    "        self.embeddings = nn.Embedding(num_nodes + 1, dims)\n",
    "        self.initial_layer = nn.Linear(dims, int(dims/2))\n",
    "        self.initial_transform = nn.ReLU()\n",
    "        self.layer = nn.Bilinear(int(dims/2), int(dims/2), 1)\n",
    "        self.transform_layer= EnergyToProbsLayer()\n",
    "    \n",
    "    def get_embedding(self, x):\n",
    "        x = Variable(torch.LongTensor([x]))\n",
    "        emb = self.embeddings(x)\n",
    "        transformed = self.initial_layer(emb)\n",
    "        emb = transformed.data.numpy()[0]\n",
    "        return emb\n",
    "\n",
    "        \n",
    "    def forward(self, u, v):\n",
    "        u_emb = self.embeddings(u)\n",
    "        v_emb = self.embeddings(v)\n",
    "        u_emb = self.initial_transform(self.initial_layer(u_emb))\n",
    "        v_emb = self.initial_transform(self.initial_layer(v_emb))\n",
    "        energy = self.layer(u_emb, v_emb)\n",
    "        probs = self.transform_layer(energy)\n",
    "        return probs"
   ]
  },
  {
   "cell_type": "code",
   "execution_count": 257,
   "metadata": {
    "collapsed": true
   },
   "outputs": [],
   "source": [
    "X_train_pos = X_train[y_train == 1]\n",
    "X_train_neg = X_train[y_train == 0]"
   ]
  },
  {
   "cell_type": "code",
   "execution_count": 258,
   "metadata": {},
   "outputs": [
    {
     "data": {
      "text/plain": [
       "-25622"
      ]
     },
     "execution_count": 258,
     "metadata": {},
     "output_type": "execute_result"
    }
   ],
   "source": [
    "len(X_train_neg) - len(X_train_pos)"
   ]
  },
  {
   "cell_type": "code",
   "execution_count": 259,
   "metadata": {},
   "outputs": [
    {
     "name": "stdout",
     "output_type": "stream",
     "text": [
      "5881\n"
     ]
    }
   ],
   "source": [
    "batch_frac = 0.1\n",
    "epochs = 200\n",
    "alpha = 0.7\n",
    "dim = 32\n",
    "beta = 0.1\n",
    "size = data.get_num_nodes()\n",
    "print(size)\n",
    "model = BilinearEmbeddingModel(size, dim)\n",
    "optimizer = optim.Adagrad(model.parameters(), lr=alpha, lr_decay=beta)\n",
    "lam = 0.0055"
   ]
  },
  {
   "cell_type": "code",
   "execution_count": 260,
   "metadata": {},
   "outputs": [
    {
     "name": "stdout",
     "output_type": "stream",
     "text": [
      "3205\n",
      "2564\n"
     ]
    }
   ],
   "source": [
    "negative_batch_size = len(X_train_neg)\n",
    "positive_batch_size = int(0.8 * negative_batch_size)\n",
    "num_positive = len(X_train_pos)\n",
    "\n",
    "\n",
    "criterion = nn.CrossEntropyLoss(size_average=True)\n",
    "regularizer = lambda x: torch.norm(x - torch.zeros_like(x))\n",
    "print(negative_batch_size)\n",
    "print(positive_batch_size)"
   ]
  },
  {
   "cell_type": "code",
   "execution_count": 261,
   "metadata": {},
   "outputs": [
    {
     "name": "stdout",
     "output_type": "stream",
     "text": [
      "Loss at iteration  0  is  \n",
      " 3.1082\n",
      "[torch.FloatTensor of size 1]\n",
      "\n",
      "Loss at iteration  1  is  \n",
      " 2.4626\n",
      "[torch.FloatTensor of size 1]\n",
      "\n",
      "Loss at iteration  2  is  \n",
      " 1.7610\n",
      "[torch.FloatTensor of size 1]\n",
      "\n",
      "Loss at iteration  3  is  \n",
      " 1.3609\n",
      "[torch.FloatTensor of size 1]\n",
      "\n",
      "Loss at iteration  4  is  \n",
      " 1.4519\n",
      "[torch.FloatTensor of size 1]\n",
      "\n",
      "Loss at iteration  5  is  \n",
      " 1.2471\n",
      "[torch.FloatTensor of size 1]\n",
      "\n",
      "Loss at iteration  6  is  \n",
      " 1.1656\n",
      "[torch.FloatTensor of size 1]\n",
      "\n",
      "Loss at iteration  7  is  \n",
      " 1.0918\n",
      "[torch.FloatTensor of size 1]\n",
      "\n",
      "Loss at iteration  8  is  \n",
      " 1.0441\n",
      "[torch.FloatTensor of size 1]\n",
      "\n",
      "Loss at iteration  9  is  \n",
      " 0.9981\n",
      "[torch.FloatTensor of size 1]\n",
      "\n",
      "Loss at iteration  10  is  \n",
      " 0.9836\n",
      "[torch.FloatTensor of size 1]\n",
      "\n",
      "Loss at iteration  11  is  \n",
      " 0.9513\n",
      "[torch.FloatTensor of size 1]\n",
      "\n",
      "Loss at iteration  12  is  \n",
      " 0.9050\n",
      "[torch.FloatTensor of size 1]\n",
      "\n",
      "Loss at iteration  13  is  \n",
      " 0.8665\n",
      "[torch.FloatTensor of size 1]\n",
      "\n",
      "Loss at iteration  14  is  \n",
      " 0.8369\n",
      "[torch.FloatTensor of size 1]\n",
      "\n",
      "Loss at iteration  15  is  \n",
      " 0.8063\n",
      "[torch.FloatTensor of size 1]\n",
      "\n",
      "Loss at iteration  16  is  \n",
      " 0.7851\n",
      "[torch.FloatTensor of size 1]\n",
      "\n",
      "Loss at iteration  17  is  \n",
      " 0.7630\n",
      "[torch.FloatTensor of size 1]\n",
      "\n",
      "Loss at iteration  18  is  \n",
      " 0.7481\n",
      "[torch.FloatTensor of size 1]\n",
      "\n",
      "Loss at iteration  19  is  \n",
      " 0.7314\n",
      "[torch.FloatTensor of size 1]\n",
      "\n",
      "Loss at iteration  20  is  \n",
      " 0.7142\n",
      "[torch.FloatTensor of size 1]\n",
      "\n",
      "Loss at iteration  21  is  \n",
      " 0.7007\n",
      "[torch.FloatTensor of size 1]\n",
      "\n",
      "Loss at iteration  22  is  \n",
      " 0.6978\n",
      "[torch.FloatTensor of size 1]\n",
      "\n",
      "Loss at iteration  23  is  \n",
      " 0.6823\n",
      "[torch.FloatTensor of size 1]\n",
      "\n",
      "Loss at iteration  24  is  \n",
      " 0.6741\n",
      "[torch.FloatTensor of size 1]\n",
      "\n",
      "Loss at iteration  25  is  \n",
      " 0.6679\n",
      "[torch.FloatTensor of size 1]\n",
      "\n",
      "Loss at iteration  26  is  \n",
      " 0.6628\n",
      "[torch.FloatTensor of size 1]\n",
      "\n",
      "Loss at iteration  27  is  \n",
      " 0.6590\n",
      "[torch.FloatTensor of size 1]\n",
      "\n",
      "Loss at iteration  28  is  \n",
      " 0.6492\n",
      "[torch.FloatTensor of size 1]\n",
      "\n",
      "Loss at iteration  29  is  \n",
      " 0.6385\n",
      "[torch.FloatTensor of size 1]\n",
      "\n",
      "Loss at iteration  30  is  \n",
      " 0.6292\n",
      "[torch.FloatTensor of size 1]\n",
      "\n",
      "Loss at iteration  31  is  \n",
      " 0.6263\n",
      "[torch.FloatTensor of size 1]\n",
      "\n",
      "Loss at iteration  32  is  \n",
      " 0.6232\n",
      "[torch.FloatTensor of size 1]\n",
      "\n",
      "Loss at iteration  33  is  \n",
      " 0.6148\n",
      "[torch.FloatTensor of size 1]\n",
      "\n",
      "Loss at iteration  34  is  \n",
      " 0.6156\n",
      "[torch.FloatTensor of size 1]\n",
      "\n",
      "Loss at iteration  35  is  \n",
      " 0.6042\n",
      "[torch.FloatTensor of size 1]\n",
      "\n",
      "Loss at iteration  36  is  \n",
      " 0.5991\n",
      "[torch.FloatTensor of size 1]\n",
      "\n",
      "Loss at iteration  37  is  \n",
      " 0.5953\n",
      "[torch.FloatTensor of size 1]\n",
      "\n",
      "Loss at iteration  38  is  \n",
      " 0.5904\n",
      "[torch.FloatTensor of size 1]\n",
      "\n",
      "Loss at iteration  39  is  \n",
      " 0.5849\n",
      "[torch.FloatTensor of size 1]\n",
      "\n",
      "Loss at iteration  40  is  \n",
      " 0.5808\n",
      "[torch.FloatTensor of size 1]\n",
      "\n",
      "Loss at iteration  41  is  \n",
      " 0.5754\n",
      "[torch.FloatTensor of size 1]\n",
      "\n",
      "Loss at iteration  42  is  \n",
      " 0.5722\n",
      "[torch.FloatTensor of size 1]\n",
      "\n",
      "Loss at iteration  43  is  \n",
      " 0.5696\n",
      "[torch.FloatTensor of size 1]\n",
      "\n",
      "Loss at iteration  44  is  \n",
      " 0.5632\n",
      "[torch.FloatTensor of size 1]\n",
      "\n",
      "Loss at iteration  45  is  \n",
      " 0.5613\n",
      "[torch.FloatTensor of size 1]\n",
      "\n",
      "Loss at iteration  46  is  \n",
      " 0.5567\n",
      "[torch.FloatTensor of size 1]\n",
      "\n",
      "Loss at iteration  47  is  \n",
      " 0.5560\n",
      "[torch.FloatTensor of size 1]\n",
      "\n",
      "Loss at iteration  48  is  \n",
      " 0.5539\n",
      "[torch.FloatTensor of size 1]\n",
      "\n",
      "Loss at iteration  49  is  \n",
      " 0.5535\n",
      "[torch.FloatTensor of size 1]\n",
      "\n",
      "Loss at iteration  50  is  \n",
      " 0.5515\n",
      "[torch.FloatTensor of size 1]\n",
      "\n",
      "Loss at iteration  51  is  \n",
      " 0.5496\n",
      "[torch.FloatTensor of size 1]\n",
      "\n",
      "Loss at iteration  52  is  \n",
      " 0.5469\n",
      "[torch.FloatTensor of size 1]\n",
      "\n",
      "Loss at iteration  53  is  \n",
      " 0.5416\n",
      "[torch.FloatTensor of size 1]\n",
      "\n",
      "Loss at iteration  54  is  \n",
      " 0.5348\n",
      "[torch.FloatTensor of size 1]\n",
      "\n",
      "Loss at iteration  55  is  \n",
      " 0.5325\n",
      "[torch.FloatTensor of size 1]\n",
      "\n",
      "Loss at iteration  56  is  \n",
      " 0.5302\n",
      "[torch.FloatTensor of size 1]\n",
      "\n",
      "Loss at iteration  57  is  \n",
      " 0.5267\n",
      "[torch.FloatTensor of size 1]\n",
      "\n",
      "Loss at iteration  58  is  \n",
      " 0.5265\n",
      "[torch.FloatTensor of size 1]\n",
      "\n",
      "Loss at iteration  59  is  \n",
      " 0.5242\n",
      "[torch.FloatTensor of size 1]\n",
      "\n",
      "Loss at iteration  60  is  \n",
      " 0.5209\n",
      "[torch.FloatTensor of size 1]\n",
      "\n",
      "Loss at iteration  61  is  \n",
      " 0.5230\n",
      "[torch.FloatTensor of size 1]\n",
      "\n",
      "Loss at iteration  62  is  \n",
      " 0.5227\n",
      "[torch.FloatTensor of size 1]\n",
      "\n",
      "Loss at iteration  63  is  \n",
      " 0.5234\n",
      "[torch.FloatTensor of size 1]\n",
      "\n",
      "Loss at iteration  64  is  \n",
      " 0.5252\n",
      "[torch.FloatTensor of size 1]\n",
      "\n",
      "Loss at iteration  65  is  \n",
      " 0.5179\n",
      "[torch.FloatTensor of size 1]\n",
      "\n",
      "Loss at iteration  66  is  \n",
      " 0.5157\n",
      "[torch.FloatTensor of size 1]\n",
      "\n",
      "Loss at iteration  67  is  \n",
      " 0.5118\n",
      "[torch.FloatTensor of size 1]\n",
      "\n",
      "Loss at iteration  68  is  \n",
      " 0.5102\n",
      "[torch.FloatTensor of size 1]\n",
      "\n",
      "Loss at iteration  69  is  \n",
      " 0.5096\n",
      "[torch.FloatTensor of size 1]\n",
      "\n",
      "Loss at iteration  70  is  \n",
      " 0.5087\n",
      "[torch.FloatTensor of size 1]\n",
      "\n",
      "Loss at iteration  71  is  \n",
      " 0.5077\n",
      "[torch.FloatTensor of size 1]\n",
      "\n",
      "Loss at iteration  72  is  \n",
      " 0.5098\n",
      "[torch.FloatTensor of size 1]\n",
      "\n",
      "Loss at iteration  73  is  \n",
      " 0.5090\n",
      "[torch.FloatTensor of size 1]\n",
      "\n",
      "Loss at iteration  74  is  \n",
      " 0.5131\n",
      "[torch.FloatTensor of size 1]\n",
      "\n",
      "Loss at iteration  75  is  \n",
      " 0.5083\n",
      "[torch.FloatTensor of size 1]\n",
      "\n",
      "Loss at iteration  76  is  \n",
      " 0.5076\n",
      "[torch.FloatTensor of size 1]\n",
      "\n",
      "Loss at iteration  77  is  \n",
      " 0.5034\n",
      "[torch.FloatTensor of size 1]\n",
      "\n",
      "Loss at iteration  78  is  \n",
      " 0.5010\n",
      "[torch.FloatTensor of size 1]\n",
      "\n",
      "Loss at iteration  79  is  \n",
      " 0.5034\n",
      "[torch.FloatTensor of size 1]\n",
      "\n",
      "Loss at iteration  80  is  \n",
      " 0.5017\n",
      "[torch.FloatTensor of size 1]\n",
      "\n",
      "Loss at iteration  81  is  \n",
      " 0.4990\n",
      "[torch.FloatTensor of size 1]\n",
      "\n",
      "Loss at iteration  82  is  \n",
      " 0.5009\n",
      "[torch.FloatTensor of size 1]\n",
      "\n",
      "Loss at iteration  83  is  \n",
      " 0.5010\n",
      "[torch.FloatTensor of size 1]\n",
      "\n",
      "Loss at iteration  84  is  \n",
      " 0.5013\n",
      "[torch.FloatTensor of size 1]\n",
      "\n",
      "Loss at iteration  85  is  \n",
      " 0.4998\n",
      "[torch.FloatTensor of size 1]\n",
      "\n",
      "Loss at iteration  86  is  \n",
      " 0.4980\n",
      "[torch.FloatTensor of size 1]\n",
      "\n",
      "Loss at iteration  87  is  \n",
      " 0.5007\n",
      "[torch.FloatTensor of size 1]\n",
      "\n",
      "Loss at iteration  88  is  \n",
      " 0.5002\n",
      "[torch.FloatTensor of size 1]\n",
      "\n",
      "Loss at iteration  89  is  \n",
      " 0.4976\n",
      "[torch.FloatTensor of size 1]\n",
      "\n",
      "Loss at iteration  90  is  \n",
      " 0.4982\n",
      "[torch.FloatTensor of size 1]\n",
      "\n",
      "Loss at iteration  91  is  \n",
      " 0.4971\n",
      "[torch.FloatTensor of size 1]\n",
      "\n",
      "Loss at iteration  92  is  \n",
      " 0.4945\n",
      "[torch.FloatTensor of size 1]\n",
      "\n",
      "Loss at iteration  93  is  \n",
      " 0.4958\n",
      "[torch.FloatTensor of size 1]\n",
      "\n",
      "Loss at iteration  94  is  \n",
      " 0.4916\n",
      "[torch.FloatTensor of size 1]\n",
      "\n",
      "Loss at iteration  95  is  \n",
      " 0.4947\n",
      "[torch.FloatTensor of size 1]\n",
      "\n",
      "Loss at iteration  96  is  \n",
      " 0.4932\n",
      "[torch.FloatTensor of size 1]\n",
      "\n",
      "Loss at iteration  97  is  \n",
      " 0.4927\n",
      "[torch.FloatTensor of size 1]\n",
      "\n",
      "Loss at iteration  98  is  \n",
      " 0.4926\n",
      "[torch.FloatTensor of size 1]\n",
      "\n",
      "Loss at iteration  99  is  \n",
      " 0.4952\n",
      "[torch.FloatTensor of size 1]\n",
      "\n",
      "Loss at iteration  100  is  \n",
      " 0.4923\n",
      "[torch.FloatTensor of size 1]\n",
      "\n",
      "Loss at iteration  101  is  \n",
      " 0.4947\n",
      "[torch.FloatTensor of size 1]\n",
      "\n",
      "Loss at iteration  102  is  \n",
      " 0.4912\n",
      "[torch.FloatTensor of size 1]\n",
      "\n",
      "Loss at iteration  103  is  \n",
      " 0.4947\n",
      "[torch.FloatTensor of size 1]\n",
      "\n",
      "Loss at iteration  104  is  \n",
      " 0.4926\n",
      "[torch.FloatTensor of size 1]\n",
      "\n",
      "Loss at iteration  105  is  \n",
      " 0.4907\n",
      "[torch.FloatTensor of size 1]\n",
      "\n",
      "Loss at iteration  106  is  \n",
      " 0.4905\n",
      "[torch.FloatTensor of size 1]\n",
      "\n",
      "Loss at iteration  107  is  \n",
      " 0.4902\n",
      "[torch.FloatTensor of size 1]\n",
      "\n",
      "Loss at iteration  108  is  \n",
      " 0.4899\n",
      "[torch.FloatTensor of size 1]\n",
      "\n",
      "Loss at iteration  109  is  \n",
      " 0.4907\n",
      "[torch.FloatTensor of size 1]\n",
      "\n",
      "Loss at iteration  110  is  \n",
      " 0.4894\n",
      "[torch.FloatTensor of size 1]\n",
      "\n",
      "Loss at iteration  111  is  \n",
      " 0.4896\n",
      "[torch.FloatTensor of size 1]\n",
      "\n",
      "Loss at iteration  112  is  \n",
      " 0.4917\n",
      "[torch.FloatTensor of size 1]\n",
      "\n",
      "Loss at iteration  113  is  \n",
      " 0.4909\n",
      "[torch.FloatTensor of size 1]\n",
      "\n",
      "Loss at iteration  114  is  \n",
      " 0.4883\n",
      "[torch.FloatTensor of size 1]\n",
      "\n",
      "Loss at iteration  115  is  \n",
      " 0.4842\n",
      "[torch.FloatTensor of size 1]\n",
      "\n",
      "Loss at iteration  116  is  \n",
      " 0.4872\n",
      "[torch.FloatTensor of size 1]\n",
      "\n",
      "Loss at iteration  117  is  \n",
      " 0.4847\n",
      "[torch.FloatTensor of size 1]\n",
      "\n",
      "Loss at iteration  118  is  \n",
      " 0.4838\n",
      "[torch.FloatTensor of size 1]\n",
      "\n",
      "Loss at iteration  119  is  \n",
      " 0.4860\n",
      "[torch.FloatTensor of size 1]\n",
      "\n",
      "Loss at iteration  120  is  \n",
      " 0.4842\n",
      "[torch.FloatTensor of size 1]\n",
      "\n",
      "Loss at iteration  121  is  \n",
      " 0.4860\n",
      "[torch.FloatTensor of size 1]\n",
      "\n",
      "Loss at iteration  122  is  \n",
      " 0.4835\n",
      "[torch.FloatTensor of size 1]\n",
      "\n",
      "Loss at iteration  123  is  \n",
      " 0.4830\n",
      "[torch.FloatTensor of size 1]\n",
      "\n",
      "Loss at iteration  124  is  \n",
      " 0.4850\n",
      "[torch.FloatTensor of size 1]\n",
      "\n",
      "Loss at iteration  125  is  \n",
      " 0.4814\n",
      "[torch.FloatTensor of size 1]\n",
      "\n"
     ]
    },
    {
     "name": "stdout",
     "output_type": "stream",
     "text": [
      "Loss at iteration  126  is  \n",
      " 0.4825\n",
      "[torch.FloatTensor of size 1]\n",
      "\n",
      "Loss at iteration  127  is  \n",
      " 0.4871\n",
      "[torch.FloatTensor of size 1]\n",
      "\n",
      "Loss at iteration  128  is  \n",
      " 0.4828\n",
      "[torch.FloatTensor of size 1]\n",
      "\n",
      "Loss at iteration  129  is  \n",
      " 0.4860\n",
      "[torch.FloatTensor of size 1]\n",
      "\n",
      "Loss at iteration  130  is  \n",
      " 0.4814\n",
      "[torch.FloatTensor of size 1]\n",
      "\n",
      "Loss at iteration  131  is  \n",
      " 0.4851\n",
      "[torch.FloatTensor of size 1]\n",
      "\n",
      "Loss at iteration  132  is  \n",
      " 0.4836\n",
      "[torch.FloatTensor of size 1]\n",
      "\n",
      "Loss at iteration  133  is  \n",
      " 0.4808\n",
      "[torch.FloatTensor of size 1]\n",
      "\n",
      "Loss at iteration  134  is  \n",
      " 0.4819\n",
      "[torch.FloatTensor of size 1]\n",
      "\n",
      "Loss at iteration  135  is  \n",
      " 0.4827\n",
      "[torch.FloatTensor of size 1]\n",
      "\n",
      "Loss at iteration  136  is  \n",
      " 0.4815\n",
      "[torch.FloatTensor of size 1]\n",
      "\n",
      "Loss at iteration  137  is  \n",
      " 0.4833\n",
      "[torch.FloatTensor of size 1]\n",
      "\n",
      "Loss at iteration  138  is  \n",
      " 0.4833\n",
      "[torch.FloatTensor of size 1]\n",
      "\n",
      "Loss at iteration  139  is  \n",
      " 0.4823\n",
      "[torch.FloatTensor of size 1]\n",
      "\n",
      "Loss at iteration  140  is  \n",
      " 0.4820\n",
      "[torch.FloatTensor of size 1]\n",
      "\n",
      "Loss at iteration  141  is  \n",
      " 0.4833\n",
      "[torch.FloatTensor of size 1]\n",
      "\n",
      "Loss at iteration  142  is  \n",
      " 0.4822\n",
      "[torch.FloatTensor of size 1]\n",
      "\n",
      "Loss at iteration  143  is  \n",
      " 0.4841\n",
      "[torch.FloatTensor of size 1]\n",
      "\n",
      "Loss at iteration  144  is  \n",
      " 0.4845\n",
      "[torch.FloatTensor of size 1]\n",
      "\n",
      "Loss at iteration  145  is  \n",
      " 0.4823\n",
      "[torch.FloatTensor of size 1]\n",
      "\n",
      "Loss at iteration  146  is  \n",
      " 0.4796\n",
      "[torch.FloatTensor of size 1]\n",
      "\n",
      "Loss at iteration  147  is  \n",
      " 0.4834\n",
      "[torch.FloatTensor of size 1]\n",
      "\n",
      "Loss at iteration  148  is  \n",
      " 0.4795\n",
      "[torch.FloatTensor of size 1]\n",
      "\n",
      "Loss at iteration  149  is  \n",
      " 0.4802\n",
      "[torch.FloatTensor of size 1]\n",
      "\n",
      "Loss at iteration  150  is  \n",
      " 0.4835\n",
      "[torch.FloatTensor of size 1]\n",
      "\n",
      "Loss at iteration  151  is  \n",
      " 0.4805\n",
      "[torch.FloatTensor of size 1]\n",
      "\n",
      "Loss at iteration  152  is  \n",
      " 0.4813\n",
      "[torch.FloatTensor of size 1]\n",
      "\n",
      "Loss at iteration  153  is  \n",
      " 0.4813\n",
      "[torch.FloatTensor of size 1]\n",
      "\n",
      "Loss at iteration  154  is  \n",
      " 0.4815\n",
      "[torch.FloatTensor of size 1]\n",
      "\n",
      "Loss at iteration  155  is  \n",
      " 0.4789\n",
      "[torch.FloatTensor of size 1]\n",
      "\n",
      "Loss at iteration  156  is  \n",
      " 0.4778\n",
      "[torch.FloatTensor of size 1]\n",
      "\n",
      "Loss at iteration  157  is  \n",
      " 0.4808\n",
      "[torch.FloatTensor of size 1]\n",
      "\n",
      "Loss at iteration  158  is  \n",
      " 0.4814\n",
      "[torch.FloatTensor of size 1]\n",
      "\n",
      "Loss at iteration  159  is  \n",
      " 0.4778\n",
      "[torch.FloatTensor of size 1]\n",
      "\n",
      "Loss at iteration  160  is  \n",
      " 0.4782\n",
      "[torch.FloatTensor of size 1]\n",
      "\n",
      "Loss at iteration  161  is  \n",
      " 0.4795\n",
      "[torch.FloatTensor of size 1]\n",
      "\n",
      "Loss at iteration  162  is  \n",
      " 0.4796\n",
      "[torch.FloatTensor of size 1]\n",
      "\n",
      "Loss at iteration  163  is  \n",
      " 0.4795\n",
      "[torch.FloatTensor of size 1]\n",
      "\n",
      "Loss at iteration  164  is  \n",
      " 0.4798\n",
      "[torch.FloatTensor of size 1]\n",
      "\n",
      "Loss at iteration  165  is  \n",
      " 0.4819\n",
      "[torch.FloatTensor of size 1]\n",
      "\n",
      "Loss at iteration  166  is  \n",
      " 0.4786\n",
      "[torch.FloatTensor of size 1]\n",
      "\n",
      "Loss at iteration  167  is  \n",
      " 0.4807\n",
      "[torch.FloatTensor of size 1]\n",
      "\n",
      "Loss at iteration  168  is  \n",
      " 0.4812\n",
      "[torch.FloatTensor of size 1]\n",
      "\n",
      "Loss at iteration  169  is  \n",
      " 0.4795\n",
      "[torch.FloatTensor of size 1]\n",
      "\n",
      "Loss at iteration  170  is  \n",
      " 0.4778\n",
      "[torch.FloatTensor of size 1]\n",
      "\n",
      "Loss at iteration  171  is  \n",
      " 0.4780\n",
      "[torch.FloatTensor of size 1]\n",
      "\n",
      "Loss at iteration  172  is  \n",
      " 0.4804\n",
      "[torch.FloatTensor of size 1]\n",
      "\n",
      "Loss at iteration  173  is  \n",
      " 0.4772\n",
      "[torch.FloatTensor of size 1]\n",
      "\n",
      "Loss at iteration  174  is  \n",
      " 0.4782\n",
      "[torch.FloatTensor of size 1]\n",
      "\n",
      "Loss at iteration  175  is  \n",
      " 0.4776\n",
      "[torch.FloatTensor of size 1]\n",
      "\n",
      "Loss at iteration  176  is  \n",
      " 0.4787\n",
      "[torch.FloatTensor of size 1]\n",
      "\n",
      "Loss at iteration  177  is  \n",
      " 0.4752\n",
      "[torch.FloatTensor of size 1]\n",
      "\n",
      "Loss at iteration  178  is  \n",
      " 0.4763\n",
      "[torch.FloatTensor of size 1]\n",
      "\n",
      "Loss at iteration  179  is  \n",
      " 0.4789\n",
      "[torch.FloatTensor of size 1]\n",
      "\n",
      "Loss at iteration  180  is  \n",
      " 0.4772\n",
      "[torch.FloatTensor of size 1]\n",
      "\n",
      "Loss at iteration  181  is  \n",
      " 0.4776\n",
      "[torch.FloatTensor of size 1]\n",
      "\n",
      "Loss at iteration  182  is  \n",
      " 0.4761\n",
      "[torch.FloatTensor of size 1]\n",
      "\n",
      "Loss at iteration  183  is  \n",
      " 0.4788\n",
      "[torch.FloatTensor of size 1]\n",
      "\n",
      "Loss at iteration  184  is  \n",
      " 0.4773\n",
      "[torch.FloatTensor of size 1]\n",
      "\n",
      "Loss at iteration  185  is  \n",
      " 0.4793\n",
      "[torch.FloatTensor of size 1]\n",
      "\n",
      "Loss at iteration  186  is  \n",
      " 0.4758\n",
      "[torch.FloatTensor of size 1]\n",
      "\n",
      "Loss at iteration  187  is  \n",
      " 0.4816\n",
      "[torch.FloatTensor of size 1]\n",
      "\n",
      "Loss at iteration  188  is  \n",
      " 0.4765\n",
      "[torch.FloatTensor of size 1]\n",
      "\n",
      "Loss at iteration  189  is  \n",
      " 0.4803\n",
      "[torch.FloatTensor of size 1]\n",
      "\n",
      "Loss at iteration  190  is  \n",
      " 0.4779\n",
      "[torch.FloatTensor of size 1]\n",
      "\n",
      "Loss at iteration  191  is  \n",
      " 0.4781\n",
      "[torch.FloatTensor of size 1]\n",
      "\n",
      "Loss at iteration  192  is  \n",
      " 0.4789\n",
      "[torch.FloatTensor of size 1]\n",
      "\n",
      "Loss at iteration  193  is  \n",
      " 0.4767\n",
      "[torch.FloatTensor of size 1]\n",
      "\n",
      "Loss at iteration  194  is  \n",
      " 0.4773\n",
      "[torch.FloatTensor of size 1]\n",
      "\n",
      "Loss at iteration  195  is  \n",
      " 0.4778\n",
      "[torch.FloatTensor of size 1]\n",
      "\n",
      "Loss at iteration  196  is  \n",
      " 0.4759\n",
      "[torch.FloatTensor of size 1]\n",
      "\n",
      "Loss at iteration  197  is  \n",
      " 0.4741\n",
      "[torch.FloatTensor of size 1]\n",
      "\n",
      "Loss at iteration  198  is  \n",
      " 0.4761\n",
      "[torch.FloatTensor of size 1]\n",
      "\n",
      "Loss at iteration  199  is  \n",
      " 0.4752\n",
      "[torch.FloatTensor of size 1]\n",
      "\n"
     ]
    }
   ],
   "source": [
    "for epoch in range(epochs):\n",
    "    model.zero_grad()\n",
    "\n",
    "    negative_batch = X_train_neg\n",
    "    positive_batch_idx = random.sample(range(num_positive), positive_batch_size)\n",
    "    positive_batch = X_train_pos[positive_batch_idx,:]\n",
    "    \n",
    "    \n",
    "    actual = [0] * negative_batch_size\n",
    "    actual1 = [1] * positive_batch_size\n",
    "    actual.extend(actual1)\n",
    "    actual = np.array(actual)\n",
    "    \n",
    "    \n",
    "    all_inputs = np.concatenate((negative_batch, positive_batch), axis=0)\n",
    "    us = all_inputs[:,0]\n",
    "    vs = all_inputs[:,1]\n",
    "    \n",
    "    us = Variable(torch.LongTensor(us))\n",
    "    vs = Variable(torch.LongTensor(vs))\n",
    "    actual = Variable(torch.LongTensor(actual))\n",
    "    \n",
    "    #print('Computing loss....')\n",
    "    probs = model(us, vs)\n",
    "    #print('Number of probs ', len(probs))\n",
    "    #print(probs)\n",
    "    #print('Number of examples ', len(actual))\n",
    "    loss = criterion(probs, actual)\n",
    "    for parameter in model.parameters():\n",
    "        loss += lam * regularizer(parameter)\n",
    "        \n",
    "        \n",
    "    \n",
    "    \n",
    "    print('Loss at iteration ', epoch, ' is ', loss.data)\n",
    "    loss.backward()\n",
    "    optimizer.step()"
   ]
  },
  {
   "cell_type": "code",
   "execution_count": 262,
   "metadata": {
    "collapsed": true
   },
   "outputs": [],
   "source": [
    "\n",
    "classifier = linear_model.LogisticRegression()"
   ]
  },
  {
   "cell_type": "code",
   "execution_count": 263,
   "metadata": {
    "collapsed": true
   },
   "outputs": [],
   "source": [
    "def embedding(model, x):\n",
    "    x_var = Variable(torch.LongTensor([x]))\n",
    "    emb = model.embeddings(x_var)\n",
    "    emb = model.initial_layer(emb)\n",
    "    emb = emb.data.numpy()[0]\n",
    "    return emb\n",
    "    \n",
    "\n",
    "def get_hadamard(model, x, y):\n",
    "    x_features = embedding(model, x)\n",
    "    y_features = embedding(model, y)\n",
    "    return x_features * y_features"
   ]
  },
  {
   "cell_type": "code",
   "execution_count": 264,
   "metadata": {
    "collapsed": true
   },
   "outputs": [],
   "source": [
    "\n",
    "feature_extractor = get_hadamard"
   ]
  },
  {
   "cell_type": "code",
   "execution_count": 265,
   "metadata": {
    "collapsed": true
   },
   "outputs": [],
   "source": [
    "inputs = []\n",
    "outputs = []\n",
    "for x, y in X_train_neg:\n",
    "    x = int(x)\n",
    "    y = int(y)\n",
    "    inputs.append(feature_extractor(model, x, y))\n",
    "    outputs.append(0)\n",
    "\n",
    "positive_batch_idx = random.sample(range(num_positive), positive_batch_size)\n",
    "positive_batch = X_train_pos[positive_batch_idx,:]\n",
    "for x, y in positive_batch:\n",
    "    x = int(x)\n",
    "    y = int(y)\n",
    "    inputs.append(feature_extractor(model, x, y))\n",
    "    outputs.append(1)\n",
    "\n",
    "inputs = np.array(inputs)\n",
    "outputs = np.array(outputs)"
   ]
  },
  {
   "cell_type": "code",
   "execution_count": 266,
   "metadata": {},
   "outputs": [
    {
     "data": {
      "text/plain": [
       "LogisticRegression(C=1.0, class_weight=None, dual=False, fit_intercept=True,\n",
       "          intercept_scaling=1, max_iter=100, multi_class='ovr', n_jobs=1,\n",
       "          penalty='l2', random_state=None, solver='liblinear', tol=0.0001,\n",
       "          verbose=0, warm_start=False)"
      ]
     },
     "execution_count": 266,
     "metadata": {},
     "output_type": "execute_result"
    }
   ],
   "source": [
    "classifier.fit(inputs, outputs)"
   ]
  },
  {
   "cell_type": "code",
   "execution_count": 267,
   "metadata": {},
   "outputs": [
    {
     "name": "stdout",
     "output_type": "stream",
     "text": [
      "358\n",
      "3560\n",
      "3560\n"
     ]
    }
   ],
   "source": [
    "inputs1 = []\n",
    "expected_outputs1 = []\n",
    "\n",
    "count = 0\n",
    "\n",
    "for x, y in X_test[y_test == 0]:\n",
    "    x = int(x)\n",
    "    y = int(y)\n",
    "    inputs1.append(feature_extractor(model, x, y))\n",
    "    expected_outputs1.append(0)\n",
    "    count += 1\n",
    "print(count)\n",
    "\n",
    "for x, y in X_test[y_test == 1]:\n",
    "    x = int(x)\n",
    "    y = int(y)\n",
    "    inputs1.append(feature_extractor(model, x, y))\n",
    "    expected_outputs1.append(1)\n",
    "    count += 1\n",
    "print(count)\n",
    "\n",
    "inputs1 = np.array(inputs1)\n",
    "expected_outputs1 = np.array(expected_outputs1)\n",
    "print(len(expected_outputs1))\n",
    "actual_outputs1 = classifier.predict(inputs1)\n",
    "actual_probs1 = classifier.predict_proba(inputs1)[:,1]\n"
   ]
  },
  {
   "cell_type": "code",
   "execution_count": 268,
   "metadata": {},
   "outputs": [
    {
     "data": {
      "text/plain": [
       "0.75784200322129891"
      ]
     },
     "execution_count": 268,
     "metadata": {},
     "output_type": "execute_result"
    }
   ],
   "source": [
    "metrics.f1_score(expected_outputs1, actual_outputs1, average='macro')"
   ]
  },
  {
   "cell_type": "code",
   "execution_count": 269,
   "metadata": {},
   "outputs": [
    {
     "data": {
      "text/plain": [
       "0.88987068138279501"
      ]
     },
     "execution_count": 269,
     "metadata": {},
     "output_type": "execute_result"
    }
   ],
   "source": [
    "metrics.roc_auc_score(expected_outputs1, actual_probs1)"
   ]
  },
  {
   "cell_type": "code",
   "execution_count": 270,
   "metadata": {},
   "outputs": [
    {
     "name": "stdout",
     "output_type": "stream",
     "text": [
      "             precision    recall  f1-score   support\n",
      "\n",
      "          0       0.47      0.77      0.58       358\n",
      "          1       0.97      0.90      0.94      3202\n",
      "\n",
      "avg / total       0.92      0.89      0.90      3560\n",
      "\n"
     ]
    }
   ],
   "source": [
    "print(metrics.classification_report(expected_outputs1, actual_outputs1))"
   ]
  },
  {
   "cell_type": "code",
   "execution_count": null,
   "metadata": {
    "collapsed": true
   },
   "outputs": [],
   "source": []
  },
  {
   "cell_type": "code",
   "execution_count": 271,
   "metadata": {},
   "outputs": [
    {
     "data": {
      "text/plain": [
       "3560"
      ]
     },
     "execution_count": 271,
     "metadata": {},
     "output_type": "execute_result"
    }
   ],
   "source": [
    "len(expected_outputs1)"
   ]
  },
  {
   "cell_type": "code",
   "execution_count": 272,
   "metadata": {},
   "outputs": [
    {
     "data": {
      "text/plain": [
       "3560"
      ]
     },
     "execution_count": 272,
     "metadata": {},
     "output_type": "execute_result"
    }
   ],
   "source": [
    "len(X_test[y_test == 1]) + len(X_test[y_test == 0])"
   ]
  },
  {
   "cell_type": "code",
   "execution_count": 273,
   "metadata": {},
   "outputs": [
    {
     "data": {
      "text/plain": [
       "array([[ 275,   83],\n",
       "       [ 315, 2887]])"
      ]
     },
     "execution_count": 273,
     "metadata": {},
     "output_type": "execute_result"
    }
   ],
   "source": [
    "metrics.confusion_matrix(expected_outputs1, actual_outputs1)"
   ]
  },
  {
   "cell_type": "code",
   "execution_count": null,
   "metadata": {
    "collapsed": true
   },
   "outputs": [],
   "source": []
  }
 ],
 "metadata": {
  "kernelspec": {
   "display_name": "Python 3",
   "language": "python",
   "name": "python3"
  },
  "language_info": {
   "codemirror_mode": {
    "name": "ipython",
    "version": 3
   },
   "file_extension": ".py",
   "mimetype": "text/x-python",
   "name": "python",
   "nbconvert_exporter": "python",
   "pygments_lexer": "ipython3",
   "version": "3.6.3"
  }
 },
 "nbformat": 4,
 "nbformat_minor": 2
}
