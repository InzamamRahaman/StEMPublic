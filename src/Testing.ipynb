{
 "cells": [
  {
   "cell_type": "code",
   "execution_count": 1,
   "metadata": {
    "collapsed": true
   },
   "outputs": [],
   "source": [
    "import pandas as pd\n",
    "import numpy as np\n",
    "import networkx as nx\n",
    "import matplotlib.pyplot as plt\n"
   ]
  },
  {
   "cell_type": "code",
   "execution_count": 2,
   "metadata": {
    "collapsed": true
   },
   "outputs": [],
   "source": [
    "G=nx.dodecahedral_graph()"
   ]
  },
  {
   "cell_type": "code",
   "execution_count": 3,
   "metadata": {
    "collapsed": true
   },
   "outputs": [],
   "source": [
    "edge_labels=nx.draw_networkx_edge_labels(G,pos=nx.spring_layout(G))"
   ]
  },
  {
   "cell_type": "code",
   "execution_count": 4,
   "metadata": {},
   "outputs": [
    {
     "data": {
      "text/plain": [
       "{(0, 1): Text(0.452586,0.46846,'{}'),\n",
       " (0, 10): Text(0.785358,0.0564516,'{}'),\n",
       " (0, 19): Text(0.751446,0.5519,'{}'),\n",
       " (1, 2): Text(-0.0934413,0.755156,'{}'),\n",
       " (1, 8): Text(-0.029009,0.274044,'{}'),\n",
       " (2, 3): Text(-0.0845533,0.976321,'{}'),\n",
       " (2, 6): Text(-0.597142,0.772047,'{}'),\n",
       " (3, 4): Text(-0.026902,0.766074,'{}'),\n",
       " (3, 19): Text(0.451367,0.862275,'{}'),\n",
       " (4, 5): Text(-0.492581,0.397264,'{}'),\n",
       " (4, 17): Text(-0.00725423,0.273738,'{}'),\n",
       " (5, 6): Text(-0.816873,0.426917,'{}'),\n",
       " (5, 15): Text(-0.746134,-0.0566631,'{}'),\n",
       " (6, 7): Text(-0.849264,0.264775,'{}'),\n",
       " (7, 8): Text(-0.518191,-0.0357435,'{}'),\n",
       " (7, 14): Text(-0.797828,-0.392668,'{}'),\n",
       " (8, 9): Text(0.0107319,-0.265281,'{}'),\n",
       " (9, 10): Text(0.516132,-0.393662,'{}'),\n",
       " (9, 13): Text(0.0231547,-0.755541,'{}'),\n",
       " (10, 11): Text(0.827036,-0.434091,'{}'),\n",
       " (11, 12): Text(0.578733,-0.782631,'{}'),\n",
       " (11, 18): Text(0.825057,-0.272147,'{}'),\n",
       " (12, 13): Text(0.0678835,-0.976764,'{}'),\n",
       " (12, 16): Text(0.0924311,-0.761537,'{}'),\n",
       " (13, 14): Text(-0.46885,-0.856768,'{}'),\n",
       " (14, 15): Text(-0.741607,-0.54957,'{}'),\n",
       " (15, 16): Text(-0.425001,-0.467678,'{}'),\n",
       " (16, 17): Text(0.0364971,-0.27216,'{}'),\n",
       " (17, 18): Text(0.502947,0.0364355,'{}'),\n",
       " (18, 19): Text(0.773272,0.391046,'{}')}"
      ]
     },
     "execution_count": 4,
     "metadata": {},
     "output_type": "execute_result"
    }
   ],
   "source": [
    "nx.draw_networkx_edge_labels(G,pos=nx.spring_layout(G))"
   ]
  },
  {
   "cell_type": "code",
   "execution_count": null,
   "metadata": {
    "collapsed": true
   },
   "outputs": [],
   "source": []
  }
 ],
 "metadata": {
  "kernelspec": {
   "display_name": "Python 3",
   "language": "python",
   "name": "python3"
  },
  "language_info": {
   "codemirror_mode": {
    "name": "ipython",
    "version": 3
   },
   "file_extension": ".py",
   "mimetype": "text/x-python",
   "name": "python",
   "nbconvert_exporter": "python",
   "pygments_lexer": "ipython3",
   "version": "3.6.3"
  }
 },
 "nbformat": 4,
 "nbformat_minor": 2
}
